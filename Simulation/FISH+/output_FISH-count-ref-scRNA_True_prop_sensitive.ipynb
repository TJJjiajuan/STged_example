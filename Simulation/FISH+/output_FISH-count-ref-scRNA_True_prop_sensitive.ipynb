{
 "cells": [
  {
   "cell_type": "markdown",
   "id": "46077655",
   "metadata": {
    "tags": [
     "papermill-error-cell-tag"
    ]
   },
   "source": [
    "<span style=\"color:red; font-family:Helvetica Neue, Helvetica, Arial, sans-serif; font-size:2em;\">An Exception was encountered at '<a href=\"#papermill-error-cell\">In [7]</a>'.</span>"
   ]
  },
  {
   "cell_type": "markdown",
   "id": "bb2fe22b",
   "metadata": {
    "papermill": {
     "duration": 0.009213,
     "end_time": "2024-10-19T13:56:35.790736",
     "exception": false,
     "start_time": "2024-10-19T13:56:35.781523",
     "status": "completed"
    },
    "tags": []
   },
   "source": [
    "**NOTE**: Here we test the performance of the STged with gene expression deconvolution methods"
   ]
  },
  {
   "cell_type": "code",
   "execution_count": 1,
   "id": "6b96608e",
   "metadata": {
    "execution": {
     "iopub.execute_input": "2024-10-19T13:56:35.812135Z",
     "iopub.status.busy": "2024-10-19T13:56:35.808147Z",
     "iopub.status.idle": "2024-10-19T13:56:41.406618Z",
     "shell.execute_reply": "2024-10-19T13:56:41.402802Z"
    },
    "papermill": {
     "duration": 5.611934,
     "end_time": "2024-10-19T13:56:41.410566",
     "exception": false,
     "start_time": "2024-10-19T13:56:35.798632",
     "status": "completed"
    },
    "tags": [],
    "vscode": {
     "languageId": "r"
    }
   },
   "outputs": [],
   "source": [
    "\n",
    "#remove(list = ls())\n",
    "#define the conda env\n",
    "\n",
    "library(reticulate)\n",
    "use_condaenv(\"ccnet\", required = TRUE)\n",
    "\n",
    "python_env = \"python_env\""
   ]
  },
  {
   "cell_type": "code",
   "execution_count": 2,
   "id": "58aed311",
   "metadata": {
    "execution": {
     "iopub.execute_input": "2024-10-19T13:56:41.481271Z",
     "iopub.status.busy": "2024-10-19T13:56:41.429171Z",
     "iopub.status.idle": "2024-10-19T13:56:41.510676Z",
     "shell.execute_reply": "2024-10-19T13:56:41.508641Z"
    },
    "papermill": {
     "duration": 0.100899,
     "end_time": "2024-10-19T13:56:41.519978",
     "exception": false,
     "start_time": "2024-10-19T13:56:41.419079",
     "status": "completed"
    },
    "tags": [],
    "vscode": {
     "languageId": "r"
    }
   },
   "outputs": [],
   "source": [
    "# Source code\n",
    "source(\"./code/STged.R\")\n",
    "source(\"./code/benchmark.R\")"
   ]
  },
  {
   "cell_type": "markdown",
   "id": "06a0eff1",
   "metadata": {
    "papermill": {
     "duration": 0.007094,
     "end_time": "2024-10-19T13:56:41.534712",
     "exception": false,
     "start_time": "2024-10-19T13:56:41.527618",
     "status": "completed"
    },
    "tags": []
   },
   "source": [
    "# Load data the generated simulated data\n",
    "##  we use the FISH+ data from the mouse tissue. There are 69 spots."
   ]
  },
  {
   "cell_type": "code",
   "execution_count": 3,
   "id": "d0fa3e22",
   "metadata": {
    "execution": {
     "iopub.execute_input": "2024-10-19T13:56:41.557343Z",
     "iopub.status.busy": "2024-10-19T13:56:41.552972Z",
     "iopub.status.idle": "2024-10-19T13:56:42.077008Z",
     "shell.execute_reply": "2024-10-19T13:56:42.075878Z"
    },
    "papermill": {
     "duration": 0.53928,
     "end_time": "2024-10-19T13:56:42.080579",
     "exception": false,
     "start_time": "2024-10-19T13:56:41.541299",
     "status": "completed"
    },
    "tags": [],
    "vscode": {
     "languageId": "r"
    }
   },
   "outputs": [
    {
     "data": {
      "text/html": [
       "<style>\n",
       ".list-inline {list-style: none; margin:0; padding: 0}\n",
       ".list-inline>li {display: inline-block}\n",
       ".list-inline>li:not(:last-child)::after {content: \"\\00b7\"; padding: 0 .5ex}\n",
       "</style>\n",
       "<ol class=list-inline><li>'astrocytes'</li><li>'endo_mural'</li><li>'eNeuron'</li><li>'iNeuron'</li><li>'microglia'</li><li>'Olig'</li></ol>\n"
      ],
      "text/latex": [
       "\\begin{enumerate*}\n",
       "\\item 'astrocytes'\n",
       "\\item 'endo\\_mural'\n",
       "\\item 'eNeuron'\n",
       "\\item 'iNeuron'\n",
       "\\item 'microglia'\n",
       "\\item 'Olig'\n",
       "\\end{enumerate*}\n"
      ],
      "text/markdown": [
       "1. 'astrocytes'\n",
       "2. 'endo_mural'\n",
       "3. 'eNeuron'\n",
       "4. 'iNeuron'\n",
       "5. 'microglia'\n",
       "6. 'Olig'\n",
       "\n",
       "\n"
      ],
      "text/plain": [
       "[1] \"astrocytes\" \"endo_mural\" \"eNeuron\"    \"iNeuron\"    \"microglia\" \n",
       "[6] \"Olig\"      "
      ]
     },
     "metadata": {},
     "output_type": "display_data"
    }
   ],
   "source": [
    "sim_data = readRDS(\"./realdata/FISH+/sim_fishplus_input.RDS\")\n",
    "\n",
    "TRUE_F = sim_data$trueF\n",
    "beta.type = sim_data$beta.type\n",
    "\n",
    "cell_type = colnames(beta.type)\n",
    "cell_type"
   ]
  },
  {
   "cell_type": "markdown",
   "id": "296002cc",
   "metadata": {
    "papermill": {
     "duration": 0.007759,
     "end_time": "2024-10-19T13:56:42.097279",
     "exception": false,
     "start_time": "2024-10-19T13:56:42.089520",
     "status": "completed"
    },
    "tags": []
   },
   "source": [
    "# Run the STged step by step"
   ]
  },
  {
   "cell_type": "markdown",
   "id": "2bea5f98",
   "metadata": {
    "papermill": {
     "duration": 0.00774,
     "end_time": "2024-10-19T13:56:42.112828",
     "exception": false,
     "start_time": "2024-10-19T13:56:42.105088",
     "status": "completed"
    },
    "tags": []
   },
   "source": [
    "## Step 1: clear data"
   ]
  },
  {
   "cell_type": "code",
   "execution_count": 4,
   "id": "d1fea3a9",
   "metadata": {
    "execution": {
     "iopub.execute_input": "2024-10-19T13:56:42.129804Z",
     "iopub.status.busy": "2024-10-19T13:56:42.128816Z",
     "iopub.status.idle": "2024-10-19T13:56:43.840195Z",
     "shell.execute_reply": "2024-10-19T13:56:43.838993Z"
    },
    "papermill": {
     "duration": 1.722404,
     "end_time": "2024-10-19T13:56:43.842743",
     "exception": false,
     "start_time": "2024-10-19T13:56:42.120339",
     "status": "completed"
    },
    "tags": [],
    "vscode": {
     "languageId": "r"
    }
   },
   "outputs": [],
   "source": [
    "depthscale = 1e6\n",
    "clean.only = FALSE\n",
    "datax = data_process(sc_exp = sim_data$sc_exp,   sc_label = sim_data$sc_label, \n",
    "                     spot_exp = sim_data$spot_exp,  spot_loc = sim_data$spot_loc,\n",
    "                     depthscale = depthscale,  gene_det_in_min_cells_per = 0.05, \n",
    "                     expression_threshold = 0,\n",
    "                     nUMI =  100, verbose = FALSE, clean.only = clean.only)\n",
    "\n",
    "## Winsorize expression values to prevent outliers  \n",
    "truncate = TRUE\n",
    "if(truncate){\n",
    "  qt = 0.05\n",
    "  datax$sc_exp  =  winsorize(x =  datax$sc_exp, qt = qt)\n",
    "  datax$spot_exp  =  winsorize(x =  datax$spot_exp, qt = qt)\n",
    "}\n"
   ]
  },
  {
   "cell_type": "markdown",
   "id": "f8814478",
   "metadata": {
    "papermill": {
     "duration": 0.007926,
     "end_time": "2024-10-19T13:56:43.859597",
     "exception": false,
     "start_time": "2024-10-19T13:56:43.851671",
     "status": "completed"
    },
    "tags": []
   },
   "source": [
    "##  True cell type-specific gene expression data"
   ]
  },
  {
   "cell_type": "code",
   "execution_count": 5,
   "id": "672ebce1",
   "metadata": {
    "execution": {
     "iopub.execute_input": "2024-10-19T13:56:43.877100Z",
     "iopub.status.busy": "2024-10-19T13:56:43.875903Z",
     "iopub.status.idle": "2024-10-19T13:56:44.017888Z",
     "shell.execute_reply": "2024-10-19T13:56:44.016551Z"
    },
    "papermill": {
     "duration": 0.153522,
     "end_time": "2024-10-19T13:56:44.020382",
     "exception": false,
     "start_time": "2024-10-19T13:56:43.866860",
     "status": "completed"
    },
    "tags": [],
    "vscode": {
     "languageId": "r"
    }
   },
   "outputs": [],
   "source": [
    "gene_sec = rownames(datax$sc_exp)\n",
    "for(i in 1:length(cell_type)){\n",
    "  \n",
    "  TRUE_F[[i]] = TRUE_F[[i]][gene_sec,colnames(datax$spot_exp )]\n",
    "  \n",
    "}\n",
    "# normaliztion of the true cell type-specific gene expression data\n",
    "trueF = res_library_size_normaization(estres = TRUE_F, depthscale = depthscale )"
   ]
  },
  {
   "cell_type": "markdown",
   "id": "4b748ae2",
   "metadata": {
    "papermill": {
     "duration": 0.008251,
     "end_time": "2024-10-19T13:56:44.037475",
     "exception": false,
     "start_time": "2024-10-19T13:56:44.029224",
     "status": "completed"
    },
    "tags": []
   },
   "source": [
    "## Step 2: construct spatial correlation structures"
   ]
  },
  {
   "cell_type": "code",
   "execution_count": 6,
   "id": "15b95192",
   "metadata": {
    "execution": {
     "iopub.execute_input": "2024-10-19T13:56:44.055767Z",
     "iopub.status.busy": "2024-10-19T13:56:44.054503Z",
     "iopub.status.idle": "2024-10-19T13:57:34.652700Z",
     "shell.execute_reply": "2024-10-19T13:57:34.651002Z"
    },
    "papermill": {
     "duration": 50.610345,
     "end_time": "2024-10-19T13:57:34.655756",
     "exception": false,
     "start_time": "2024-10-19T13:56:44.045411",
     "status": "completed"
    },
    "tags": [],
    "vscode": {
     "languageId": "r"
    }
   },
   "outputs": [
    {
     "name": "stdout",
     "output_type": "stream",
     "text": [
      "Construct spatial correlation \n"
     ]
    }
   ],
   "source": [
    "cat(\"Construct spatial correlation\", \"\\n\")\n",
    "L.mat = dis_weight(spot_loc = datax$spot_loc, spot_exp = datax$spot_exp, k = 6, \n",
    "                   quantile_prob_bandwidth = 1/3, method = \"Hex\", \n",
    "                   coord_type = \"grid\")"
   ]
  },
  {
   "cell_type": "markdown",
   "id": "5efdbffa",
   "metadata": {
    "papermill": {
     "duration": 0.008353,
     "end_time": "2024-10-19T13:57:34.673490",
     "exception": false,
     "start_time": "2024-10-19T13:57:34.665137",
     "status": "completed"
    },
    "tags": []
   },
   "source": [
    "## Step 3: construct reference gene matrix"
   ]
  },
  {
   "cell_type": "markdown",
   "id": "33efc631",
   "metadata": {
    "tags": [
     "papermill-error-cell-tag"
    ]
   },
   "source": [
    "<span id=\"papermill-error-cell\" style=\"color:red; font-family:Helvetica Neue, Helvetica, Arial, sans-serif; font-size:2em;\">Execution using papermill encountered an exception here and stopped:</span>"
   ]
  },
  {
   "cell_type": "code",
   "execution_count": 7,
   "id": "da919ad3",
   "metadata": {
    "execution": {
     "iopub.execute_input": "2024-10-19T13:57:34.693086Z",
     "iopub.status.busy": "2024-10-19T13:57:34.691243Z",
     "iopub.status.idle": "2024-10-19T13:57:34.852183Z",
     "shell.execute_reply": "2024-10-19T13:57:34.850761Z"
    },
    "papermill": {
     "duration": 0.173373,
     "end_time": "2024-10-19T13:57:34.854737",
     "exception": true,
     "start_time": "2024-10-19T13:57:34.681364",
     "status": "failed"
    },
    "tags": [],
    "vscode": {
     "languageId": "r"
    }
   },
   "outputs": [
    {
     "name": "stdout",
     "output_type": "stream",
     "text": [
      "Construct reference gene matrix \n"
     ]
    },
    {
     "ename": "ERROR",
     "evalue": "Error in eval(expr, envir, enclos): object 'temp' not found\n",
     "output_type": "error",
     "traceback": [
      "Error in eval(expr, envir, enclos): object 'temp' not found\nTraceback:\n",
      "1. sweep(temp, 2, colSums(ref_exp), \"/\")"
     ]
    }
   ],
   "source": [
    "\n",
    "cat(\"Construct reference gene matrix\", \"\\n\")\n",
    "\n",
    "ref_exp = create_group_exp(sc_exp = datax$sc_exp, sc_label = datax$sc_label)\n",
    "ref_exp = sweep(temp, 2, colSums(ref_exp), '/')\n",
    "\n",
    "ref_exp = ref_exp[rownames(datax$spot_exp), cell_type]\n",
    "colnames(ref_exp )\n",
    "\n",
    "beta.type = beta.type[colnames(datax$spot_exp),]\n",
    "\n"
   ]
  },
  {
   "cell_type": "markdown",
   "id": "720c363e",
   "metadata": {
    "papermill": {
     "duration": null,
     "end_time": null,
     "exception": null,
     "start_time": null,
     "status": "pending"
    },
    "tags": []
   },
   "source": [
    "# Sensitive analysis"
   ]
  },
  {
   "cell_type": "code",
   "execution_count": null,
   "id": "45ab9293",
   "metadata": {
    "papermill": {
     "duration": null,
     "end_time": null,
     "exception": null,
     "start_time": null,
     "status": "pending"
    },
    "tags": [],
    "vscode": {
     "languageId": "r"
    }
   },
   "outputs": [],
   "source": [
    "\n",
    "lambda_values1 <- c(0.001,0.01,  0.1,1,5)\n",
    "lambda_values2 <- c( 0.001,0.01,0.123 ,1,5)\n",
    "\n",
    "\n",
    "# Generate all combinations of lambda1 and lambda2 using expand.grid\n",
    "parameter_grid <- expand.grid(lambda1 = lambda_values1, lambda2 = lambda_values2)\n",
    "\n",
    "sens_STged = matrix(list(), length(methods) ,1)\n",
    "for(ii in 1:nrow(parameter_grid)){\n",
    "  \n",
    "  cat(\"Run the STged\", \"\\n\")\n",
    "  \n",
    "  start_time <- Sys.time()\n",
    "  stged.est =MUR.STged(srt_exp = datax$spot_exp, ref_exp = ref_exp, \n",
    "                        beta.type = beta.type,   W = L.mat$dis_weight, \n",
    "                        lambda1 = parameter_grid[ii,1], lambda2 = parameter_grid[ii,2],\n",
    "                        cutoff = 0.05, \n",
    "                        epsilon = 1e-5)\n",
    "\n",
    "  end_time <- Sys.time()\n",
    "  sens_STged[[ii]] = stged.est$V.hat\n",
    "  cat(\"Run time of STged\", end_time - start_time,\"\\n\")\n",
    "\n",
    "}\n",
    "\n",
    "saveRDS(sens_STged, file = \"./results/FISH+/True_spot_decon_sens_VAR.RDS\")\n",
    "\n",
    "saveRDS(parameter_grid, file = paste0(\"./results/FISH+/True_cell_exp_tuning_values_VAR.RDS\"))"
   ]
  }
 ],
 "metadata": {
  "kernelspec": {
   "display_name": "R",
   "language": "R",
   "name": "ir"
  },
  "language_info": {
   "codemirror_mode": "r",
   "file_extension": ".r",
   "mimetype": "text/x-r-source",
   "name": "R",
   "pygments_lexer": "r",
   "version": "4.4.1"
  },
  "papermill": {
   "default_parameters": {},
   "duration": 75.110826,
   "end_time": "2024-10-19T13:57:35.287063",
   "environment_variables": {},
   "exception": true,
   "input_path": "FISH-count-ref-scRNA_True_prop_sensitive.ipynb",
   "output_path": "./results/output_FISH-count-ref-scRNA_True_prop_sensitive.ipynb",
   "parameters": {},
   "start_time": "2024-10-19T13:56:20.176237",
   "version": "2.3.3"
  }
 },
 "nbformat": 4,
 "nbformat_minor": 5
}