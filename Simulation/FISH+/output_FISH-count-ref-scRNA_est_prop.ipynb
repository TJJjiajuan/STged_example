{
 "cells": [
  {
   "cell_type": "markdown",
   "id": "60f16d12",
   "metadata": {
    "papermill": {
     "duration": 0.010971,
     "end_time": "2024-10-19T13:54:11.369692",
     "exception": false,
     "start_time": "2024-10-19T13:54:11.358721",
     "status": "completed"
    },
    "tags": []
   },
   "source": []
  },
  {
   "cell_type": "markdown",
   "id": "3bac1129",
   "metadata": {
    "papermill": {
     "duration": 0.008388,
     "end_time": "2024-10-19T13:54:11.387585",
     "exception": false,
     "start_time": "2024-10-19T13:54:11.379197",
     "status": "completed"
    },
    "tags": []
   },
   "source": [
    "**NOTE**: Here we test the robustness of the STged with  Gene expression deconvolution methods on the mouse FISH+ datasets\n"
   ]
  },
  {
   "cell_type": "code",
   "execution_count": 1,
   "id": "b1c848c8",
   "metadata": {
    "execution": {
     "iopub.execute_input": "2024-10-19T13:54:11.410576Z",
     "iopub.status.busy": "2024-10-19T13:54:11.406572Z",
     "iopub.status.idle": "2024-10-19T13:54:21.186528Z",
     "shell.execute_reply": "2024-10-19T13:54:21.184453Z"
    },
    "papermill": {
     "duration": 9.793213,
     "end_time": "2024-10-19T13:54:21.189317",
     "exception": false,
     "start_time": "2024-10-19T13:54:11.396104",
     "status": "completed"
    },
    "tags": [],
    "vscode": {
     "languageId": "r"
    }
   },
   "outputs": [],
   "source": [
    "#remove(list = ls())\n",
    "#define the conda env\n",
    "\n",
    "library(reticulate)\n",
    "use_condaenv(\"ccnet\", required = TRUE)\n"
   ]
  },
  {
   "cell_type": "code",
   "execution_count": 2,
   "id": "13f0ad19",
   "metadata": {
    "execution": {
     "iopub.execute_input": "2024-10-19T13:54:21.239269Z",
     "iopub.status.busy": "2024-10-19T13:54:21.209386Z",
     "iopub.status.idle": "2024-10-19T13:54:21.747730Z",
     "shell.execute_reply": "2024-10-19T13:54:21.746200Z"
    },
    "papermill": {
     "duration": 0.556455,
     "end_time": "2024-10-19T13:54:21.755400",
     "exception": false,
     "start_time": "2024-10-19T13:54:21.198945",
     "status": "completed"
    },
    "tags": [],
    "vscode": {
     "languageId": "r"
    }
   },
   "outputs": [],
   "source": [
    "library(ggplot2)\n",
    "library(scatterpie)\n",
    "library(RColorBrewer)"
   ]
  },
  {
   "cell_type": "code",
   "execution_count": 3,
   "id": "12d89d89",
   "metadata": {
    "execution": {
     "iopub.execute_input": "2024-10-19T13:54:21.775789Z",
     "iopub.status.busy": "2024-10-19T13:54:21.774780Z",
     "iopub.status.idle": "2024-10-19T13:54:21.793083Z",
     "shell.execute_reply": "2024-10-19T13:54:21.791871Z"
    },
    "papermill": {
     "duration": 0.03056,
     "end_time": "2024-10-19T13:54:21.795340",
     "exception": false,
     "start_time": "2024-10-19T13:54:21.764780",
     "status": "completed"
    },
    "tags": [],
    "vscode": {
     "languageId": "r"
    }
   },
   "outputs": [],
   "source": [
    "# Source code\n",
    "source(\"./code/STged.R\")\n",
    "source(\"./code/benchmark.R\")"
   ]
  },
  {
   "cell_type": "code",
   "execution_count": 4,
   "id": "b6e97916",
   "metadata": {
    "execution": {
     "iopub.execute_input": "2024-10-19T13:54:21.814334Z",
     "iopub.status.busy": "2024-10-19T13:54:21.813339Z",
     "iopub.status.idle": "2024-10-19T13:54:21.826975Z",
     "shell.execute_reply": "2024-10-19T13:54:21.825812Z"
    },
    "papermill": {
     "duration": 0.024907,
     "end_time": "2024-10-19T13:54:21.829094",
     "exception": false,
     "start_time": "2024-10-19T13:54:21.804187",
     "status": "completed"
    },
    "tags": [],
    "vscode": {
     "languageId": "r"
    }
   },
   "outputs": [],
   "source": [
    "colors <- colorRampPalette(brewer.pal(9, \"Set3\"))(12)\n"
   ]
  },
  {
   "cell_type": "markdown",
   "id": "b8ca1f93",
   "metadata": {
    "papermill": {
     "duration": 0.007812,
     "end_time": "2024-10-19T13:54:21.845373",
     "exception": false,
     "start_time": "2024-10-19T13:54:21.837561",
     "status": "completed"
    },
    "tags": []
   },
   "source": [
    "# Load data the generated simulated data\n",
    "##  we use the FISH+ data from the mouse tissue. There are 69 spots."
   ]
  },
  {
   "cell_type": "code",
   "execution_count": 5,
   "id": "616da332",
   "metadata": {
    "execution": {
     "iopub.execute_input": "2024-10-19T13:54:21.863832Z",
     "iopub.status.busy": "2024-10-19T13:54:21.862423Z",
     "iopub.status.idle": "2024-10-19T13:54:22.318127Z",
     "shell.execute_reply": "2024-10-19T13:54:22.317009Z"
    },
    "papermill": {
     "duration": 0.467281,
     "end_time": "2024-10-19T13:54:22.320623",
     "exception": false,
     "start_time": "2024-10-19T13:54:21.853342",
     "status": "completed"
    },
    "tags": [],
    "vscode": {
     "languageId": "r"
    }
   },
   "outputs": [
    {
     "data": {
      "text/html": [
       "<style>\n",
       ".list-inline {list-style: none; margin:0; padding: 0}\n",
       ".list-inline>li {display: inline-block}\n",
       ".list-inline>li:not(:last-child)::after {content: \"\\00b7\"; padding: 0 .5ex}\n",
       "</style>\n",
       "<ol class=list-inline><li>'astrocytes'</li><li>'endo_mural'</li><li>'eNeuron'</li><li>'iNeuron'</li><li>'microglia'</li><li>'Olig'</li></ol>\n"
      ],
      "text/latex": [
       "\\begin{enumerate*}\n",
       "\\item 'astrocytes'\n",
       "\\item 'endo\\_mural'\n",
       "\\item 'eNeuron'\n",
       "\\item 'iNeuron'\n",
       "\\item 'microglia'\n",
       "\\item 'Olig'\n",
       "\\end{enumerate*}\n"
      ],
      "text/markdown": [
       "1. 'astrocytes'\n",
       "2. 'endo_mural'\n",
       "3. 'eNeuron'\n",
       "4. 'iNeuron'\n",
       "5. 'microglia'\n",
       "6. 'Olig'\n",
       "\n",
       "\n"
      ],
      "text/plain": [
       "[1] \"astrocytes\" \"endo_mural\" \"eNeuron\"    \"iNeuron\"    \"microglia\" \n",
       "[6] \"Olig\"      "
      ]
     },
     "metadata": {},
     "output_type": "display_data"
    }
   ],
   "source": [
    "sim_data = readRDS(\"./realdata/FISH+/sim_fishplus_input.RDS\")\n",
    "\n",
    "TRUE_F = sim_data$trueF\n",
    "beta.type = sim_data$beta.type\n",
    "\n",
    "cell_type = colnames(beta.type)\n",
    "cell_type\n",
    "\n",
    "## cell type proportion predected from the proposed cell type deconvolution methods\n",
    "res_decon_ct = readRDS(\"./realdata/FISH+/EnDecon_major/FISH_Results.Deconv.RDS\")\n"
   ]
  },
  {
   "cell_type": "markdown",
   "id": "f5ce862a",
   "metadata": {
    "papermill": {
     "duration": 0.009635,
     "end_time": "2024-10-19T13:54:22.340826",
     "exception": false,
     "start_time": "2024-10-19T13:54:22.331191",
     "status": "completed"
    },
    "tags": []
   },
   "source": [
    "# Run the STged step by step"
   ]
  },
  {
   "cell_type": "markdown",
   "id": "ee758572",
   "metadata": {
    "papermill": {
     "duration": 0.008734,
     "end_time": "2024-10-19T13:54:22.359127",
     "exception": false,
     "start_time": "2024-10-19T13:54:22.350393",
     "status": "completed"
    },
    "tags": []
   },
   "source": [
    "## Step 1: clear data"
   ]
  },
  {
   "cell_type": "code",
   "execution_count": 6,
   "id": "0fc93fc9",
   "metadata": {
    "execution": {
     "iopub.execute_input": "2024-10-19T13:54:22.379948Z",
     "iopub.status.busy": "2024-10-19T13:54:22.378639Z",
     "iopub.status.idle": "2024-10-19T13:54:23.670554Z",
     "shell.execute_reply": "2024-10-19T13:54:23.669264Z"
    },
    "papermill": {
     "duration": 1.304845,
     "end_time": "2024-10-19T13:54:23.673080",
     "exception": false,
     "start_time": "2024-10-19T13:54:22.368235",
     "status": "completed"
    },
    "tags": [],
    "vscode": {
     "languageId": "r"
    }
   },
   "outputs": [],
   "source": [
    "depthscale = 1e6\n",
    "clean.only = FALSE\n",
    "datax = data_process(sc_exp = sim_data$sc_exp,   sc_label = sim_data$sc_label, \n",
    "                     spot_exp = sim_data$spot_exp,  spot_loc = sim_data$spot_loc,\n",
    "                     depthscale = depthscale,  gene_det_in_min_cells_per = 0.05, \n",
    "                     expression_threshold = 0,\n",
    "                     nUMI = 100, verbose = FALSE, clean.only = clean.only)\n",
    "\n",
    "for(i in 1:length(cell_type)){\n",
    "  TRUE_F[[i]] = TRUE_F[[i]][,colnames(datax$spot_exp )]\n",
    "  \n",
    "}\n"
   ]
  },
  {
   "cell_type": "markdown",
   "id": "1244205c",
   "metadata": {
    "papermill": {
     "duration": 0.009816,
     "end_time": "2024-10-19T13:54:23.693980",
     "exception": false,
     "start_time": "2024-10-19T13:54:23.684164",
     "status": "completed"
    },
    "tags": []
   },
   "source": [
    "##  true cell type-specific gene expression data"
   ]
  },
  {
   "cell_type": "code",
   "execution_count": 7,
   "id": "0f1526d7",
   "metadata": {
    "execution": {
     "iopub.execute_input": "2024-10-19T13:54:23.715461Z",
     "iopub.status.busy": "2024-10-19T13:54:23.714268Z",
     "iopub.status.idle": "2024-10-19T13:54:23.862150Z",
     "shell.execute_reply": "2024-10-19T13:54:23.860852Z"
    },
    "papermill": {
     "duration": 0.161199,
     "end_time": "2024-10-19T13:54:23.864687",
     "exception": false,
     "start_time": "2024-10-19T13:54:23.703488",
     "status": "completed"
    },
    "tags": [],
    "vscode": {
     "languageId": "r"
    }
   },
   "outputs": [],
   "source": [
    "gene_sec = rownames(datax$sc_exp)\n",
    "for(i in 1:length(cell_type)){\n",
    "  TRUE_F[[i]] = TRUE_F[[i]][gene_sec,colnames(datax$spot_exp )]\n",
    "  \n",
    "}\n",
    "# normaliztion of the true cell type-specific gene expression data\n",
    "trueF = res_library_size_normaization(estres = TRUE_F, depthscale = depthscale )"
   ]
  },
  {
   "cell_type": "markdown",
   "id": "ffa36ac5",
   "metadata": {
    "papermill": {
     "duration": 0.009589,
     "end_time": "2024-10-19T13:54:23.884954",
     "exception": false,
     "start_time": "2024-10-19T13:54:23.875365",
     "status": "completed"
    },
    "tags": []
   },
   "source": [
    "# Evaluate the results: spot-level analysis"
   ]
  },
  {
   "cell_type": "markdown",
   "id": "4e742955",
   "metadata": {
    "papermill": {
     "duration": 0.00944,
     "end_time": "2024-10-19T13:54:23.903402",
     "exception": false,
     "start_time": "2024-10-19T13:54:23.893962",
     "status": "completed"
    },
    "tags": []
   },
   "source": [
    "## Step 2: construct spatial correlation structures"
   ]
  },
  {
   "cell_type": "markdown",
   "id": "36dfa428",
   "metadata": {
    "papermill": {
     "duration": 0.0087,
     "end_time": "2024-10-19T13:54:23.921150",
     "exception": false,
     "start_time": "2024-10-19T13:54:23.912450",
     "status": "completed"
    },
    "tags": []
   },
   "source": [
    "## Step 3: construct reference gene matrix"
   ]
  },
  {
   "cell_type": "code",
   "execution_count": 8,
   "id": "8d2afd76",
   "metadata": {
    "execution": {
     "iopub.execute_input": "2024-10-19T13:54:23.941169Z",
     "iopub.status.busy": "2024-10-19T13:54:23.939922Z",
     "iopub.status.idle": "2024-10-19T13:54:40.886789Z",
     "shell.execute_reply": "2024-10-19T13:54:40.882282Z"
    },
    "papermill": {
     "duration": 16.961238,
     "end_time": "2024-10-19T13:54:40.891112",
     "exception": false,
     "start_time": "2024-10-19T13:54:23.929874",
     "status": "completed"
    },
    "tags": [],
    "vscode": {
     "languageId": "r"
    }
   },
   "outputs": [
    {
     "name": "stdout",
     "output_type": "stream",
     "text": [
      "Construct spatial correlation \n"
     ]
    }
   ],
   "source": [
    "cat(\"Construct spatial correlation\", \"\\n\")\n",
    "L.mat = dis_weight(spot_loc = datax$spot_loc, spot_exp = datax$spot_exp, k = 6, \n",
    "                   quantile_prob_bandwidth = 1/3, method = \"Hex\", \n",
    "                   coord_type = \"grid\")"
   ]
  },
  {
   "cell_type": "code",
   "execution_count": 9,
   "id": "243869c1",
   "metadata": {
    "execution": {
     "iopub.execute_input": "2024-10-19T13:54:40.919856Z",
     "iopub.status.busy": "2024-10-19T13:54:40.916358Z",
     "iopub.status.idle": "2024-10-19T13:54:41.133089Z",
     "shell.execute_reply": "2024-10-19T13:54:41.131407Z"
    },
    "papermill": {
     "duration": 0.232484,
     "end_time": "2024-10-19T13:54:41.135737",
     "exception": false,
     "start_time": "2024-10-19T13:54:40.903253",
     "status": "completed"
    },
    "tags": [],
    "vscode": {
     "languageId": "r"
    }
   },
   "outputs": [
    {
     "name": "stdout",
     "output_type": "stream",
     "text": [
      "Construct reference gene matrix \n"
     ]
    },
    {
     "data": {
      "text/html": [
       "<style>\n",
       ".list-inline {list-style: none; margin:0; padding: 0}\n",
       ".list-inline>li {display: inline-block}\n",
       ".list-inline>li:not(:last-child)::after {content: \"\\00b7\"; padding: 0 .5ex}\n",
       "</style>\n",
       "<ol class=list-inline><li>'astrocytes'</li><li>'endo_mural'</li><li>'eNeuron'</li><li>'iNeuron'</li><li>'microglia'</li><li>'Olig'</li></ol>\n"
      ],
      "text/latex": [
       "\\begin{enumerate*}\n",
       "\\item 'astrocytes'\n",
       "\\item 'endo\\_mural'\n",
       "\\item 'eNeuron'\n",
       "\\item 'iNeuron'\n",
       "\\item 'microglia'\n",
       "\\item 'Olig'\n",
       "\\end{enumerate*}\n"
      ],
      "text/markdown": [
       "1. 'astrocytes'\n",
       "2. 'endo_mural'\n",
       "3. 'eNeuron'\n",
       "4. 'iNeuron'\n",
       "5. 'microglia'\n",
       "6. 'Olig'\n",
       "\n",
       "\n"
      ],
      "text/plain": [
       "[1] \"astrocytes\" \"endo_mural\" \"eNeuron\"    \"iNeuron\"    \"microglia\" \n",
       "[6] \"Olig\"      "
      ]
     },
     "metadata": {},
     "output_type": "display_data"
    }
   ],
   "source": [
    "\n",
    "cat(\"Construct reference gene matrix\", \"\\n\")\n",
    "\n",
    "ref_exp = create_group_exp(sc_exp = datax$sc_exp, sc_label = datax$sc_label)\n",
    "\n",
    "ref_exp = ref_exp[rownames(datax$spot_exp), cell_type]\n",
    "colnames(ref_exp )\n",
    "\n",
    "beta.type = beta.type[colnames(datax$spot_exp),]\n"
   ]
  },
  {
   "cell_type": "code",
   "execution_count": 10,
   "id": "e2afd732",
   "metadata": {
    "execution": {
     "iopub.execute_input": "2024-10-19T13:54:41.160550Z",
     "iopub.status.busy": "2024-10-19T13:54:41.159349Z",
     "iopub.status.idle": "2024-10-19T13:54:41.220549Z",
     "shell.execute_reply": "2024-10-19T13:54:41.218861Z"
    },
    "papermill": {
     "duration": 0.076265,
     "end_time": "2024-10-19T13:54:41.223508",
     "exception": false,
     "start_time": "2024-10-19T13:54:41.147243",
     "status": "completed"
    },
    "tags": [],
    "vscode": {
     "languageId": "r"
    }
   },
   "outputs": [
    {
     "data": {
      "text/html": [
       "6471"
      ],
      "text/latex": [
       "6471"
      ],
      "text/markdown": [
       "6471"
      ],
      "text/plain": [
       "[1] 6471"
      ]
     },
     "metadata": {},
     "output_type": "display_data"
    }
   ],
   "source": [
    "p = nrow(datax$spot_exp)\n",
    "p \n",
    "K = ncol(beta.type)\n",
    "beta.ind.temp = beta.type>0.05\n",
    "beta.ind =  matrix(list(), K ,1)\n",
    "for (i in 1:K){\n",
    "  \n",
    "  beta.ind[[i]] =  matrix( rep(beta.ind.temp[,i],p), nrow = p, byrow = TRUE)\n",
    "}\n"
   ]
  },
  {
   "cell_type": "markdown",
   "id": "ad7840cc",
   "metadata": {
    "papermill": {
     "duration": 0.010513,
     "end_time": "2024-10-19T13:54:41.245675",
     "exception": false,
     "start_time": "2024-10-19T13:54:41.235162",
     "status": "completed"
    },
    "tags": []
   },
   "source": [
    "## Step 4: run the main model\n",
    "### Step 4-1: run the main model with true cell type proportion"
   ]
  },
  {
   "cell_type": "code",
   "execution_count": 11,
   "id": "bd5df9cf",
   "metadata": {
    "execution": {
     "iopub.execute_input": "2024-10-19T13:54:41.268855Z",
     "iopub.status.busy": "2024-10-19T13:54:41.267148Z",
     "iopub.status.idle": "2024-10-19T13:54:46.796527Z",
     "shell.execute_reply": "2024-10-19T13:54:46.795190Z"
    },
    "papermill": {
     "duration": 5.541839,
     "end_time": "2024-10-19T13:54:46.797869",
     "exception": false,
     "start_time": "2024-10-19T13:54:41.256030",
     "status": "completed"
    },
    "tags": [],
    "vscode": {
     "languageId": "r"
    }
   },
   "outputs": [
    {
     "name": "stdout",
     "output_type": "stream",
     "text": [
      "We will adpote a value for lambda 1 in our algorithm... \n",
      "Select value of lambda1 0.09479641 \n",
      "tuning for lambda 2 in our algorithm... \n",
      "Select value of lambda2 0.1279606 \n",
      "Run the main algorithm... \n"
     ]
    }
   ],
   "source": [
    "  start_time <- Sys.time()\n",
    "  stged.est.true = MUR.STged(srt_exp = datax$spot_exp, ref_exp = ref_exp, \n",
    "                        beta.type = beta.type,   W = L.mat$dis_weight, \n",
    "                        lambda1 = NULL, lambda2 = NULL, cutoff = 0.05, \n",
    "                        epsilon = 1e-5)\n",
    "\n",
    "  end_time <- Sys.time()\n",
    "\n",
    " "
   ]
  },
  {
   "cell_type": "markdown",
   "id": "921dc6ec",
   "metadata": {
    "papermill": {
     "duration": 0.005081,
     "end_time": "2024-10-19T13:54:46.808793",
     "exception": false,
     "start_time": "2024-10-19T13:54:46.803712",
     "status": "completed"
    },
    "tags": []
   },
   "source": [
    "# Run the STged with cell type proportion predicted from proposed cell type deconvolution methods"
   ]
  },
  {
   "cell_type": "code",
   "execution_count": 12,
   "id": "4b330d2a",
   "metadata": {
    "execution": {
     "iopub.execute_input": "2024-10-19T13:54:46.822124Z",
     "iopub.status.busy": "2024-10-19T13:54:46.820984Z",
     "iopub.status.idle": "2024-10-19T13:56:16.849556Z",
     "shell.execute_reply": "2024-10-19T13:56:16.848242Z"
    },
    "papermill": {
     "duration": 90.038038,
     "end_time": "2024-10-19T13:56:16.852183",
     "exception": false,
     "start_time": "2024-10-19T13:54:46.814145",
     "status": "completed"
    },
    "tags": [],
    "vscode": {
     "languageId": "r"
    }
   },
   "outputs": [
    {
     "name": "stdout",
     "output_type": "stream",
     "text": [
      "Run the STged CARD \n",
      "We will adpote a value for lambda 1 in our algorithm... \n",
      "Select value of lambda1 0.1396419 \n",
      "tuning for lambda 2 in our algorithm... \n",
      "Select value of lambda2 0.1279606 \n",
      "Run the main algorithm... \n",
      "Run time of STged 4.704297 \n",
      "Run the STged RCTD \n",
      "We will adpote a value for lambda 1 in our algorithm... \n",
      "Select value of lambda1 0.4088076 \n",
      "tuning for lambda 2 in our algorithm... \n",
      "Select value of lambda2 0.1279606 \n",
      "Run the main algorithm... \n",
      "Run time of STged 11.87745 \n",
      "Run the STged SpatialDWLS \n",
      "We will adpote a value for lambda 1 in our algorithm... \n",
      "Select value of lambda1 0.09674089 \n",
      "tuning for lambda 2 in our algorithm... \n",
      "Select value of lambda2 0.1279606 \n",
      "Run the main algorithm... \n",
      "Run time of STged 3.52834 \n",
      "Run the STged SPOTlight \n",
      "We will adpote a value for lambda 1 in our algorithm... \n",
      "Select value of lambda1 1.239609 \n",
      "tuning for lambda 2 in our algorithm... \n",
      "Select value of lambda2 0.1279606 \n",
      "Run the main algorithm... \n",
      "Run time of STged 16.37564 \n",
      "Run the STged Stereoscope \n",
      "We will adpote a value for lambda 1 in our algorithm... \n",
      "Select value of lambda1 0.1592693 \n",
      "tuning for lambda 2 in our algorithm... \n",
      "Select value of lambda2 0.1279606 \n",
      "Run the main algorithm... \n",
      "Run time of STged 5.112289 \n",
      "Run the STged cell2location \n",
      "We will adpote a value for lambda 1 in our algorithm... \n",
      "Select value of lambda1 1.002389 \n",
      "tuning for lambda 2 in our algorithm... \n",
      "Select value of lambda2 0.1279606 \n",
      "Run the main algorithm... \n",
      "Run time of STged 16.89439 \n",
      "Run the STged EnDecon \n",
      "We will adpote a value for lambda 1 in our algorithm... \n",
      "Select value of lambda1 0.3758469 \n",
      "tuning for lambda 2 in our algorithm... \n",
      "Select value of lambda2 0.1279606 \n",
      "Run the main algorithm... \n",
      "Run time of STged 10.23182 \n",
      "Run the STged DWLS \n",
      "We will adpote a value for lambda 1 in our algorithm... \n",
      "Select value of lambda1 0.184485 \n",
      "tuning for lambda 2 in our algorithm... \n",
      "Select value of lambda2 0.1279606 \n",
      "Run the main algorithm... \n",
      "Run time of STged 4.82811 \n",
      "Run the STged SONAR \n",
      "We will adpote a value for lambda 1 in our algorithm... \n",
      "Select value of lambda1 0.4036745 \n",
      "tuning for lambda 2 in our algorithm... \n",
      "Select value of lambda2 0.1279606 \n",
      "Run the main algorithm... \n",
      "Run time of STged 9.757706 \n"
     ]
    }
   ],
   "source": [
    "methods = names(res_decon_ct)\n",
    "bench_celltype_STged = matrix(list(), length(methods) ,1)\n",
    "\n",
    "for(ii in 1: length(methods) ){\n",
    "  \n",
    "  cat(\"Run the STged\", methods[ii], \"\\n\")\n",
    "  beta.type.bench = res_decon_ct[[ii]]\n",
    "  start_time <- Sys.time()\n",
    "  stged.est = MUR.STged(srt_exp = datax$spot_exp, ref_exp = ref_exp, \n",
    "                        beta.type = beta.type.bench,   W = L.mat$dis_weight, \n",
    "                        lambda1 = NULL, lambda2 = NULL, cutoff = 0.05, \n",
    "                        epsilon = 1e-5)\n",
    "                    \n",
    "  end_time <- Sys.time()\n",
    "  bench_celltype_STged[[ii]] = stged.est$V.hat\n",
    "  cat(\"Run time of STged\", end_time - start_time,\"\\n\") \n",
    "  \n",
    "}\n",
    "\n",
    "bench_celltype_STged$trueF = trueF\n",
    "bench_celltype_STged$ beta.ind = beta.ind\n",
    "\n",
    "files = paste0(\"./results/FISH+/STged_est_spot_decon_tuning.RDS\")\n",
    "\n",
    "saveRDS(bench_celltype_STged, file =files)"
   ]
  }
 ],
 "metadata": {
  "kernelspec": {
   "display_name": "R",
   "language": "R",
   "name": "ir"
  },
  "language_info": {
   "codemirror_mode": "r",
   "file_extension": ".r",
   "mimetype": "text/x-r-source",
   "name": "R",
   "pygments_lexer": "r",
   "version": "4.4.1"
  },
  "papermill": {
   "default_parameters": {},
   "duration": 129.535276,
   "end_time": "2024-10-19T13:56:18.559012",
   "environment_variables": {},
   "exception": null,
   "input_path": "FISH-count-ref-scRNA_est_prop.ipynb",
   "output_path": "./results/output_FISH-count-ref-scRNA_est_prop_V0.ipynb",
   "parameters": {},
   "start_time": "2024-10-19T13:54:09.023736",
   "version": "2.3.3"
  }
 },
 "nbformat": 4,
 "nbformat_minor": 5
}