{
 "cells": [
  {
   "cell_type": "markdown",
   "id": "36c12703",
   "metadata": {
    "papermill": {
     "duration": 0.014936,
     "end_time": "2024-10-26T10:22:15.549959",
     "exception": false,
     "start_time": "2024-10-26T10:22:15.535023",
     "status": "completed"
    },
    "tags": []
   },
   "source": [
    "**NOTE**: Here we test the performance of the STged with gene expression deconvolution methods"
   ]
  },
  {
   "cell_type": "code",
   "execution_count": 1,
   "id": "16964be6",
   "metadata": {
    "execution": {
     "iopub.execute_input": "2024-10-26T10:22:15.575204Z",
     "iopub.status.busy": "2024-10-26T10:22:15.570935Z",
     "iopub.status.idle": "2024-10-26T10:22:20.795075Z",
     "shell.execute_reply": "2024-10-26T10:22:20.792175Z"
    },
    "papermill": {
     "duration": 5.238332,
     "end_time": "2024-10-26T10:22:20.798210",
     "exception": false,
     "start_time": "2024-10-26T10:22:15.559878",
     "status": "completed"
    },
    "tags": [],
    "vscode": {
     "languageId": "r"
    }
   },
   "outputs": [],
   "source": [
    "\n",
    "#remove(list = ls())\n",
    "#define the conda env\n",
    "\n",
    "library(reticulate)\n",
    "use_condaenv(\"ccnet\", required = TRUE)\n",
    "\n",
    "python_env = \"python_env\""
   ]
  },
  {
   "cell_type": "code",
   "execution_count": 2,
   "id": "6bfdd209",
   "metadata": {
    "execution": {
     "iopub.execute_input": "2024-10-26T10:22:20.864956Z",
     "iopub.status.busy": "2024-10-26T10:22:20.823908Z",
     "iopub.status.idle": "2024-10-26T10:22:28.383809Z",
     "shell.execute_reply": "2024-10-26T10:22:28.382582Z"
    },
    "papermill": {
     "duration": 7.574418,
     "end_time": "2024-10-26T10:22:28.386096",
     "exception": false,
     "start_time": "2024-10-26T10:22:20.811678",
     "status": "completed"
    },
    "tags": [],
    "vscode": {
     "languageId": "r"
    }
   },
   "outputs": [
    {
     "name": "stderr",
     "output_type": "stream",
     "text": [
      "Package 'ENIGMA' version 0.1.6\n",
      "ENIGMA is built for fully deconvolution.\n",
      "\n"
     ]
    }
   ],
   "source": [
    "library(ggplot2)\n",
    "library(scatterpie)\n",
    "library(RColorBrewer)\n",
    "library(TCA)\n",
    "library(ENIGMA)"
   ]
  },
  {
   "cell_type": "code",
   "execution_count": 3,
   "id": "eded87bd",
   "metadata": {
    "execution": {
     "iopub.execute_input": "2024-10-26T10:22:28.414189Z",
     "iopub.status.busy": "2024-10-26T10:22:28.411913Z",
     "iopub.status.idle": "2024-10-26T10:22:28.440296Z",
     "shell.execute_reply": "2024-10-26T10:22:28.438771Z"
    },
    "papermill": {
     "duration": 0.042419,
     "end_time": "2024-10-26T10:22:28.442850",
     "exception": false,
     "start_time": "2024-10-26T10:22:28.400431",
     "status": "completed"
    },
    "tags": [],
    "vscode": {
     "languageId": "r"
    }
   },
   "outputs": [],
   "source": [
    "# Source code\n",
    "source(\"./code/STged.R\")\n",
    "source(\"./code/benchmark.R\")"
   ]
  },
  {
   "cell_type": "code",
   "execution_count": 4,
   "id": "469db088",
   "metadata": {
    "execution": {
     "iopub.execute_input": "2024-10-26T10:22:28.473920Z",
     "iopub.status.busy": "2024-10-26T10:22:28.471370Z",
     "iopub.status.idle": "2024-10-26T10:22:28.500204Z",
     "shell.execute_reply": "2024-10-26T10:22:28.498579Z"
    },
    "papermill": {
     "duration": 0.04563,
     "end_time": "2024-10-26T10:22:28.502897",
     "exception": false,
     "start_time": "2024-10-26T10:22:28.457267",
     "status": "completed"
    },
    "tags": [],
    "vscode": {
     "languageId": "r"
    }
   },
   "outputs": [],
   "source": [
    "colors <- colorRampPalette(brewer.pal(9, \"Set3\"))(12)\n"
   ]
  },
  {
   "cell_type": "markdown",
   "id": "ab42f145",
   "metadata": {
    "papermill": {
     "duration": 0.01125,
     "end_time": "2024-10-26T10:22:28.528229",
     "exception": false,
     "start_time": "2024-10-26T10:22:28.516979",
     "status": "completed"
    },
    "tags": []
   },
   "source": [
    "# Load data the generated simulated data\n",
    "##  we use the FISH+ data from the mouse tissue. There are 69 spots."
   ]
  },
  {
   "cell_type": "code",
   "execution_count": 5,
   "id": "25a6ca8a",
   "metadata": {
    "execution": {
     "iopub.execute_input": "2024-10-26T10:22:28.550369Z",
     "iopub.status.busy": "2024-10-26T10:22:28.547183Z",
     "iopub.status.idle": "2024-10-26T10:22:29.308060Z",
     "shell.execute_reply": "2024-10-26T10:22:29.306933Z"
    },
    "papermill": {
     "duration": 0.774129,
     "end_time": "2024-10-26T10:22:29.311035",
     "exception": false,
     "start_time": "2024-10-26T10:22:28.536906",
     "status": "completed"
    },
    "tags": [],
    "vscode": {
     "languageId": "r"
    }
   },
   "outputs": [
    {
     "data": {
      "text/html": [
       "<style>\n",
       ".list-inline {list-style: none; margin:0; padding: 0}\n",
       ".list-inline>li {display: inline-block}\n",
       ".list-inline>li:not(:last-child)::after {content: \"\\00b7\"; padding: 0 .5ex}\n",
       "</style>\n",
       "<ol class=list-inline><li>'astrocytes'</li><li>'endo_mural'</li><li>'eNeuron'</li><li>'iNeuron'</li><li>'microglia'</li><li>'Olig'</li></ol>\n"
      ],
      "text/latex": [
       "\\begin{enumerate*}\n",
       "\\item 'astrocytes'\n",
       "\\item 'endo\\_mural'\n",
       "\\item 'eNeuron'\n",
       "\\item 'iNeuron'\n",
       "\\item 'microglia'\n",
       "\\item 'Olig'\n",
       "\\end{enumerate*}\n"
      ],
      "text/markdown": [
       "1. 'astrocytes'\n",
       "2. 'endo_mural'\n",
       "3. 'eNeuron'\n",
       "4. 'iNeuron'\n",
       "5. 'microglia'\n",
       "6. 'Olig'\n",
       "\n",
       "\n"
      ],
      "text/plain": [
       "[1] \"astrocytes\" \"endo_mural\" \"eNeuron\"    \"iNeuron\"    \"microglia\" \n",
       "[6] \"Olig\"      "
      ]
     },
     "metadata": {},
     "output_type": "display_data"
    }
   ],
   "source": [
    "sim_data = readRDS(\"./realdata/FISH+/sim_fishplus_input.RDS\")\n",
    "\n",
    "TRUE_F = sim_data$trueF\n",
    "beta.type = sim_data$beta.type\n",
    "\n",
    "cell_type = colnames(beta.type)\n",
    "cell_type"
   ]
  },
  {
   "cell_type": "markdown",
   "id": "7e101e8d",
   "metadata": {
    "papermill": {
     "duration": 0.009489,
     "end_time": "2024-10-26T10:22:29.333203",
     "exception": false,
     "start_time": "2024-10-26T10:22:29.323714",
     "status": "completed"
    },
    "tags": []
   },
   "source": [
    "# Run the STged step by step"
   ]
  },
  {
   "cell_type": "markdown",
   "id": "6407ba82",
   "metadata": {
    "papermill": {
     "duration": 0.007653,
     "end_time": "2024-10-26T10:22:29.348833",
     "exception": false,
     "start_time": "2024-10-26T10:22:29.341180",
     "status": "completed"
    },
    "tags": []
   },
   "source": [
    "## Step 1: clear data"
   ]
  },
  {
   "cell_type": "code",
   "execution_count": 6,
   "id": "21854af6",
   "metadata": {
    "execution": {
     "iopub.execute_input": "2024-10-26T10:22:29.365406Z",
     "iopub.status.busy": "2024-10-26T10:22:29.362882Z",
     "iopub.status.idle": "2024-10-26T10:22:32.913950Z",
     "shell.execute_reply": "2024-10-26T10:22:32.912752Z"
    },
    "papermill": {
     "duration": 3.561372,
     "end_time": "2024-10-26T10:22:32.916291",
     "exception": false,
     "start_time": "2024-10-26T10:22:29.354919",
     "status": "completed"
    },
    "tags": [],
    "vscode": {
     "languageId": "r"
    }
   },
   "outputs": [],
   "source": [
    "depthscale = 1e6\n",
    "clean.only = FALSE\n",
    "datax = data_process(sc_exp = sim_data$sc_exp,   sc_label = sim_data$sc_label, \n",
    "                     spot_exp = sim_data$spot_exp,  spot_loc = sim_data$spot_loc,\n",
    "                     depthscale = depthscale,  gene_det_in_min_cells_per = 0.05, \n",
    "                     expression_threshold = 0,\n",
    "                     nUMI =  100, verbose = FALSE, clean.only = clean.only)\n",
    "                     ## Winsorize expression values to prevent outliers  \n",
    "truncate = TRUE\n",
    "if(truncate){\n",
    "  qt = 0.05\n",
    "  datax$sc_exp  =  winsorize(x =  datax$sc_exp, qt = qt)\n",
    "  datax$spot_exp  =  winsorize(x =  datax$spot_exp, qt = qt)\n",
    "}\n"
   ]
  },
  {
   "cell_type": "code",
   "execution_count": 7,
   "id": "1613fd30",
   "metadata": {
    "execution": {
     "iopub.execute_input": "2024-10-26T10:22:32.946825Z",
     "iopub.status.busy": "2024-10-26T10:22:32.944201Z",
     "iopub.status.idle": "2024-10-26T10:22:33.188139Z",
     "shell.execute_reply": "2024-10-26T10:22:33.186743Z"
    },
    "papermill": {
     "duration": 0.259419,
     "end_time": "2024-10-26T10:22:33.190553",
     "exception": false,
     "start_time": "2024-10-26T10:22:32.931134",
     "status": "completed"
    },
    "tags": [],
    "vscode": {
     "languageId": "r"
    }
   },
   "outputs": [],
   "source": [
    "# use for the other completed methods\n",
    "datax_count = data_process(sc_exp = sim_data$sc_exp,   sc_label = sim_data$sc_label, \n",
    "                     spot_exp = sim_data$spot_exp,  spot_loc = sim_data$spot_loc,\n",
    "                     depthscale = depthscale,  gene_det_in_min_cells_per = 0.05, \n",
    "                     expression_threshold = 0,\n",
    "                     nUMI =  100, verbose = FALSE, clean.only = TRUE)"
   ]
  },
  {
   "cell_type": "markdown",
   "id": "124b2ecd",
   "metadata": {
    "papermill": {
     "duration": 0.010722,
     "end_time": "2024-10-26T10:22:33.215854",
     "exception": false,
     "start_time": "2024-10-26T10:22:33.205132",
     "status": "completed"
    },
    "tags": []
   },
   "source": [
    "##  True cell type-specific gene expression data"
   ]
  },
  {
   "cell_type": "code",
   "execution_count": 8,
   "id": "7853e7fb",
   "metadata": {
    "execution": {
     "iopub.execute_input": "2024-10-26T10:22:33.236488Z",
     "iopub.status.busy": "2024-10-26T10:22:33.233977Z",
     "iopub.status.idle": "2024-10-26T10:22:33.705232Z",
     "shell.execute_reply": "2024-10-26T10:22:33.703915Z"
    },
    "papermill": {
     "duration": 0.483108,
     "end_time": "2024-10-26T10:22:33.707668",
     "exception": false,
     "start_time": "2024-10-26T10:22:33.224560",
     "status": "completed"
    },
    "tags": [],
    "vscode": {
     "languageId": "r"
    }
   },
   "outputs": [],
   "source": [
    "gene_sec = rownames(datax$sc_exp)\n",
    "\n",
    "for(i in 1:length(cell_type)){\n",
    "\n",
    "  TRUE_F[[i]] = TRUE_F[[i]][gene_sec,colnames(datax$spot_exp )]\n",
    "\n",
    "}\n",
    "\n",
    "# normaliztion of the true cell type-specific gene expression data\n",
    "trueF = res_library_size_normaization(estres = TRUE_F, depthscale = depthscale )\n",
    "\n",
    "\n",
    "saveRDS(TRUE_F, file =\"./results/FISH+/True_cell_exp.RDS\")"
   ]
  },
  {
   "cell_type": "markdown",
   "id": "a3bad22f",
   "metadata": {
    "papermill": {
     "duration": 0.009839,
     "end_time": "2024-10-26T10:22:33.731109",
     "exception": false,
     "start_time": "2024-10-26T10:22:33.721270",
     "status": "completed"
    },
    "tags": []
   },
   "source": [
    "## Step 2: construct spatial correlation structures"
   ]
  },
  {
   "cell_type": "code",
   "execution_count": 9,
   "id": "7274e0a5",
   "metadata": {
    "execution": {
     "iopub.execute_input": "2024-10-26T10:22:33.751101Z",
     "iopub.status.busy": "2024-10-26T10:22:33.748617Z",
     "iopub.status.idle": "2024-10-26T10:22:50.246717Z",
     "shell.execute_reply": "2024-10-26T10:22:50.245136Z"
    },
    "papermill": {
     "duration": 16.510288,
     "end_time": "2024-10-26T10:22:50.249558",
     "exception": false,
     "start_time": "2024-10-26T10:22:33.739270",
     "status": "completed"
    },
    "tags": [],
    "vscode": {
     "languageId": "r"
    }
   },
   "outputs": [
    {
     "name": "stdout",
     "output_type": "stream",
     "text": [
      "Construct spatial correlation \n"
     ]
    }
   ],
   "source": [
    "cat(\"Construct spatial correlation\", \"\\n\")\n",
    "L.mat = dis_weight(spot_loc = datax$spot_loc, spot_exp = datax$spot_exp, k = 6, \n",
    "                   quantile_prob_bandwidth = 1/3, method = \"Hex\", \n",
    "                   coord_type = \"grid\")"
   ]
  },
  {
   "cell_type": "markdown",
   "id": "4b75c478",
   "metadata": {
    "papermill": {
     "duration": 0.010136,
     "end_time": "2024-10-26T10:22:50.274173",
     "exception": false,
     "start_time": "2024-10-26T10:22:50.264037",
     "status": "completed"
    },
    "tags": []
   },
   "source": [
    "## Step 3: construct reference gene matrix"
   ]
  },
  {
   "cell_type": "code",
   "execution_count": 10,
   "id": "5506e475",
   "metadata": {
    "execution": {
     "iopub.execute_input": "2024-10-26T10:22:50.295840Z",
     "iopub.status.busy": "2024-10-26T10:22:50.292749Z",
     "iopub.status.idle": "2024-10-26T10:22:50.422960Z",
     "shell.execute_reply": "2024-10-26T10:22:50.421576Z"
    },
    "papermill": {
     "duration": 0.14253,
     "end_time": "2024-10-26T10:22:50.425263",
     "exception": false,
     "start_time": "2024-10-26T10:22:50.282733",
     "status": "completed"
    },
    "tags": [],
    "vscode": {
     "languageId": "r"
    }
   },
   "outputs": [
    {
     "name": "stdout",
     "output_type": "stream",
     "text": [
      "Construct reference gene matrix \n"
     ]
    },
    {
     "data": {
      "text/html": [
       "<style>\n",
       ".list-inline {list-style: none; margin:0; padding: 0}\n",
       ".list-inline>li {display: inline-block}\n",
       ".list-inline>li:not(:last-child)::after {content: \"\\00b7\"; padding: 0 .5ex}\n",
       "</style>\n",
       "<ol class=list-inline><li>'astrocytes'</li><li>'endo_mural'</li><li>'eNeuron'</li><li>'iNeuron'</li><li>'microglia'</li><li>'Olig'</li></ol>\n"
      ],
      "text/latex": [
       "\\begin{enumerate*}\n",
       "\\item 'astrocytes'\n",
       "\\item 'endo\\_mural'\n",
       "\\item 'eNeuron'\n",
       "\\item 'iNeuron'\n",
       "\\item 'microglia'\n",
       "\\item 'Olig'\n",
       "\\end{enumerate*}\n"
      ],
      "text/markdown": [
       "1. 'astrocytes'\n",
       "2. 'endo_mural'\n",
       "3. 'eNeuron'\n",
       "4. 'iNeuron'\n",
       "5. 'microglia'\n",
       "6. 'Olig'\n",
       "\n",
       "\n"
      ],
      "text/plain": [
       "[1] \"astrocytes\" \"endo_mural\" \"eNeuron\"    \"iNeuron\"    \"microglia\" \n",
       "[6] \"Olig\"      "
      ]
     },
     "metadata": {},
     "output_type": "display_data"
    }
   ],
   "source": [
    "\n",
    "cat(\"Construct reference gene matrix\", \"\\n\")\n",
    "\n",
    "ref_exp = create_group_exp(sc_exp = datax$sc_exp, sc_label = datax$sc_label)\n",
    "\n",
    "\n",
    "ref_exp = ref_exp[rownames(datax$spot_exp), cell_type]\n",
    "colnames(ref_exp )\n",
    "\n",
    "beta.type = beta.type[colnames(datax$spot_exp),]\n"
   ]
  },
  {
   "cell_type": "code",
   "execution_count": 11,
   "id": "1525249d",
   "metadata": {
    "execution": {
     "iopub.execute_input": "2024-10-26T10:22:50.453327Z",
     "iopub.status.busy": "2024-10-26T10:22:50.450990Z",
     "iopub.status.idle": "2024-10-26T10:22:50.585713Z",
     "shell.execute_reply": "2024-10-26T10:22:50.584185Z"
    },
    "papermill": {
     "duration": 0.148874,
     "end_time": "2024-10-26T10:22:50.588115",
     "exception": false,
     "start_time": "2024-10-26T10:22:50.439241",
     "status": "completed"
    },
    "tags": [],
    "vscode": {
     "languageId": "r"
    }
   },
   "outputs": [
    {
     "data": {
      "text/html": [
       "6471"
      ],
      "text/latex": [
       "6471"
      ],
      "text/markdown": [
       "6471"
      ],
      "text/plain": [
       "[1] 6471"
      ]
     },
     "metadata": {},
     "output_type": "display_data"
    }
   ],
   "source": [
    "p = nrow(datax$spot_exp)\n",
    "p\n",
    "K = ncol(beta.type)\n",
    "beta.ind.temp = beta.type>0.05\n",
    "beta.ind =  matrix(list(), K ,1)\n",
    "for (i in 1:K){\n",
    "  \n",
    "  beta.ind[[i]] =  matrix( rep(beta.ind.temp[,i],p), nrow = p, byrow = TRUE)\n",
    "}\n",
    "\n",
    "\n",
    "saveRDS(beta.ind, file =\"./results/FISH+/cell_prop_indx.RDS\")"
   ]
  },
  {
   "cell_type": "markdown",
   "id": "3b985cf7",
   "metadata": {
    "papermill": {
     "duration": 0.010046,
     "end_time": "2024-10-26T10:22:50.612544",
     "exception": false,
     "start_time": "2024-10-26T10:22:50.602498",
     "status": "completed"
    },
    "tags": []
   },
   "source": [
    "## Step 4: run the main model\n",
    "### Step 4-1: run the main model with true cell type proportion"
   ]
  },
  {
   "cell_type": "code",
   "execution_count": 12,
   "id": "10ae6b16",
   "metadata": {
    "execution": {
     "iopub.execute_input": "2024-10-26T10:22:50.633538Z",
     "iopub.status.busy": "2024-10-26T10:22:50.630484Z",
     "iopub.status.idle": "2024-10-26T10:22:51.469897Z",
     "shell.execute_reply": "2024-10-26T10:22:51.467845Z"
    },
    "papermill": {
     "duration": 0.851552,
     "end_time": "2024-10-26T10:22:51.472242",
     "exception": false,
     "start_time": "2024-10-26T10:22:50.620690",
     "status": "completed"
    },
    "tags": [],
    "vscode": {
     "languageId": "r"
    }
   },
   "outputs": [],
   "source": [
    "\n",
    "start_time <- Sys.time()\n",
    "\n",
    "if (!file.exists(\"./results/FISH+/True_stged.RDS\")) {\n",
    "  stged.est.true <- MUR.STged(\n",
    "    srt_exp = datax$spot_exp, \n",
    "    ref_exp = ref_exp, \n",
    "    beta.type = beta.type, \n",
    "    W = L.mat$dis_weight, \n",
    "    lambda1 = NULL, \n",
    "    lambda2 = NULL, \n",
    "    cutoff = 0.05, \n",
    "    epsilon = 1e-5\n",
    "  )\n",
    "  \n",
    "  saveRDS(stged.est.true, file = \"./results/FISH+/True_stged.RDS\")\n",
    "} else {\n",
    "\n",
    "  stged.est.true <- readRDS(\"./results/FISH+/True_stged.RDS\")\n",
    "}\n",
    "\n",
    "end_time <- Sys.time()\n",
    "\n",
    "\n",
    "reg1 <- TRUE\n",
    "\n",
    "if (reg1 && !file.exists(\"./results/FISH+/True_stged_reg1.RDS\")) {\n",
    "  stged.est.reg1 <- MUR.STged(\n",
    "    srt_exp = datax$spot_exp, \n",
    "    ref_exp = ref_exp, \n",
    "    beta.type = beta.type, \n",
    "    W = L.mat$dis_weight, \n",
    "    lambda1 = NULL, \n",
    "    lambda2 = 0, \n",
    "    cutoff = 0.05, \n",
    "    epsilon = 1e-5\n",
    "  )\n",
    "  \n",
    "  saveRDS(stged.est.reg1, file = \"./results/FISH+/True_stged_reg1.RDS\")\n",
    "} else {\n",
    "\n",
    "  stged.est.reg1 <- readRDS(\"./results/FISH+/True_stged_reg1.RDS\")\n",
    "}\n",
    "\n",
    "\n",
    "reg2 <- TRUE\n",
    "if (reg2 && !file.exists(\"./results/FISH+/True_stged_reg2.RDS\")) {\n",
    "  stged.est.reg2 <- MUR.STged(\n",
    "    srt_exp = datax$spot_exp, \n",
    "    ref_exp = ref_exp, \n",
    "    beta.type = beta.type, \n",
    "    W = L.mat$dis_weight, \n",
    "    lambda1 = 0, \n",
    "    lambda2 = NULL, \n",
    "    cutoff = 0.05, \n",
    "    epsilon = 1e-5\n",
    "  )\n",
    "\n",
    "  saveRDS(stged.est.reg2, file = \"./results/FISH+/True_stged_reg2.RDS\")\n",
    "} else {\n",
    " \n",
    "  stged.est.reg2 <- readRDS(\"./results/FISH+/True_stged_reg2.RDS\")\n",
    "}\n",
    "\n",
    "\n",
    "\n",
    "reg3 <- TRUE\n",
    "if (reg3 && !file.exists(\"./results/FISH+/True_stged_reg3.RDS\")) {\n",
    "  stged.est.reg3 <- MUR.STged(\n",
    "    srt_exp = datax$spot_exp, \n",
    "    ref_exp = ref_exp, \n",
    "    beta.type = beta.type, \n",
    "    W = L.mat$dis_weight, \n",
    "    lambda1 = 0, \n",
    "    lambda2 = 0, \n",
    "    cutoff = 0.05, \n",
    "    epsilon = 1e-5\n",
    "  )\n",
    "\n",
    "  saveRDS(stged.est.reg3, file = \"./results/FISH+/True_stged_reg3.RDS\")\n",
    "} else {\n",
    " \n",
    "  stged.est.reg3 <- readRDS(\"./results/FISH+/True_stged_reg3.RDS\")\n",
    "}\n"
   ]
  },
  {
   "cell_type": "markdown",
   "id": "f236f46a",
   "metadata": {
    "papermill": {
     "duration": 0.010456,
     "end_time": "2024-10-26T10:22:51.497775",
     "exception": false,
     "start_time": "2024-10-26T10:22:51.487319",
     "status": "completed"
    },
    "tags": []
   },
   "source": [
    "# Run the benchmarking methods"
   ]
  },
  {
   "cell_type": "code",
   "execution_count": 13,
   "id": "81c99a93",
   "metadata": {
    "execution": {
     "iopub.execute_input": "2024-10-26T10:22:51.518555Z",
     "iopub.status.busy": "2024-10-26T10:22:51.515702Z",
     "iopub.status.idle": "2024-10-26T10:22:52.804755Z",
     "shell.execute_reply": "2024-10-26T10:22:52.803348Z"
    },
    "papermill": {
     "duration": 1.301411,
     "end_time": "2024-10-26T10:22:52.807168",
     "exception": false,
     "start_time": "2024-10-26T10:22:51.505757",
     "status": "completed"
    },
    "tags": [],
    "vscode": {
     "languageId": "r"
    }
   },
   "outputs": [],
   "source": [
    "exp_lsr = st_mu_est(srt_exp = datax$spot_exp,  beta= beta.type)\n",
    "\n",
    "exp_sc = sc_mu_est( sc_mu = ref_exp, beta = beta.type)\n",
    "\n",
    "exp_rctd =  RCTDexp( srt_exp = datax$spot_exp, ref_mu = ref_exp,beta = beta.type )\n",
    "\n",
    "exp_spotdecon = spotdecon_est(srt_exp = datax$spot_exp,  beta= beta.type)\n"
   ]
  },
  {
   "cell_type": "code",
   "execution_count": 14,
   "id": "82fc2944",
   "metadata": {
    "execution": {
     "iopub.execute_input": "2024-10-26T10:22:52.836331Z",
     "iopub.status.busy": "2024-10-26T10:22:52.834439Z",
     "iopub.status.idle": "2024-10-26T10:22:52.960807Z",
     "shell.execute_reply": "2024-10-26T10:22:52.959808Z"
    },
    "papermill": {
     "duration": 0.140657,
     "end_time": "2024-10-26T10:22:52.963106",
     "exception": false,
     "start_time": "2024-10-26T10:22:52.822449",
     "status": "completed"
    },
    "tags": [],
    "vscode": {
     "languageId": "r"
    }
   },
   "outputs": [],
   "source": [
    "# Check and save exp_ENIGMA result\n",
    "if (!file.exists(\"./results/FISH+/True_exp_ENIGMA.RDS\")) {\n",
    "  exp_ENIGMA <- ENIGMA_est(\n",
    "    spot_exp = datax_count$spot_exp, \n",
    "    sc_exp = datax_count$sc_exp, \n",
    "    sc_label = datax_count$sc_label, \n",
    "    beta = beta.type )\n",
    "  \n",
    "  # Save the result if computation is performed\n",
    "  saveRDS(exp_ENIGMA, file = \"./results/FISH+/True_exp_ENIGMA.RDS\")\n",
    "} else {\n",
    "  # Load the result if it already exists\n",
    "  exp_ENIGMA <- readRDS(\"./results/FISH+/True_exp_ENIGMA.RDS\")\n",
    "}\n"
   ]
  },
  {
   "cell_type": "code",
   "execution_count": 15,
   "id": "59700038",
   "metadata": {
    "execution": {
     "iopub.execute_input": "2024-10-26T10:22:52.989799Z",
     "iopub.status.busy": "2024-10-26T10:22:52.988432Z",
     "iopub.status.idle": "2024-10-26T10:23:05.194031Z",
     "shell.execute_reply": "2024-10-26T10:23:05.191530Z"
    },
    "papermill": {
     "duration": 12.2202,
     "end_time": "2024-10-26T10:23:05.197228",
     "exception": false,
     "start_time": "2024-10-26T10:22:52.977028",
     "status": "completed"
    },
    "tags": [],
    "vscode": {
     "languageId": "r"
    }
   },
   "outputs": [
    {
     "name": "stderr",
     "output_type": "stream",
     "text": [
      "Updating HTML index of packages in '.Library'\n",
      "\n"
     ]
    },
    {
     "name": "stderr",
     "output_type": "stream",
     "text": [
      "Making 'packages.html' ...\n"
     ]
    },
    {
     "name": "stderr",
     "output_type": "stream",
     "text": [
      " done\n",
      "\n"
     ]
    }
   ],
   "source": [
    "# Check and save exp_TCA result\n",
    "if (!file.exists(\"./results/FISH+/True_exp_TCA.RDS\")) {\n",
    "  \n",
    " exp_TCA <- TCA_est(spot_exp  = datax_count$spot_exp, beta= beta.type)\n",
    "  \n",
    "  # Save the result if computation is performed\n",
    "  saveRDS(exp_TCA, file = \"./results/FISH+/True_exp_TCA.RDS\")\n",
    "} else {\n",
    "  # Load the result if it already exists\n",
    "  exp_TCA <- readRDS(\"./results/FISH+/True_exp_TCA.RDS\")\n",
    "}\n",
    "install.packages(\"TCA\")"
   ]
  },
  {
   "cell_type": "code",
   "execution_count": 16,
   "id": "5fc25f52",
   "metadata": {
    "execution": {
     "iopub.execute_input": "2024-10-26T10:23:05.228361Z",
     "iopub.status.busy": "2024-10-26T10:23:05.225728Z",
     "iopub.status.idle": "2024-10-26T10:23:10.582002Z",
     "shell.execute_reply": "2024-10-26T10:23:10.580155Z"
    },
    "papermill": {
     "duration": 5.372047,
     "end_time": "2024-10-26T10:23:10.584663",
     "exception": false,
     "start_time": "2024-10-26T10:23:05.212616",
     "status": "completed"
    },
    "tags": [],
    "vscode": {
     "languageId": "r"
    }
   },
   "outputs": [],
   "source": [
    "est_est= list(STged = stged.est.true$V.hat,\n",
    "              STged.reg1 = stged.est.reg1$V.hat,\n",
    "              STged.reg2 =stged.est.reg2$V.hat,\n",
    "              STged.reg3 =stged.est.reg3$V.hat,\n",
    "              RCTD = exp_rctd,\n",
    "              TCA = exp_TCA,\n",
    "              ENIGMA = exp_ENIGMA,\n",
    "              ref_mu = exp_sc,\n",
    "              LSR = exp_lsr,\n",
    "              Spotdecon = exp_spotdecon)\n",
    "\n",
    "files = paste0(\"./results/FISH+/True_spot_decon.RDS\")\n",
    "\n",
    "saveRDS(est_est, file =files)"
   ]
  },
  {
   "cell_type": "markdown",
   "id": "096ca002",
   "metadata": {
    "papermill": {
     "duration": 0.010513,
     "end_time": "2024-10-26T10:23:10.611063",
     "exception": false,
     "start_time": "2024-10-26T10:23:10.600550",
     "status": "completed"
    },
    "tags": []
   },
   "source": [
    "# run with model with estimated cell type proportion"
   ]
  },
  {
   "cell_type": "code",
   "execution_count": 17,
   "id": "1c5a6a25",
   "metadata": {
    "execution": {
     "iopub.execute_input": "2024-10-26T10:23:10.632536Z",
     "iopub.status.busy": "2024-10-26T10:23:10.629363Z",
     "iopub.status.idle": "2024-10-26T10:23:10.660587Z",
     "shell.execute_reply": "2024-10-26T10:23:10.658732Z"
    },
    "papermill": {
     "duration": 0.043558,
     "end_time": "2024-10-26T10:23:10.663173",
     "exception": false,
     "start_time": "2024-10-26T10:23:10.619615",
     "status": "completed"
    },
    "tags": [],
    "vscode": {
     "languageId": "r"
    }
   },
   "outputs": [
    {
     "data": {
      "text/html": [
       "<style>\n",
       ".list-inline {list-style: none; margin:0; padding: 0}\n",
       ".list-inline>li {display: inline-block}\n",
       ".list-inline>li:not(:last-child)::after {content: \"\\00b7\"; padding: 0 .5ex}\n",
       "</style>\n",
       "<ol class=list-inline><li>'CARD'</li><li>'RCTD'</li><li>'SpatialDWLS'</li><li>'SPOTlight'</li><li>'Stereoscope'</li><li>'cell2location'</li><li>'EnDecon'</li><li>'DWLS'</li><li>'SONAR'</li></ol>\n"
      ],
      "text/latex": [
       "\\begin{enumerate*}\n",
       "\\item 'CARD'\n",
       "\\item 'RCTD'\n",
       "\\item 'SpatialDWLS'\n",
       "\\item 'SPOTlight'\n",
       "\\item 'Stereoscope'\n",
       "\\item 'cell2location'\n",
       "\\item 'EnDecon'\n",
       "\\item 'DWLS'\n",
       "\\item 'SONAR'\n",
       "\\end{enumerate*}\n"
      ],
      "text/markdown": [
       "1. 'CARD'\n",
       "2. 'RCTD'\n",
       "3. 'SpatialDWLS'\n",
       "4. 'SPOTlight'\n",
       "5. 'Stereoscope'\n",
       "6. 'cell2location'\n",
       "7. 'EnDecon'\n",
       "8. 'DWLS'\n",
       "9. 'SONAR'\n",
       "\n",
       "\n"
      ],
      "text/plain": [
       "[1] \"CARD\"          \"RCTD\"          \"SpatialDWLS\"   \"SPOTlight\"    \n",
       "[5] \"Stereoscope\"   \"cell2location\" \"EnDecon\"       \"DWLS\"         \n",
       "[9] \"SONAR\"        "
      ]
     },
     "metadata": {},
     "output_type": "display_data"
    }
   ],
   "source": [
    "## cell type proportion predected from the proposed cell type deconvolution methods\n",
    "res_decon_ct = readRDS(\"./realdata/FISH+/EnDecon_major/FISH_Results.Deconv.RDS\")\n",
    "names(res_decon_ct)"
   ]
  },
  {
   "cell_type": "code",
   "execution_count": 18,
   "id": "9f7d871e",
   "metadata": {
    "execution": {
     "iopub.execute_input": "2024-10-26T10:23:10.689685Z",
     "iopub.status.busy": "2024-10-26T10:23:10.687762Z",
     "iopub.status.idle": "2024-10-26T10:23:10.736506Z",
     "shell.execute_reply": "2024-10-26T10:23:10.735433Z"
    },
    "papermill": {
     "duration": 0.062893,
     "end_time": "2024-10-26T10:23:10.738786",
     "exception": false,
     "start_time": "2024-10-26T10:23:10.675893",
     "status": "completed"
    },
    "tags": [],
    "vscode": {
     "languageId": "r"
    }
   },
   "outputs": [],
   "source": [
    "beta.est = res_decon_ct$EnDecon\n",
    "beta.type.RCTD = res_decon_ct$RCTD\n",
    "## use the esimated cell type proprotion"
   ]
  },
  {
   "cell_type": "code",
   "execution_count": 19,
   "id": "1fb62e48",
   "metadata": {
    "execution": {
     "iopub.execute_input": "2024-10-26T10:23:10.767352Z",
     "iopub.status.busy": "2024-10-26T10:23:10.765336Z",
     "iopub.status.idle": "2024-10-26T10:23:10.780970Z",
     "shell.execute_reply": "2024-10-26T10:23:10.779217Z"
    },
    "papermill": {
     "duration": 0.030035,
     "end_time": "2024-10-26T10:23:10.783434",
     "exception": false,
     "start_time": "2024-10-26T10:23:10.753399",
     "status": "completed"
    },
    "tags": [],
    "vscode": {
     "languageId": "r"
    }
   },
   "outputs": [],
   "source": [
    "## use the esimated cell type proprotion\n",
    "beta.type = beta.est"
   ]
  },
  {
   "cell_type": "code",
   "execution_count": 20,
   "id": "2906e049",
   "metadata": {
    "execution": {
     "iopub.execute_input": "2024-10-26T10:23:10.812695Z",
     "iopub.status.busy": "2024-10-26T10:23:10.810500Z",
     "iopub.status.idle": "2024-10-26T10:23:11.729911Z",
     "shell.execute_reply": "2024-10-26T10:23:11.728820Z"
    },
    "papermill": {
     "duration": 0.935331,
     "end_time": "2024-10-26T10:23:11.732292",
     "exception": false,
     "start_time": "2024-10-26T10:23:10.796961",
     "status": "completed"
    },
    "tags": [],
    "vscode": {
     "languageId": "r"
    }
   },
   "outputs": [],
   "source": [
    " \n",
    "start_time <- Sys.time()\n",
    "\n",
    "if (!file.exists(\"./results/FISH+/EST_stged.RDS\")) {\n",
    "  stged.est.true <- MUR.STged(\n",
    "    srt_exp = datax$spot_exp, \n",
    "    ref_exp = ref_exp, \n",
    "    beta.type = beta.type, \n",
    "    W = L.mat$dis_weight, \n",
    "    lambda1 = NULL, \n",
    "    lambda2 = NULL, \n",
    "    cutoff = 0.05, \n",
    "    epsilon = 1e-5\n",
    "  )\n",
    "  \n",
    "  saveRDS(stged.est.true, file = \"./results/FISH+/EST_stged.RDS\")\n",
    "} else {\n",
    "\n",
    "  stged.est.true <- readRDS(\"./results/FISH+/EST_stged.RDS\")\n",
    "}\n",
    "\n",
    "end_time <- Sys.time()\n",
    "\n",
    "\n",
    "reg1 <- TRUE\n",
    "\n",
    "if (reg1 && !file.exists(\"./results/FISH+/EST_stged_reg1.RDS\")) {\n",
    "  stged.est.reg1 <- MUR.STged(\n",
    "    srt_exp = datax$spot_exp, \n",
    "    ref_exp = ref_exp, \n",
    "    beta.type = beta.type, \n",
    "    W = L.mat$dis_weight, \n",
    "    lambda1 = NULL, \n",
    "    lambda2 = 0, \n",
    "    cutoff = 0.05, \n",
    "    epsilon = 1e-5\n",
    "  )\n",
    "  \n",
    "  saveRDS(stged.est.reg1, file = \"./results/FISH+/EST_stged_reg1.RDS\")\n",
    "} else {\n",
    "\n",
    "  stged.est.reg1 <- readRDS(\"./results/FISH+/EST_stged_reg1.RDS\")\n",
    "}\n",
    "\n",
    "\n",
    "reg2 <- TRUE\n",
    "if (reg2 && !file.exists(\"./results/FISH+/EST_stged_reg2.RDS\")) {\n",
    "  stged.est.reg2 <- MUR.STged(\n",
    "    srt_exp = datax$spot_exp, \n",
    "    ref_exp = ref_exp, \n",
    "    beta.type = beta.type, \n",
    "    W = L.mat$dis_weight, \n",
    "    lambda1 = 0, \n",
    "    lambda2 = NULL, \n",
    "    cutoff = 0.05, \n",
    "    epsilon = 1e-5\n",
    "  )\n",
    "\n",
    "  saveRDS(stged.est.reg2, file = \"./results/FISH+/EST_stged_reg2.RDS\")\n",
    "} else {\n",
    " \n",
    "  stged.est.reg2 <- readRDS(\"./results/FISH+/EST_stged_reg2.RDS\")\n",
    "}\n",
    "\n",
    "\n",
    "reg3 <- TRUE\n",
    "if (reg3 && !file.exists(\"./results/FISH+/EST_stged_reg3.RDS\")) {\n",
    "  stged.est.reg3 <- MUR.STged(\n",
    "    srt_exp = datax$spot_exp, \n",
    "    ref_exp = ref_exp, \n",
    "    beta.type = beta.type, \n",
    "    W = L.mat$dis_weight, \n",
    "    lambda1 = 0, \n",
    "    lambda2 = 0, \n",
    "    cutoff = 0.05, \n",
    "    epsilon = 1e-5\n",
    "  )\n",
    "\n",
    "  saveRDS(stged.est.reg3, file = \"./results/FISH+/EST_stged_reg3.RDS\")\n",
    "} else {\n",
    " \n",
    "  stged.est.reg3 <- readRDS(\"./results/FISH+/EST_stged_reg3.RDS\")\n",
    "}"
   ]
  },
  {
   "cell_type": "code",
   "execution_count": 21,
   "id": "5abd8b1d",
   "metadata": {
    "execution": {
     "iopub.execute_input": "2024-10-26T10:23:11.762561Z",
     "iopub.status.busy": "2024-10-26T10:23:11.761186Z",
     "iopub.status.idle": "2024-10-26T10:23:12.970937Z",
     "shell.execute_reply": "2024-10-26T10:23:12.969559Z"
    },
    "papermill": {
     "duration": 1.224069,
     "end_time": "2024-10-26T10:23:12.972377",
     "exception": false,
     "start_time": "2024-10-26T10:23:11.748308",
     "status": "completed"
    },
    "tags": [],
    "vscode": {
     "languageId": "r"
    }
   },
   "outputs": [],
   "source": [
    "exp_lsr = st_mu_est(srt_exp = datax$spot_exp,  beta= beta.type )\n",
    "\n",
    "exp_sc = sc_mu_est( sc_mu = ref_exp, beta = beta.type )\n",
    "\n",
    "exp_rctd =  RCTDexp(beta = beta.type.RCTD,  srt_exp = datax$spot_exp, ref_mu = ref_exp )\n",
    "\n",
    "exp_spotdecon = spotdecon_est(srt_exp = datax$spot_exp,  beta= beta.type)\n"
   ]
  },
  {
   "cell_type": "code",
   "execution_count": 22,
   "id": "c5918752",
   "metadata": {
    "execution": {
     "iopub.execute_input": "2024-10-26T10:23:12.991420Z",
     "iopub.status.busy": "2024-10-26T10:23:12.990170Z",
     "iopub.status.idle": "2024-10-26T10:23:13.116008Z",
     "shell.execute_reply": "2024-10-26T10:23:13.114990Z"
    },
    "papermill": {
     "duration": 0.137714,
     "end_time": "2024-10-26T10:23:13.118312",
     "exception": false,
     "start_time": "2024-10-26T10:23:12.980598",
     "status": "completed"
    },
    "tags": [],
    "vscode": {
     "languageId": "r"
    }
   },
   "outputs": [],
   "source": [
    "# Check and save exp_ENIGMA result\n",
    "if (!file.exists(\"./results/FISH+/EST_exp_ENIGMA.RDS\")) {\n",
    " exp_ENIGMA = ENIGMA_est(spot_exp  = datax_count$spot_exp, \n",
    " sc_exp = datax_count$sc_exp, sc_label=datax_count$sc_label, \n",
    "  beta= NULL)\n",
    "\n",
    "  # Save the result if computation is performed\n",
    "  saveRDS(exp_ENIGMA, file = \"./results/FISH+/EST_exp_ENIGMA.RDS\")\n",
    "} else {\n",
    "  # Load the result if it already exists\n",
    "  exp_ENIGMA <- readRDS(\"./results/FISH+/EST_exp_ENIGMA.RDS\")\n",
    "}\n",
    "\n"
   ]
  },
  {
   "cell_type": "code",
   "execution_count": 23,
   "id": "e1493204",
   "metadata": {
    "execution": {
     "iopub.execute_input": "2024-10-26T10:23:13.148205Z",
     "iopub.status.busy": "2024-10-26T10:23:13.146815Z",
     "iopub.status.idle": "2024-10-26T10:23:13.426998Z",
     "shell.execute_reply": "2024-10-26T10:23:13.425967Z"
    },
    "papermill": {
     "duration": 0.295131,
     "end_time": "2024-10-26T10:23:13.429520",
     "exception": false,
     "start_time": "2024-10-26T10:23:13.134389",
     "status": "completed"
    },
    "tags": [],
    "vscode": {
     "languageId": "r"
    }
   },
   "outputs": [],
   "source": [
    "# Check and save exp_TCA result\n",
    "if (!file.exists(\"./results/FISH+/EST_exp_TCA.RDS\")) {\n",
    "\n",
    "  exp_TCA <- TCA_est(spot_exp  = datax_count$spot_exp, beta= beta.type)\n",
    "  # Save the result if computation is performed\n",
    "  saveRDS(exp_TCA, file =\"./results/FISH+/EST_exp_TCA.RDS\")\n",
    "} else {\n",
    "  # Load the result if it already exists\n",
    "  exp_TCA <- readRDS(\"./results/FISH+/EST_exp_TCA.RDS\")\n",
    "}\n"
   ]
  },
  {
   "cell_type": "code",
   "execution_count": 24,
   "id": "cad4ad03",
   "metadata": {
    "execution": {
     "iopub.execute_input": "2024-10-26T10:23:13.460079Z",
     "iopub.status.busy": "2024-10-26T10:23:13.458686Z",
     "iopub.status.idle": "2024-10-26T10:23:21.982033Z",
     "shell.execute_reply": "2024-10-26T10:23:21.980839Z"
    },
    "papermill": {
     "duration": 8.539245,
     "end_time": "2024-10-26T10:23:21.984924",
     "exception": false,
     "start_time": "2024-10-26T10:23:13.445679",
     "status": "completed"
    },
    "tags": [],
    "vscode": {
     "languageId": "r"
    }
   },
   "outputs": [],
   "source": [
    "est_est= list(STged = stged.est.true$V.hat,\n",
    "              STged.reg1 = stged.est.reg1$V.hat,\n",
    "              STged.reg2 =stged.est.reg2$V.hat,\n",
    "              STged.reg3 =stged.est.reg3$V.hat,\n",
    "              RCTD = exp_rctd,\n",
    "              TCA = exp_TCA,\n",
    "              ENIGMA = exp_ENIGMA,\n",
    "              ref_mu = exp_sc,\n",
    "              LSR = exp_lsr,\n",
    "              Spotdecon = exp_spotdecon)\n",
    "\n",
    "files = paste0(\"./results/FISH+/EST_spot_decon.RDS\")\n",
    "\n",
    "saveRDS(est_est, file =files)"
   ]
  }
 ],
 "metadata": {
  "kernelspec": {
   "display_name": "R",
   "language": "R",
   "name": "ir"
  },
  "language_info": {
   "codemirror_mode": "r",
   "file_extension": ".r",
   "mimetype": "text/x-r-source",
   "name": "R",
   "pygments_lexer": "r",
   "version": "4.4.1"
  },
  "papermill": {
   "default_parameters": {},
   "duration": 68.939981,
   "end_time": "2024-10-26T10:23:22.522021",
   "environment_variables": {},
   "exception": null,
   "input_path": "FISH-count-ref-scRNA_True_prop.ipynb",
   "output_path": "./results/output_FISH-count-ref-scRNA_True_prop-pkg.ipynb",
   "parameters": {},
   "start_time": "2024-10-26T10:22:13.582040",
   "version": "2.3.3"
  }
 },
 "nbformat": 4,
 "nbformat_minor": 5
}