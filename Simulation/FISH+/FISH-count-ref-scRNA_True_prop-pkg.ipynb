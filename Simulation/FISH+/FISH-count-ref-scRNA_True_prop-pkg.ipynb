{
 "cells": [
  {
   "cell_type": "markdown",
   "id": "36c12703",
   "metadata": {
    "papermill": {
     "duration": 0.007491,
     "end_time": "2024-11-25T06:07:52.628099",
     "exception": false,
     "start_time": "2024-11-25T06:07:52.620608",
     "status": "completed"
    },
    "tags": []
   },
   "source": [
    "**NOTE**: Here we test the performance of the STged with gene expression deconvolution methods"
   ]
  },
  {
   "cell_type": "code",
   "execution_count": 1,
   "id": "16964be6",
   "metadata": {
    "execution": {
     "iopub.execute_input": "2024-11-25T06:07:52.651509Z",
     "iopub.status.busy": "2024-11-25T06:07:52.649803Z",
     "iopub.status.idle": "2024-11-25T06:08:01.639080Z",
     "shell.execute_reply": "2024-11-25T06:08:01.637063Z"
    },
    "papermill": {
     "duration": 9.00102,
     "end_time": "2024-11-25T06:08:01.641869",
     "exception": false,
     "start_time": "2024-11-25T06:07:52.640849",
     "status": "completed"
    },
    "tags": [],
    "vscode": {
     "languageId": "r"
    }
   },
   "outputs": [],
   "source": [
    "\n",
    "#remove(list = ls())\n",
    "#define the conda env\n",
    "\n",
    "library(reticulate)\n",
    "use_condaenv(\"ccnet\", required = TRUE)\n",
    "\n",
    "python_env = \"python_env\""
   ]
  },
  {
   "cell_type": "code",
   "execution_count": 2,
   "id": "6bfdd209",
   "metadata": {
    "execution": {
     "iopub.execute_input": "2024-11-25T06:08:01.689691Z",
     "iopub.status.busy": "2024-11-25T06:08:01.662876Z",
     "iopub.status.idle": "2024-11-25T06:08:28.617601Z",
     "shell.execute_reply": "2024-11-25T06:08:28.616197Z"
    },
    "papermill": {
     "duration": 26.964196,
     "end_time": "2024-11-25T06:08:28.619171",
     "exception": false,
     "start_time": "2024-11-25T06:08:01.654975",
     "status": "completed"
    },
    "tags": [],
    "vscode": {
     "languageId": "r"
    }
   },
   "outputs": [
    {
     "name": "stderr",
     "output_type": "stream",
     "text": [
      "Package 'ENIGMA' version 0.1.6\n",
      "ENIGMA is built for fully deconvolution.\n",
      "\n"
     ]
    }
   ],
   "source": [
    "library(ggplot2)\n",
    "library(scatterpie)\n",
    "library(RColorBrewer)\n",
    "library(TCA)\n",
    "library(ENIGMA)"
   ]
  },
  {
   "cell_type": "code",
   "execution_count": 3,
   "id": "eded87bd",
   "metadata": {
    "execution": {
     "iopub.execute_input": "2024-11-25T06:08:28.636429Z",
     "iopub.status.busy": "2024-11-25T06:08:28.634940Z",
     "iopub.status.idle": "2024-11-25T06:08:28.672397Z",
     "shell.execute_reply": "2024-11-25T06:08:28.671185Z"
    },
    "papermill": {
     "duration": 0.047458,
     "end_time": "2024-11-25T06:08:28.673854",
     "exception": false,
     "start_time": "2024-11-25T06:08:28.626396",
     "status": "completed"
    },
    "tags": [],
    "vscode": {
     "languageId": "r"
    }
   },
   "outputs": [],
   "source": [
    "# Source code\n",
    "source(\"./code/STged.R\")\n",
    "source(\"./code/benchmark.R\")"
   ]
  },
  {
   "cell_type": "code",
   "execution_count": 4,
   "id": "469db088",
   "metadata": {
    "execution": {
     "iopub.execute_input": "2024-11-25T06:08:28.689473Z",
     "iopub.status.busy": "2024-11-25T06:08:28.688376Z",
     "iopub.status.idle": "2024-11-25T06:08:28.729719Z",
     "shell.execute_reply": "2024-11-25T06:08:28.728338Z"
    },
    "papermill": {
     "duration": 0.050496,
     "end_time": "2024-11-25T06:08:28.731284",
     "exception": false,
     "start_time": "2024-11-25T06:08:28.680788",
     "status": "completed"
    },
    "tags": [],
    "vscode": {
     "languageId": "r"
    }
   },
   "outputs": [],
   "source": [
    "colors <- colorRampPalette(brewer.pal(9, \"Set3\"))(12)\n"
   ]
  },
  {
   "cell_type": "markdown",
   "id": "ab42f145",
   "metadata": {
    "papermill": {
     "duration": 0.006422,
     "end_time": "2024-11-25T06:08:28.744313",
     "exception": false,
     "start_time": "2024-11-25T06:08:28.737891",
     "status": "completed"
    },
    "tags": []
   },
   "source": [
    "# Load data the generated simulated data\n",
    "##  we use the FISH+ data from the mouse tissue. There are 69 spots."
   ]
  },
  {
   "cell_type": "code",
   "execution_count": 5,
   "id": "25a6ca8a",
   "metadata": {
    "execution": {
     "iopub.execute_input": "2024-11-25T06:08:28.758706Z",
     "iopub.status.busy": "2024-11-25T06:08:28.757582Z",
     "iopub.status.idle": "2024-11-25T06:08:29.952687Z",
     "shell.execute_reply": "2024-11-25T06:08:29.951490Z"
    },
    "papermill": {
     "duration": 1.203772,
     "end_time": "2024-11-25T06:08:29.954017",
     "exception": false,
     "start_time": "2024-11-25T06:08:28.750245",
     "status": "completed"
    },
    "tags": [],
    "vscode": {
     "languageId": "r"
    }
   },
   "outputs": [
    {
     "data": {
      "text/html": [
       "<style>\n",
       ".list-inline {list-style: none; margin:0; padding: 0}\n",
       ".list-inline>li {display: inline-block}\n",
       ".list-inline>li:not(:last-child)::after {content: \"\\00b7\"; padding: 0 .5ex}\n",
       "</style>\n",
       "<ol class=list-inline><li>'astrocytes'</li><li>'endo_mural'</li><li>'eNeuron'</li><li>'iNeuron'</li><li>'microglia'</li><li>'Olig'</li></ol>\n"
      ],
      "text/latex": [
       "\\begin{enumerate*}\n",
       "\\item 'astrocytes'\n",
       "\\item 'endo\\_mural'\n",
       "\\item 'eNeuron'\n",
       "\\item 'iNeuron'\n",
       "\\item 'microglia'\n",
       "\\item 'Olig'\n",
       "\\end{enumerate*}\n"
      ],
      "text/markdown": [
       "1. 'astrocytes'\n",
       "2. 'endo_mural'\n",
       "3. 'eNeuron'\n",
       "4. 'iNeuron'\n",
       "5. 'microglia'\n",
       "6. 'Olig'\n",
       "\n",
       "\n"
      ],
      "text/plain": [
       "[1] \"astrocytes\" \"endo_mural\" \"eNeuron\"    \"iNeuron\"    \"microglia\" \n",
       "[6] \"Olig\"      "
      ]
     },
     "metadata": {},
     "output_type": "display_data"
    }
   ],
   "source": [
    "sim_data = readRDS(\"./realdata/FISH+/sim_fishplus_input.RDS\")\n",
    "\n",
    "TRUE_F = sim_data$trueF\n",
    "beta.type = sim_data$beta.type\n",
    "\n",
    "cell_type = colnames(beta.type)\n",
    "cell_type"
   ]
  },
  {
   "cell_type": "markdown",
   "id": "7e101e8d",
   "metadata": {
    "papermill": {
     "duration": 0.006975,
     "end_time": "2024-11-25T06:08:29.968105",
     "exception": false,
     "start_time": "2024-11-25T06:08:29.961130",
     "status": "completed"
    },
    "tags": []
   },
   "source": [
    "# Run the STged step by step"
   ]
  },
  {
   "cell_type": "markdown",
   "id": "6407ba82",
   "metadata": {
    "papermill": {
     "duration": 0.006148,
     "end_time": "2024-11-25T06:08:29.980712",
     "exception": false,
     "start_time": "2024-11-25T06:08:29.974564",
     "status": "completed"
    },
    "tags": []
   },
   "source": [
    "## Step 1: clear data"
   ]
  },
  {
   "cell_type": "code",
   "execution_count": 6,
   "id": "21854af6",
   "metadata": {
    "execution": {
     "iopub.execute_input": "2024-11-25T06:08:29.994905Z",
     "iopub.status.busy": "2024-11-25T06:08:29.994026Z",
     "iopub.status.idle": "2024-11-25T06:08:33.802129Z",
     "shell.execute_reply": "2024-11-25T06:08:33.800642Z"
    },
    "papermill": {
     "duration": 3.818229,
     "end_time": "2024-11-25T06:08:33.805228",
     "exception": false,
     "start_time": "2024-11-25T06:08:29.986999",
     "status": "completed"
    },
    "tags": [],
    "vscode": {
     "languageId": "r"
    }
   },
   "outputs": [],
   "source": [
    "depthscale = 1e6\n",
    "clean.only = FALSE\n",
    "datax = data_process(sc_exp = sim_data$sc_exp,   sc_label = sim_data$sc_label, \n",
    "                     spot_exp = sim_data$spot_exp,  spot_loc = sim_data$spot_loc,\n",
    "                     depthscale = depthscale,  gene_det_in_min_cells_per = 0.05, \n",
    "                     expression_threshold = 0,\n",
    "                     nUMI =  100, verbose = FALSE, clean.only = clean.only)\n"
   ]
  },
  {
   "cell_type": "code",
   "execution_count": 7,
   "id": "1613fd30",
   "metadata": {
    "execution": {
     "iopub.execute_input": "2024-11-25T06:08:33.826828Z",
     "iopub.status.busy": "2024-11-25T06:08:33.825902Z",
     "iopub.status.idle": "2024-11-25T06:08:34.059518Z",
     "shell.execute_reply": "2024-11-25T06:08:34.058043Z"
    },
    "papermill": {
     "duration": 0.242822,
     "end_time": "2024-11-25T06:08:34.061029",
     "exception": false,
     "start_time": "2024-11-25T06:08:33.818207",
     "status": "completed"
    },
    "tags": [],
    "vscode": {
     "languageId": "r"
    }
   },
   "outputs": [],
   "source": [
    "# use for the other completed methods\n",
    "datax_count = data_process(sc_exp = sim_data$sc_exp,   sc_label = sim_data$sc_label, \n",
    "                     spot_exp = sim_data$spot_exp,  spot_loc = sim_data$spot_loc,\n",
    "                     depthscale = depthscale,  gene_det_in_min_cells_per = 0.05, \n",
    "                     expression_threshold = 0,\n",
    "                     nUMI =  100, verbose = FALSE, clean.only = TRUE)"
   ]
  },
  {
   "cell_type": "markdown",
   "id": "124b2ecd",
   "metadata": {
    "papermill": {
     "duration": 0.006415,
     "end_time": "2024-11-25T06:08:34.074451",
     "exception": false,
     "start_time": "2024-11-25T06:08:34.068036",
     "status": "completed"
    },
    "tags": []
   },
   "source": [
    "##  True cell type-specific gene expression data"
   ]
  },
  {
   "cell_type": "code",
   "execution_count": 8,
   "id": "7853e7fb",
   "metadata": {
    "execution": {
     "iopub.execute_input": "2024-11-25T06:08:34.088984Z",
     "iopub.status.busy": "2024-11-25T06:08:34.088061Z",
     "iopub.status.idle": "2024-11-25T06:08:34.473138Z",
     "shell.execute_reply": "2024-11-25T06:08:34.472124Z"
    },
    "papermill": {
     "duration": 0.395249,
     "end_time": "2024-11-25T06:08:34.475870",
     "exception": false,
     "start_time": "2024-11-25T06:08:34.080621",
     "status": "completed"
    },
    "tags": [],
    "vscode": {
     "languageId": "r"
    }
   },
   "outputs": [],
   "source": [
    "gene_sec = rownames(datax$sc_exp)\n",
    "\n",
    "for(i in 1:length(cell_type)){\n",
    "\n",
    "  TRUE_F[[i]] = TRUE_F[[i]][gene_sec,colnames(datax$spot_exp )]\n",
    "\n",
    "}\n",
    "\n",
    "\n",
    "saveRDS(TRUE_F, file =\"./results/FISH+/True_cell_exp.RDS\")"
   ]
  },
  {
   "cell_type": "markdown",
   "id": "a3bad22f",
   "metadata": {
    "papermill": {
     "duration": 0.006496,
     "end_time": "2024-11-25T06:08:34.494858",
     "exception": false,
     "start_time": "2024-11-25T06:08:34.488362",
     "status": "completed"
    },
    "tags": []
   },
   "source": [
    "## Step 2: construct spatial correlation structures"
   ]
  },
  {
   "cell_type": "code",
   "execution_count": 9,
   "id": "7274e0a5",
   "metadata": {
    "execution": {
     "iopub.execute_input": "2024-11-25T06:08:34.508911Z",
     "iopub.status.busy": "2024-11-25T06:08:34.508062Z",
     "iopub.status.idle": "2024-11-25T06:10:46.500889Z",
     "shell.execute_reply": "2024-11-25T06:10:46.497917Z"
    },
    "papermill": {
     "duration": 132.002782,
     "end_time": "2024-11-25T06:10:46.503722",
     "exception": false,
     "start_time": "2024-11-25T06:08:34.500940",
     "status": "completed"
    },
    "tags": [],
    "vscode": {
     "languageId": "r"
    }
   },
   "outputs": [
    {
     "name": "stdout",
     "output_type": "stream",
     "text": [
      "Construct spatial correlation \n"
     ]
    }
   ],
   "source": [
    "cat(\"Construct spatial correlation\", \"\\n\")\n",
    "L.mat = dis_weight(spot_loc = datax$spot_loc, spot_exp = datax$spot_exp, k = 4, \n",
    "                   quantile_prob_bandwidth = 1/3, method = \"Square\", \n",
    "                   coord_type = \"grid\")"
   ]
  },
  {
   "cell_type": "markdown",
   "id": "4b75c478",
   "metadata": {
    "papermill": {
     "duration": 0.006688,
     "end_time": "2024-11-25T06:10:46.521994",
     "exception": false,
     "start_time": "2024-11-25T06:10:46.515306",
     "status": "completed"
    },
    "tags": []
   },
   "source": [
    "## Step 3: construct reference gene matrix"
   ]
  },
  {
   "cell_type": "code",
   "execution_count": 10,
   "id": "5506e475",
   "metadata": {
    "execution": {
     "iopub.execute_input": "2024-11-25T06:10:46.537233Z",
     "iopub.status.busy": "2024-11-25T06:10:46.535990Z",
     "iopub.status.idle": "2024-11-25T06:10:47.465219Z",
     "shell.execute_reply": "2024-11-25T06:10:47.464059Z"
    },
    "papermill": {
     "duration": 0.940014,
     "end_time": "2024-11-25T06:10:47.468268",
     "exception": false,
     "start_time": "2024-11-25T06:10:46.528254",
     "status": "completed"
    },
    "tags": [],
    "vscode": {
     "languageId": "r"
    }
   },
   "outputs": [
    {
     "name": "stdout",
     "output_type": "stream",
     "text": [
      "Construct reference gene matrix \n"
     ]
    },
    {
     "data": {
      "text/html": [
       "<style>\n",
       ".list-inline {list-style: none; margin:0; padding: 0}\n",
       ".list-inline>li {display: inline-block}\n",
       ".list-inline>li:not(:last-child)::after {content: \"\\00b7\"; padding: 0 .5ex}\n",
       "</style>\n",
       "<ol class=list-inline><li>'astrocytes'</li><li>'endo_mural'</li><li>'eNeuron'</li><li>'iNeuron'</li><li>'microglia'</li><li>'Olig'</li></ol>\n"
      ],
      "text/latex": [
       "\\begin{enumerate*}\n",
       "\\item 'astrocytes'\n",
       "\\item 'endo\\_mural'\n",
       "\\item 'eNeuron'\n",
       "\\item 'iNeuron'\n",
       "\\item 'microglia'\n",
       "\\item 'Olig'\n",
       "\\end{enumerate*}\n"
      ],
      "text/markdown": [
       "1. 'astrocytes'\n",
       "2. 'endo_mural'\n",
       "3. 'eNeuron'\n",
       "4. 'iNeuron'\n",
       "5. 'microglia'\n",
       "6. 'Olig'\n",
       "\n",
       "\n"
      ],
      "text/plain": [
       "[1] \"astrocytes\" \"endo_mural\" \"eNeuron\"    \"iNeuron\"    \"microglia\" \n",
       "[6] \"Olig\"      "
      ]
     },
     "metadata": {},
     "output_type": "display_data"
    }
   ],
   "source": [
    "\n",
    "cat(\"Construct reference gene matrix\", \"\\n\")\n",
    "\n",
    "ref_exp = create_group_exp(sc_exp = datax$sc_exp, sc_label = datax$sc_label)\n",
    "\n",
    "\n",
    "ref_exp = ref_exp[rownames(datax$spot_exp), cell_type]\n",
    "colnames(ref_exp )\n",
    "\n",
    "beta.type = beta.type[colnames(datax$spot_exp),]\n"
   ]
  },
  {
   "cell_type": "code",
   "execution_count": 11,
   "id": "1525249d",
   "metadata": {
    "execution": {
     "iopub.execute_input": "2024-11-25T06:10:47.487908Z",
     "iopub.status.busy": "2024-11-25T06:10:47.487016Z",
     "iopub.status.idle": "2024-11-25T06:10:47.601285Z",
     "shell.execute_reply": "2024-11-25T06:10:47.600076Z"
    },
    "papermill": {
     "duration": 0.125065,
     "end_time": "2024-11-25T06:10:47.604262",
     "exception": false,
     "start_time": "2024-11-25T06:10:47.479197",
     "status": "completed"
    },
    "tags": [],
    "vscode": {
     "languageId": "r"
    }
   },
   "outputs": [
    {
     "data": {
      "text/html": [
       "6471"
      ],
      "text/latex": [
       "6471"
      ],
      "text/markdown": [
       "6471"
      ],
      "text/plain": [
       "[1] 6471"
      ]
     },
     "metadata": {},
     "output_type": "display_data"
    }
   ],
   "source": [
    "p = nrow(datax$spot_exp)\n",
    "p\n",
    "K = ncol(beta.type)\n",
    "beta.ind.temp = beta.type>0.05\n",
    "beta.ind =  matrix(list(), K ,1)\n",
    "for (i in 1:K){\n",
    "  \n",
    "  beta.ind[[i]] =  matrix( rep(beta.ind.temp[,i],p), nrow = p, byrow = TRUE)\n",
    "}\n",
    "\n",
    "\n",
    "saveRDS(beta.ind, file =\"./results/FISH+/cell_prop_indx.RDS\")"
   ]
  },
  {
   "cell_type": "markdown",
   "id": "3b985cf7",
   "metadata": {
    "papermill": {
     "duration": 0.006768,
     "end_time": "2024-11-25T06:10:47.623642",
     "exception": false,
     "start_time": "2024-11-25T06:10:47.616874",
     "status": "completed"
    },
    "tags": []
   },
   "source": [
    "## Step 4: run the main model\n",
    "### Step 4-1: run the main model with true cell type proportion"
   ]
  },
  {
   "cell_type": "code",
   "execution_count": 12,
   "id": "03cf304f",
   "metadata": {
    "execution": {
     "iopub.execute_input": "2024-11-25T06:10:47.638782Z",
     "iopub.status.busy": "2024-11-25T06:10:47.637867Z",
     "iopub.status.idle": "2024-11-25T06:10:47.649750Z",
     "shell.execute_reply": "2024-11-25T06:10:47.648716Z"
    },
    "papermill": {
     "duration": 0.020672,
     "end_time": "2024-11-25T06:10:47.650974",
     "exception": false,
     "start_time": "2024-11-25T06:10:47.630302",
     "status": "completed"
    },
    "tags": [],
    "vscode": {
     "languageId": "r"
    }
   },
   "outputs": [],
   "source": [
    "source(\"./code/STged.R\")\n"
   ]
  },
  {
   "cell_type": "code",
   "execution_count": 13,
   "id": "10ae6b16",
   "metadata": {
    "execution": {
     "iopub.execute_input": "2024-11-25T06:10:47.666023Z",
     "iopub.status.busy": "2024-11-25T06:10:47.665149Z",
     "iopub.status.idle": "2024-11-25T06:11:31.498856Z",
     "shell.execute_reply": "2024-11-25T06:11:31.497717Z"
    },
    "papermill": {
     "duration": 43.844212,
     "end_time": "2024-11-25T06:11:31.501661",
     "exception": false,
     "start_time": "2024-11-25T06:10:47.657449",
     "status": "completed"
    },
    "tags": [],
    "vscode": {
     "languageId": "r"
    }
   },
   "outputs": [
    {
     "name": "stdout",
     "output_type": "stream",
     "text": [
      "We will adpote a value for lambda 1 in our algorithm... \n",
      "Select value of lambda1 0.03392335 \n",
      "tuning for lambda 2 in our algorithm... \n",
      "Select value of lambda2 0.1279606 \n",
      "Run the main algorithm... \n"
     ]
    },
    {
     "name": "stdout",
     "output_type": "stream",
     "text": [
      "We will adpote a value for lambda 1 in our algorithm... \n",
      "Select value of lambda1 0.03392335 \n",
      "Select value of lambda2 0 \n",
      "Run the main algorithm... \n"
     ]
    },
    {
     "name": "stdout",
     "output_type": "stream",
     "text": [
      "Select value of lambda1 0 \n",
      "tuning for lambda 2 in our algorithm... \n",
      "Select value of lambda2 0.1279606 \n",
      "Run the main algorithm... \n"
     ]
    },
    {
     "name": "stdout",
     "output_type": "stream",
     "text": [
      "Select value of lambda1 0 \n",
      "Select value of lambda2 0 \n",
      "Run the main algorithm... \n"
     ]
    }
   ],
   "source": [
    "\n",
    "start_time <- Sys.time()\n",
    "\n",
    "if (!file.exists(\"./results/FISH+/True_stged.RDS\")) {\n",
    "  stged.est.true <- MUR.STged(\n",
    "    srt_exp = datax$spot_exp, \n",
    "    ref_exp = ref_exp, \n",
    "    beta.type = beta.type, \n",
    "    W = L.mat$weight_adj, \n",
    "    lambda1 = NULL, \n",
    "    lambda2 = NULL, \n",
    "    cutoff = 0.05, \n",
    "    epsilon = 1e-5\n",
    "  )\n",
    "  \n",
    "  saveRDS(stged.est.true, file = \"./results/FISH+/True_stged.RDS\")\n",
    "} else {\n",
    "\n",
    "  stged.est.true <- readRDS(\"./results/FISH+/True_stged.RDS\")\n",
    "}\n",
    "\n",
    "end_time <- Sys.time()\n",
    "\n",
    "\n",
    "reg1 <- TRUE\n",
    "\n",
    "if (reg1 && !file.exists(\"./results/FISH+/True_stged_reg1.RDS\")) {\n",
    "  stged.est.reg1 <- MUR.STged(\n",
    "    srt_exp = datax$spot_exp, \n",
    "    ref_exp = ref_exp, \n",
    "    beta.type = beta.type, \n",
    "    W = L.mat$weight_adj, \n",
    "    lambda1 = NULL, \n",
    "    lambda2 = 0, \n",
    "    cutoff = 0.05, \n",
    "    epsilon = 1e-5\n",
    "  )\n",
    "  \n",
    "  saveRDS(stged.est.reg1, file = \"./results/FISH+/True_stged_reg1.RDS\")\n",
    "} else {\n",
    "\n",
    "  stged.est.reg1 <- readRDS(\"./results/FISH+/True_stged_reg1.RDS\")\n",
    "}\n",
    "\n",
    "\n",
    "reg2 <- TRUE\n",
    "if (reg2 && !file.exists(\"./results/FISH+/True_stged_reg2.RDS\")) {\n",
    "  stged.est.reg2 <- MUR.STged(\n",
    "    srt_exp = datax$spot_exp, \n",
    "    ref_exp = ref_exp, \n",
    "    beta.type = beta.type, \n",
    "    W = L.mat$weight_adj, \n",
    "    lambda1 = 0, \n",
    "    lambda2 = NULL, \n",
    "    cutoff = 0.05, \n",
    "    epsilon = 1e-5\n",
    "  )\n",
    "\n",
    "  saveRDS(stged.est.reg2, file = \"./results/FISH+/True_stged_reg2.RDS\")\n",
    "} else {\n",
    " \n",
    "  stged.est.reg2 <- readRDS(\"./results/FISH+/True_stged_reg2.RDS\")\n",
    "}\n",
    "\n",
    "\n",
    "\n",
    "reg3 <- TRUE\n",
    "if (reg3 && !file.exists(\"./results/FISH+/True_stged_reg3.RDS\")) {\n",
    "  stged.est.reg3 <- MUR.STged(\n",
    "    srt_exp = datax$spot_exp, \n",
    "    ref_exp = ref_exp, \n",
    "    beta.type = beta.type, \n",
    "    W = L.mat$weight_adj, \n",
    "    lambda1 = 0, \n",
    "    lambda2 = 0, \n",
    "    cutoff = 0.05, \n",
    "    epsilon = 1e-5\n",
    "  )\n",
    "\n",
    "  saveRDS(stged.est.reg3, file = \"./results/FISH+/True_stged_reg3.RDS\")\n",
    "} else {\n",
    " \n",
    "  stged.est.reg3 <- readRDS(\"./results/FISH+/True_stged_reg3.RDS\")\n",
    "}\n"
   ]
  },
  {
   "cell_type": "code",
   "execution_count": 14,
   "id": "3075d998",
   "metadata": {
    "execution": {
     "iopub.execute_input": "2024-11-25T06:11:31.522613Z",
     "iopub.status.busy": "2024-11-25T06:11:31.521717Z",
     "iopub.status.idle": "2024-11-25T06:11:31.531726Z",
     "shell.execute_reply": "2024-11-25T06:11:31.530721Z"
    },
    "papermill": {
     "duration": 0.019367,
     "end_time": "2024-11-25T06:11:31.532934",
     "exception": false,
     "start_time": "2024-11-25T06:11:31.513567",
     "status": "completed"
    },
    "tags": [],
    "vscode": {
     "languageId": "r"
    }
   },
   "outputs": [],
   "source": [
    "# the optial values                      \n",
    "lambda1_opt = stged.est.true$lambda1\n",
    "lambda2_opt = stged.est.true$lambda2"
   ]
  },
  {
   "cell_type": "markdown",
   "id": "f236f46a",
   "metadata": {
    "papermill": {
     "duration": 0.006787,
     "end_time": "2024-11-25T06:11:31.547007",
     "exception": false,
     "start_time": "2024-11-25T06:11:31.540220",
     "status": "completed"
    },
    "tags": []
   },
   "source": [
    "# Run the benchmarking methods"
   ]
  },
  {
   "cell_type": "code",
   "execution_count": 15,
   "id": "81c99a93",
   "metadata": {
    "execution": {
     "iopub.execute_input": "2024-11-25T06:11:31.595953Z",
     "iopub.status.busy": "2024-11-25T06:11:31.595000Z",
     "iopub.status.idle": "2024-11-25T06:11:31.854891Z",
     "shell.execute_reply": "2024-11-25T06:11:31.853566Z"
    },
    "papermill": {
     "duration": 0.270585,
     "end_time": "2024-11-25T06:11:31.856626",
     "exception": false,
     "start_time": "2024-11-25T06:11:31.586041",
     "status": "completed"
    },
    "tags": [],
    "vscode": {
     "languageId": "r"
    }
   },
   "outputs": [],
   "source": [
    "exp_lsr = st_mu_est(srt_exp = datax$spot_exp,  beta= beta.type)\n",
    "\n",
    "exp_sc = sc_mu_est( sc_mu = ref_exp, beta = beta.type)\n",
    "\n",
    "exp_rctd =  RCTDexp( srt_exp = datax$spot_exp, ref_mu = ref_exp,beta = beta.type )\n",
    "\n",
    "exp_spotdecon = spotdecon_est(srt_exp = datax$spot_exp,  beta= beta.type)\n"
   ]
  },
  {
   "cell_type": "code",
   "execution_count": 16,
   "id": "82fc2944",
   "metadata": {
    "execution": {
     "iopub.execute_input": "2024-11-25T06:11:31.874112Z",
     "iopub.status.busy": "2024-11-25T06:11:31.873215Z",
     "iopub.status.idle": "2024-11-25T06:11:32.173498Z",
     "shell.execute_reply": "2024-11-25T06:11:32.172408Z"
    },
    "papermill": {
     "duration": 0.311537,
     "end_time": "2024-11-25T06:11:32.176395",
     "exception": false,
     "start_time": "2024-11-25T06:11:31.864858",
     "status": "completed"
    },
    "tags": [],
    "vscode": {
     "languageId": "r"
    }
   },
   "outputs": [],
   "source": [
    "# Check and save exp_ENIGMA result\n",
    "if (!file.exists(\"./results/FISH+/True_exp_ENIGMA.RDS\")) {\n",
    "  exp_ENIGMA <- ENIGMA_est(\n",
    "    spot_exp = datax_count$spot_exp, \n",
    "    sc_exp = datax_count$sc_exp, \n",
    "    sc_label = datax_count$sc_label, \n",
    "    beta = beta.type )\n",
    "  \n",
    "  # Save the result if computation is performed\n",
    "  saveRDS(exp_ENIGMA, file = \"./results/FISH+/True_exp_ENIGMA.RDS\")\n",
    "} else {\n",
    "  # Load the result if it already exists\n",
    "  exp_ENIGMA <- readRDS(\"./results/FISH+/True_exp_ENIGMA.RDS\")\n",
    "}\n"
   ]
  },
  {
   "cell_type": "code",
   "execution_count": 17,
   "id": "59700038",
   "metadata": {
    "execution": {
     "iopub.execute_input": "2024-11-25T06:11:32.197358Z",
     "iopub.status.busy": "2024-11-25T06:11:32.196487Z",
     "iopub.status.idle": "2024-11-25T06:11:32.495551Z",
     "shell.execute_reply": "2024-11-25T06:11:32.494452Z"
    },
    "papermill": {
     "duration": 0.30896,
     "end_time": "2024-11-25T06:11:32.497216",
     "exception": false,
     "start_time": "2024-11-25T06:11:32.188256",
     "status": "completed"
    },
    "tags": [],
    "vscode": {
     "languageId": "r"
    }
   },
   "outputs": [],
   "source": [
    "# Check and save exp_TCA result\n",
    "if (!file.exists(\"./results/FISH+/True_exp_TCA.RDS\")) {\n",
    "  \n",
    " exp_TCA <- TCA_est(spot_exp  = datax_count$spot_exp, beta= beta.type)\n",
    "  \n",
    "  # Save the result if computation is performed\n",
    "  saveRDS(exp_TCA, file = \"./results/FISH+/True_exp_TCA.RDS\")\n",
    "} else {\n",
    "  # Load the result if it already exists\n",
    "  exp_TCA <- readRDS(\"./results/FISH+/True_exp_TCA.RDS\")\n",
    "}\n"
   ]
  },
  {
   "cell_type": "code",
   "execution_count": 18,
   "id": "5fc25f52",
   "metadata": {
    "execution": {
     "iopub.execute_input": "2024-11-25T06:11:32.520628Z",
     "iopub.status.busy": "2024-11-25T06:11:32.519755Z",
     "iopub.status.idle": "2024-11-25T06:11:37.605962Z",
     "shell.execute_reply": "2024-11-25T06:11:37.604107Z"
    },
    "papermill": {
     "duration": 5.097705,
     "end_time": "2024-11-25T06:11:37.608729",
     "exception": false,
     "start_time": "2024-11-25T06:11:32.511024",
     "status": "completed"
    },
    "tags": [],
    "vscode": {
     "languageId": "r"
    }
   },
   "outputs": [],
   "source": [
    "est_est= list(STged = stged.est.true$V.hat,\n",
    "              STged.reg1 = stged.est.reg1$V.hat,\n",
    "              STged.reg2 =stged.est.reg2$V.hat,\n",
    "              STged.reg3 =stged.est.reg3$V.hat,\n",
    "              RCTD = exp_rctd,\n",
    "              TCA = exp_TCA,\n",
    "              ENIGMA = exp_ENIGMA,\n",
    "              ref_mu = exp_sc,\n",
    "              LSR = exp_lsr,\n",
    "              Spotdecon = exp_spotdecon)\n",
    "\n",
    "files = paste0(\"./results/FISH+/True_spot_decon.RDS\")\n",
    "\n",
    "saveRDS(est_est, file =files)"
   ]
  },
  {
   "cell_type": "markdown",
   "id": "096ca002",
   "metadata": {
    "papermill": {
     "duration": 0.006895,
     "end_time": "2024-11-25T06:11:37.629450",
     "exception": false,
     "start_time": "2024-11-25T06:11:37.622555",
     "status": "completed"
    },
    "tags": []
   },
   "source": [
    "# run with model with estimated cell type proportion"
   ]
  },
  {
   "cell_type": "code",
   "execution_count": 19,
   "id": "1c5a6a25",
   "metadata": {
    "execution": {
     "iopub.execute_input": "2024-11-25T06:11:37.645653Z",
     "iopub.status.busy": "2024-11-25T06:11:37.644739Z",
     "iopub.status.idle": "2024-11-25T06:11:37.681665Z",
     "shell.execute_reply": "2024-11-25T06:11:37.680667Z"
    },
    "papermill": {
     "duration": 0.046221,
     "end_time": "2024-11-25T06:11:37.682900",
     "exception": false,
     "start_time": "2024-11-25T06:11:37.636679",
     "status": "completed"
    },
    "tags": [],
    "vscode": {
     "languageId": "r"
    }
   },
   "outputs": [
    {
     "data": {
      "text/html": [
       "<style>\n",
       ".list-inline {list-style: none; margin:0; padding: 0}\n",
       ".list-inline>li {display: inline-block}\n",
       ".list-inline>li:not(:last-child)::after {content: \"\\00b7\"; padding: 0 .5ex}\n",
       "</style>\n",
       "<ol class=list-inline><li>'CARD'</li><li>'RCTD'</li><li>'SpatialDWLS'</li><li>'SPOTlight'</li><li>'Stereoscope'</li><li>'cell2location'</li><li>'EnDecon'</li><li>'DWLS'</li><li>'SONAR'</li></ol>\n"
      ],
      "text/latex": [
       "\\begin{enumerate*}\n",
       "\\item 'CARD'\n",
       "\\item 'RCTD'\n",
       "\\item 'SpatialDWLS'\n",
       "\\item 'SPOTlight'\n",
       "\\item 'Stereoscope'\n",
       "\\item 'cell2location'\n",
       "\\item 'EnDecon'\n",
       "\\item 'DWLS'\n",
       "\\item 'SONAR'\n",
       "\\end{enumerate*}\n"
      ],
      "text/markdown": [
       "1. 'CARD'\n",
       "2. 'RCTD'\n",
       "3. 'SpatialDWLS'\n",
       "4. 'SPOTlight'\n",
       "5. 'Stereoscope'\n",
       "6. 'cell2location'\n",
       "7. 'EnDecon'\n",
       "8. 'DWLS'\n",
       "9. 'SONAR'\n",
       "\n",
       "\n"
      ],
      "text/plain": [
       "[1] \"CARD\"          \"RCTD\"          \"SpatialDWLS\"   \"SPOTlight\"    \n",
       "[5] \"Stereoscope\"   \"cell2location\" \"EnDecon\"       \"DWLS\"         \n",
       "[9] \"SONAR\"        "
      ]
     },
     "metadata": {},
     "output_type": "display_data"
    }
   ],
   "source": [
    "## cell type proportion predected from the proposed cell type deconvolution methods\n",
    "res_decon_ct = readRDS(\"./realdata/FISH+/EnDecon_major/FISH_Results.Deconv.RDS\")\n",
    "names(res_decon_ct)"
   ]
  },
  {
   "cell_type": "code",
   "execution_count": 20,
   "id": "9f7d871e",
   "metadata": {
    "execution": {
     "iopub.execute_input": "2024-11-25T06:11:37.699001Z",
     "iopub.status.busy": "2024-11-25T06:11:37.698136Z",
     "iopub.status.idle": "2024-11-25T06:11:37.707167Z",
     "shell.execute_reply": "2024-11-25T06:11:37.706216Z"
    },
    "papermill": {
     "duration": 0.018071,
     "end_time": "2024-11-25T06:11:37.708366",
     "exception": false,
     "start_time": "2024-11-25T06:11:37.690295",
     "status": "completed"
    },
    "tags": [],
    "vscode": {
     "languageId": "r"
    }
   },
   "outputs": [],
   "source": [
    "beta.est = res_decon_ct$EnDecon\n",
    "beta.type.RCTD = res_decon_ct$RCTD\n",
    "## use the esimated cell type proprotion"
   ]
  },
  {
   "cell_type": "code",
   "execution_count": 21,
   "id": "1fb62e48",
   "metadata": {
    "execution": {
     "iopub.execute_input": "2024-11-25T06:11:37.724709Z",
     "iopub.status.busy": "2024-11-25T06:11:37.723851Z",
     "iopub.status.idle": "2024-11-25T06:11:37.731359Z",
     "shell.execute_reply": "2024-11-25T06:11:37.730387Z"
    },
    "papermill": {
     "duration": 0.016848,
     "end_time": "2024-11-25T06:11:37.732541",
     "exception": false,
     "start_time": "2024-11-25T06:11:37.715693",
     "status": "completed"
    },
    "tags": [],
    "vscode": {
     "languageId": "r"
    }
   },
   "outputs": [],
   "source": [
    "## use the esimated cell type proprotion\n",
    "beta.type = beta.est"
   ]
  },
  {
   "cell_type": "code",
   "execution_count": 22,
   "id": "2906e049",
   "metadata": {
    "execution": {
     "iopub.execute_input": "2024-11-25T06:11:37.749087Z",
     "iopub.status.busy": "2024-11-25T06:11:37.748240Z",
     "iopub.status.idle": "2024-11-25T06:12:19.234512Z",
     "shell.execute_reply": "2024-11-25T06:12:19.233109Z"
    },
    "papermill": {
     "duration": 41.496744,
     "end_time": "2024-11-25T06:12:19.236949",
     "exception": false,
     "start_time": "2024-11-25T06:11:37.740205",
     "status": "completed"
    },
    "tags": [],
    "vscode": {
     "languageId": "r"
    }
   },
   "outputs": [
    {
     "name": "stdout",
     "output_type": "stream",
     "text": [
      "We will adpote a value for lambda 1 in our algorithm... \n",
      "Select value of lambda1 0.1476556 \n",
      "tuning for lambda 2 in our algorithm... \n",
      "Select value of lambda2 0.1279606 \n",
      "Run the main algorithm... \n"
     ]
    },
    {
     "name": "stdout",
     "output_type": "stream",
     "text": [
      "We will adpote a value for lambda 1 in our algorithm... \n",
      "Select value of lambda1 0.1476556 \n",
      "Select value of lambda2 0 \n",
      "Run the main algorithm... \n"
     ]
    },
    {
     "name": "stdout",
     "output_type": "stream",
     "text": [
      "Select value of lambda1 0 \n",
      "tuning for lambda 2 in our algorithm... \n",
      "Select value of lambda2 0.1279606 \n",
      "Run the main algorithm... \n"
     ]
    },
    {
     "name": "stdout",
     "output_type": "stream",
     "text": [
      "Select value of lambda1 0 \n",
      "Select value of lambda2 0 \n",
      "Run the main algorithm... \n"
     ]
    }
   ],
   "source": [
    " \n",
    "start_time <- Sys.time()\n",
    "\n",
    "if (!file.exists(\"./results/FISH+/EST_stged.RDS\")) {\n",
    "  stged.est.true <- MUR.STged(\n",
    "    srt_exp = datax$spot_exp, \n",
    "    ref_exp = ref_exp, \n",
    "    beta.type = beta.type, \n",
    "    W = L.mat$weight_adj, \n",
    "    lambda1 = NULL, \n",
    "    lambda2 = NULL, \n",
    "    cutoff = 0.05, \n",
    "    epsilon = 1e-5\n",
    "  )\n",
    "  \n",
    "  saveRDS(stged.est.true, file = \"./results/FISH+/EST_stged.RDS\")\n",
    "} else {\n",
    "\n",
    "  stged.est.true <- readRDS(\"./results/FISH+/EST_stged.RDS\")\n",
    "}\n",
    "\n",
    "end_time <- Sys.time()\n",
    "\n",
    "\n",
    "reg1 <- TRUE\n",
    "\n",
    "if (reg1 && !file.exists(\"./results/FISH+/EST_stged_reg1.RDS\")) {\n",
    "  stged.est.reg1 <- MUR.STged(\n",
    "    srt_exp = datax$spot_exp, \n",
    "    ref_exp = ref_exp, \n",
    "    beta.type = beta.type, \n",
    "    W = L.mat$weight_adj, \n",
    "    lambda1 = NULL, \n",
    "    lambda2 = 0, \n",
    "    cutoff = 0.05, \n",
    "    epsilon = 1e-5\n",
    "  )\n",
    "  \n",
    "  saveRDS(stged.est.reg1, file = \"./results/FISH+/EST_stged_reg1.RDS\")\n",
    "} else {\n",
    "\n",
    "  stged.est.reg1 <- readRDS(\"./results/FISH+/EST_stged_reg1.RDS\")\n",
    "}\n",
    "\n",
    "\n",
    "reg2 <- TRUE\n",
    "if (reg2 && !file.exists(\"./results/FISH+/EST_stged_reg2.RDS\")) {\n",
    "  stged.est.reg2 <- MUR.STged(\n",
    "    srt_exp = datax$spot_exp, \n",
    "    ref_exp = ref_exp, \n",
    "    beta.type = beta.type, \n",
    "    W = L.mat$weight_adj, \n",
    "    lambda1 = 0, \n",
    "    lambda2 = NULL, \n",
    "    cutoff = 0.05, \n",
    "    epsilon = 1e-5\n",
    "  )\n",
    "\n",
    "  saveRDS(stged.est.reg2, file = \"./results/FISH+/EST_stged_reg2.RDS\")\n",
    "} else {\n",
    " \n",
    "  stged.est.reg2 <- readRDS(\"./results/FISH+/EST_stged_reg2.RDS\")\n",
    "}\n",
    "\n",
    "\n",
    "reg3 <- TRUE\n",
    "if (reg3 && !file.exists(\"./results/FISH+/EST_stged_reg3.RDS\")) {\n",
    "  stged.est.reg3 <- MUR.STged(\n",
    "    srt_exp = datax$spot_exp, \n",
    "    ref_exp = ref_exp, \n",
    "    beta.type = beta.type, \n",
    "    W = L.mat$weight_adj, \n",
    "    lambda1 = 0, \n",
    "    lambda2 = 0, \n",
    "    cutoff = 0.05, \n",
    "    epsilon = 1e-5\n",
    "  )\n",
    "\n",
    "  saveRDS(stged.est.reg3, file = \"./results/FISH+/EST_stged_reg3.RDS\")\n",
    "} else {\n",
    " \n",
    "  stged.est.reg3 <- readRDS(\"./results/FISH+/EST_stged_reg3.RDS\")\n",
    "}"
   ]
  },
  {
   "cell_type": "code",
   "execution_count": 23,
   "id": "5abd8b1d",
   "metadata": {
    "execution": {
     "iopub.execute_input": "2024-11-25T06:12:19.259020Z",
     "iopub.status.busy": "2024-11-25T06:12:19.257992Z",
     "iopub.status.idle": "2024-11-25T06:12:19.490769Z",
     "shell.execute_reply": "2024-11-25T06:12:19.489507Z"
    },
    "papermill": {
     "duration": 0.243627,
     "end_time": "2024-11-25T06:12:19.492948",
     "exception": false,
     "start_time": "2024-11-25T06:12:19.249321",
     "status": "completed"
    },
    "tags": [],
    "vscode": {
     "languageId": "r"
    }
   },
   "outputs": [],
   "source": [
    "exp_lsr = st_mu_est(srt_exp = datax$spot_exp,  beta= beta.type )\n",
    "\n",
    "exp_sc = sc_mu_est( sc_mu = ref_exp, beta = beta.type )\n",
    "\n",
    "exp_rctd =  RCTDexp(beta = beta.type.RCTD,  srt_exp = datax$spot_exp, ref_mu = ref_exp )\n",
    "\n",
    "exp_spotdecon = spotdecon_est(srt_exp = datax$spot_exp,  beta= beta.type)\n"
   ]
  },
  {
   "cell_type": "code",
   "execution_count": 24,
   "id": "c5918752",
   "metadata": {
    "execution": {
     "iopub.execute_input": "2024-11-25T06:12:19.515606Z",
     "iopub.status.busy": "2024-11-25T06:12:19.514713Z",
     "iopub.status.idle": "2024-11-25T06:12:19.769862Z",
     "shell.execute_reply": "2024-11-25T06:12:19.768852Z"
    },
    "papermill": {
     "duration": 0.266243,
     "end_time": "2024-11-25T06:12:19.772578",
     "exception": false,
     "start_time": "2024-11-25T06:12:19.506335",
     "status": "completed"
    },
    "tags": [],
    "vscode": {
     "languageId": "r"
    }
   },
   "outputs": [],
   "source": [
    "# Check and save exp_ENIGMA result\n",
    "if (!file.exists(\"./results/FISH+/EST_exp_ENIGMA.RDS\")) {\n",
    " exp_ENIGMA = ENIGMA_est(spot_exp  = datax_count$spot_exp, \n",
    " sc_exp = datax_count$sc_exp, sc_label=datax_count$sc_label, \n",
    "  beta= NULL)\n",
    "\n",
    "  # Save the result if computation is performed\n",
    "  saveRDS(exp_ENIGMA, file = \"./results/FISH+/EST_exp_ENIGMA.RDS\")\n",
    "} else {\n",
    "  # Load the result if it already exists\n",
    "  exp_ENIGMA <- readRDS(\"./results/FISH+/EST_exp_ENIGMA.RDS\")\n",
    "}\n",
    "\n"
   ]
  },
  {
   "cell_type": "code",
   "execution_count": 25,
   "id": "e1493204",
   "metadata": {
    "execution": {
     "iopub.execute_input": "2024-11-25T06:12:19.793697Z",
     "iopub.status.busy": "2024-11-25T06:12:19.792833Z",
     "iopub.status.idle": "2024-11-25T06:12:20.101646Z",
     "shell.execute_reply": "2024-11-25T06:12:20.100497Z"
    },
    "papermill": {
     "duration": 0.319479,
     "end_time": "2024-11-25T06:12:20.103833",
     "exception": false,
     "start_time": "2024-11-25T06:12:19.784354",
     "status": "completed"
    },
    "tags": [],
    "vscode": {
     "languageId": "r"
    }
   },
   "outputs": [],
   "source": [
    "# Check and save exp_TCA result\n",
    "if (!file.exists(\"./results/FISH+/EST_exp_TCA.RDS\")) {\n",
    "\n",
    "  exp_TCA <- TCA_est(spot_exp  = datax_count$spot_exp, beta= beta.type)\n",
    "  # Save the result if computation is performed\n",
    "  saveRDS(exp_TCA, file =\"./results/FISH+/EST_exp_TCA.RDS\")\n",
    "} else {\n",
    "  # Load the result if it already exists\n",
    "  exp_TCA <- readRDS(\"./results/FISH+/EST_exp_TCA.RDS\")\n",
    "}\n"
   ]
  },
  {
   "cell_type": "code",
   "execution_count": 26,
   "id": "cad4ad03",
   "metadata": {
    "execution": {
     "iopub.execute_input": "2024-11-25T06:12:20.126020Z",
     "iopub.status.busy": "2024-11-25T06:12:20.125082Z",
     "iopub.status.idle": "2024-11-25T06:12:27.502743Z",
     "shell.execute_reply": "2024-11-25T06:12:27.501314Z"
    },
    "papermill": {
     "duration": 7.388526,
     "end_time": "2024-11-25T06:12:27.505281",
     "exception": false,
     "start_time": "2024-11-25T06:12:20.116755",
     "status": "completed"
    },
    "tags": [],
    "vscode": {
     "languageId": "r"
    }
   },
   "outputs": [],
   "source": [
    "est_est= list(STged = stged.est.true$V.hat,\n",
    "              STged.reg1 = stged.est.reg1$V.hat,\n",
    "              STged.reg2 =stged.est.reg2$V.hat,\n",
    "              STged.reg3 =stged.est.reg3$V.hat,\n",
    "              RCTD = exp_rctd,\n",
    "              TCA = exp_TCA,\n",
    "              ENIGMA = exp_ENIGMA,\n",
    "              ref_mu = exp_sc,\n",
    "              LSR = exp_lsr,\n",
    "              Spotdecon = exp_spotdecon)\n",
    "\n",
    "files = paste0(\"./results/FISH+/EST_spot_decon.RDS\")\n",
    "\n",
    "saveRDS(est_est, file =files)"
   ]
  },
  {
   "cell_type": "markdown",
   "id": "3d2da65b",
   "metadata": {
    "papermill": {
     "duration": 0.007112,
     "end_time": "2024-11-25T06:12:27.526398",
     "exception": false,
     "start_time": "2024-11-25T06:12:27.519286",
     "status": "completed"
    },
    "tags": []
   },
   "source": [
    "Sensitive analysis"
   ]
  },
  {
   "cell_type": "code",
   "execution_count": 27,
   "id": "9ec18ee3",
   "metadata": {
    "execution": {
     "iopub.execute_input": "2024-11-25T06:12:27.542887Z",
     "iopub.status.busy": "2024-11-25T06:12:27.541915Z",
     "iopub.status.idle": "2024-11-25T06:12:27.551813Z",
     "shell.execute_reply": "2024-11-25T06:12:27.550724Z"
    },
    "papermill": {
     "duration": 0.01989,
     "end_time": "2024-11-25T06:12:27.553270",
     "exception": false,
     "start_time": "2024-11-25T06:12:27.533380",
     "status": "completed"
    },
    "tags": [],
    "vscode": {
     "languageId": "r"
    }
   },
   "outputs": [],
   "source": [
    "beta.type = sim_data$beta.type\n",
    "beta.type = beta.type[colnames(datax$spot_exp),]"
   ]
  },
  {
   "cell_type": "code",
   "execution_count": 28,
   "id": "5b726e5c",
   "metadata": {
    "execution": {
     "iopub.execute_input": "2024-11-25T06:12:27.569596Z",
     "iopub.status.busy": "2024-11-25T06:12:27.568651Z",
     "iopub.status.idle": "2024-11-25T06:20:59.346874Z",
     "shell.execute_reply": "2024-11-25T06:20:59.344632Z"
    },
    "papermill": {
     "duration": 511.789149,
     "end_time": "2024-11-25T06:20:59.349565",
     "exception": false,
     "start_time": "2024-11-25T06:12:27.560416",
     "status": "completed"
    },
    "tags": [],
    "vscode": {
     "languageId": "r"
    }
   },
   "outputs": [
    {
     "name": "stdout",
     "output_type": "stream",
     "text": [
      "Run the STged \n",
      "Select value of lambda1 0 \n",
      "Select value of lambda2 0 \n",
      "Run the main algorithm... \n",
      "Run time of STged 2.405775 \n",
      "Run the STged \n",
      "Select value of lambda1 0.001 \n",
      "Select value of lambda2 0 \n",
      "Run the main algorithm... \n",
      "Run time of STged 20.48735 \n",
      "Run the STged \n",
      "Select value of lambda1 0.01 \n",
      "Select value of lambda2 0 \n",
      "Run the main algorithm... \n",
      "Run time of STged 23.13423 \n",
      "Run the STged \n",
      "Select value of lambda1 0.03392335 \n",
      "Select value of lambda2 0 \n",
      "Run the main algorithm... \n",
      "Run time of STged 17.93713 \n",
      "Run the STged \n",
      "Select value of lambda1 1 \n",
      "Select value of lambda2 0 \n",
      "Run the main algorithm... \n",
      "Run time of STged 17.23093 \n",
      "Run the STged \n",
      "Select value of lambda1 5 \n",
      "Select value of lambda2 0 \n",
      "Run the main algorithm... \n",
      "Run time of STged 14.76403 \n",
      "Run the STged \n",
      "Select value of lambda1 10 \n",
      "Select value of lambda2 0 \n",
      "Run the main algorithm... \n",
      "Run time of STged 16.84983 \n",
      "Run the STged \n",
      "Select value of lambda1 0 \n",
      "Select value of lambda2 0.001 \n",
      "Run the main algorithm... \n",
      "Run time of STged 1.973293 \n",
      "Run the STged \n",
      "Select value of lambda1 0.001 \n",
      "Select value of lambda2 0.001 \n",
      "Run the main algorithm... \n",
      "Run time of STged 4.000788 \n",
      "Run the STged \n",
      "Select value of lambda1 0.01 \n",
      "Select value of lambda2 0.001 \n",
      "Run the main algorithm... \n",
      "Run time of STged 17.44116 \n",
      "Run the STged \n",
      "Select value of lambda1 0.03392335 \n",
      "Select value of lambda2 0.001 \n",
      "Run the main algorithm... \n",
      "Run time of STged 19.11479 \n",
      "Run the STged \n",
      "Select value of lambda1 1 \n",
      "Select value of lambda2 0.001 \n",
      "Run the main algorithm... \n",
      "Run time of STged 17.12362 \n",
      "Run the STged \n",
      "Select value of lambda1 5 \n",
      "Select value of lambda2 0.001 \n",
      "Run the main algorithm... \n",
      "Run time of STged 14.59095 \n",
      "Run the STged \n",
      "Select value of lambda1 10 \n",
      "Select value of lambda2 0.001 \n",
      "Run the main algorithm... \n",
      "Run time of STged 17.06569 \n",
      "Run the STged \n",
      "Select value of lambda1 0 \n",
      "Select value of lambda2 0.01 \n",
      "Run the main algorithm... \n",
      "Run time of STged 2.447464 \n",
      "Run the STged \n",
      "Select value of lambda1 0.001 \n",
      "Select value of lambda2 0.01 \n",
      "Run the main algorithm... \n",
      "Run time of STged 2.156034 \n",
      "Run the STged \n",
      "Select value of lambda1 0.01 \n",
      "Select value of lambda2 0.01 \n",
      "Run the main algorithm... \n",
      "Run time of STged 4.430724 \n",
      "Run the STged \n",
      "Select value of lambda1 0.03392335 \n",
      "Select value of lambda2 0.01 \n",
      "Run the main algorithm... \n",
      "Run time of STged 17.39951 \n",
      "Run the STged \n",
      "Select value of lambda1 1 \n",
      "Select value of lambda2 0.01 \n",
      "Run the main algorithm... \n",
      "Run time of STged 20.75757 \n",
      "Run the STged \n",
      "Select value of lambda1 5 \n",
      "Select value of lambda2 0.01 \n",
      "Run the main algorithm... \n",
      "Run time of STged 18.21108 \n",
      "Run the STged \n",
      "Select value of lambda1 10 \n",
      "Select value of lambda2 0.01 \n",
      "Run the main algorithm... \n",
      "Run time of STged 21.01277 \n",
      "Run the STged \n",
      "Select value of lambda1 0 \n",
      "Select value of lambda2 0.1279606 \n",
      "Run the main algorithm... \n",
      "Run time of STged 6.475096 \n",
      "Run the STged \n",
      "Select value of lambda1 0.001 \n",
      "Select value of lambda2 0.1279606 \n",
      "Run the main algorithm... \n",
      "Run time of STged 5.544775 \n",
      "Run the STged \n",
      "Select value of lambda1 0.01 \n",
      "Select value of lambda2 0.1279606 \n",
      "Run the main algorithm... \n",
      "Run time of STged 7.240251 \n",
      "Run the STged \n",
      "Select value of lambda1 0.03392335 \n",
      "Select value of lambda2 0.1279606 \n",
      "Run the main algorithm... \n",
      "Run time of STged 7.432379 \n",
      "Run the STged \n",
      "Select value of lambda1 1 \n",
      "Select value of lambda2 0.1279606 \n",
      "Run the main algorithm... \n",
      "Run time of STged 25.28829 \n",
      "Run the STged \n",
      "Select value of lambda1 5 \n",
      "Select value of lambda2 0.1279606 \n",
      "Run the main algorithm... \n",
      "Run time of STged 15.69865 \n",
      "Run the STged \n",
      "Select value of lambda1 10 \n",
      "Select value of lambda2 0.1279606 \n",
      "Run the main algorithm... \n",
      "Run time of STged 15.35335 \n",
      "Run the STged \n",
      "Select value of lambda1 0 \n",
      "Select value of lambda2 1 \n",
      "Run the main algorithm... \n",
      "Run time of STged 3.153542 \n",
      "Run the STged \n",
      "Select value of lambda1 0.001 \n",
      "Select value of lambda2 1 \n",
      "Run the main algorithm... \n",
      "Run time of STged 6.095573 \n",
      "Run the STged \n",
      "Select value of lambda1 0.01 \n",
      "Select value of lambda2 1 \n",
      "Run the main algorithm... \n",
      "Run time of STged 6.071076 \n",
      "Run the STged \n",
      "Select value of lambda1 0.03392335 \n",
      "Select value of lambda2 1 \n",
      "Run the main algorithm... \n",
      "Run time of STged 3.657583 \n",
      "Run the STged \n",
      "Select value of lambda1 1 \n",
      "Select value of lambda2 1 \n",
      "Run the main algorithm... \n",
      "Run time of STged 5.791655 \n",
      "Run the STged \n",
      "Select value of lambda1 5 \n",
      "Select value of lambda2 1 \n",
      "Run the main algorithm... \n",
      "Run time of STged 15.25858 \n",
      "Run the STged \n",
      "Select value of lambda1 10 \n",
      "Select value of lambda2 1 \n",
      "Run the main algorithm... \n",
      "Run time of STged 15.19209 \n",
      "Run the STged \n",
      "Select value of lambda1 0 \n",
      "Select value of lambda2 5 \n",
      "Run the main algorithm... \n",
      "Run time of STged 1.916972 \n",
      "Run the STged \n",
      "Select value of lambda1 0.001 \n",
      "Select value of lambda2 5 \n",
      "Run the main algorithm... \n",
      "Run time of STged 1.277411 \n",
      "Run the STged \n",
      "Select value of lambda1 0.01 \n",
      "Select value of lambda2 5 \n",
      "Run the main algorithm... \n",
      "Run time of STged 1.271718 \n",
      "Run the STged \n",
      "Select value of lambda1 0.03392335 \n",
      "Select value of lambda2 5 \n",
      "Run the main algorithm... \n",
      "Run time of STged 1.269035 \n",
      "Run the STged \n",
      "Select value of lambda1 1 \n",
      "Select value of lambda2 5 \n",
      "Run the main algorithm... \n",
      "Run time of STged 2.995442 \n",
      "Run the STged \n",
      "Select value of lambda1 5 \n",
      "Select value of lambda2 5 \n",
      "Run the main algorithm... \n",
      "Run time of STged 8.047184 \n",
      "Run the STged \n",
      "Select value of lambda1 10 \n",
      "Select value of lambda2 5 \n",
      "Run the main algorithm... \n",
      "Run time of STged 13.54865 \n",
      "Run the STged \n",
      "Select value of lambda1 0 \n",
      "Select value of lambda2 10 \n",
      "Run the main algorithm... \n",
      "Run time of STged 1.016131 \n",
      "Run the STged \n",
      "Select value of lambda1 0.001 \n",
      "Select value of lambda2 10 \n",
      "Run the main algorithm... \n",
      "Run time of STged 2.319078 \n",
      "Run the STged \n",
      "Select value of lambda1 0.01 \n",
      "Select value of lambda2 10 \n",
      "Run the main algorithm... \n",
      "Run time of STged 1.592809 \n",
      "Run the STged \n",
      "Select value of lambda1 0.03392335 \n",
      "Select value of lambda2 10 \n",
      "Run the main algorithm... \n",
      "Run time of STged 1.551224 \n",
      "Run the STged \n",
      "Select value of lambda1 1 \n",
      "Select value of lambda2 10 \n",
      "Run the main algorithm... \n",
      "Run time of STged 3.659302 \n",
      "Run the STged \n",
      "Select value of lambda1 5 \n",
      "Select value of lambda2 10 \n",
      "Run the main algorithm... \n",
      "Run time of STged 8.376118 \n",
      "Run the STged \n",
      "Select value of lambda1 10 \n",
      "Select value of lambda2 10 \n",
      "Run the main algorithm... \n",
      "Run time of STged 13.22255 \n"
     ]
    }
   ],
   "source": [
    "lambda_values1 <- c(0,0.001,0.01,lambda1_opt,1,5,10)\n",
    "lambda_values2 <- c(0,0.001,0.01,lambda2_opt ,1,5,10)\n",
    "\n",
    "# Generate all combinations of lambda1 and lambda2 using expand.grid\n",
    "parameter_grid <- expand.grid(lambda1 = lambda_values1, lambda2 = lambda_values2)\n",
    "\n",
    "sens_STged = matrix(list(), nrow(parameter_grid) ,1)\n",
    "for(ii in 1:nrow(parameter_grid)){\n",
    "  \n",
    "  cat(\"Run the STged\", \"\\n\")\n",
    "  \n",
    "  start_time <- Sys.time()\n",
    "  stged.est =MUR.STged(srt_exp = datax$spot_exp, ref_exp = ref_exp, \n",
    "                        beta.type = beta.type,   W = L.mat$weight_adj, \n",
    "                        lambda1 = parameter_grid[ii,1], lambda2 = parameter_grid[ii,2],\n",
    "                        cutoff = 0.05, \n",
    "                        epsilon = 1e-5)\n",
    "\n",
    "  end_time <- Sys.time()\n",
    "  sens_STged[[ii]] = stged.est$V.hat\n",
    "  cat(\"Run time of STged\", end_time - start_time,\"\\n\")\n",
    "\n",
    "}\n",
    "\n",
    "saveRDS(sens_STged, file = \"./results/FISH+/True_spot_decon_sens_VAR.RDS\")\n",
    "\n",
    "saveRDS(parameter_grid, file = paste0(\"./results/FISH+/True_cell_exp_tuning_values_VAR.RDS\"))"
   ]
  },
  {
   "cell_type": "markdown",
   "id": "87969712",
   "metadata": {
    "papermill": {
     "duration": 0.007601,
     "end_time": "2024-11-25T06:20:59.371268",
     "exception": false,
     "start_time": "2024-11-25T06:20:59.363667",
     "status": "completed"
    },
    "tags": []
   },
   "source": [
    "Benchmark cell type proprotions"
   ]
  },
  {
   "cell_type": "code",
   "execution_count": 29,
   "id": "ab94be65",
   "metadata": {
    "execution": {
     "iopub.execute_input": "2024-11-25T06:20:59.388383Z",
     "iopub.status.busy": "2024-11-25T06:20:59.387340Z",
     "iopub.status.idle": "2024-11-25T06:20:59.400166Z",
     "shell.execute_reply": "2024-11-25T06:20:59.399046Z"
    },
    "papermill": {
     "duration": 0.022754,
     "end_time": "2024-11-25T06:20:59.401521",
     "exception": false,
     "start_time": "2024-11-25T06:20:59.378767",
     "status": "completed"
    },
    "tags": [],
    "vscode": {
     "languageId": "r"
    }
   },
   "outputs": [],
   "source": [
    "res_decon_ct = readRDS(\"./realdata/FISH+/EnDecon_major/FISH_Results.Deconv.RDS\")"
   ]
  },
  {
   "cell_type": "code",
   "execution_count": 30,
   "id": "945db06c",
   "metadata": {
    "execution": {
     "iopub.execute_input": "2024-11-25T06:20:59.418484Z",
     "iopub.status.busy": "2024-11-25T06:20:59.417517Z",
     "iopub.status.idle": "2024-11-25T06:20:59.427953Z",
     "shell.execute_reply": "2024-11-25T06:20:59.426856Z"
    },
    "papermill": {
     "duration": 0.020116,
     "end_time": "2024-11-25T06:20:59.429256",
     "exception": false,
     "start_time": "2024-11-25T06:20:59.409140",
     "status": "completed"
    },
    "tags": [],
    "vscode": {
     "languageId": "r"
    }
   },
   "outputs": [
    {
     "data": {
      "text/html": [
       "<style>\n",
       ".list-inline {list-style: none; margin:0; padding: 0}\n",
       ".list-inline>li {display: inline-block}\n",
       ".list-inline>li:not(:last-child)::after {content: \"\\00b7\"; padding: 0 .5ex}\n",
       "</style>\n",
       "<ol class=list-inline><li>69</li><li>6</li></ol>\n"
      ],
      "text/latex": [
       "\\begin{enumerate*}\n",
       "\\item 69\n",
       "\\item 6\n",
       "\\end{enumerate*}\n"
      ],
      "text/markdown": [
       "1. 69\n",
       "2. 6\n",
       "\n",
       "\n"
      ],
      "text/plain": [
       "[1] 69  6"
      ]
     },
     "metadata": {},
     "output_type": "display_data"
    }
   ],
   "source": [
    "dim(res_decon_ct$CARD)"
   ]
  },
  {
   "cell_type": "code",
   "execution_count": 31,
   "id": "cf0e6351",
   "metadata": {
    "execution": {
     "iopub.execute_input": "2024-11-25T06:20:59.447348Z",
     "iopub.status.busy": "2024-11-25T06:20:59.446371Z",
     "iopub.status.idle": "2024-11-25T06:22:19.174355Z",
     "shell.execute_reply": "2024-11-25T06:22:19.172681Z"
    },
    "papermill": {
     "duration": 79.739874,
     "end_time": "2024-11-25T06:22:19.176997",
     "exception": false,
     "start_time": "2024-11-25T06:20:59.437123",
     "status": "completed"
    },
    "tags": [],
    "vscode": {
     "languageId": "r"
    }
   },
   "outputs": [
    {
     "name": "stdout",
     "output_type": "stream",
     "text": [
      "Run the STged CARD \n",
      "We will adpote a value for lambda 1 in our algorithm... \n",
      "Select value of lambda1 0.04661281 \n",
      "tuning for lambda 2 in our algorithm... \n",
      "Select value of lambda2 0.1279606 \n",
      "Run the main algorithm... \n",
      "Run time of STged 4.209988 \n",
      "Run the STged RCTD \n",
      "We will adpote a value for lambda 1 in our algorithm... \n",
      "Select value of lambda1 0.150627 \n",
      "tuning for lambda 2 in our algorithm... \n",
      "Select value of lambda2 0.1279606 \n",
      "Run the main algorithm... \n",
      "Run time of STged 9.309613 \n",
      "Run the STged SpatialDWLS \n",
      "We will adpote a value for lambda 1 in our algorithm... \n",
      "Select value of lambda1 0.0350329 \n",
      "tuning for lambda 2 in our algorithm... \n",
      "Select value of lambda2 0.1279606 \n",
      "Run the main algorithm... \n",
      "Run time of STged 6.242343 \n",
      "Run the STged SPOTlight \n",
      "We will adpote a value for lambda 1 in our algorithm... \n",
      "Select value of lambda1 0.5479117 \n",
      "tuning for lambda 2 in our algorithm... \n",
      "Select value of lambda2 0.1279606 \n",
      "Run the main algorithm... \n",
      "Run time of STged 14.98288 \n",
      "Run the STged Stereoscope \n",
      "We will adpote a value for lambda 1 in our algorithm... \n",
      "Select value of lambda1 0.05402144 \n",
      "tuning for lambda 2 in our algorithm... \n",
      "Select value of lambda2 0.1279606 \n",
      "Run the main algorithm... \n",
      "Run time of STged 1.796425 \n",
      "Run the STged cell2location \n",
      "We will adpote a value for lambda 1 in our algorithm... \n",
      "Select value of lambda1 0.3462073 \n",
      "tuning for lambda 2 in our algorithm... \n",
      "Select value of lambda2 0.1279606 \n",
      "Run the main algorithm... \n",
      "Run time of STged 15.76289 \n",
      "Run the STged EnDecon \n",
      "We will adpote a value for lambda 1 in our algorithm... \n",
      "Select value of lambda1 0.1476556 \n",
      "tuning for lambda 2 in our algorithm... \n",
      "Select value of lambda2 0.1279606 \n",
      "Run the main algorithm... \n",
      "Run time of STged 8.651024 \n",
      "Run the STged DWLS \n",
      "We will adpote a value for lambda 1 in our algorithm... \n",
      "Select value of lambda1 0.06157385 \n",
      "tuning for lambda 2 in our algorithm... \n",
      "Select value of lambda2 0.1279606 \n",
      "Run the main algorithm... \n",
      "Run time of STged 4.66366 \n",
      "Run the STged SONAR \n",
      "We will adpote a value for lambda 1 in our algorithm... \n",
      "Select value of lambda1 0.1520712 \n",
      "tuning for lambda 2 in our algorithm... \n",
      "Select value of lambda2 0.1279606 \n",
      "Run the main algorithm... \n",
      "Run time of STged 7.775319 \n"
     ]
    }
   ],
   "source": [
    "methods = names(res_decon_ct)\n",
    "bench_celltype_STged = matrix(list(), length(methods) ,1)\n",
    "\n",
    "for(ii in 1: length(methods) ){\n",
    "  \n",
    "  cat(\"Run the STged\", methods[ii], \"\\n\")\n",
    "  beta.type.bench = res_decon_ct[[ii]]\n",
    "  start_time <- Sys.time()\n",
    "  stged.est = MUR.STged(srt_exp = datax$spot_exp, ref_exp = ref_exp, \n",
    "                        beta.type = beta.type.bench,   W = L.mat$weight_adj, \n",
    "                        lambda1 = NULL, lambda2 = NULL, cutoff = 0.05, \n",
    "                        epsilon = 1e-5)\n",
    "                    \n",
    "  end_time <- Sys.time()\n",
    "  bench_celltype_STged[[ii]] = stged.est$V.hat\n",
    "  cat(\"Run time of STged\", end_time - start_time,\"\\n\") \n",
    "  \n",
    "}\n",
    "\n",
    "files = paste0(\"./results/FISH+/STged_est_spot_decon_tuning.RDS\")\n",
    "\n",
    "saveRDS(bench_celltype_STged, file =files)"
   ]
  }
 ],
 "metadata": {
  "kernelspec": {
   "display_name": "R",
   "language": "R",
   "name": "ir"
  },
  "language_info": {
   "codemirror_mode": "r",
   "file_extension": ".r",
   "mimetype": "text/x-r-source",
   "name": "R",
   "pygments_lexer": "r",
   "version": "4.4.1"
  },
  "papermill": {
   "default_parameters": {},
   "duration": 885.280882,
   "end_time": "2024-11-25T06:22:22.139075",
   "environment_variables": {},
   "exception": null,
   "input_path": "FISH-count-ref-scRNA_True_prop.ipynb",
   "output_path": "./results/output_FISH-count-ref-scRNA_True_prop-pkg_v2.ipynb",
   "parameters": {},
   "start_time": "2024-11-25T06:07:36.858193",
   "version": "2.3.3"
  }
 },
 "nbformat": 4,
 "nbformat_minor": 5
}