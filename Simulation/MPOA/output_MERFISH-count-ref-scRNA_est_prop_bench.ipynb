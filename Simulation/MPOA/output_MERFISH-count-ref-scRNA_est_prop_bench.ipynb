{
 "cells": [
  {
   "cell_type": "markdown",
   "id": "e67845ac",
   "metadata": {
    "papermill": {
     "duration": 0.011543,
     "end_time": "2024-10-26T11:15:55.048757",
     "exception": false,
     "start_time": "2024-10-26T11:15:55.037214",
     "status": "completed"
    },
    "tags": []
   },
   "source": [
    "**NOTE**: Here we test the robustness of the STged with cell type pro proportion predicted from cell type deconvolution methods. We use results from different cell type deconvolution:\n",
    "EnDecon,RCTD, SONAR, CARD,  Cell2location, or DWLS. \n",
    "##Set the size of the figures"
   ]
  },
  {
   "cell_type": "code",
   "execution_count": 1,
   "id": "cca2a367",
   "metadata": {
    "execution": {
     "iopub.execute_input": "2024-10-26T11:15:55.072719Z",
     "iopub.status.busy": "2024-10-26T11:15:55.068420Z",
     "iopub.status.idle": "2024-10-26T11:16:00.384784Z",
     "shell.execute_reply": "2024-10-26T11:16:00.381370Z"
    },
    "papermill": {
     "duration": 5.330192,
     "end_time": "2024-10-26T11:16:00.388392",
     "exception": false,
     "start_time": "2024-10-26T11:15:55.058200",
     "status": "completed"
    },
    "tags": [],
    "vscode": {
     "languageId": "r"
    }
   },
   "outputs": [],
   "source": [
    "\n",
    "#remove(list = ls())\n",
    "#define the conda env\n",
    "\n",
    "library(reticulate)\n",
    "use_condaenv(\"ccnet\", required = TRUE)"
   ]
  },
  {
   "cell_type": "code",
   "execution_count": 2,
   "id": "1a341d85",
   "metadata": {
    "execution": {
     "iopub.execute_input": "2024-10-26T11:16:00.446580Z",
     "iopub.status.busy": "2024-10-26T11:16:00.409328Z",
     "iopub.status.idle": "2024-10-26T11:16:00.895426Z",
     "shell.execute_reply": "2024-10-26T11:16:00.894228Z"
    },
    "papermill": {
     "duration": 0.499359,
     "end_time": "2024-10-26T11:16:00.897709",
     "exception": false,
     "start_time": "2024-10-26T11:16:00.398350",
     "status": "completed"
    },
    "tags": [],
    "vscode": {
     "languageId": "r"
    }
   },
   "outputs": [],
   "source": [
    "library(ggplot2)\n",
    "library(scatterpie)\n",
    "library(RColorBrewer)"
   ]
  },
  {
   "cell_type": "code",
   "execution_count": 3,
   "id": "4bf5d806",
   "metadata": {
    "execution": {
     "iopub.execute_input": "2024-10-26T11:16:00.918381Z",
     "iopub.status.busy": "2024-10-26T11:16:00.917038Z",
     "iopub.status.idle": "2024-10-26T11:16:00.940005Z",
     "shell.execute_reply": "2024-10-26T11:16:00.938526Z"
    },
    "papermill": {
     "duration": 0.034532,
     "end_time": "2024-10-26T11:16:00.942400",
     "exception": false,
     "start_time": "2024-10-26T11:16:00.907868",
     "status": "completed"
    },
    "tags": [],
    "vscode": {
     "languageId": "r"
    }
   },
   "outputs": [],
   "source": [
    "# Source code\n",
    "source(\"./code/STged.R\")\n",
    "source(\"./code/benchmark.R\")"
   ]
  },
  {
   "cell_type": "code",
   "execution_count": 4,
   "id": "5aa33cad",
   "metadata": {
    "execution": {
     "iopub.execute_input": "2024-10-26T11:16:00.963167Z",
     "iopub.status.busy": "2024-10-26T11:16:00.961757Z",
     "iopub.status.idle": "2024-10-26T11:16:00.980864Z",
     "shell.execute_reply": "2024-10-26T11:16:00.979370Z"
    },
    "papermill": {
     "duration": 0.031172,
     "end_time": "2024-10-26T11:16:00.983273",
     "exception": false,
     "start_time": "2024-10-26T11:16:00.952101",
     "status": "completed"
    },
    "tags": [],
    "vscode": {
     "languageId": "r"
    }
   },
   "outputs": [],
   "source": [
    "colors <- colorRampPalette(brewer.pal(9, \"Set3\"))(12)\n"
   ]
  },
  {
   "cell_type": "markdown",
   "id": "2fb321f9",
   "metadata": {
    "papermill": {
     "duration": 0.00892,
     "end_time": "2024-10-26T11:16:01.002055",
     "exception": false,
     "start_time": "2024-10-26T11:16:00.993135",
     "status": "completed"
    },
    "tags": []
   },
   "source": [
    "# Load data the generated simulated data\n",
    "## For the 50/100 um2\n",
    "i = 1 for the 50 um2\n",
    "i = 2 for the 50 um2"
   ]
  },
  {
   "cell_type": "code",
   "execution_count": 5,
   "id": "2850a220",
   "metadata": {
    "execution": {
     "iopub.execute_input": "2024-10-26T11:16:01.020051Z",
     "iopub.status.busy": "2024-10-26T11:16:01.017997Z",
     "iopub.status.idle": "2024-10-26T11:16:01.470875Z",
     "shell.execute_reply": "2024-10-26T11:16:01.469764Z"
    },
    "papermill": {
     "duration": 0.46417,
     "end_time": "2024-10-26T11:16:01.473752",
     "exception": false,
     "start_time": "2024-10-26T11:16:01.009582",
     "status": "completed"
    },
    "tags": [],
    "vscode": {
     "languageId": "r"
    }
   },
   "outputs": [
    {
     "data": {
      "text/html": [
       "50"
      ],
      "text/latex": [
       "50"
      ],
      "text/markdown": [
       "50"
      ],
      "text/plain": [
       "[1] 50"
      ]
     },
     "metadata": {},
     "output_type": "display_data"
    },
    {
     "name": "stderr",
     "output_type": "stream",
     "text": [
      "Loading required package: hash\n",
      "\n"
     ]
    },
    {
     "name": "stderr",
     "output_type": "stream",
     "text": [
      "hash-2.2.6.3 provided by Decision Patterns\n",
      "\n",
      "\n"
     ]
    },
    {
     "data": {
      "text/html": [
       "<style>\n",
       ".list-inline {list-style: none; margin:0; padding: 0}\n",
       ".list-inline>li {display: inline-block}\n",
       ".list-inline>li:not(:last-child)::after {content: \"\\00b7\"; padding: 0 .5ex}\n",
       "</style>\n",
       "<ol class=list-inline><li>134</li><li>29760</li></ol>\n"
      ],
      "text/latex": [
       "\\begin{enumerate*}\n",
       "\\item 134\n",
       "\\item 29760\n",
       "\\end{enumerate*}\n"
      ],
      "text/markdown": [
       "1. 134\n",
       "2. 29760\n",
       "\n",
       "\n"
      ],
      "text/plain": [
       "[1]   134 29760"
      ]
     },
     "metadata": {},
     "output_type": "display_data"
    },
    {
     "data": {
      "text/html": [
       "29760"
      ],
      "text/latex": [
       "29760"
      ],
      "text/markdown": [
       "29760"
      ],
      "text/plain": [
       "[1] 29760"
      ]
     },
     "metadata": {},
     "output_type": "display_data"
    }
   ],
   "source": [
    "sim_data = readRDS(\"./realdata/MAOP/FN7_hash_mpoa_sim-29_ref01.Rds\")\n",
    "\n",
    "i = 2\n",
    "patch_size = c(100,50)[i]\n",
    "patch_size\n",
    "\n",
    "mpoa = sim_data$mpoa_list[[i]]$`-0.29`\n",
    "\n",
    "\n",
    "# load the referene from scRNA\n",
    "sim_data = readRDS(\"./realdata/MAOP/refscRNA/scRNA_MPOA50k.RDS\")\n",
    "sc_exp = sim_data$scexp\n",
    "sc_label = sim_data$sclabel\n",
    "\n",
    "dim(sc_exp)\n",
    "length(sc_label)"
   ]
  },
  {
   "cell_type": "markdown",
   "id": "d376e061",
   "metadata": {
    "papermill": {
     "duration": 0.008189,
     "end_time": "2024-10-26T11:16:01.493152",
     "exception": false,
     "start_time": "2024-10-26T11:16:01.484963",
     "status": "completed"
    },
    "tags": []
   },
   "source": [
    "sc_label[sc_label==\"Mural\"]=\"Pericytes\"\n",
    "table(sc_label)"
   ]
  },
  {
   "cell_type": "markdown",
   "id": "b2a8acfc",
   "metadata": {
    "papermill": {
     "duration": 0.006493,
     "end_time": "2024-10-26T11:16:01.507220",
     "exception": false,
     "start_time": "2024-10-26T11:16:01.500727",
     "status": "completed"
    },
    "tags": []
   },
   "source": [
    "## The spots location information"
   ]
  },
  {
   "cell_type": "code",
   "execution_count": 6,
   "id": "7cf5d24c",
   "metadata": {
    "execution": {
     "iopub.execute_input": "2024-10-26T11:16:01.522919Z",
     "iopub.status.busy": "2024-10-26T11:16:01.520448Z",
     "iopub.status.idle": "2024-10-26T11:16:01.570785Z",
     "shell.execute_reply": "2024-10-26T11:16:01.569717Z"
    },
    "papermill": {
     "duration": 0.060059,
     "end_time": "2024-10-26T11:16:01.573128",
     "exception": false,
     "start_time": "2024-10-26T11:16:01.513069",
     "status": "completed"
    },
    "tags": [],
    "vscode": {
     "languageId": "r"
    }
   },
   "outputs": [
    {
     "data": {
      "text/html": [
       "<style>\n",
       ".list-inline {list-style: none; margin:0; padding: 0}\n",
       ".list-inline>li {display: inline-block}\n",
       ".list-inline>li:not(:last-child)::after {content: \"\\00b7\"; padding: 0 .5ex}\n",
       "</style>\n",
       "<ol class=list-inline><li>135</li><li>1141</li></ol>\n"
      ],
      "text/latex": [
       "\\begin{enumerate*}\n",
       "\\item 135\n",
       "\\item 1141\n",
       "\\end{enumerate*}\n"
      ],
      "text/markdown": [
       "1. 135\n",
       "2. 1141\n",
       "\n",
       "\n"
      ],
      "text/plain": [
       "[1]  135 1141"
      ]
     },
     "metadata": {},
     "output_type": "display_data"
    },
    {
     "data": {
      "text/html": [
       "<style>\n",
       ".list-inline {list-style: none; margin:0; padding: 0}\n",
       ".list-inline>li {display: inline-block}\n",
       ".list-inline>li:not(:last-child)::after {content: \"\\00b7\"; padding: 0 .5ex}\n",
       "</style>\n",
       "<ol class=list-inline><li>'Astrocyte'</li><li>'Endothelial'</li><li>'Ependymal'</li><li>'Excitatory'</li><li>'Inhibitory'</li><li>'Microglia'</li><li>'OD Immature'</li><li>'OD Mature'</li><li>'Pericytes'</li></ol>\n"
      ],
      "text/latex": [
       "\\begin{enumerate*}\n",
       "\\item 'Astrocyte'\n",
       "\\item 'Endothelial'\n",
       "\\item 'Ependymal'\n",
       "\\item 'Excitatory'\n",
       "\\item 'Inhibitory'\n",
       "\\item 'Microglia'\n",
       "\\item 'OD Immature'\n",
       "\\item 'OD Mature'\n",
       "\\item 'Pericytes'\n",
       "\\end{enumerate*}\n"
      ],
      "text/markdown": [
       "1. 'Astrocyte'\n",
       "2. 'Endothelial'\n",
       "3. 'Ependymal'\n",
       "4. 'Excitatory'\n",
       "5. 'Inhibitory'\n",
       "6. 'Microglia'\n",
       "7. 'OD Immature'\n",
       "8. 'OD Mature'\n",
       "9. 'Pericytes'\n",
       "\n",
       "\n"
      ],
      "text/plain": [
       "[1] \"Astrocyte\"   \"Endothelial\" \"Ependymal\"   \"Excitatory\"  \"Inhibitory\" \n",
       "[6] \"Microglia\"   \"OD Immature\" \"OD Mature\"   \"Pericytes\"  "
      ]
     },
     "metadata": {},
     "output_type": "display_data"
    }
   ],
   "source": [
    "spot_raw = rownames(mpoa$patchGexp)\n",
    "spots = paste0(\"spot\",1:length(spot_raw))\n",
    "\n",
    "\n",
    "split_strings <- strsplit(spot_raw, \"_\")\n",
    "spot_loc <- do.call(rbind, lapply(split_strings, function(x) as.numeric(x)))\n",
    "spot_exp <- t(mpoa$patchGexp)[,spot_raw ]\n",
    "dim(spot_exp)\n",
    "\n",
    "cell_type_freq =as.matrix(mpoa$cellTypeTable[spot_raw,]) \n",
    "cell_type_freq <- apply(cell_type_freq, 2, as.numeric)  \n",
    "cell_type_prop = sweep(cell_type_freq, 1, rowSums(cell_type_freq), FUN = \"/\")\n",
    "\n",
    "cell_type = colnames(cell_type_prop)\n",
    "cell_type\n",
    "\n",
    "\n",
    "rownames(cell_type_prop) = rownames(spot_loc)  = spots\n",
    "colnames(spot_exp) = spots\n",
    "\n",
    "rownames(cell_type_prop) = rownames(spot_loc)  = spots\n",
    "colnames(spot_exp) = spots\n"
   ]
  },
  {
   "cell_type": "markdown",
   "id": "8790515f",
   "metadata": {
    "papermill": {
     "duration": 0.008817,
     "end_time": "2024-10-26T11:16:01.593717",
     "exception": false,
     "start_time": "2024-10-26T11:16:01.584900",
     "status": "completed"
    },
    "tags": []
   },
   "source": [
    "## TRUE cell type-specific gene expression for each cell type"
   ]
  },
  {
   "cell_type": "code",
   "execution_count": 7,
   "id": "0124847a",
   "metadata": {
    "execution": {
     "iopub.execute_input": "2024-10-26T11:16:01.612595Z",
     "iopub.status.busy": "2024-10-26T11:16:01.610118Z",
     "iopub.status.idle": "2024-10-26T11:16:01.716011Z",
     "shell.execute_reply": "2024-10-26T11:16:01.714853Z"
    },
    "papermill": {
     "duration": 0.116905,
     "end_time": "2024-10-26T11:16:01.718248",
     "exception": false,
     "start_time": "2024-10-26T11:16:01.601343",
     "status": "completed"
    },
    "tags": [],
    "vscode": {
     "languageId": "r"
    }
   },
   "outputs": [],
   "source": [
    "genes = rownames(spot_exp)  \n",
    "TRUE_F = vector(\"list\", length(cell_type))  \n",
    "names(TRUE_F) = cell_type  \n",
    "\n",
    "spot_cell_type_exp = mpoa$avgPatchGexp\n",
    "\n",
    "for(i in 1:length(cell_type)){\n",
    "  \n",
    "  temp_mat = matrix(0, nrow = length(spots), ncol = length(genes))\n",
    "  colnames(temp_mat) = genes\n",
    "  rownames(temp_mat) = spots\n",
    "  \n",
    "  for(j in 1:length(spots)){\n",
    "    temp = spot_cell_type_exp[[j]]\n",
    "    \n",
    "    \n",
    "    if (cell_type[i] %in% colnames(temp)) {\n",
    "      temp_mat[j,] = temp[,cell_type[i]]\n",
    "    } else {\n",
    "      \n",
    "      temp_mat[j,] = 0\n",
    "    }\n",
    "  }\n",
    "  \n",
    "  \n",
    "  TRUE_F[[i]] = t(temp_mat)\n",
    "}\n",
    "\n"
   ]
  },
  {
   "cell_type": "code",
   "execution_count": 8,
   "id": "32b15fe9",
   "metadata": {
    "execution": {
     "iopub.execute_input": "2024-10-26T11:16:01.741147Z",
     "iopub.status.busy": "2024-10-26T11:16:01.739779Z",
     "iopub.status.idle": "2024-10-26T11:16:01.767430Z",
     "shell.execute_reply": "2024-10-26T11:16:01.765931Z"
    },
    "papermill": {
     "duration": 0.040467,
     "end_time": "2024-10-26T11:16:01.769825",
     "exception": false,
     "start_time": "2024-10-26T11:16:01.729358",
     "status": "completed"
    },
    "tags": [],
    "vscode": {
     "languageId": "r"
    }
   },
   "outputs": [],
   "source": [
    "\n",
    "res_decon_ct = readRDS(\"./realdata/MAOP/Endeprop/merfish_Results.Deconv_50um.RDS\")\n"
   ]
  },
  {
   "cell_type": "markdown",
   "id": "5ad699e5",
   "metadata": {
    "papermill": {
     "duration": 0.009037,
     "end_time": "2024-10-26T11:16:01.790115",
     "exception": false,
     "start_time": "2024-10-26T11:16:01.781078",
     "status": "completed"
    },
    "tags": [],
    "vscode": {
     "languageId": "r"
    }
   },
   "source": [
    "**Note**: There are three steps in STged. We here give a small example to show how to run the code step by step."
   ]
  },
  {
   "cell_type": "markdown",
   "id": "1dba5df3",
   "metadata": {
    "papermill": {
     "duration": 0.006264,
     "end_time": "2024-10-26T11:16:01.804677",
     "exception": false,
     "start_time": "2024-10-26T11:16:01.798413",
     "status": "completed"
    },
    "tags": [],
    "vscode": {
     "languageId": "r"
    }
   },
   "source": [
    "## Step 1: clear data"
   ]
  },
  {
   "cell_type": "code",
   "execution_count": 9,
   "id": "d744b1ca",
   "metadata": {
    "execution": {
     "iopub.execute_input": "2024-10-26T11:16:01.821296Z",
     "iopub.status.busy": "2024-10-26T11:16:01.818799Z",
     "iopub.status.idle": "2024-10-26T11:16:02.477251Z",
     "shell.execute_reply": "2024-10-26T11:16:02.476026Z"
    },
    "papermill": {
     "duration": 0.668648,
     "end_time": "2024-10-26T11:16:02.479555",
     "exception": false,
     "start_time": "2024-10-26T11:16:01.810907",
     "status": "completed"
    },
    "tags": [],
    "vscode": {
     "languageId": "r"
    }
   },
   "outputs": [],
   "source": [
    "clean.only = FALSE\n",
    "depthscale  = 1e6\n",
    "datax = data_process(sc_exp = sc_exp,   sc_label = sc_label, \n",
    "                     spot_exp = spot_exp,  spot_loc = spot_loc,\n",
    "                     depthscale = depthscale,  gene_det_in_min_cells_per = 0, \n",
    "                     expression_threshold = 0,\n",
    "                     nUMI =  10, verbose = FALSE, clean.only = clean.only)\n",
    "\n",
    "## Winsorize expression values to prevent outliers  \n",
    "truncate = FALSE\n",
    "if(truncate){\n",
    "  qt = 0.05\n",
    "  datax$sc_exp  =  winsorize(x =  datax$sc_exp, qt = qt)\n",
    "  datax$spot_exp  =  winsorize(x =  datax$spot_exp, qt = qt)\n",
    "}\n"
   ]
  },
  {
   "cell_type": "code",
   "execution_count": 10,
   "id": "d1dffc3d",
   "metadata": {
    "execution": {
     "iopub.execute_input": "2024-10-26T11:16:02.504541Z",
     "iopub.status.busy": "2024-10-26T11:16:02.503108Z",
     "iopub.status.idle": "2024-10-26T11:16:02.579978Z",
     "shell.execute_reply": "2024-10-26T11:16:02.578753Z"
    },
    "papermill": {
     "duration": 0.09019,
     "end_time": "2024-10-26T11:16:02.582224",
     "exception": false,
     "start_time": "2024-10-26T11:16:02.492034",
     "status": "completed"
    },
    "tags": [],
    "vscode": {
     "languageId": "r"
    }
   },
   "outputs": [],
   "source": [
    "for(i in 1:length(cell_type)){\n",
    "  TRUE_F[[i]] = TRUE_F[[i]][,colnames(datax$spot_exp )]\n",
    "  \n",
    "}\n",
    "trueF = res_library_size_normaization(estres = TRUE_F, depthscale = depthscale)\n"
   ]
  },
  {
   "cell_type": "markdown",
   "id": "68427947",
   "metadata": {
    "papermill": {
     "duration": 0.008894,
     "end_time": "2024-10-26T11:16:02.603096",
     "exception": false,
     "start_time": "2024-10-26T11:16:02.594202",
     "status": "completed"
    },
    "tags": [],
    "vscode": {
     "languageId": "r"
    }
   },
   "source": [
    "## Step 2: construct spatial correlation structures"
   ]
  },
  {
   "cell_type": "code",
   "execution_count": 11,
   "id": "4dc30d39",
   "metadata": {
    "execution": {
     "iopub.execute_input": "2024-10-26T11:16:02.622386Z",
     "iopub.status.busy": "2024-10-26T11:16:02.619881Z",
     "iopub.status.idle": "2024-10-26T11:16:18.583819Z",
     "shell.execute_reply": "2024-10-26T11:16:18.582518Z"
    },
    "papermill": {
     "duration": 15.975244,
     "end_time": "2024-10-26T11:16:18.586517",
     "exception": false,
     "start_time": "2024-10-26T11:16:02.611273",
     "status": "completed"
    },
    "tags": [],
    "vscode": {
     "languageId": "r"
    }
   },
   "outputs": [
    {
     "name": "stdout",
     "output_type": "stream",
     "text": [
      "Construct spatial correlation \n"
     ]
    }
   ],
   "source": [
    "cat(\"Construct spatial correlation\", \"\\n\")\n",
    "L.mat = dis_weight(spot_loc = datax$spot_loc, spot_exp = datax$spot_exp, k = 6, \n",
    "                   quantile_prob_bandwidth = 1/3, method = \"Hex\", \n",
    "                   coord_type = \"grid\")"
   ]
  },
  {
   "cell_type": "markdown",
   "id": "c9f7e83a",
   "metadata": {
    "papermill": {
     "duration": 0.009479,
     "end_time": "2024-10-26T11:16:18.608367",
     "exception": false,
     "start_time": "2024-10-26T11:16:18.598888",
     "status": "completed"
    },
    "tags": []
   },
   "source": [
    "## Step 3: construct reference gene matrix"
   ]
  },
  {
   "cell_type": "code",
   "execution_count": 12,
   "id": "b5ecc966",
   "metadata": {
    "execution": {
     "iopub.execute_input": "2024-10-26T11:16:18.627607Z",
     "iopub.status.busy": "2024-10-26T11:16:18.625159Z",
     "iopub.status.idle": "2024-10-26T11:16:18.695253Z",
     "shell.execute_reply": "2024-10-26T11:16:18.694212Z"
    },
    "papermill": {
     "duration": 0.08137,
     "end_time": "2024-10-26T11:16:18.697583",
     "exception": false,
     "start_time": "2024-10-26T11:16:18.616213",
     "status": "completed"
    },
    "tags": [],
    "vscode": {
     "languageId": "r"
    }
   },
   "outputs": [
    {
     "name": "stdout",
     "output_type": "stream",
     "text": [
      "Construct reference gene matrix \n"
     ]
    },
    {
     "data": {
      "text/html": [
       "<style>\n",
       ".list-inline {list-style: none; margin:0; padding: 0}\n",
       ".list-inline>li {display: inline-block}\n",
       ".list-inline>li:not(:last-child)::after {content: \"\\00b7\"; padding: 0 .5ex}\n",
       "</style>\n",
       "<ol class=list-inline><li>'Astrocyte'</li><li>'Endothelial'</li><li>'Ependymal'</li><li>'Excitatory'</li><li>'Inhibitory'</li><li>'Microglia'</li><li>'OD Immature'</li><li>'OD Mature'</li><li>'Pericytes'</li></ol>\n"
      ],
      "text/latex": [
       "\\begin{enumerate*}\n",
       "\\item 'Astrocyte'\n",
       "\\item 'Endothelial'\n",
       "\\item 'Ependymal'\n",
       "\\item 'Excitatory'\n",
       "\\item 'Inhibitory'\n",
       "\\item 'Microglia'\n",
       "\\item 'OD Immature'\n",
       "\\item 'OD Mature'\n",
       "\\item 'Pericytes'\n",
       "\\end{enumerate*}\n"
      ],
      "text/markdown": [
       "1. 'Astrocyte'\n",
       "2. 'Endothelial'\n",
       "3. 'Ependymal'\n",
       "4. 'Excitatory'\n",
       "5. 'Inhibitory'\n",
       "6. 'Microglia'\n",
       "7. 'OD Immature'\n",
       "8. 'OD Mature'\n",
       "9. 'Pericytes'\n",
       "\n",
       "\n"
      ],
      "text/plain": [
       "[1] \"Astrocyte\"   \"Endothelial\" \"Ependymal\"   \"Excitatory\"  \"Inhibitory\" \n",
       "[6] \"Microglia\"   \"OD Immature\" \"OD Mature\"   \"Pericytes\"  "
      ]
     },
     "metadata": {},
     "output_type": "display_data"
    }
   ],
   "source": [
    "\n",
    "cat(\"Construct reference gene matrix\", \"\\n\")\n",
    "\n",
    "ref_exp = create_group_exp(sc_exp = datax$sc_exp, sc_label = datax$sc_label)\n",
    "\n",
    "\n",
    "ref_exp = ref_exp[rownames(datax$spot_exp), cell_type]\n",
    "colnames(ref_exp )\n",
    "\n",
    "beta.type = cell_type_prop[colnames(datax$spot_exp),]"
   ]
  },
  {
   "cell_type": "code",
   "execution_count": 13,
   "id": "eb56edd3",
   "metadata": {
    "execution": {
     "iopub.execute_input": "2024-10-26T11:16:18.720453Z",
     "iopub.status.busy": "2024-10-26T11:16:18.719091Z",
     "iopub.status.idle": "2024-10-26T11:16:18.764526Z",
     "shell.execute_reply": "2024-10-26T11:16:18.763496Z"
    },
    "papermill": {
     "duration": 0.057674,
     "end_time": "2024-10-26T11:16:18.766834",
     "exception": false,
     "start_time": "2024-10-26T11:16:18.709160",
     "status": "completed"
    },
    "tags": [],
    "vscode": {
     "languageId": "r"
    }
   },
   "outputs": [
    {
     "data": {
      "text/html": [
       "134"
      ],
      "text/latex": [
       "134"
      ],
      "text/markdown": [
       "134"
      ],
      "text/plain": [
       "[1] 134"
      ]
     },
     "metadata": {},
     "output_type": "display_data"
    }
   ],
   "source": [
    "p = nrow(datax$spot_exp)\n",
    "p \n",
    "K = ncol(beta.type)\n",
    "beta.ind.temp = beta.type>0.05\n",
    "beta.ind =  matrix(list(), K ,1)\n",
    "for (i in 1:K){\n",
    "  \n",
    "  beta.ind[[i]] =  matrix( rep(beta.ind.temp[,i],p), nrow = p, byrow = TRUE)\n",
    "}\n"
   ]
  },
  {
   "cell_type": "markdown",
   "id": "5873b162",
   "metadata": {
    "papermill": {
     "duration": 0.009418,
     "end_time": "2024-10-26T11:16:18.788362",
     "exception": false,
     "start_time": "2024-10-26T11:16:18.778944",
     "status": "completed"
    },
    "tags": []
   },
   "source": [
    "## Step 4: run the main model\n",
    "### Step 4-1: run the main model with ESTIMATED cell type proportion"
   ]
  },
  {
   "cell_type": "code",
   "execution_count": null,
   "id": "f4de0a7c",
   "metadata": {
    "papermill": {
     "duration": null,
     "end_time": null,
     "exception": false,
     "start_time": "2024-10-26T11:16:18.796224",
     "status": "running"
    },
    "tags": [],
    "vscode": {
     "languageId": "r"
    }
   },
   "outputs": [],
   "source": [
    "### run code with parameters selection\n",
    "methods = names(res_decon_ct)\n",
    "bench_celltype_STged = matrix(list(), length(methods) ,1)\n",
    "for(ii in 1: length(methods) ){\n",
    "  \n",
    "  cat(\"Run the STged\", methods[ii], \"\\n\")\n",
    "  beta.type.bench = res_decon_ct[[ii]][colnames(datax$spot_exp),]\n",
    "  start_time <- Sys.time()\n",
    "  stged.est = MUR.STged(srt_exp = datax$spot_exp, ref_exp = ref_exp, \n",
    "                        beta.type = beta.type.bench,   W = L.mat$dis_weight, cutoff = 0.05, \n",
    "                        lambda1 = NULL, lambda2 = NULL,\n",
    "                        epsilon = 1e-5,  maxiter = 200)\n",
    "  \n",
    "  end_time <- Sys.time()\n",
    "  bench_celltype_STged[[ii]] = stged.est$V.hat\n",
    "  cat(\"Run time of STged\", end_time - start_time,\"\\n\") \n",
    "  \n",
    "}\n",
    "\n",
    "files = paste0(\"./results/MPOA/STged_est_spot_decon_Use_tureprop_tuning_est\",patch_size,\"um2.RDS\")\n",
    "saveRDS(bench_celltype_STged, file =files)\n"
   ]
  }
 ],
 "metadata": {
  "kernelspec": {
   "display_name": "R",
   "language": "R",
   "name": "ir"
  },
  "language_info": {
   "codemirror_mode": "r",
   "file_extension": ".r",
   "mimetype": "text/x-r-source",
   "name": "R",
   "pygments_lexer": "r",
   "version": "4.4.1"
  },
  "papermill": {
   "default_parameters": {},
   "duration": null,
   "end_time": null,
   "environment_variables": {},
   "exception": null,
   "input_path": "MERFISH-count-ref-scRNA_est_prop_bench50um.ipynb",
   "output_path": "./results/output_MERFISH-count-ref-scRNA_est_prop_bench50um_v4.ipynb",
   "parameters": {},
   "start_time": "2024-10-26T11:15:53.192996",
   "version": "2.3.3"
  }
 },
 "nbformat": 4,
 "nbformat_minor": 5
}