{
 "cells": [
  {
   "cell_type": "markdown",
   "id": "95f8620f",
   "metadata": {
    "papermill": {
     "duration": 0.011735,
     "end_time": "2024-10-26T12:00:24.340229",
     "exception": false,
     "start_time": "2024-10-26T12:00:24.328494",
     "status": "completed"
    },
    "tags": []
   },
   "source": [
    "**NOTE**: Here we test the robustness of the STged with cell type pro proportion predicted from cell type deconvolution methods. We use results from different cell type deconvolution:\n",
    "EnDecon,RCTD, SONAR, CARD,  Cell2location, or DWLS. \n",
    "##Set the size of the figures"
   ]
  },
  {
   "cell_type": "code",
   "execution_count": 1,
   "id": "a8993f2e",
   "metadata": {
    "execution": {
     "iopub.execute_input": "2024-10-26T12:00:24.362642Z",
     "iopub.status.busy": "2024-10-26T12:00:24.358490Z",
     "iopub.status.idle": "2024-10-26T12:00:29.720785Z",
     "shell.execute_reply": "2024-10-26T12:00:29.716416Z"
    },
    "papermill": {
     "duration": 5.375415,
     "end_time": "2024-10-26T12:00:29.724323",
     "exception": false,
     "start_time": "2024-10-26T12:00:24.348908",
     "status": "completed"
    },
    "tags": [],
    "vscode": {
     "languageId": "r"
    }
   },
   "outputs": [],
   "source": [
    "\n",
    "#remove(list = ls())\n",
    "#define the conda env\n",
    "\n",
    "library(reticulate)\n",
    "use_condaenv(\"ccnet\", required = TRUE)"
   ]
  },
  {
   "cell_type": "code",
   "execution_count": 2,
   "id": "dace6785",
   "metadata": {
    "execution": {
     "iopub.execute_input": "2024-10-26T12:00:29.785104Z",
     "iopub.status.busy": "2024-10-26T12:00:29.745075Z",
     "iopub.status.idle": "2024-10-26T12:00:30.198132Z",
     "shell.execute_reply": "2024-10-26T12:00:30.196975Z"
    },
    "papermill": {
     "duration": 0.466156,
     "end_time": "2024-10-26T12:00:30.200443",
     "exception": false,
     "start_time": "2024-10-26T12:00:29.734287",
     "status": "completed"
    },
    "tags": [],
    "vscode": {
     "languageId": "r"
    }
   },
   "outputs": [],
   "source": [
    "library(ggplot2)\n",
    "library(scatterpie)\n",
    "library(RColorBrewer)"
   ]
  },
  {
   "cell_type": "code",
   "execution_count": 3,
   "id": "a429b813",
   "metadata": {
    "execution": {
     "iopub.execute_input": "2024-10-26T12:00:30.221969Z",
     "iopub.status.busy": "2024-10-26T12:00:30.220562Z",
     "iopub.status.idle": "2024-10-26T12:00:30.243455Z",
     "shell.execute_reply": "2024-10-26T12:00:30.241994Z"
    },
    "papermill": {
     "duration": 0.035488,
     "end_time": "2024-10-26T12:00:30.245812",
     "exception": false,
     "start_time": "2024-10-26T12:00:30.210324",
     "status": "completed"
    },
    "tags": [],
    "vscode": {
     "languageId": "r"
    }
   },
   "outputs": [],
   "source": [
    "# Source code\n",
    "source(\"./code/STged.R\")\n",
    "source(\"./code/benchmark.R\")"
   ]
  },
  {
   "cell_type": "code",
   "execution_count": 4,
   "id": "39f116b0",
   "metadata": {
    "execution": {
     "iopub.execute_input": "2024-10-26T12:00:30.266296Z",
     "iopub.status.busy": "2024-10-26T12:00:30.264968Z",
     "iopub.status.idle": "2024-10-26T12:00:30.284464Z",
     "shell.execute_reply": "2024-10-26T12:00:30.282924Z"
    },
    "papermill": {
     "duration": 0.031527,
     "end_time": "2024-10-26T12:00:30.286851",
     "exception": false,
     "start_time": "2024-10-26T12:00:30.255324",
     "status": "completed"
    },
    "tags": [],
    "vscode": {
     "languageId": "r"
    }
   },
   "outputs": [],
   "source": [
    "colors <- colorRampPalette(brewer.pal(9, \"Set3\"))(12)\n"
   ]
  },
  {
   "cell_type": "markdown",
   "id": "c4832324",
   "metadata": {
    "papermill": {
     "duration": 0.008056,
     "end_time": "2024-10-26T12:00:30.304476",
     "exception": false,
     "start_time": "2024-10-26T12:00:30.296420",
     "status": "completed"
    },
    "tags": []
   },
   "source": [
    "# Load data the generated simulated data\n",
    "## For the 50/100 um2\n",
    "i = 1 for the 50 um2\n",
    "i = 2 for the 50 um2"
   ]
  },
  {
   "cell_type": "code",
   "execution_count": 5,
   "id": "fb716010",
   "metadata": {
    "execution": {
     "iopub.execute_input": "2024-10-26T12:00:30.321838Z",
     "iopub.status.busy": "2024-10-26T12:00:30.319865Z",
     "iopub.status.idle": "2024-10-26T12:00:30.760083Z",
     "shell.execute_reply": "2024-10-26T12:00:30.759009Z"
    },
    "papermill": {
     "duration": 0.451286,
     "end_time": "2024-10-26T12:00:30.763015",
     "exception": false,
     "start_time": "2024-10-26T12:00:30.311729",
     "status": "completed"
    },
    "tags": [],
    "vscode": {
     "languageId": "r"
    }
   },
   "outputs": [
    {
     "data": {
      "text/html": [
       "50"
      ],
      "text/latex": [
       "50"
      ],
      "text/markdown": [
       "50"
      ],
      "text/plain": [
       "[1] 50"
      ]
     },
     "metadata": {},
     "output_type": "display_data"
    },
    {
     "name": "stderr",
     "output_type": "stream",
     "text": [
      "Loading required package: hash\n",
      "\n"
     ]
    },
    {
     "name": "stderr",
     "output_type": "stream",
     "text": [
      "hash-2.2.6.3 provided by Decision Patterns\n",
      "\n",
      "\n"
     ]
    },
    {
     "data": {
      "text/html": [
       "<style>\n",
       ".list-inline {list-style: none; margin:0; padding: 0}\n",
       ".list-inline>li {display: inline-block}\n",
       ".list-inline>li:not(:last-child)::after {content: \"\\00b7\"; padding: 0 .5ex}\n",
       "</style>\n",
       "<ol class=list-inline><li>134</li><li>29760</li></ol>\n"
      ],
      "text/latex": [
       "\\begin{enumerate*}\n",
       "\\item 134\n",
       "\\item 29760\n",
       "\\end{enumerate*}\n"
      ],
      "text/markdown": [
       "1. 134\n",
       "2. 29760\n",
       "\n",
       "\n"
      ],
      "text/plain": [
       "[1]   134 29760"
      ]
     },
     "metadata": {},
     "output_type": "display_data"
    },
    {
     "data": {
      "text/html": [
       "29760"
      ],
      "text/latex": [
       "29760"
      ],
      "text/markdown": [
       "29760"
      ],
      "text/plain": [
       "[1] 29760"
      ]
     },
     "metadata": {},
     "output_type": "display_data"
    }
   ],
   "source": [
    "sim_data = readRDS(\"./realdata/MAOP/FN7_hash_mpoa_sim-29_ref01.Rds\")\n",
    "\n",
    "i = 2\n",
    "patch_size = c(100,50)[i]\n",
    "patch_size\n",
    "\n",
    "mpoa = sim_data$mpoa_list[[i]]$`-0.29`\n",
    "\n",
    "\n",
    "# load the referene from scRNA\n",
    "sim_data = readRDS(\"./realdata/MAOP/refscRNA/scRNA_MPOA50k.RDS\")\n",
    "sc_exp = sim_data$scexp\n",
    "sc_label = sim_data$sclabel\n",
    "\n",
    "dim(sc_exp)\n",
    "length(sc_label)"
   ]
  },
  {
   "cell_type": "markdown",
   "id": "c2e38c30",
   "metadata": {
    "papermill": {
     "duration": 0.007824,
     "end_time": "2024-10-26T12:00:30.782171",
     "exception": false,
     "start_time": "2024-10-26T12:00:30.774347",
     "status": "completed"
    },
    "tags": []
   },
   "source": [
    "sc_label[sc_label==\"Mural\"]=\"Pericytes\"\n",
    "table(sc_label)"
   ]
  },
  {
   "cell_type": "markdown",
   "id": "44992133",
   "metadata": {
    "papermill": {
     "duration": 0.00678,
     "end_time": "2024-10-26T12:00:30.796381",
     "exception": false,
     "start_time": "2024-10-26T12:00:30.789601",
     "status": "completed"
    },
    "tags": []
   },
   "source": [
    "## The spots location information"
   ]
  },
  {
   "cell_type": "code",
   "execution_count": 6,
   "id": "6247c490",
   "metadata": {
    "execution": {
     "iopub.execute_input": "2024-10-26T12:00:30.812293Z",
     "iopub.status.busy": "2024-10-26T12:00:30.809904Z",
     "iopub.status.idle": "2024-10-26T12:00:30.860351Z",
     "shell.execute_reply": "2024-10-26T12:00:30.859332Z"
    },
    "papermill": {
     "duration": 0.060497,
     "end_time": "2024-10-26T12:00:30.862667",
     "exception": false,
     "start_time": "2024-10-26T12:00:30.802170",
     "status": "completed"
    },
    "tags": [],
    "vscode": {
     "languageId": "r"
    }
   },
   "outputs": [
    {
     "data": {
      "text/html": [
       "<style>\n",
       ".list-inline {list-style: none; margin:0; padding: 0}\n",
       ".list-inline>li {display: inline-block}\n",
       ".list-inline>li:not(:last-child)::after {content: \"\\00b7\"; padding: 0 .5ex}\n",
       "</style>\n",
       "<ol class=list-inline><li>135</li><li>1141</li></ol>\n"
      ],
      "text/latex": [
       "\\begin{enumerate*}\n",
       "\\item 135\n",
       "\\item 1141\n",
       "\\end{enumerate*}\n"
      ],
      "text/markdown": [
       "1. 135\n",
       "2. 1141\n",
       "\n",
       "\n"
      ],
      "text/plain": [
       "[1]  135 1141"
      ]
     },
     "metadata": {},
     "output_type": "display_data"
    },
    {
     "data": {
      "text/html": [
       "<style>\n",
       ".list-inline {list-style: none; margin:0; padding: 0}\n",
       ".list-inline>li {display: inline-block}\n",
       ".list-inline>li:not(:last-child)::after {content: \"\\00b7\"; padding: 0 .5ex}\n",
       "</style>\n",
       "<ol class=list-inline><li>'Astrocyte'</li><li>'Endothelial'</li><li>'Ependymal'</li><li>'Excitatory'</li><li>'Inhibitory'</li><li>'Microglia'</li><li>'OD Immature'</li><li>'OD Mature'</li><li>'Pericytes'</li></ol>\n"
      ],
      "text/latex": [
       "\\begin{enumerate*}\n",
       "\\item 'Astrocyte'\n",
       "\\item 'Endothelial'\n",
       "\\item 'Ependymal'\n",
       "\\item 'Excitatory'\n",
       "\\item 'Inhibitory'\n",
       "\\item 'Microglia'\n",
       "\\item 'OD Immature'\n",
       "\\item 'OD Mature'\n",
       "\\item 'Pericytes'\n",
       "\\end{enumerate*}\n"
      ],
      "text/markdown": [
       "1. 'Astrocyte'\n",
       "2. 'Endothelial'\n",
       "3. 'Ependymal'\n",
       "4. 'Excitatory'\n",
       "5. 'Inhibitory'\n",
       "6. 'Microglia'\n",
       "7. 'OD Immature'\n",
       "8. 'OD Mature'\n",
       "9. 'Pericytes'\n",
       "\n",
       "\n"
      ],
      "text/plain": [
       "[1] \"Astrocyte\"   \"Endothelial\" \"Ependymal\"   \"Excitatory\"  \"Inhibitory\" \n",
       "[6] \"Microglia\"   \"OD Immature\" \"OD Mature\"   \"Pericytes\"  "
      ]
     },
     "metadata": {},
     "output_type": "display_data"
    }
   ],
   "source": [
    "spot_raw = rownames(mpoa$patchGexp)\n",
    "spots = paste0(\"spot\",1:length(spot_raw))\n",
    "\n",
    "\n",
    "split_strings <- strsplit(spot_raw, \"_\")\n",
    "spot_loc <- do.call(rbind, lapply(split_strings, function(x) as.numeric(x)))\n",
    "spot_exp <- t(mpoa$patchGexp)[,spot_raw ]\n",
    "dim(spot_exp)\n",
    "\n",
    "cell_type_freq =as.matrix(mpoa$cellTypeTable[spot_raw,]) \n",
    "cell_type_freq <- apply(cell_type_freq, 2, as.numeric)  \n",
    "cell_type_prop = sweep(cell_type_freq, 1, rowSums(cell_type_freq), FUN = \"/\")\n",
    "\n",
    "cell_type = colnames(cell_type_prop)\n",
    "cell_type\n",
    "\n",
    "\n",
    "rownames(cell_type_prop) = rownames(spot_loc)  = spots\n",
    "colnames(spot_exp) = spots\n",
    "\n",
    "rownames(cell_type_prop) = rownames(spot_loc)  = spots\n",
    "colnames(spot_exp) = spots\n"
   ]
  },
  {
   "cell_type": "markdown",
   "id": "8a0a5d4a",
   "metadata": {
    "papermill": {
     "duration": 0.008805,
     "end_time": "2024-10-26T12:00:30.882916",
     "exception": false,
     "start_time": "2024-10-26T12:00:30.874111",
     "status": "completed"
    },
    "tags": []
   },
   "source": [
    "## TRUE cell type-specific gene expression for each cell type"
   ]
  },
  {
   "cell_type": "code",
   "execution_count": 7,
   "id": "3d9724f6",
   "metadata": {
    "execution": {
     "iopub.execute_input": "2024-10-26T12:00:30.900700Z",
     "iopub.status.busy": "2024-10-26T12:00:30.898870Z",
     "iopub.status.idle": "2024-10-26T12:00:31.004102Z",
     "shell.execute_reply": "2024-10-26T12:00:31.002971Z"
    },
    "papermill": {
     "duration": 0.115899,
     "end_time": "2024-10-26T12:00:31.006378",
     "exception": false,
     "start_time": "2024-10-26T12:00:30.890479",
     "status": "completed"
    },
    "tags": [],
    "vscode": {
     "languageId": "r"
    }
   },
   "outputs": [],
   "source": [
    "genes = rownames(spot_exp)  \n",
    "TRUE_F = vector(\"list\", length(cell_type))  \n",
    "names(TRUE_F) = cell_type  \n",
    "\n",
    "spot_cell_type_exp = mpoa$avgPatchGexp\n",
    "\n",
    "for(i in 1:length(cell_type)){\n",
    "  \n",
    "  temp_mat = matrix(0, nrow = length(spots), ncol = length(genes))\n",
    "  colnames(temp_mat) = genes\n",
    "  rownames(temp_mat) = spots\n",
    "  \n",
    "  for(j in 1:length(spots)){\n",
    "    temp = spot_cell_type_exp[[j]]\n",
    "    \n",
    "    \n",
    "    if (cell_type[i] %in% colnames(temp)) {\n",
    "      temp_mat[j,] = temp[,cell_type[i]]\n",
    "    } else {\n",
    "      \n",
    "      temp_mat[j,] = 0\n",
    "    }\n",
    "  }\n",
    "  \n",
    "  \n",
    "  TRUE_F[[i]] = t(temp_mat)\n",
    "}\n",
    "\n"
   ]
  },
  {
   "cell_type": "code",
   "execution_count": 8,
   "id": "24d6fadd",
   "metadata": {
    "execution": {
     "iopub.execute_input": "2024-10-26T12:00:31.028177Z",
     "iopub.status.busy": "2024-10-26T12:00:31.026808Z",
     "iopub.status.idle": "2024-10-26T12:00:31.049448Z",
     "shell.execute_reply": "2024-10-26T12:00:31.048166Z"
    },
    "papermill": {
     "duration": 0.034353,
     "end_time": "2024-10-26T12:00:31.051694",
     "exception": false,
     "start_time": "2024-10-26T12:00:31.017341",
     "status": "completed"
    },
    "tags": [],
    "vscode": {
     "languageId": "r"
    }
   },
   "outputs": [],
   "source": [
    "\n",
    "res_decon_ct = readRDS(\"./realdata/MAOP/Endeprop/merfish_Results.Deconv_50um.RDS\")\n"
   ]
  },
  {
   "cell_type": "markdown",
   "id": "d75f5ac2",
   "metadata": {
    "papermill": {
     "duration": 0.009545,
     "end_time": "2024-10-26T12:00:31.072960",
     "exception": false,
     "start_time": "2024-10-26T12:00:31.063415",
     "status": "completed"
    },
    "tags": [],
    "vscode": {
     "languageId": "r"
    }
   },
   "source": [
    "**Note**: There are three steps in STged. We here give a small example to show how to run the code step by step."
   ]
  },
  {
   "cell_type": "markdown",
   "id": "a446b59b",
   "metadata": {
    "papermill": {
     "duration": 0.006673,
     "end_time": "2024-10-26T12:00:31.087721",
     "exception": false,
     "start_time": "2024-10-26T12:00:31.081048",
     "status": "completed"
    },
    "tags": [],
    "vscode": {
     "languageId": "r"
    }
   },
   "source": [
    "## Step 1: clear data"
   ]
  },
  {
   "cell_type": "code",
   "execution_count": 9,
   "id": "f944e3ec",
   "metadata": {
    "execution": {
     "iopub.execute_input": "2024-10-26T12:00:31.104051Z",
     "iopub.status.busy": "2024-10-26T12:00:31.101666Z",
     "iopub.status.idle": "2024-10-26T12:00:31.766885Z",
     "shell.execute_reply": "2024-10-26T12:00:31.765690Z"
    },
    "papermill": {
     "duration": 0.675317,
     "end_time": "2024-10-26T12:00:31.769163",
     "exception": false,
     "start_time": "2024-10-26T12:00:31.093846",
     "status": "completed"
    },
    "tags": [],
    "vscode": {
     "languageId": "r"
    }
   },
   "outputs": [],
   "source": [
    "clean.only = FALSE\n",
    "depthscale  = 1e6\n",
    "datax = data_process(sc_exp = sc_exp,   sc_label = sc_label, \n",
    "                     spot_exp = spot_exp,  spot_loc = spot_loc,\n",
    "                     depthscale = depthscale,  gene_det_in_min_cells_per = 0, \n",
    "                     expression_threshold = 0,\n",
    "                     nUMI =  10, verbose = FALSE, clean.only = clean.only)\n",
    "\n",
    "## Winsorize expression values to prevent outliers  \n",
    "truncate = FALSE\n",
    "if(truncate){\n",
    "  qt = 0.05\n",
    "  datax$sc_exp  =  winsorize(x =  datax$sc_exp, qt = qt)\n",
    "  datax$spot_exp  =  winsorize(x =  datax$spot_exp, qt = qt)\n",
    "}\n"
   ]
  },
  {
   "cell_type": "code",
   "execution_count": 10,
   "id": "65b6c5d3",
   "metadata": {
    "execution": {
     "iopub.execute_input": "2024-10-26T12:00:31.793870Z",
     "iopub.status.busy": "2024-10-26T12:00:31.792499Z",
     "iopub.status.idle": "2024-10-26T12:00:31.864073Z",
     "shell.execute_reply": "2024-10-26T12:00:31.862877Z"
    },
    "papermill": {
     "duration": 0.085061,
     "end_time": "2024-10-26T12:00:31.866306",
     "exception": false,
     "start_time": "2024-10-26T12:00:31.781245",
     "status": "completed"
    },
    "tags": [],
    "vscode": {
     "languageId": "r"
    }
   },
   "outputs": [],
   "source": [
    "for(i in 1:length(cell_type)){\n",
    "  TRUE_F[[i]] = TRUE_F[[i]][,colnames(datax$spot_exp )]\n",
    "  \n",
    "}\n",
    "trueF = res_library_size_normaization(estres = TRUE_F, depthscale = depthscale)\n"
   ]
  },
  {
   "cell_type": "markdown",
   "id": "8c889ad2",
   "metadata": {
    "papermill": {
     "duration": 0.009653,
     "end_time": "2024-10-26T12:00:31.887661",
     "exception": false,
     "start_time": "2024-10-26T12:00:31.878008",
     "status": "completed"
    },
    "tags": [],
    "vscode": {
     "languageId": "r"
    }
   },
   "source": [
    "## Step 2: construct spatial correlation structures"
   ]
  },
  {
   "cell_type": "code",
   "execution_count": 11,
   "id": "e0336b7e",
   "metadata": {
    "execution": {
     "iopub.execute_input": "2024-10-26T12:00:31.907382Z",
     "iopub.status.busy": "2024-10-26T12:00:31.904960Z",
     "iopub.status.idle": "2024-10-26T12:00:47.650246Z",
     "shell.execute_reply": "2024-10-26T12:00:47.648908Z"
    },
    "papermill": {
     "duration": 15.756746,
     "end_time": "2024-10-26T12:00:47.652813",
     "exception": false,
     "start_time": "2024-10-26T12:00:31.896067",
     "status": "completed"
    },
    "tags": [],
    "vscode": {
     "languageId": "r"
    }
   },
   "outputs": [
    {
     "name": "stdout",
     "output_type": "stream",
     "text": [
      "Construct spatial correlation \n"
     ]
    }
   ],
   "source": [
    "cat(\"Construct spatial correlation\", \"\\n\")\n",
    "L.mat = dis_weight(spot_loc = datax$spot_loc, spot_exp = datax$spot_exp, k = 6, \n",
    "                   quantile_prob_bandwidth = 1/3, method = \"Hex\", \n",
    "                   coord_type = \"grid\")"
   ]
  },
  {
   "cell_type": "markdown",
   "id": "0967c1a4",
   "metadata": {
    "papermill": {
     "duration": 0.008894,
     "end_time": "2024-10-26T12:00:47.674115",
     "exception": false,
     "start_time": "2024-10-26T12:00:47.665221",
     "status": "completed"
    },
    "tags": []
   },
   "source": [
    "## Step 3: construct reference gene matrix"
   ]
  },
  {
   "cell_type": "code",
   "execution_count": 12,
   "id": "5a5d12df",
   "metadata": {
    "execution": {
     "iopub.execute_input": "2024-10-26T12:00:47.693089Z",
     "iopub.status.busy": "2024-10-26T12:00:47.690660Z",
     "iopub.status.idle": "2024-10-26T12:00:47.760311Z",
     "shell.execute_reply": "2024-10-26T12:00:47.759257Z"
    },
    "papermill": {
     "duration": 0.080866,
     "end_time": "2024-10-26T12:00:47.762636",
     "exception": false,
     "start_time": "2024-10-26T12:00:47.681770",
     "status": "completed"
    },
    "tags": [],
    "vscode": {
     "languageId": "r"
    }
   },
   "outputs": [
    {
     "name": "stdout",
     "output_type": "stream",
     "text": [
      "Construct reference gene matrix \n"
     ]
    },
    {
     "data": {
      "text/html": [
       "<style>\n",
       ".list-inline {list-style: none; margin:0; padding: 0}\n",
       ".list-inline>li {display: inline-block}\n",
       ".list-inline>li:not(:last-child)::after {content: \"\\00b7\"; padding: 0 .5ex}\n",
       "</style>\n",
       "<ol class=list-inline><li>'Astrocyte'</li><li>'Endothelial'</li><li>'Ependymal'</li><li>'Excitatory'</li><li>'Inhibitory'</li><li>'Microglia'</li><li>'OD Immature'</li><li>'OD Mature'</li><li>'Pericytes'</li></ol>\n"
      ],
      "text/latex": [
       "\\begin{enumerate*}\n",
       "\\item 'Astrocyte'\n",
       "\\item 'Endothelial'\n",
       "\\item 'Ependymal'\n",
       "\\item 'Excitatory'\n",
       "\\item 'Inhibitory'\n",
       "\\item 'Microglia'\n",
       "\\item 'OD Immature'\n",
       "\\item 'OD Mature'\n",
       "\\item 'Pericytes'\n",
       "\\end{enumerate*}\n"
      ],
      "text/markdown": [
       "1. 'Astrocyte'\n",
       "2. 'Endothelial'\n",
       "3. 'Ependymal'\n",
       "4. 'Excitatory'\n",
       "5. 'Inhibitory'\n",
       "6. 'Microglia'\n",
       "7. 'OD Immature'\n",
       "8. 'OD Mature'\n",
       "9. 'Pericytes'\n",
       "\n",
       "\n"
      ],
      "text/plain": [
       "[1] \"Astrocyte\"   \"Endothelial\" \"Ependymal\"   \"Excitatory\"  \"Inhibitory\" \n",
       "[6] \"Microglia\"   \"OD Immature\" \"OD Mature\"   \"Pericytes\"  "
      ]
     },
     "metadata": {},
     "output_type": "display_data"
    }
   ],
   "source": [
    "\n",
    "cat(\"Construct reference gene matrix\", \"\\n\")\n",
    "\n",
    "ref_exp = create_group_exp(sc_exp = datax$sc_exp, sc_label = datax$sc_label)\n",
    "\n",
    "\n",
    "ref_exp = ref_exp[rownames(datax$spot_exp), cell_type]\n",
    "colnames(ref_exp )\n",
    "\n",
    "beta.type = cell_type_prop[colnames(datax$spot_exp),]"
   ]
  },
  {
   "cell_type": "code",
   "execution_count": 13,
   "id": "7df59b51",
   "metadata": {
    "execution": {
     "iopub.execute_input": "2024-10-26T12:00:47.787539Z",
     "iopub.status.busy": "2024-10-26T12:00:47.786174Z",
     "iopub.status.idle": "2024-10-26T12:00:47.830332Z",
     "shell.execute_reply": "2024-10-26T12:00:47.829314Z"
    },
    "papermill": {
     "duration": 0.057268,
     "end_time": "2024-10-26T12:00:47.832633",
     "exception": false,
     "start_time": "2024-10-26T12:00:47.775365",
     "status": "completed"
    },
    "tags": [],
    "vscode": {
     "languageId": "r"
    }
   },
   "outputs": [
    {
     "data": {
      "text/html": [
       "134"
      ],
      "text/latex": [
       "134"
      ],
      "text/markdown": [
       "134"
      ],
      "text/plain": [
       "[1] 134"
      ]
     },
     "metadata": {},
     "output_type": "display_data"
    }
   ],
   "source": [
    "p = nrow(datax$spot_exp)\n",
    "p \n",
    "K = ncol(beta.type)\n",
    "beta.ind.temp = beta.type>0.05\n",
    "beta.ind =  matrix(list(), K ,1)\n",
    "for (i in 1:K){\n",
    "  \n",
    "  beta.ind[[i]] =  matrix( rep(beta.ind.temp[,i],p), nrow = p, byrow = TRUE)\n",
    "}\n"
   ]
  },
  {
   "cell_type": "markdown",
   "id": "e75ccd92",
   "metadata": {
    "papermill": {
     "duration": 0.009972,
     "end_time": "2024-10-26T12:00:47.855470",
     "exception": false,
     "start_time": "2024-10-26T12:00:47.845498",
     "status": "completed"
    },
    "tags": []
   },
   "source": [
    "## Step 4: run the main model\n",
    "### Step 4-1: run the main model with ESTIMATED cell type proportion"
   ]
  },
  {
   "cell_type": "code",
   "execution_count": 14,
   "id": "b3cb09c9",
   "metadata": {
    "execution": {
     "iopub.execute_input": "2024-10-26T12:00:47.874439Z",
     "iopub.status.busy": "2024-10-26T12:00:47.872058Z",
     "iopub.status.idle": "2024-10-26T12:02:13.653753Z",
     "shell.execute_reply": "2024-10-26T12:02:13.652442Z"
    },
    "papermill": {
     "duration": 85.792741,
     "end_time": "2024-10-26T12:02:13.656212",
     "exception": false,
     "start_time": "2024-10-26T12:00:47.863471",
     "status": "completed"
    },
    "tags": [],
    "vscode": {
     "languageId": "r"
    }
   },
   "outputs": [
    {
     "name": "stdout",
     "output_type": "stream",
     "text": [
      "Run the STged CARD \n",
      "We will adpote a value for lambda 1 in our algorithm... \n",
      "Select value of lambda1 0.2623184 \n",
      "tuning for lambda 2 in our algorithm... \n",
      "Select value of lambda2 0.1951821 \n",
      "Run the main algorithm... \n",
      "Run time of STged 10.00328 \n",
      "Run the STged RCTD \n",
      "We will adpote a value for lambda 1 in our algorithm... \n",
      "Select value of lambda1 0.2899112 \n",
      "tuning for lambda 2 in our algorithm... \n",
      "Select value of lambda2 0.1951821 \n",
      "Run the main algorithm... \n",
      "Run time of STged 9.79098 \n",
      "Run the STged SpatialDWLS \n",
      "We will adpote a value for lambda 1 in our algorithm... \n",
      "Select value of lambda1 0.2547919 \n",
      "tuning for lambda 2 in our algorithm... \n",
      "Select value of lambda2 0.1951821 \n",
      "Run the main algorithm... \n",
      "Run time of STged 9.183924 \n",
      "Run the STged SPOTlight \n",
      "We will adpote a value for lambda 1 in our algorithm... \n",
      "Select value of lambda1 0.2180069 \n",
      "tuning for lambda 2 in our algorithm... \n",
      "Select value of lambda2 0.1951821 \n",
      "Run the main algorithm... \n",
      "Run time of STged 7.308531 \n",
      "Run the STged Stereoscope \n",
      "We will adpote a value for lambda 1 in our algorithm... \n",
      "Select value of lambda1 0.206985 \n",
      "tuning for lambda 2 in our algorithm... \n",
      "Select value of lambda2 0.1951821 \n",
      "Run the main algorithm... \n",
      "Run time of STged 10.5845 \n",
      "Run the STged cell2location \n",
      "We will adpote a value for lambda 1 in our algorithm... \n",
      "Select value of lambda1 0.6475554 \n",
      "tuning for lambda 2 in our algorithm... \n",
      "Select value of lambda2 0.1951821 \n",
      "Run the main algorithm... \n",
      "Run time of STged 10.88153 \n",
      "Run the STged EnDecon \n",
      "We will adpote a value for lambda 1 in our algorithm... \n",
      "Select value of lambda1 0.2485873 \n",
      "tuning for lambda 2 in our algorithm... \n",
      "Select value of lambda2 0.1951821 \n",
      "Run the main algorithm... \n",
      "Run time of STged 8.664101 \n",
      "Run the STged DWLS \n",
      "We will adpote a value for lambda 1 in our algorithm... \n",
      "Select value of lambda1 0.2666029 \n",
      "tuning for lambda 2 in our algorithm... \n",
      "Select value of lambda2 0.1951821 \n",
      "Run the main algorithm... \n",
      "Run time of STged 8.420533 \n",
      "Run the STged SONAR \n",
      "We will adpote a value for lambda 1 in our algorithm... \n",
      "Select value of lambda1 0.2789367 \n",
      "tuning for lambda 2 in our algorithm... \n",
      "Select value of lambda2 0.1951821 \n",
      "Run the main algorithm... \n",
      "Run time of STged 9.219546 \n"
     ]
    }
   ],
   "source": [
    "### run code with parameters selection\n",
    "methods = names(res_decon_ct)\n",
    "bench_celltype_STged = matrix(list(), length(methods) ,1)\n",
    "for(ii in 1: length(methods) ){\n",
    "  \n",
    "  cat(\"Run the STged\", methods[ii], \"\\n\")\n",
    "  beta.type.bench = res_decon_ct[[ii]][colnames(datax$spot_exp),]\n",
    "  start_time <- Sys.time()\n",
    "  stged.est = MUR.STged(srt_exp = datax$spot_exp, ref_exp = ref_exp, \n",
    "                        beta.type = beta.type.bench,   W = L.mat$dis_weight, cutoff = 0.05, \n",
    "                        lambda1 = NULL, lambda2 = NULL,\n",
    "                        epsilon = 1e-5,  maxiter = 200)\n",
    "  \n",
    "  end_time <- Sys.time()\n",
    "  bench_celltype_STged[[ii]] = stged.est$V.hat\n",
    "  cat(\"Run time of STged\", end_time - start_time,\"\\n\") \n",
    "  \n",
    "}\n",
    "\n",
    "files = paste0(\"./results/MPOA/STged_est_spot_decon_Use_tureprop_tuning_est\",patch_size,\"um2.RDS\")\n",
    "saveRDS(bench_celltype_STged, file =files)\n"
   ]
  }
 ],
 "metadata": {
  "kernelspec": {
   "display_name": "R",
   "language": "R",
   "name": "ir"
  },
  "language_info": {
   "codemirror_mode": "r",
   "file_extension": ".r",
   "mimetype": "text/x-r-source",
   "name": "R",
   "pygments_lexer": "r",
   "version": "4.4.1"
  },
  "papermill": {
   "default_parameters": {},
   "duration": 111.78339,
   "end_time": "2024-10-26T12:02:14.090639",
   "environment_variables": {},
   "exception": null,
   "input_path": "MERFISH-count-ref-scRNA_est_prop_bench50um.ipynb",
   "output_path": "./results/output_MERFISH-count-ref-scRNA_est_prop_bench50um_v4.ipynb",
   "parameters": {},
   "start_time": "2024-10-26T12:00:22.307249",
   "version": "2.3.3"
  }
 },
 "nbformat": 4,
 "nbformat_minor": 5
}