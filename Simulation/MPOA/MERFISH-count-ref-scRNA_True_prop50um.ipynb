{
 "cells": [
  {
   "cell_type": "markdown",
   "id": "d67e6f1c",
   "metadata": {
    "papermill": {
     "duration": 0.020511,
     "end_time": "2024-11-25T06:07:52.570630",
     "exception": false,
     "start_time": "2024-11-25T06:07:52.550119",
     "status": "completed"
    },
    "tags": []
   },
   "source": [
    "**NOTE**: Here we test the performance of the STged with true cell type proportion and cell type proportion predicted from cell type deconvolution methods. We then compare it with competing methods."
   ]
  },
  {
   "cell_type": "code",
   "execution_count": 1,
   "id": "759b16a2",
   "metadata": {
    "execution": {
     "iopub.execute_input": "2024-11-25T06:07:52.609306Z",
     "iopub.status.busy": "2024-11-25T06:07:52.605311Z",
     "iopub.status.idle": "2024-11-25T06:08:03.031956Z",
     "shell.execute_reply": "2024-11-25T06:08:03.027742Z"
    },
    "papermill": {
     "duration": 10.448874,
     "end_time": "2024-11-25T06:08:03.036242",
     "exception": false,
     "start_time": "2024-11-25T06:07:52.587368",
     "status": "completed"
    },
    "tags": [],
    "vscode": {
     "languageId": "r"
    }
   },
   "outputs": [],
   "source": [
    "\n",
    "#remove(list = ls())\n",
    "#define the conda env\n",
    "\n",
    "library(reticulate)\n",
    "use_condaenv(\"ccnet\", required = TRUE)\n",
    "\n",
    "python_env = \"python_env\""
   ]
  },
  {
   "cell_type": "code",
   "execution_count": 2,
   "id": "f153822c",
   "metadata": {
    "execution": {
     "iopub.execute_input": "2024-11-25T06:08:03.137549Z",
     "iopub.status.busy": "2024-11-25T06:08:03.075876Z",
     "iopub.status.idle": "2024-11-25T06:09:25.265248Z",
     "shell.execute_reply": "2024-11-25T06:09:25.263057Z"
    },
    "papermill": {
     "duration": 82.226304,
     "end_time": "2024-11-25T06:09:25.281917",
     "exception": false,
     "start_time": "2024-11-25T06:08:03.055613",
     "status": "completed"
    },
    "tags": [],
    "vscode": {
     "languageId": "r"
    }
   },
   "outputs": [
    {
     "name": "stderr",
     "output_type": "stream",
     "text": [
      "Package 'ENIGMA' version 0.1.6\n",
      "ENIGMA is built for fully deconvolution.\n",
      "\n"
     ]
    }
   ],
   "source": [
    "library(ggplot2)\n",
    "library(scatterpie)\n",
    "library(RColorBrewer)\n",
    "library(TCA)\n",
    "library(ENIGMA)"
   ]
  },
  {
   "cell_type": "code",
   "execution_count": 3,
   "id": "21fc87e7",
   "metadata": {
    "execution": {
     "iopub.execute_input": "2024-11-25T06:09:25.321223Z",
     "iopub.status.busy": "2024-11-25T06:09:25.317187Z",
     "iopub.status.idle": "2024-11-25T06:09:25.365413Z",
     "shell.execute_reply": "2024-11-25T06:09:25.362705Z"
    },
    "papermill": {
     "duration": 0.069599,
     "end_time": "2024-11-25T06:09:25.369175",
     "exception": false,
     "start_time": "2024-11-25T06:09:25.299576",
     "status": "completed"
    },
    "tags": [],
    "vscode": {
     "languageId": "r"
    }
   },
   "outputs": [],
   "source": [
    "# Source code\n",
    "source(\"./code/STged.R\")\n",
    "source(\"./code/benchmark.R\")"
   ]
  },
  {
   "cell_type": "code",
   "execution_count": 4,
   "id": "d7553bbe",
   "metadata": {
    "execution": {
     "iopub.execute_input": "2024-11-25T06:09:25.411211Z",
     "iopub.status.busy": "2024-11-25T06:09:25.408038Z",
     "iopub.status.idle": "2024-11-25T06:09:25.447745Z",
     "shell.execute_reply": "2024-11-25T06:09:25.444832Z"
    },
    "papermill": {
     "duration": 0.063477,
     "end_time": "2024-11-25T06:09:25.451758",
     "exception": false,
     "start_time": "2024-11-25T06:09:25.388281",
     "status": "completed"
    },
    "tags": [],
    "vscode": {
     "languageId": "r"
    }
   },
   "outputs": [],
   "source": [
    "colors <- colorRampPalette(brewer.pal(9, \"Set3\"))(12)\n"
   ]
  },
  {
   "cell_type": "markdown",
   "id": "334db802",
   "metadata": {
    "papermill": {
     "duration": 0.016358,
     "end_time": "2024-11-25T06:09:25.487187",
     "exception": false,
     "start_time": "2024-11-25T06:09:25.470829",
     "status": "completed"
    },
    "tags": []
   },
   "source": [
    "# Load data the generated simulated data\n",
    "\n"
   ]
  },
  {
   "cell_type": "code",
   "execution_count": 5,
   "id": "b1bdeda9",
   "metadata": {
    "execution": {
     "iopub.execute_input": "2024-11-25T06:09:25.522980Z",
     "iopub.status.busy": "2024-11-25T06:09:25.519762Z",
     "iopub.status.idle": "2024-11-25T06:12:13.143342Z",
     "shell.execute_reply": "2024-11-25T06:12:13.141938Z"
    },
    "papermill": {
     "duration": 167.662949,
     "end_time": "2024-11-25T06:12:13.165267",
     "exception": false,
     "start_time": "2024-11-25T06:09:25.502318",
     "status": "completed"
    },
    "tags": [],
    "vscode": {
     "languageId": "r"
    }
   },
   "outputs": [
    {
     "data": {
      "text/html": [
       "50"
      ],
      "text/latex": [
       "50"
      ],
      "text/markdown": [
       "50"
      ],
      "text/plain": [
       "[1] 50"
      ]
     },
     "metadata": {},
     "output_type": "display_data"
    },
    {
     "name": "stderr",
     "output_type": "stream",
     "text": [
      "Loading required package: hash\n",
      "\n"
     ]
    },
    {
     "name": "stderr",
     "output_type": "stream",
     "text": [
      "hash-2.2.6.3 provided by Decision Patterns\n",
      "\n",
      "\n"
     ]
    },
    {
     "data": {
      "text/html": [
       "<style>\n",
       ".list-inline {list-style: none; margin:0; padding: 0}\n",
       ".list-inline>li {display: inline-block}\n",
       ".list-inline>li:not(:last-child)::after {content: \"\\00b7\"; padding: 0 .5ex}\n",
       "</style>\n",
       "<ol class=list-inline><li>134</li><li>29760</li></ol>\n"
      ],
      "text/latex": [
       "\\begin{enumerate*}\n",
       "\\item 134\n",
       "\\item 29760\n",
       "\\end{enumerate*}\n"
      ],
      "text/markdown": [
       "1. 134\n",
       "2. 29760\n",
       "\n",
       "\n"
      ],
      "text/plain": [
       "[1]   134 29760"
      ]
     },
     "metadata": {},
     "output_type": "display_data"
    },
    {
     "data": {
      "text/html": [
       "29760"
      ],
      "text/latex": [
       "29760"
      ],
      "text/markdown": [
       "29760"
      ],
      "text/plain": [
       "[1] 29760"
      ]
     },
     "metadata": {},
     "output_type": "display_data"
    }
   ],
   "source": [
    "sim_data = readRDS(\"./realdata/MPOA/FN7_hash_mpoa_sim-29_ref01.Rds\")\n",
    "\n",
    "i = 2\n",
    "patch_size = c(100,50)[i]\n",
    "patch_size\n",
    "\n",
    "mpoa = sim_data$mpoa_list[[i]]$`-0.29`\n",
    "\n",
    "# load the referene from scRNA\n",
    "sim_data = readRDS(\"./realdata/MPOA/refscRNA/scRNA_MPOA50k.RDS\")\n",
    "sc_exp = sim_data$scexp\n",
    "sc_label = sim_data$sclabel\n",
    "\n",
    "dim(sc_exp)\n",
    "length(sc_label)\n"
   ]
  },
  {
   "cell_type": "code",
   "execution_count": 6,
   "id": "a4bdc125",
   "metadata": {
    "execution": {
     "iopub.execute_input": "2024-11-25T06:12:13.203033Z",
     "iopub.status.busy": "2024-11-25T06:12:13.200456Z",
     "iopub.status.idle": "2024-11-25T06:12:13.231541Z",
     "shell.execute_reply": "2024-11-25T06:12:13.229122Z"
    },
    "papermill": {
     "duration": 0.051622,
     "end_time": "2024-11-25T06:12:13.234424",
     "exception": false,
     "start_time": "2024-11-25T06:12:13.182802",
     "status": "completed"
    },
    "tags": [],
    "vscode": {
     "languageId": "r"
    }
   },
   "outputs": [
    {
     "data": {
      "text/plain": [
       "sc_label\n",
       "  Astrocyte Endothelial   Ependymal  Excitatory  Inhibitory   Microglia \n",
       "        857         541          69        3511       15042         828 \n",
       "OD Immature   OD Mature   Pericytes \n",
       "       1692        6707         513 "
      ]
     },
     "metadata": {},
     "output_type": "display_data"
    }
   ],
   "source": [
    "\n",
    "table(sc_label)\n",
    "\n"
   ]
  },
  {
   "cell_type": "markdown",
   "id": "b42486ff",
   "metadata": {
    "papermill": {
     "duration": 0.012956,
     "end_time": "2024-11-25T06:12:13.261656",
     "exception": false,
     "start_time": "2024-11-25T06:12:13.248700",
     "status": "completed"
    },
    "tags": []
   },
   "source": [
    "## The spots location information"
   ]
  },
  {
   "cell_type": "code",
   "execution_count": 7,
   "id": "1d878b99",
   "metadata": {
    "execution": {
     "iopub.execute_input": "2024-11-25T06:12:13.290822Z",
     "iopub.status.busy": "2024-11-25T06:12:13.288270Z",
     "iopub.status.idle": "2024-11-25T06:12:13.360921Z",
     "shell.execute_reply": "2024-11-25T06:12:13.358920Z"
    },
    "papermill": {
     "duration": 0.089732,
     "end_time": "2024-11-25T06:12:13.363647",
     "exception": false,
     "start_time": "2024-11-25T06:12:13.273915",
     "status": "completed"
    },
    "tags": [],
    "vscode": {
     "languageId": "r"
    }
   },
   "outputs": [
    {
     "data": {
      "text/html": [
       "<style>\n",
       ".list-inline {list-style: none; margin:0; padding: 0}\n",
       ".list-inline>li {display: inline-block}\n",
       ".list-inline>li:not(:last-child)::after {content: \"\\00b7\"; padding: 0 .5ex}\n",
       "</style>\n",
       "<ol class=list-inline><li>135</li><li>1141</li></ol>\n"
      ],
      "text/latex": [
       "\\begin{enumerate*}\n",
       "\\item 135\n",
       "\\item 1141\n",
       "\\end{enumerate*}\n"
      ],
      "text/markdown": [
       "1. 135\n",
       "2. 1141\n",
       "\n",
       "\n"
      ],
      "text/plain": [
       "[1]  135 1141"
      ]
     },
     "metadata": {},
     "output_type": "display_data"
    },
    {
     "data": {
      "text/html": [
       "<style>\n",
       ".list-inline {list-style: none; margin:0; padding: 0}\n",
       ".list-inline>li {display: inline-block}\n",
       ".list-inline>li:not(:last-child)::after {content: \"\\00b7\"; padding: 0 .5ex}\n",
       "</style>\n",
       "<ol class=list-inline><li>'Astrocyte'</li><li>'Endothelial'</li><li>'Ependymal'</li><li>'Excitatory'</li><li>'Inhibitory'</li><li>'Microglia'</li><li>'OD Immature'</li><li>'OD Mature'</li><li>'Pericytes'</li></ol>\n"
      ],
      "text/latex": [
       "\\begin{enumerate*}\n",
       "\\item 'Astrocyte'\n",
       "\\item 'Endothelial'\n",
       "\\item 'Ependymal'\n",
       "\\item 'Excitatory'\n",
       "\\item 'Inhibitory'\n",
       "\\item 'Microglia'\n",
       "\\item 'OD Immature'\n",
       "\\item 'OD Mature'\n",
       "\\item 'Pericytes'\n",
       "\\end{enumerate*}\n"
      ],
      "text/markdown": [
       "1. 'Astrocyte'\n",
       "2. 'Endothelial'\n",
       "3. 'Ependymal'\n",
       "4. 'Excitatory'\n",
       "5. 'Inhibitory'\n",
       "6. 'Microglia'\n",
       "7. 'OD Immature'\n",
       "8. 'OD Mature'\n",
       "9. 'Pericytes'\n",
       "\n",
       "\n"
      ],
      "text/plain": [
       "[1] \"Astrocyte\"   \"Endothelial\" \"Ependymal\"   \"Excitatory\"  \"Inhibitory\" \n",
       "[6] \"Microglia\"   \"OD Immature\" \"OD Mature\"   \"Pericytes\"  "
      ]
     },
     "metadata": {},
     "output_type": "display_data"
    }
   ],
   "source": [
    "spot_raw = rownames(mpoa$patchGexp)\n",
    "spots = paste0(\"spot\",1:length(spot_raw))\n",
    "\n",
    "\n",
    "split_strings <- strsplit(spot_raw, \"_\")\n",
    "spot_loc <- do.call(rbind, lapply(split_strings, function(x) as.numeric(x)))\n",
    "spot_exp <- t(mpoa$patchGexp)[,spot_raw ]\n",
    "dim(spot_exp)\n",
    "\n",
    "cell_type_freq = as.matrix(mpoa$cellTypeTable[spot_raw,]) \n",
    "cell_type_freq <- apply(cell_type_freq, 2, as.numeric)  \n",
    "cell_type_prop = sweep(cell_type_freq, 1, rowSums(cell_type_freq), FUN = \"/\")\n",
    "\n",
    "cell_type = colnames(cell_type_prop)\n",
    "cell_type\n",
    "\n",
    "\n",
    "rownames(cell_type_prop) = rownames(spot_loc)  = spots\n",
    "colnames(spot_exp) = spots\n"
   ]
  },
  {
   "cell_type": "markdown",
   "id": "e8689047",
   "metadata": {
    "papermill": {
     "duration": 0.015036,
     "end_time": "2024-11-25T06:12:13.395399",
     "exception": false,
     "start_time": "2024-11-25T06:12:13.380363",
     "status": "completed"
    },
    "tags": []
   },
   "source": [
    "## TRUE cell type-specific gene expression for each cell type"
   ]
  },
  {
   "cell_type": "code",
   "execution_count": 8,
   "id": "7a2ad658",
   "metadata": {
    "execution": {
     "iopub.execute_input": "2024-11-25T06:12:13.428307Z",
     "iopub.status.busy": "2024-11-25T06:12:13.425710Z",
     "iopub.status.idle": "2024-11-25T06:12:13.587139Z",
     "shell.execute_reply": "2024-11-25T06:12:13.585554Z"
    },
    "papermill": {
     "duration": 0.180599,
     "end_time": "2024-11-25T06:12:13.590072",
     "exception": false,
     "start_time": "2024-11-25T06:12:13.409473",
     "status": "completed"
    },
    "tags": [],
    "vscode": {
     "languageId": "r"
    }
   },
   "outputs": [],
   "source": [
    "genes = rownames(spot_exp)  \n",
    "TRUE_F = vector(\"list\", length(cell_type))  \n",
    "names(TRUE_F) = cell_type  \n",
    "\n",
    "spot_cell_type_exp = mpoa$avgPatchGexp\n",
    "\n",
    "for(i in 1:length(cell_type)){\n",
    "  \n",
    "  temp_mat = matrix(0, nrow = length(spots), ncol = length(genes))\n",
    "  colnames(temp_mat) = genes\n",
    "  rownames(temp_mat) = spots\n",
    "  \n",
    "  for(j in 1:length(spots)){\n",
    "    temp = spot_cell_type_exp[[j]]\n",
    "    \n",
    "    \n",
    "    if (cell_type[i] %in% colnames(temp)) {\n",
    "      temp_mat[j,] = temp[,cell_type[i]]\n",
    "    } else {\n",
    "      \n",
    "      temp_mat[j,] = 0\n",
    "    }\n",
    "  }\n",
    "  \n",
    "  \n",
    "  TRUE_F[[i]] = t(temp_mat)\n",
    "}\n",
    "\n"
   ]
  },
  {
   "cell_type": "markdown",
   "id": "950d582d",
   "metadata": {
    "papermill": {
     "duration": 0.017703,
     "end_time": "2024-11-25T06:12:13.629469",
     "exception": false,
     "start_time": "2024-11-25T06:12:13.611766",
     "status": "completed"
    },
    "tags": []
   },
   "source": [
    "# Run the STged step by step"
   ]
  },
  {
   "cell_type": "markdown",
   "id": "aeb511e9",
   "metadata": {
    "papermill": {
     "duration": 0.014828,
     "end_time": "2024-11-25T06:12:13.660508",
     "exception": false,
     "start_time": "2024-11-25T06:12:13.645680",
     "status": "completed"
    },
    "tags": []
   },
   "source": [
    "## Step 1: clear data"
   ]
  },
  {
   "cell_type": "code",
   "execution_count": 9,
   "id": "7d8f4562",
   "metadata": {
    "execution": {
     "iopub.execute_input": "2024-11-25T06:12:13.693353Z",
     "iopub.status.busy": "2024-11-25T06:12:13.690785Z",
     "iopub.status.idle": "2024-11-25T06:12:15.235028Z",
     "shell.execute_reply": "2024-11-25T06:12:15.233698Z"
    },
    "papermill": {
     "duration": 1.56356,
     "end_time": "2024-11-25T06:12:15.238254",
     "exception": false,
     "start_time": "2024-11-25T06:12:13.674694",
     "status": "completed"
    },
    "tags": [],
    "vscode": {
     "languageId": "r"
    }
   },
   "outputs": [],
   "source": [
    "clean.only = FALSE\n",
    "depthscale = 1e6\n",
    "datax = data_process(sc_exp = sc_exp,   sc_label = sc_label, \n",
    "                     spot_exp = spot_exp,  spot_loc = spot_loc,\n",
    "                     depthscale = depthscale,  gene_det_in_min_cells_per = 0, \n",
    "                     expression_threshold = 0,\n",
    "                     nUMI = 10, verbose = FALSE, clean.only = clean.only)\n"
   ]
  },
  {
   "cell_type": "code",
   "execution_count": 10,
   "id": "f4055855",
   "metadata": {
    "execution": {
     "iopub.execute_input": "2024-11-25T06:12:15.346111Z",
     "iopub.status.busy": "2024-11-25T06:12:15.344673Z",
     "iopub.status.idle": "2024-11-25T06:12:15.379697Z",
     "shell.execute_reply": "2024-11-25T06:12:15.378272Z"
    },
    "papermill": {
     "duration": 0.052428,
     "end_time": "2024-11-25T06:12:15.381547",
     "exception": false,
     "start_time": "2024-11-25T06:12:15.329119",
     "status": "completed"
    },
    "tags": [],
    "vscode": {
     "languageId": "r"
    }
   },
   "outputs": [
    {
     "data": {
      "text/html": [
       "13.3083630694767"
      ],
      "text/latex": [
       "13.3083630694767"
      ],
      "text/markdown": [
       "13.3083630694767"
      ],
      "text/plain": [
       "[1] 13.30836"
      ]
     },
     "metadata": {},
     "output_type": "display_data"
    },
    {
     "data": {
      "text/html": [
       "13.7572427098397"
      ],
      "text/latex": [
       "13.7572427098397"
      ],
      "text/markdown": [
       "13.7572427098397"
      ],
      "text/plain": [
       "[1] 13.75724"
      ]
     },
     "metadata": {},
     "output_type": "display_data"
    }
   ],
   "source": [
    "max(datax$spot_exp)\n",
    "max(datax$sc_exp)"
   ]
  },
  {
   "cell_type": "code",
   "execution_count": 11,
   "id": "a4ab1c97",
   "metadata": {
    "execution": {
     "iopub.execute_input": "2024-11-25T06:12:15.408131Z",
     "iopub.status.busy": "2024-11-25T06:12:15.406847Z",
     "iopub.status.idle": "2024-11-25T06:12:15.426405Z",
     "shell.execute_reply": "2024-11-25T06:12:15.424984Z"
    },
    "papermill": {
     "duration": 0.034566,
     "end_time": "2024-11-25T06:12:15.428161",
     "exception": false,
     "start_time": "2024-11-25T06:12:15.393595",
     "status": "completed"
    },
    "tags": [],
    "vscode": {
     "languageId": "r"
    }
   },
   "outputs": [
    {
     "data": {
      "text/html": [
       "<style>\n",
       ".list-inline {list-style: none; margin:0; padding: 0}\n",
       ".list-inline>li {display: inline-block}\n",
       ".list-inline>li:not(:last-child)::after {content: \"\\00b7\"; padding: 0 .5ex}\n",
       "</style>\n",
       "<ol class=list-inline><li>134</li><li>28357</li></ol>\n"
      ],
      "text/latex": [
       "\\begin{enumerate*}\n",
       "\\item 134\n",
       "\\item 28357\n",
       "\\end{enumerate*}\n"
      ],
      "text/markdown": [
       "1. 134\n",
       "2. 28357\n",
       "\n",
       "\n"
      ],
      "text/plain": [
       "[1]   134 28357"
      ]
     },
     "metadata": {},
     "output_type": "display_data"
    },
    {
     "data": {
      "text/plain": [
       "\n",
       "  Astrocyte Endothelial   Ependymal  Excitatory  Inhibitory   Microglia \n",
       "        574         514          54        3418       14304         730 \n",
       "OD Immature   OD Mature   Pericytes \n",
       "       1647        6608         508 "
      ]
     },
     "metadata": {},
     "output_type": "display_data"
    }
   ],
   "source": [
    "dim(datax$sc_exp)\n",
    "table(datax$sc_label)"
   ]
  },
  {
   "cell_type": "code",
   "execution_count": 12,
   "id": "a5c3897d",
   "metadata": {
    "execution": {
     "iopub.execute_input": "2024-11-25T06:12:15.452450Z",
     "iopub.status.busy": "2024-11-25T06:12:15.451207Z",
     "iopub.status.idle": "2024-11-25T06:12:15.566331Z",
     "shell.execute_reply": "2024-11-25T06:12:15.565086Z"
    },
    "papermill": {
     "duration": 0.129991,
     "end_time": "2024-11-25T06:12:15.569357",
     "exception": false,
     "start_time": "2024-11-25T06:12:15.439366",
     "status": "completed"
    },
    "tags": [],
    "vscode": {
     "languageId": "r"
    }
   },
   "outputs": [],
   "source": [
    "# use for the other completed methods\n",
    "datax_count = data_process(sc_exp = sc_exp,   sc_label = sc_label, \n",
    "                     spot_exp = spot_exp,  spot_loc = spot_loc,\n",
    "                     depthscale = depthscale,  gene_det_in_min_cells_per = 0, \n",
    "                     expression_threshold = 0,\n",
    "                     nUMI =  10, verbose = FALSE, clean.only = TRUE)"
   ]
  },
  {
   "cell_type": "code",
   "execution_count": 13,
   "id": "7377994c",
   "metadata": {
    "execution": {
     "iopub.execute_input": "2024-11-25T06:12:15.612890Z",
     "iopub.status.busy": "2024-11-25T06:12:15.611657Z",
     "iopub.status.idle": "2024-11-25T06:12:15.627130Z",
     "shell.execute_reply": "2024-11-25T06:12:15.625726Z"
    },
    "papermill": {
     "duration": 0.037907,
     "end_time": "2024-11-25T06:12:15.629204",
     "exception": false,
     "start_time": "2024-11-25T06:12:15.591297",
     "status": "completed"
    },
    "tags": [],
    "vscode": {
     "languageId": "r"
    }
   },
   "outputs": [
    {
     "data": {
      "text/html": [
       "134"
      ],
      "text/latex": [
       "134"
      ],
      "text/markdown": [
       "134"
      ],
      "text/plain": [
       "[1] 134"
      ]
     },
     "metadata": {},
     "output_type": "display_data"
    }
   ],
   "source": [
    "genes_sec = rownames(datax$spot_exp)\n",
    "length(genes_sec)"
   ]
  },
  {
   "cell_type": "code",
   "execution_count": 14,
   "id": "643dad04",
   "metadata": {
    "execution": {
     "iopub.execute_input": "2024-11-25T06:12:15.665874Z",
     "iopub.status.busy": "2024-11-25T06:12:15.663336Z",
     "iopub.status.idle": "2024-11-25T06:12:15.961845Z",
     "shell.execute_reply": "2024-11-25T06:12:15.960575Z"
    },
    "papermill": {
     "duration": 0.319556,
     "end_time": "2024-11-25T06:12:15.965082",
     "exception": false,
     "start_time": "2024-11-25T06:12:15.645526",
     "status": "completed"
    },
    "tags": [],
    "vscode": {
     "languageId": "r"
    }
   },
   "outputs": [],
   "source": [
    "genes_sec = rownames(datax$spot_exp)\n",
    "\n",
    "for(i in 1:length(cell_type)){\n",
    "  \n",
    "  TRUE_F[[i]] = TRUE_F[[i]][genes_sec, colnames(datax$spot_exp )]\n",
    "  \n",
    "}\n",
    "\n",
    "depthscale = 1e6\n",
    "trueF = res_library_size_normaization(estres = TRUE_F, depthscale = depthscale)\n",
    "\n",
    "\n",
    "saveRDS(TRUE_F, file = paste0(\"./results/MPOA/True_cell_exp_\", patch_size, \"um2.RDS\"))\n"
   ]
  },
  {
   "cell_type": "markdown",
   "id": "97ea8993",
   "metadata": {
    "papermill": {
     "duration": 0.018778,
     "end_time": "2024-11-25T06:12:16.005764",
     "exception": false,
     "start_time": "2024-11-25T06:12:15.986986",
     "status": "completed"
    },
    "tags": []
   },
   "source": [
    "## Step 2: construct spatial correlation structures"
   ]
  },
  {
   "cell_type": "code",
   "execution_count": 15,
   "id": "d7089564",
   "metadata": {
    "execution": {
     "iopub.execute_input": "2024-11-25T06:12:16.042369Z",
     "iopub.status.busy": "2024-11-25T06:12:16.040813Z",
     "iopub.status.idle": "2024-11-25T06:12:52.501384Z",
     "shell.execute_reply": "2024-11-25T06:12:52.499284Z"
    },
    "papermill": {
     "duration": 36.481396,
     "end_time": "2024-11-25T06:12:52.504478",
     "exception": false,
     "start_time": "2024-11-25T06:12:16.023082",
     "status": "completed"
    },
    "tags": [],
    "vscode": {
     "languageId": "r"
    }
   },
   "outputs": [
    {
     "name": "stdout",
     "output_type": "stream",
     "text": [
      "Construct spatial correlation \n"
     ]
    }
   ],
   "source": [
    "cat(\"Construct spatial correlation\", \"\\n\")\n",
    "L.mat = dis_weight(spot_loc = datax$spot_loc, spot_exp = datax$spot_exp, k = 4, \n",
    "                   quantile_prob_bandwidth = 1/3, method = \"Square\", \n",
    "                   coord_type = \"grid\")"
   ]
  },
  {
   "cell_type": "markdown",
   "id": "69c6a727",
   "metadata": {
    "papermill": {
     "duration": 0.019244,
     "end_time": "2024-11-25T06:12:52.546521",
     "exception": false,
     "start_time": "2024-11-25T06:12:52.527277",
     "status": "completed"
    },
    "tags": []
   },
   "source": [
    "## Step 3: construct reference gene matrix"
   ]
  },
  {
   "cell_type": "code",
   "execution_count": 16,
   "id": "67431d43",
   "metadata": {
    "execution": {
     "iopub.execute_input": "2024-11-25T06:12:52.583428Z",
     "iopub.status.busy": "2024-11-25T06:12:52.581586Z",
     "iopub.status.idle": "2024-11-25T06:12:53.698452Z",
     "shell.execute_reply": "2024-11-25T06:12:53.697216Z"
    },
    "papermill": {
     "duration": 1.138768,
     "end_time": "2024-11-25T06:12:53.702139",
     "exception": false,
     "start_time": "2024-11-25T06:12:52.563371",
     "status": "completed"
    },
    "tags": [],
    "vscode": {
     "languageId": "r"
    }
   },
   "outputs": [
    {
     "name": "stdout",
     "output_type": "stream",
     "text": [
      "Construct reference gene matrix \n"
     ]
    },
    {
     "data": {
      "text/html": [
       "<style>\n",
       ".list-inline {list-style: none; margin:0; padding: 0}\n",
       ".list-inline>li {display: inline-block}\n",
       ".list-inline>li:not(:last-child)::after {content: \"\\00b7\"; padding: 0 .5ex}\n",
       "</style>\n",
       "<ol class=list-inline><li>'Astrocyte'</li><li>'Endothelial'</li><li>'Ependymal'</li><li>'Excitatory'</li><li>'Inhibitory'</li><li>'Microglia'</li><li>'OD Immature'</li><li>'OD Mature'</li><li>'Pericytes'</li></ol>\n"
      ],
      "text/latex": [
       "\\begin{enumerate*}\n",
       "\\item 'Astrocyte'\n",
       "\\item 'Endothelial'\n",
       "\\item 'Ependymal'\n",
       "\\item 'Excitatory'\n",
       "\\item 'Inhibitory'\n",
       "\\item 'Microglia'\n",
       "\\item 'OD Immature'\n",
       "\\item 'OD Mature'\n",
       "\\item 'Pericytes'\n",
       "\\end{enumerate*}\n"
      ],
      "text/markdown": [
       "1. 'Astrocyte'\n",
       "2. 'Endothelial'\n",
       "3. 'Ependymal'\n",
       "4. 'Excitatory'\n",
       "5. 'Inhibitory'\n",
       "6. 'Microglia'\n",
       "7. 'OD Immature'\n",
       "8. 'OD Mature'\n",
       "9. 'Pericytes'\n",
       "\n",
       "\n"
      ],
      "text/plain": [
       "[1] \"Astrocyte\"   \"Endothelial\" \"Ependymal\"   \"Excitatory\"  \"Inhibitory\" \n",
       "[6] \"Microglia\"   \"OD Immature\" \"OD Mature\"   \"Pericytes\"  "
      ]
     },
     "metadata": {},
     "output_type": "display_data"
    }
   ],
   "source": [
    "cat(\"Construct reference gene matrix\", \"\\n\")\n",
    "\n",
    "ref_exp = create_group_exp(sc_exp = datax$sc_exp, sc_label = datax$sc_label)\n",
    "colnames(ref_exp)\n"
   ]
  },
  {
   "cell_type": "code",
   "execution_count": 17,
   "id": "9a68960d",
   "metadata": {
    "execution": {
     "iopub.execute_input": "2024-11-25T06:12:53.959764Z",
     "iopub.status.busy": "2024-11-25T06:12:53.958017Z",
     "iopub.status.idle": "2024-11-25T06:12:53.982223Z",
     "shell.execute_reply": "2024-11-25T06:12:53.980637Z"
    },
    "papermill": {
     "duration": 0.051954,
     "end_time": "2024-11-25T06:12:53.984679",
     "exception": false,
     "start_time": "2024-11-25T06:12:53.932725",
     "status": "completed"
    },
    "tags": [],
    "vscode": {
     "languageId": "r"
    }
   },
   "outputs": [
    {
     "data": {
      "text/html": [
       "<style>\n",
       ".list-inline {list-style: none; margin:0; padding: 0}\n",
       ".list-inline>li {display: inline-block}\n",
       ".list-inline>li:not(:last-child)::after {content: \"\\00b7\"; padding: 0 .5ex}\n",
       "</style>\n",
       "<ol class=list-inline><li>'Astrocyte'</li><li>'Endothelial'</li><li>'Ependymal'</li><li>'Excitatory'</li><li>'Inhibitory'</li><li>'Microglia'</li><li>'OD Immature'</li><li>'OD Mature'</li><li>'Pericytes'</li></ol>\n"
      ],
      "text/latex": [
       "\\begin{enumerate*}\n",
       "\\item 'Astrocyte'\n",
       "\\item 'Endothelial'\n",
       "\\item 'Ependymal'\n",
       "\\item 'Excitatory'\n",
       "\\item 'Inhibitory'\n",
       "\\item 'Microglia'\n",
       "\\item 'OD Immature'\n",
       "\\item 'OD Mature'\n",
       "\\item 'Pericytes'\n",
       "\\end{enumerate*}\n"
      ],
      "text/markdown": [
       "1. 'Astrocyte'\n",
       "2. 'Endothelial'\n",
       "3. 'Ependymal'\n",
       "4. 'Excitatory'\n",
       "5. 'Inhibitory'\n",
       "6. 'Microglia'\n",
       "7. 'OD Immature'\n",
       "8. 'OD Mature'\n",
       "9. 'Pericytes'\n",
       "\n",
       "\n"
      ],
      "text/plain": [
       "[1] \"Astrocyte\"   \"Endothelial\" \"Ependymal\"   \"Excitatory\"  \"Inhibitory\" \n",
       "[6] \"Microglia\"   \"OD Immature\" \"OD Mature\"   \"Pericytes\"  "
      ]
     },
     "metadata": {},
     "output_type": "display_data"
    },
    {
     "data": {
      "text/html": [
       "<style>\n",
       ".list-inline {list-style: none; margin:0; padding: 0}\n",
       ".list-inline>li {display: inline-block}\n",
       ".list-inline>li:not(:last-child)::after {content: \"\\00b7\"; padding: 0 .5ex}\n",
       "</style>\n",
       "<ol class=list-inline><li>'Astrocyte'</li><li>'Endothelial'</li><li>'Ependymal'</li><li>'Excitatory'</li><li>'Inhibitory'</li><li>'Microglia'</li><li>'OD Immature'</li><li>'OD Mature'</li><li>'Pericytes'</li></ol>\n"
      ],
      "text/latex": [
       "\\begin{enumerate*}\n",
       "\\item 'Astrocyte'\n",
       "\\item 'Endothelial'\n",
       "\\item 'Ependymal'\n",
       "\\item 'Excitatory'\n",
       "\\item 'Inhibitory'\n",
       "\\item 'Microglia'\n",
       "\\item 'OD Immature'\n",
       "\\item 'OD Mature'\n",
       "\\item 'Pericytes'\n",
       "\\end{enumerate*}\n"
      ],
      "text/markdown": [
       "1. 'Astrocyte'\n",
       "2. 'Endothelial'\n",
       "3. 'Ependymal'\n",
       "4. 'Excitatory'\n",
       "5. 'Inhibitory'\n",
       "6. 'Microglia'\n",
       "7. 'OD Immature'\n",
       "8. 'OD Mature'\n",
       "9. 'Pericytes'\n",
       "\n",
       "\n"
      ],
      "text/plain": [
       "[1] \"Astrocyte\"   \"Endothelial\" \"Ependymal\"   \"Excitatory\"  \"Inhibitory\" \n",
       "[6] \"Microglia\"   \"OD Immature\" \"OD Mature\"   \"Pericytes\"  "
      ]
     },
     "metadata": {},
     "output_type": "display_data"
    }
   ],
   "source": [
    "ref_exp = ref_exp[rownames(datax$spot_exp),]\n",
    "colnames(ref_exp )\n",
    "cell_type"
   ]
  },
  {
   "cell_type": "code",
   "execution_count": 18,
   "id": "37ba7c42",
   "metadata": {
    "execution": {
     "iopub.execute_input": "2024-11-25T06:12:54.024685Z",
     "iopub.status.busy": "2024-11-25T06:12:54.023207Z",
     "iopub.status.idle": "2024-11-25T06:12:54.036330Z",
     "shell.execute_reply": "2024-11-25T06:12:54.034861Z"
    },
    "papermill": {
     "duration": 0.034425,
     "end_time": "2024-11-25T06:12:54.038297",
     "exception": false,
     "start_time": "2024-11-25T06:12:54.003872",
     "status": "completed"
    },
    "tags": [],
    "vscode": {
     "languageId": "r"
    }
   },
   "outputs": [],
   "source": [
    "beta.type = cell_type_prop[colnames(datax$spot_exp),]"
   ]
  },
  {
   "cell_type": "code",
   "execution_count": 19,
   "id": "f5c25f1b",
   "metadata": {
    "execution": {
     "iopub.execute_input": "2024-11-25T06:12:54.073855Z",
     "iopub.status.busy": "2024-11-25T06:12:54.071444Z",
     "iopub.status.idle": "2024-11-25T06:12:54.211806Z",
     "shell.execute_reply": "2024-11-25T06:12:54.209987Z"
    },
    "papermill": {
     "duration": 0.160286,
     "end_time": "2024-11-25T06:12:54.214868",
     "exception": false,
     "start_time": "2024-11-25T06:12:54.054582",
     "status": "completed"
    },
    "tags": [],
    "vscode": {
     "languageId": "r"
    }
   },
   "outputs": [
    {
     "data": {
      "text/html": [
       "134"
      ],
      "text/latex": [
       "134"
      ],
      "text/markdown": [
       "134"
      ],
      "text/plain": [
       "[1] 134"
      ]
     },
     "metadata": {},
     "output_type": "display_data"
    }
   ],
   "source": [
    "p = nrow(datax$spot_exp)\n",
    "p\n",
    "K = ncol(beta.type)\n",
    "beta.ind.temp = beta.type>0.05\n",
    "\n",
    "beta.ind =  matrix(list(), K ,1)\n",
    "for (i in 1:K){\n",
    "  \n",
    "  beta.ind[[i]] =  matrix( rep(beta.ind.temp[,i],p), nrow = p, byrow = TRUE)\n",
    "}\n",
    "\n",
    "saveRDS(beta.ind, file =paste0(\"./results/MPOA/cell_prop_indx_\",patch_size,\"um2.RDS\"))\n"
   ]
  },
  {
   "cell_type": "markdown",
   "id": "b22933cf",
   "metadata": {
    "papermill": {
     "duration": 0.0206,
     "end_time": "2024-11-25T06:12:54.259360",
     "exception": false,
     "start_time": "2024-11-25T06:12:54.238760",
     "status": "completed"
    },
    "tags": []
   },
   "source": [
    "## Step 4: run the main model\n",
    "### Step 4-1: run the main model with true cell type proportion"
   ]
  },
  {
   "cell_type": "code",
   "execution_count": 20,
   "id": "3801a629",
   "metadata": {
    "execution": {
     "iopub.execute_input": "2024-11-25T06:12:54.300822Z",
     "iopub.status.busy": "2024-11-25T06:12:54.298055Z",
     "iopub.status.idle": "2024-11-25T06:14:01.215526Z",
     "shell.execute_reply": "2024-11-25T06:14:01.213844Z"
    },
    "papermill": {
     "duration": 66.940374,
     "end_time": "2024-11-25T06:14:01.218267",
     "exception": false,
     "start_time": "2024-11-25T06:12:54.277893",
     "status": "completed"
    },
    "tags": [],
    "vscode": {
     "languageId": "r"
    }
   },
   "outputs": [
    {
     "name": "stdout",
     "output_type": "stream",
     "text": [
      "We will adpote a value for lambda 1 in our algorithm... \n",
      "Select value of lambda1 0.08262865 \n",
      "tuning for lambda 2 in our algorithm... \n",
      "Select value of lambda2 0.1951821 \n",
      "Run the main algorithm... \n"
     ]
    },
    {
     "name": "stdout",
     "output_type": "stream",
     "text": [
      "We will adpote a value for lambda 1 in our algorithm... \n",
      "Select value of lambda1 0.08262865 \n",
      "Select value of lambda2 0 \n",
      "Run the main algorithm... \n"
     ]
    },
    {
     "name": "stdout",
     "output_type": "stream",
     "text": [
      "Select value of lambda1 0 \n",
      "tuning for lambda 2 in our algorithm... \n",
      "Select value of lambda2 0.1951821 \n",
      "Run the main algorithm... \n"
     ]
    },
    {
     "name": "stdout",
     "output_type": "stream",
     "text": [
      "Select value of lambda1 0 \n",
      "Select value of lambda2 0 \n",
      "Run the main algorithm... \n"
     ]
    }
   ],
   "source": [
    " \n",
    "start_time <- Sys.time()\n",
    "\n",
    "if (!file.exists(paste0(\"./results/MPOA/True_stged_\",patch_size,\"um2.RDS\"))) {\n",
    "  stged.est.true <- MUR.STged(\n",
    "    srt_exp = datax$spot_exp, \n",
    "    ref_exp = ref_exp, \n",
    "    beta.type = beta.type, \n",
    "    W = L.mat$weight_adj, \n",
    "    lambda1 = NULL, \n",
    "    lambda2 = NULL, \n",
    "    cutoff = 0.05, \n",
    "    epsilon = 1e-5\n",
    "  )\n",
    "  \n",
    "  saveRDS(stged.est.true, file = paste0( \"./results/MPOA/True_stged_\",patch_size,\"um2.RDS\"))\n",
    "} else {\n",
    "  \n",
    "  stged.est.true <- readRDS(paste0(\"./results/MPOA/True_stged_\",patch_size,\"um2.RDS\"))\n",
    "}\n",
    "\n",
    "end_time <- Sys.time()\n",
    "\n",
    "\n",
    "reg1 <- TRUE\n",
    "\n",
    "if (reg1 && !file.exists(paste0(\"./results/MPOA/True_stged_reg1_\",patch_size,\"um2.RDS\"))) {\n",
    "  stged.est.reg1 <- MUR.STged(\n",
    "    srt_exp = datax$spot_exp, \n",
    "    ref_exp = ref_exp, \n",
    "    beta.type = beta.type, \n",
    "    W = L.mat$weight_adj, \n",
    "    lambda1 = NULL, \n",
    "    lambda2 = 0, \n",
    "    cutoff = 0.05, \n",
    "    epsilon = 1e-5\n",
    "  )\n",
    "  \n",
    "  saveRDS(stged.est.reg1, file = paste0(\"./results/MPOA/True_stged_reg1_\",patch_size,\"um2.RDS\"))\n",
    "} else {\n",
    "  \n",
    "  stged.est.reg1 <- readRDS(paste0(\"./results/MPOA/True_stged_reg1_\",patch_size,\"um2.RDS\"))\n",
    "}\n",
    "\n",
    "\n",
    "reg2 <- TRUE\n",
    "if (reg2 && !file.exists(paste0(\"./results/MPOA/True_stged_reg2_\",patch_size,\"um2.RDS\"))) {\n",
    "  stged.est.reg2 <- MUR.STged(\n",
    "    srt_exp = datax$spot_exp, \n",
    "    ref_exp = ref_exp, \n",
    "    beta.type = beta.type, \n",
    "    W = L.mat$weight_adj, \n",
    "    lambda1 = 0, \n",
    "    lambda2 = NULL, \n",
    "    cutoff = 0.05, \n",
    "    epsilon = 1e-5\n",
    "  )\n",
    "  \n",
    "  saveRDS(stged.est.reg2, file = paste0(\"./results/MPOA/True_stged_reg2_\",patch_size,\"um2.RDS\"))\n",
    "} else {\n",
    "  \n",
    "  stged.est.reg2 <- readRDS(paste0(\"./results/MPOA/True_stged_reg2_\",patch_size,\"um2.RDS\"))\n",
    "}\n",
    "\n",
    "\n",
    "\n",
    "reg3 <- TRUE\n",
    "if (reg3 && !file.exists(paste0(\"./results/MPOA/True_stged_reg3_\",patch_size,\"um2.RDS\"))) {\n",
    "  stged.est.reg3 <- MUR.STged(\n",
    "    srt_exp = datax$spot_exp, \n",
    "    ref_exp = ref_exp, \n",
    "    beta.type = beta.type, \n",
    "    W = L.mat$weight_adj, \n",
    "    lambda1 = 0, \n",
    "    lambda2 = 0, \n",
    "    cutoff = 0.05, \n",
    "    epsilon = 1e-5\n",
    "  )\n",
    "  \n",
    "  saveRDS(stged.est.reg3, file = paste0(\"./results/MPOA/True_stged_reg3_\",patch_size,\"um2.RDS\"))\n",
    "} else {\n",
    "  \n",
    "  stged.est.reg3 <- readRDS(paste0(\"./results/MPOA/True_stged_reg3_\",patch_size,\"um2.RDS\"))\n",
    "}"
   ]
  },
  {
   "cell_type": "code",
   "execution_count": 21,
   "id": "392ecb88",
   "metadata": {
    "execution": {
     "iopub.execute_input": "2024-11-25T06:14:01.264683Z",
     "iopub.status.busy": "2024-11-25T06:14:01.262732Z",
     "iopub.status.idle": "2024-11-25T06:14:01.282118Z",
     "shell.execute_reply": "2024-11-25T06:14:01.280016Z"
    },
    "papermill": {
     "duration": 0.043923,
     "end_time": "2024-11-25T06:14:01.284858",
     "exception": false,
     "start_time": "2024-11-25T06:14:01.240935",
     "status": "completed"
    },
    "tags": [],
    "vscode": {
     "languageId": "r"
    }
   },
   "outputs": [],
   "source": [
    "# the optial values                      \n",
    "lambda1_opt = stged.est.true$lambda1\n",
    "lambda2_opt = stged.est.true$lambda2"
   ]
  },
  {
   "cell_type": "markdown",
   "id": "786beda2",
   "metadata": {
    "papermill": {
     "duration": 0.016352,
     "end_time": "2024-11-25T06:14:01.319115",
     "exception": false,
     "start_time": "2024-11-25T06:14:01.302763",
     "status": "completed"
    },
    "tags": []
   },
   "source": [
    "# Run the benchmarking methods"
   ]
  },
  {
   "cell_type": "code",
   "execution_count": 22,
   "id": "b9b45132",
   "metadata": {
    "execution": {
     "iopub.execute_input": "2024-11-25T06:14:01.354020Z",
     "iopub.status.busy": "2024-11-25T06:14:01.350813Z",
     "iopub.status.idle": "2024-11-25T06:14:01.657998Z",
     "shell.execute_reply": "2024-11-25T06:14:01.656056Z"
    },
    "papermill": {
     "duration": 0.326889,
     "end_time": "2024-11-25T06:14:01.660830",
     "exception": false,
     "start_time": "2024-11-25T06:14:01.333941",
     "status": "completed"
    },
    "tags": [],
    "vscode": {
     "languageId": "r"
    }
   },
   "outputs": [],
   "source": [
    "exp_lsr = st_mu_est(srt_exp = datax$spot_exp,  beta= beta.type)\n",
    "exp_sc = sc_mu_est( sc_mu = ref_exp, beta = beta.type)\n",
    "\n",
    "exp_rctd =  RCTDexp(beta = beta.type,  srt_exp = datax$spot_exp, ref_mu = ref_exp )\n",
    "\n",
    "exp_spotdecon = spotdecon_est(srt_exp = datax$spot_exp,  beta= beta.type)\n"
   ]
  },
  {
   "cell_type": "code",
   "execution_count": 23,
   "id": "cd4eb222",
   "metadata": {
    "execution": {
     "iopub.execute_input": "2024-11-25T06:14:01.922757Z",
     "iopub.status.busy": "2024-11-25T06:14:01.919788Z",
     "iopub.status.idle": "2024-11-25T06:14:02.225650Z",
     "shell.execute_reply": "2024-11-25T06:14:02.223733Z"
    },
    "papermill": {
     "duration": 0.335815,
     "end_time": "2024-11-25T06:14:02.228746",
     "exception": false,
     "start_time": "2024-11-25T06:14:01.892931",
     "status": "completed"
    },
    "tags": [],
    "vscode": {
     "languageId": "r"
    }
   },
   "outputs": [],
   "source": [
    "# Check and save exp_ENIGMA result\n",
    "if (!file.exists(paste0(\"./results/MPOA/True_exp_ENIGMA_\",patch_size,\"um2.RDS\")) ){\n",
    "  exp_ENIGMA <- ENIGMA_est(\n",
    "    spot_exp = datax_count$spot_exp, \n",
    "    sc_exp = datax_count$sc_exp, \n",
    "    sc_label = datax_count$sc_label, \n",
    "    beta = beta.type )\n",
    "  \n",
    "  # Save the result if computation is performed\n",
    "  saveRDS(exp_ENIGMA, file = paste0(\"./results/MPOA/True_exp_ENIGMA_\",patch_size,\"um2.RDS\"))\n",
    "} else {\n",
    "  # Load the result if it already exists\n",
    "  exp_ENIGMA <- readRDS(paste0(\"./results/MPOA/True_exp_ENIGMA_\",patch_size,\"um2.RDS\"))\n",
    "}\n"
   ]
  },
  {
   "cell_type": "code",
   "execution_count": 24,
   "id": "e4eaa6f8",
   "metadata": {
    "execution": {
     "iopub.execute_input": "2024-11-25T06:14:02.278189Z",
     "iopub.status.busy": "2024-11-25T06:14:02.275723Z",
     "iopub.status.idle": "2024-11-25T06:14:02.405762Z",
     "shell.execute_reply": "2024-11-25T06:14:02.403840Z"
    },
    "papermill": {
     "duration": 0.15616,
     "end_time": "2024-11-25T06:14:02.408679",
     "exception": false,
     "start_time": "2024-11-25T06:14:02.252519",
     "status": "completed"
    },
    "tags": [],
    "vscode": {
     "languageId": "r"
    }
   },
   "outputs": [],
   "source": [
    "\n",
    "# Check and save exp_TCA result\n",
    "if (!file.exists(\"./results/MPOA/True_exp_TCA.RDS\")) {\n",
    "  \n",
    " exp_TCA <- TCA_est(spot_exp  = datax_count$spot_exp, beta= beta.type)\n",
    "  \n",
    "  # Save the result if computation is performed\n",
    "  saveRDS(exp_TCA, file = \"./results/MPOA/True_exp_TCA.RDS\")\n",
    "} else {\n",
    "  # Load the result if it already exists\n",
    "  exp_TCA <- readRDS(\"./results/MPOA/True_exp_TCA.RDS\")\n",
    "}"
   ]
  },
  {
   "cell_type": "code",
   "execution_count": 25,
   "id": "1ce96e2e",
   "metadata": {
    "execution": {
     "iopub.execute_input": "2024-11-25T06:14:02.458924Z",
     "iopub.status.busy": "2024-11-25T06:14:02.456218Z",
     "iopub.status.idle": "2024-11-25T06:14:15.101411Z",
     "shell.execute_reply": "2024-11-25T06:14:15.097259Z"
    },
    "papermill": {
     "duration": 12.672182,
     "end_time": "2024-11-25T06:14:15.105122",
     "exception": false,
     "start_time": "2024-11-25T06:14:02.432940",
     "status": "completed"
    },
    "tags": [],
    "vscode": {
     "languageId": "r"
    }
   },
   "outputs": [],
   "source": [
    "est_est= list(STged = stged.est.true$V.hat,\n",
    "              STged.reg1 = stged.est.reg1$V.hat,\n",
    "              STged.reg2 =stged.est.reg2$V.hat,\n",
    "              STged.reg3 =stged.est.reg3$V.hat,\n",
    "              RCTD = exp_rctd,\n",
    "              TCA = exp_TCA,\n",
    "              ENIGMA = exp_ENIGMA,\n",
    "              ref_mu = exp_sc,\n",
    "              LSR = exp_lsr,\n",
    "              Spotdecon = exp_spotdecon)\n",
    "\n",
    "files = paste0(\"./results/MPOA/True_spot_decon_\",patch_size,\"um2.RDS\")\n",
    "\n",
    "saveRDS(est_est, file =files)"
   ]
  },
  {
   "cell_type": "code",
   "execution_count": 26,
   "id": "eb8668bb",
   "metadata": {
    "execution": {
     "iopub.execute_input": "2024-11-25T06:14:15.155276Z",
     "iopub.status.busy": "2024-11-25T06:14:15.152628Z",
     "iopub.status.idle": "2024-11-25T06:14:15.242860Z",
     "shell.execute_reply": "2024-11-25T06:14:15.240839Z"
    },
    "papermill": {
     "duration": 0.11713,
     "end_time": "2024-11-25T06:14:15.245872",
     "exception": false,
     "start_time": "2024-11-25T06:14:15.128742",
     "status": "completed"
    },
    "tags": [],
    "vscode": {
     "languageId": "r"
    }
   },
   "outputs": [
    {
     "data": {
      "text/html": [
       "<style>\n",
       ".list-inline {list-style: none; margin:0; padding: 0}\n",
       ".list-inline>li {display: inline-block}\n",
       ".list-inline>li:not(:last-child)::after {content: \"\\00b7\"; padding: 0 .5ex}\n",
       "</style>\n",
       "<ol class=list-inline><li>'CARD'</li><li>'RCTD'</li><li>'SpatialDWLS'</li><li>'SPOTlight'</li><li>'Stereoscope'</li><li>'cell2location'</li><li>'EnDecon'</li><li>'DWLS'</li><li>'SONAR'</li></ol>\n"
      ],
      "text/latex": [
       "\\begin{enumerate*}\n",
       "\\item 'CARD'\n",
       "\\item 'RCTD'\n",
       "\\item 'SpatialDWLS'\n",
       "\\item 'SPOTlight'\n",
       "\\item 'Stereoscope'\n",
       "\\item 'cell2location'\n",
       "\\item 'EnDecon'\n",
       "\\item 'DWLS'\n",
       "\\item 'SONAR'\n",
       "\\end{enumerate*}\n"
      ],
      "text/markdown": [
       "1. 'CARD'\n",
       "2. 'RCTD'\n",
       "3. 'SpatialDWLS'\n",
       "4. 'SPOTlight'\n",
       "5. 'Stereoscope'\n",
       "6. 'cell2location'\n",
       "7. 'EnDecon'\n",
       "8. 'DWLS'\n",
       "9. 'SONAR'\n",
       "\n",
       "\n"
      ],
      "text/plain": [
       "[1] \"CARD\"          \"RCTD\"          \"SpatialDWLS\"   \"SPOTlight\"    \n",
       "[5] \"Stereoscope\"   \"cell2location\" \"EnDecon\"       \"DWLS\"         \n",
       "[9] \"SONAR\"        "
      ]
     },
     "metadata": {},
     "output_type": "display_data"
    }
   ],
   "source": [
    "## cell type proportion predected from the proposed cell type deconvolution methods\n",
    "res_decon_ct = readRDS(paste0(\"./realdata/MPOA/Endeprop/merfish_Results.Deconv_\",patch_size,\"um.RDS\"))\n",
    "names(res_decon_ct)\n"
   ]
  },
  {
   "cell_type": "code",
   "execution_count": 27,
   "id": "f1d3967b",
   "metadata": {
    "execution": {
     "iopub.execute_input": "2024-11-25T06:14:15.294985Z",
     "iopub.status.busy": "2024-11-25T06:14:15.292451Z",
     "iopub.status.idle": "2024-11-25T06:14:15.317275Z",
     "shell.execute_reply": "2024-11-25T06:14:15.314785Z"
    },
    "papermill": {
     "duration": 0.051294,
     "end_time": "2024-11-25T06:14:15.320504",
     "exception": false,
     "start_time": "2024-11-25T06:14:15.269210",
     "status": "completed"
    },
    "tags": [],
    "vscode": {
     "languageId": "r"
    }
   },
   "outputs": [],
   "source": [
    "beta.est = res_decon_ct$EnDecon\n",
    "beta.type.RCTD = res_decon_ct$RCTD\n",
    "## use the esimated cell type proprotion"
   ]
  },
  {
   "cell_type": "code",
   "execution_count": 28,
   "id": "90519b5e",
   "metadata": {
    "execution": {
     "iopub.execute_input": "2024-11-25T06:14:15.364098Z",
     "iopub.status.busy": "2024-11-25T06:14:15.361608Z",
     "iopub.status.idle": "2024-11-25T06:14:15.382775Z",
     "shell.execute_reply": "2024-11-25T06:14:15.380140Z"
    },
    "papermill": {
     "duration": 0.045114,
     "end_time": "2024-11-25T06:14:15.385949",
     "exception": false,
     "start_time": "2024-11-25T06:14:15.340835",
     "status": "completed"
    },
    "tags": [],
    "vscode": {
     "languageId": "r"
    }
   },
   "outputs": [],
   "source": [
    "## use the esimated cell type proprotion\n",
    "beta.type = beta.est"
   ]
  },
  {
   "cell_type": "code",
   "execution_count": 29,
   "id": "79a8b483",
   "metadata": {
    "execution": {
     "iopub.execute_input": "2024-11-25T06:14:15.427435Z",
     "iopub.status.busy": "2024-11-25T06:14:15.424947Z",
     "iopub.status.idle": "2024-11-25T06:16:17.853978Z",
     "shell.execute_reply": "2024-11-25T06:16:17.852402Z"
    },
    "papermill": {
     "duration": 122.452295,
     "end_time": "2024-11-25T06:16:17.857275",
     "exception": false,
     "start_time": "2024-11-25T06:14:15.404980",
     "status": "completed"
    },
    "tags": [],
    "vscode": {
     "languageId": "r"
    }
   },
   "outputs": [
    {
     "name": "stdout",
     "output_type": "stream",
     "text": [
      "We will adpote a value for lambda 1 in our algorithm... \n",
      "Select value of lambda1 0.09145015 \n",
      "tuning for lambda 2 in our algorithm... \n",
      "Select value of lambda2 0.1951821 \n",
      "Run the main algorithm... \n"
     ]
    },
    {
     "name": "stdout",
     "output_type": "stream",
     "text": [
      "We will adpote a value for lambda 1 in our algorithm... \n",
      "Select value of lambda1 0.09145015 \n",
      "Select value of lambda2 0 \n",
      "Run the main algorithm... \n"
     ]
    },
    {
     "name": "stdout",
     "output_type": "stream",
     "text": [
      "Select value of lambda1 0 \n",
      "tuning for lambda 2 in our algorithm... \n",
      "Select value of lambda2 0.1951821 \n",
      "Run the main algorithm... \n"
     ]
    },
    {
     "name": "stdout",
     "output_type": "stream",
     "text": [
      "Select value of lambda1 0 \n",
      "Select value of lambda2 0 \n",
      "Run the main algorithm... \n"
     ]
    }
   ],
   "source": [
    "\n",
    "start_time <- Sys.time()\n",
    "\n",
    "if (!file.exists(paste0(\"./results/MPOA/EST_stged_\",patch_size,\"um2.RDS\"))) {\n",
    "  stged.est.true <- MUR.STged(\n",
    "    srt_exp = datax$spot_exp, \n",
    "    ref_exp = ref_exp, \n",
    "    beta.type = beta.type, \n",
    "    W = L.mat$weight_adj, \n",
    "    lambda1 = NULL, \n",
    "    lambda2 = NULL, \n",
    "    cutoff = 0.05, \n",
    "    epsilon = 1e-5\n",
    "  )\n",
    "  \n",
    "  saveRDS(stged.est.true, file = paste0(\"./results/MPOA/EST_stged_\",patch_size,\"um2.RDS\"))\n",
    "} else {\n",
    "  \n",
    "  stged.est.true <- readRDS(paste0(\"./results/MPOA/EST_stged_\",patch_size,\"um2.RDS\"))\n",
    "}\n",
    "\n",
    "end_time <- Sys.time()\n",
    "\n",
    "\n",
    "reg1 <- TRUE\n",
    "\n",
    "if (reg1 && !file.exists(paste0(\"./results/MPOA/EST_stged_reg1_\",patch_size,\"um2.RDS\")) ){\n",
    "  stged.est.reg1 <- MUR.STged(\n",
    "    srt_exp = datax$spot_exp, \n",
    "    ref_exp = ref_exp, \n",
    "    beta.type = beta.type, \n",
    "    W = L.mat$weight_adj, \n",
    "    lambda1 = NULL, \n",
    "    lambda2 = 0, \n",
    "    cutoff = 0.05, \n",
    "    epsilon = 1e-5\n",
    "  )\n",
    "  \n",
    "  saveRDS(stged.est.reg1, file = paste0(\"./results/MPOA/EST_stged_reg1_\",patch_size,\"um2.RDS\"))\n",
    "} else {\n",
    "  \n",
    "  stged.est.reg1 <- readRDS(paste0(\"./results/MPOA/EST_stged_reg1_\",patch_size,\"um2.RDS\"))\n",
    "}\n",
    "\n",
    "\n",
    "reg2 <- TRUE\n",
    "if (reg2 && !file.exists(paste0(\"./results/MPOA/EST_stged_reg2_\",patch_size,\"um2.RDS\"))) {\n",
    "  stged.est.reg2 <- MUR.STged(\n",
    "    srt_exp = datax$spot_exp, \n",
    "    ref_exp = ref_exp, \n",
    "    beta.type = beta.type, \n",
    "    W = L.mat$weight_adj, \n",
    "    lambda1 = 0, \n",
    "    lambda2 = NULL, \n",
    "    cutoff = 0.05, \n",
    "    epsilon = 1e-5\n",
    "  )\n",
    "  \n",
    "  saveRDS(stged.est.reg2, file = paste0(\"./results/MPOA/EST_stged_reg2_\",patch_size,\"um2.RDS\"))\n",
    "} else {\n",
    "  \n",
    "  stged.est.reg2 <- readRDS(paste0(\"./results/MPOA/EST_stged_reg2_\",patch_size,\"um2.RDS\"))\n",
    "}\n",
    "\n",
    "reg3 <- TRUE\n",
    "if (reg3 && !file.exists(paste0(\"./results/MPOA/EST_stged_reg3_\",patch_size,\"um2.RDS\"))) {\n",
    "  stged.est.reg3 <- MUR.STged(\n",
    "    srt_exp = datax$spot_exp, \n",
    "    ref_exp = ref_exp, \n",
    "    beta.type = beta.type, \n",
    "    W = L.mat$weight_adj, \n",
    "    lambda1 = 0, \n",
    "    lambda2 =0, \n",
    "    cutoff = 0.05, \n",
    "    epsilon = 1e-5\n",
    "  )\n",
    "  \n",
    "  saveRDS(stged.est.reg3, file = paste0(\"./results/MPOA/EST_stged_reg3_\",patch_size,\"um2.RDS\"))\n",
    "} else {\n",
    "  \n",
    "  stged.est.reg3 <- readRDS(paste0(\"./results/MPOA/EST_stged_reg3_\",patch_size,\"um2.RDS\"))\n",
    "}"
   ]
  },
  {
   "cell_type": "code",
   "execution_count": 30,
   "id": "da386acf",
   "metadata": {
    "execution": {
     "iopub.execute_input": "2024-11-25T06:16:17.906059Z",
     "iopub.status.busy": "2024-11-25T06:16:17.904466Z",
     "iopub.status.idle": "2024-11-25T06:16:18.059957Z",
     "shell.execute_reply": "2024-11-25T06:16:18.058471Z"
    },
    "papermill": {
     "duration": 0.181298,
     "end_time": "2024-11-25T06:16:18.062754",
     "exception": false,
     "start_time": "2024-11-25T06:16:17.881456",
     "status": "completed"
    },
    "tags": [],
    "vscode": {
     "languageId": "r"
    }
   },
   "outputs": [],
   "source": [
    "exp_lsr = st_mu_est(srt_exp = datax$spot_exp,  beta= beta.type)\n",
    "\n",
    "exp_sc = sc_mu_est( sc_mu = ref_exp, beta = beta.type)\n",
    "\n",
    "exp_rctd =  RCTDexp(beta = beta.type.RCTD,  srt_exp = datax$spot_exp, ref_mu = ref_exp )\n",
    "\n",
    "exp_spotdecon = spotdecon_est(srt_exp = datax_count$spot_exp,  beta= beta.type)"
   ]
  },
  {
   "cell_type": "code",
   "execution_count": 31,
   "id": "92364f93",
   "metadata": {
    "execution": {
     "iopub.execute_input": "2024-11-25T06:16:18.114919Z",
     "iopub.status.busy": "2024-11-25T06:16:18.113244Z",
     "iopub.status.idle": "2024-11-25T06:16:18.536514Z",
     "shell.execute_reply": "2024-11-25T06:16:18.533774Z"
    },
    "papermill": {
     "duration": 0.451707,
     "end_time": "2024-11-25T06:16:18.540045",
     "exception": false,
     "start_time": "2024-11-25T06:16:18.088338",
     "status": "completed"
    },
    "tags": [],
    "vscode": {
     "languageId": "r"
    }
   },
   "outputs": [],
   "source": [
    "# Check and save exp_ENIGMA result\n",
    "if (!file.exists(paste0(\"./results/MPOA/EST_exp_ENIGMA_\",patch_size,\"um2.RDS\")) ){\n",
    "  exp_ENIGMA = ENIGMA_est(spot_exp  = datax_count$spot_exp, \n",
    "                          sc_exp = datax_count$sc_exp, sc_label=datax_count$sc_label, \n",
    "                          beta= NULL)\n",
    "  \n",
    "  # Save the result if computation is performed\n",
    "  saveRDS(exp_ENIGMA, file = paste0(\"./results/MPOA/EST_exp_ENIGMA_\",patch_size,\"um2.RDS\"))\n",
    "} else {\n",
    "  # Load the result if it already exists\n",
    "  exp_ENIGMA <- readRDS(paste0(\"./results/MPOA/EST_exp_ENIGMA_\",patch_size,\"um2.RDS\")) # <-- Fixed here\n",
    "}\n"
   ]
  },
  {
   "cell_type": "code",
   "execution_count": 32,
   "id": "24cde321",
   "metadata": {
    "execution": {
     "iopub.execute_input": "2024-11-25T06:16:18.592636Z",
     "iopub.status.busy": "2024-11-25T06:16:18.590075Z",
     "iopub.status.idle": "2024-11-25T06:16:20.438713Z",
     "shell.execute_reply": "2024-11-25T06:16:20.436617Z"
    },
    "papermill": {
     "duration": 1.878577,
     "end_time": "2024-11-25T06:16:20.441759",
     "exception": false,
     "start_time": "2024-11-25T06:16:18.563182",
     "status": "completed"
    },
    "tags": [],
    "vscode": {
     "languageId": "r"
    }
   },
   "outputs": [],
   "source": [
    "# Check and save exp_TCA result\n",
    "if (!file.exists(\"./results/MPOA/EST_exp_TCA.RDS\")) {\n",
    "\n",
    "  exp_TCA <- TCA_est(spot_exp  = datax_count$spot_exp, beta= beta.type)\n",
    "  # Save the result if computation is performed\n",
    "  saveRDS(exp_TCA, file =\"./results/MPOA/EST_exp_TCA.RDS\")\n",
    "} else {\n",
    "  # Load the result if it already exists\n",
    "  exp_TCA <- readRDS(\"./results/MPOA/EST_exp_TCA.RDS\")\n",
    "}\n"
   ]
  },
  {
   "cell_type": "code",
   "execution_count": 33,
   "id": "61b374ec",
   "metadata": {
    "execution": {
     "iopub.execute_input": "2024-11-25T06:16:20.492645Z",
     "iopub.status.busy": "2024-11-25T06:16:20.489860Z",
     "iopub.status.idle": "2024-11-25T06:16:22.500727Z",
     "shell.execute_reply": "2024-11-25T06:16:22.498194Z"
    },
    "papermill": {
     "duration": 2.037442,
     "end_time": "2024-11-25T06:16:22.503425",
     "exception": false,
     "start_time": "2024-11-25T06:16:20.465983",
     "status": "completed"
    },
    "tags": [],
    "vscode": {
     "languageId": "r"
    }
   },
   "outputs": [],
   "source": [
    "est_est= list(STged = stged.est.true$V.hat,\n",
    "              STged.reg1 = stged.est.reg1$V.hat,\n",
    "              STged.reg2 =stged.est.reg2$V.hat,\n",
    "              STged.reg3 =stged.est.reg3$V.hat,\n",
    "              RCTD = exp_rctd,\n",
    "              TCA = exp_TCA,\n",
    "              ENIGMA = exp_ENIGMA,\n",
    "              ref_mu = exp_sc,\n",
    "              LSR = exp_lsr,\n",
    "              Spotdecon = exp_spotdecon)\n",
    "\n",
    "files = paste0(\"./results/MPOA/EST_spot_decon_\",patch_size,\"um2.RDS\")\n",
    "\n",
    "saveRDS(est_est, file =files)"
   ]
  },
  {
   "cell_type": "markdown",
   "id": "0ac95509",
   "metadata": {
    "papermill": {
     "duration": 0.021488,
     "end_time": "2024-11-25T06:16:22.548052",
     "exception": false,
     "start_time": "2024-11-25T06:16:22.526564",
     "status": "completed"
    },
    "tags": []
   },
   "source": [
    "Sensitive analysis"
   ]
  },
  {
   "cell_type": "code",
   "execution_count": 34,
   "id": "ff4e0963",
   "metadata": {
    "execution": {
     "iopub.execute_input": "2024-11-25T06:16:22.588613Z",
     "iopub.status.busy": "2024-11-25T06:16:22.586869Z",
     "iopub.status.idle": "2024-11-25T06:16:22.604766Z",
     "shell.execute_reply": "2024-11-25T06:16:22.603041Z"
    },
    "papermill": {
     "duration": 0.04015,
     "end_time": "2024-11-25T06:16:22.607093",
     "exception": false,
     "start_time": "2024-11-25T06:16:22.566943",
     "status": "completed"
    },
    "tags": [],
    "vscode": {
     "languageId": "r"
    }
   },
   "outputs": [],
   "source": [
    "# use the true cell type propotions\n",
    "\n",
    "beta.type = cell_type_prop[colnames(datax$spot_exp),]"
   ]
  },
  {
   "cell_type": "code",
   "execution_count": 35,
   "id": "9dc10b35",
   "metadata": {
    "execution": {
     "iopub.execute_input": "2024-11-25T06:16:22.643611Z",
     "iopub.status.busy": "2024-11-25T06:16:22.640839Z",
     "iopub.status.idle": "2024-11-25T06:27:24.383224Z",
     "shell.execute_reply": "2024-11-25T06:27:24.381813Z"
    },
    "papermill": {
     "duration": 661.762588,
     "end_time": "2024-11-25T06:27:24.386252",
     "exception": false,
     "start_time": "2024-11-25T06:16:22.623664",
     "status": "completed"
    },
    "tags": [],
    "vscode": {
     "languageId": "r"
    }
   },
   "outputs": [
    {
     "name": "stdout",
     "output_type": "stream",
     "text": [
      "Run the STged \n",
      "Select value of lambda1 0 \n",
      "Select value of lambda2 0 \n",
      "Run the main algorithm... \n",
      "Run time of STged 5.610385 \n",
      "Run the STged \n",
      "Select value of lambda1 0.001 \n",
      "Select value of lambda2 0 \n",
      "Run the main algorithm... \n",
      "Run time of STged 32.5023 \n",
      "Run the STged \n",
      "Select value of lambda1 0.01 \n",
      "Select value of lambda2 0 \n",
      "Run the main algorithm... \n",
      "Run time of STged 43.42583 \n",
      "Run the STged \n",
      "Select value of lambda1 0.08262865 \n",
      "Select value of lambda2 0 \n",
      "Run the main algorithm... \n",
      "Run time of STged 24.75637 \n",
      "Run the STged \n",
      "Select value of lambda1 1 \n",
      "Select value of lambda2 0 \n",
      "Run the main algorithm... \n",
      "Run time of STged 23.69294 \n",
      "Run the STged \n",
      "Select value of lambda1 5 \n",
      "Select value of lambda2 0 \n",
      "Run the main algorithm... \n",
      "Run time of STged 23.70032 \n",
      "Run the STged \n",
      "Select value of lambda1 10 \n",
      "Select value of lambda2 0 \n",
      "Run the main algorithm... \n",
      "Run time of STged 24.30976 \n",
      "Run the STged \n",
      "Select value of lambda1 0 \n",
      "Select value of lambda2 0.001 \n",
      "Run the main algorithm... \n",
      "Run time of STged 3.28415 \n",
      "Run the STged \n",
      "Select value of lambda1 0.001 \n",
      "Select value of lambda2 0.001 \n",
      "Run the main algorithm... \n",
      "Run time of STged 8.821354 \n",
      "Run the STged \n",
      "Select value of lambda1 0.01 \n",
      "Select value of lambda2 0.001 \n",
      "Run the main algorithm... \n",
      "Run time of STged 23.10106 \n",
      "Run the STged \n",
      "Select value of lambda1 0.08262865 \n",
      "Select value of lambda2 0.001 \n",
      "Run the main algorithm... \n",
      "Run time of STged 33.78517 \n",
      "Run the STged \n",
      "Select value of lambda1 1 \n",
      "Select value of lambda2 0.001 \n",
      "Run the main algorithm... \n",
      "Run time of STged 16.70654 \n",
      "Run the STged \n",
      "Select value of lambda1 5 \n",
      "Select value of lambda2 0.001 \n",
      "Run the main algorithm... \n",
      "Run time of STged 22.69621 \n",
      "Run the STged \n",
      "Select value of lambda1 10 \n",
      "Select value of lambda2 0.001 \n",
      "Run the main algorithm... \n",
      "Run time of STged 22.51743 \n",
      "Run the STged \n",
      "Select value of lambda1 0 \n",
      "Select value of lambda2 0.01 \n",
      "Run the main algorithm... \n",
      "Run time of STged 2.277912 \n",
      "Run the STged \n",
      "Select value of lambda1 0.001 \n",
      "Select value of lambda2 0.01 \n",
      "Run the main algorithm... \n",
      "Run time of STged 2.740989 \n",
      "Run the STged \n",
      "Select value of lambda1 0.01 \n",
      "Select value of lambda2 0.01 \n",
      "Run the main algorithm... \n",
      "Run time of STged 12.63668 \n",
      "Run the STged \n",
      "Select value of lambda1 0.08262865 \n",
      "Select value of lambda2 0.01 \n",
      "Run the main algorithm... \n",
      "Run time of STged 24.96676 \n",
      "Run the STged \n",
      "Select value of lambda1 1 \n",
      "Select value of lambda2 0.01 \n",
      "Run the main algorithm... \n",
      "Run time of STged 21.35717 \n",
      "Run the STged \n",
      "Select value of lambda1 5 \n",
      "Select value of lambda2 0.01 \n",
      "Run the main algorithm... \n",
      "Run time of STged 21.72209 \n",
      "Run the STged \n",
      "Select value of lambda1 10 \n",
      "Select value of lambda2 0.01 \n",
      "Run the main algorithm... \n",
      "Run time of STged 20.65574 \n",
      "Run the STged \n",
      "Select value of lambda1 0 \n",
      "Select value of lambda2 0.1951821 \n",
      "Run the main algorithm... \n",
      "Run time of STged 2.530032 \n",
      "Run the STged \n",
      "Select value of lambda1 0.001 \n",
      "Select value of lambda2 0.1951821 \n",
      "Run the main algorithm... \n",
      "Run time of STged 3.530745 \n",
      "Run the STged \n",
      "Select value of lambda1 0.01 \n",
      "Select value of lambda2 0.1951821 \n",
      "Run the main algorithm... \n",
      "Run time of STged 1.719141 \n",
      "Run the STged \n",
      "Select value of lambda1 0.08262865 \n",
      "Select value of lambda2 0.1951821 \n",
      "Run the main algorithm... \n",
      "Run time of STged 6.36516 \n",
      "Run the STged \n",
      "Select value of lambda1 1 \n",
      "Select value of lambda2 0.1951821 \n",
      "Run the main algorithm... \n",
      "Run time of STged 20.98808 \n",
      "Run the STged \n",
      "Select value of lambda1 5 \n",
      "Select value of lambda2 0.1951821 \n",
      "Run the main algorithm... \n",
      "Run time of STged 26.97082 \n",
      "Run the STged \n",
      "Select value of lambda1 10 \n",
      "Select value of lambda2 0.1951821 \n",
      "Run the main algorithm... \n",
      "Run time of STged 21.76798 \n",
      "Run the STged \n",
      "Select value of lambda1 0 \n",
      "Select value of lambda2 1 \n",
      "Run the main algorithm... \n",
      "Run time of STged 4.087365 \n",
      "Run the STged \n",
      "Select value of lambda1 0.001 \n",
      "Select value of lambda2 1 \n",
      "Run the main algorithm... \n",
      "Run time of STged 11.14921 \n",
      "Run the STged \n",
      "Select value of lambda1 0.01 \n",
      "Select value of lambda2 1 \n",
      "Run the main algorithm... \n",
      "Run time of STged 3.864537 \n",
      "Run the STged \n",
      "Select value of lambda1 0.08262865 \n",
      "Select value of lambda2 1 \n",
      "Run the main algorithm... \n",
      "Run time of STged 2.699656 \n",
      "Run the STged \n",
      "Select value of lambda1 1 \n",
      "Select value of lambda2 1 \n",
      "Run the main algorithm... \n",
      "Run time of STged 9.980407 \n",
      "Run the STged \n",
      "Select value of lambda1 5 \n",
      "Select value of lambda2 1 \n",
      "Run the main algorithm... \n",
      "Run time of STged 23.41606 \n",
      "Run the STged \n",
      "Select value of lambda1 10 \n",
      "Select value of lambda2 1 \n",
      "Run the main algorithm... \n",
      "Run time of STged 20.98055 \n",
      "Run the STged \n",
      "Select value of lambda1 0 \n",
      "Select value of lambda2 5 \n",
      "Run the main algorithm... \n",
      "Run time of STged 1.572254 \n",
      "Run the STged \n",
      "Select value of lambda1 0.001 \n",
      "Select value of lambda2 5 \n",
      "Run the main algorithm... \n",
      "Run time of STged 1.561796 \n",
      "Run the STged \n",
      "Select value of lambda1 0.01 \n",
      "Select value of lambda2 5 \n",
      "Run the main algorithm... \n",
      "Run time of STged 1.526117 \n",
      "Run the STged \n",
      "Select value of lambda1 0.08262865 \n",
      "Select value of lambda2 5 \n",
      "Run the main algorithm... \n",
      "Run time of STged 2.391789 \n",
      "Run the STged \n",
      "Select value of lambda1 1 \n",
      "Select value of lambda2 5 \n",
      "Run the main algorithm... \n",
      "Run time of STged 3.943272 \n",
      "Run the STged \n",
      "Select value of lambda1 5 \n",
      "Select value of lambda2 5 \n",
      "Run the main algorithm... \n",
      "Run time of STged 20.2238 \n",
      "Run the STged \n",
      "Select value of lambda1 10 \n",
      "Select value of lambda2 5 \n",
      "Run the main algorithm... \n",
      "Run time of STged 18.15939 \n",
      "Run the STged \n",
      "Select value of lambda1 0 \n",
      "Select value of lambda2 10 \n",
      "Run the main algorithm... \n",
      "Run time of STged 1.49878 \n",
      "Run the STged \n",
      "Select value of lambda1 0.001 \n",
      "Select value of lambda2 10 \n",
      "Run the main algorithm... \n",
      "Run time of STged 2.594399 \n",
      "Run the STged \n",
      "Select value of lambda1 0.01 \n",
      "Select value of lambda2 10 \n",
      "Run the main algorithm... \n",
      "Run time of STged 1.408885 \n",
      "Run the STged \n",
      "Select value of lambda1 0.08262865 \n",
      "Select value of lambda2 10 \n",
      "Run the main algorithm... \n",
      "Run time of STged 2.182242 \n",
      "Run the STged \n",
      "Select value of lambda1 1 \n",
      "Select value of lambda2 10 \n",
      "Run the main algorithm... \n",
      "Run time of STged 3.275002 \n",
      "Run the STged \n",
      "Select value of lambda1 5 \n",
      "Select value of lambda2 10 \n",
      "Run the main algorithm... \n",
      "Run time of STged 7.886742 \n",
      "Run the STged \n",
      "Select value of lambda1 10 \n",
      "Select value of lambda2 10 \n",
      "Run the main algorithm... \n",
      "Run time of STged 11.54988 \n"
     ]
    }
   ],
   "source": [
    "\n",
    "lambda_values1 <- c(0,0.001,0.01,lambda1_opt,1,5,10)\n",
    "lambda_values2 <- c(0,0.001,0.01,lambda2_opt ,1,5,10)\n",
    "\n",
    "# Generate all combinations of lambda1 and lambda2 using expand.grid\n",
    "parameter_grid <- expand.grid(lambda1 = lambda_values1, lambda2 = lambda_values2)\n",
    "\n",
    "sens_STged = matrix(list(), nrow(parameter_grid) ,1)\n",
    "for(ii in 1:nrow(parameter_grid)){\n",
    "  \n",
    "  cat(\"Run the STged\", \"\\n\")\n",
    "  \n",
    "  start_time <- Sys.time()\n",
    "  stged.est = MUR.STged(srt_exp = datax$spot_exp, ref_exp = ref_exp, \n",
    "                        beta.type = beta.type,   W = L.mat$weight_adj, \n",
    "                        lambda1 = parameter_grid[ii,1], lambda2 = parameter_grid[ii,2],\n",
    "                        cutoff = 0.05, \n",
    "                        epsilon = 1e-5)\n",
    "\n",
    "  end_time <- Sys.time()\n",
    "  sens_STged[[ii]] = stged.est$V.hat\n",
    "  cat(\"Run time of STged\", end_time - start_time,\"\\n\")\n",
    "\n",
    "}\n",
    "\n",
    "files = paste0(\"./results/MPOA/True_spot_decon_\",patch_size,\"um2_sens.RDS\")\n",
    "saveRDS(sens_STged, file =files)\n",
    "\n",
    "\n",
    "saveRDS(parameter_grid, file = paste0(\"./results/MPOA/True_cell_exp_tuning_values\", patch_size, \"um2.RDS\"))"
   ]
  },
  {
   "cell_type": "markdown",
   "id": "3513077d",
   "metadata": {
    "papermill": {
     "duration": 0.02147,
     "end_time": "2024-11-25T06:27:24.432812",
     "exception": false,
     "start_time": "2024-11-25T06:27:24.411342",
     "status": "completed"
    },
    "tags": []
   },
   "source": [
    "Benchmark cell type proprotions"
   ]
  },
  {
   "cell_type": "code",
   "execution_count": 36,
   "id": "4306ad91",
   "metadata": {
    "execution": {
     "iopub.execute_input": "2024-11-25T06:27:24.473634Z",
     "iopub.status.busy": "2024-11-25T06:27:24.472101Z",
     "iopub.status.idle": "2024-11-25T06:27:24.494722Z",
     "shell.execute_reply": "2024-11-25T06:27:24.493320Z"
    },
    "papermill": {
     "duration": 0.045235,
     "end_time": "2024-11-25T06:27:24.497526",
     "exception": false,
     "start_time": "2024-11-25T06:27:24.452291",
     "status": "completed"
    },
    "tags": [],
    "vscode": {
     "languageId": "r"
    }
   },
   "outputs": [],
   "source": [
    "res_decon_ct = readRDS(\"./realdata/MPOA/Endeprop/merfish_Results.Deconv_50um.RDS\")"
   ]
  },
  {
   "cell_type": "code",
   "execution_count": 37,
   "id": "e19c02e1",
   "metadata": {
    "execution": {
     "iopub.execute_input": "2024-11-25T06:27:24.548759Z",
     "iopub.status.busy": "2024-11-25T06:27:24.546050Z",
     "iopub.status.idle": "2024-11-25T06:28:42.736618Z",
     "shell.execute_reply": "2024-11-25T06:28:42.733754Z"
    },
    "papermill": {
     "duration": 78.217816,
     "end_time": "2024-11-25T06:28:42.740209",
     "exception": false,
     "start_time": "2024-11-25T06:27:24.522393",
     "status": "completed"
    },
    "tags": [],
    "vscode": {
     "languageId": "r"
    }
   },
   "outputs": [
    {
     "name": "stdout",
     "output_type": "stream",
     "text": [
      "Run the STged CARD \n",
      "We will adpote a value for lambda 1 in our algorithm... \n",
      "Select value of lambda1 0.09650154 \n",
      "tuning for lambda 2 in our algorithm... \n",
      "Select value of lambda2 0.1951821 \n",
      "Run the main algorithm... \n",
      "Run time of STged 6.096897 \n",
      "Run the STged RCTD \n",
      "We will adpote a value for lambda 1 in our algorithm... \n",
      "Select value of lambda1 0.1066524 \n",
      "tuning for lambda 2 in our algorithm... \n",
      "Select value of lambda2 0.1951821 \n",
      "Run the main algorithm... \n",
      "Run time of STged 17.05305 \n",
      "Run the STged SpatialDWLS \n",
      "We will adpote a value for lambda 1 in our algorithm... \n",
      "Select value of lambda1 0.09373271 \n",
      "tuning for lambda 2 in our algorithm... \n",
      "Select value of lambda2 0.1951821 \n",
      "Run the main algorithm... \n",
      "Run time of STged 5.268862 \n",
      "Run the STged SPOTlight \n",
      "We will adpote a value for lambda 1 in our algorithm... \n",
      "Select value of lambda1 0.08020027 \n",
      "tuning for lambda 2 in our algorithm... \n",
      "Select value of lambda2 0.1951821 \n",
      "Run the main algorithm... \n",
      "Run time of STged 6.216938 \n",
      "Run the STged Stereoscope \n",
      "We will adpote a value for lambda 1 in our algorithm... \n",
      "Select value of lambda1 0.07614551 \n",
      "tuning for lambda 2 in our algorithm... \n",
      "Select value of lambda2 0.1951821 \n",
      "Run the main algorithm... \n",
      "Run time of STged 4.749053 \n",
      "Run the STged cell2location \n",
      "We will adpote a value for lambda 1 in our algorithm... \n",
      "Select value of lambda1 0.2382223 \n",
      "tuning for lambda 2 in our algorithm... \n",
      "Select value of lambda2 0.1951821 \n",
      "Run the main algorithm... \n",
      "Run time of STged 12.00421 \n",
      "Run the STged EnDecon \n",
      "We will adpote a value for lambda 1 in our algorithm... \n",
      "Select value of lambda1 0.09145015 \n",
      "tuning for lambda 2 in our algorithm... \n",
      "Select value of lambda2 0.1951821 \n",
      "Run the main algorithm... \n",
      "Run time of STged 5.649087 \n",
      "Run the STged DWLS \n",
      "We will adpote a value for lambda 1 in our algorithm... \n",
      "Select value of lambda1 0.09807774 \n",
      "tuning for lambda 2 in our algorithm... \n",
      "Select value of lambda2 0.1951821 \n",
      "Run the main algorithm... \n",
      "Run time of STged 5.811979 \n",
      "Run the STged SONAR \n",
      "We will adpote a value for lambda 1 in our algorithm... \n",
      "Select value of lambda1 0.1026151 \n",
      "tuning for lambda 2 in our algorithm... \n",
      "Select value of lambda2 0.1951821 \n",
      "Run the main algorithm... \n",
      "Run time of STged 5.589865 \n"
     ]
    }
   ],
   "source": [
    "methods = names(res_decon_ct)\n",
    "bench_celltype_STged = matrix(list(), length(methods) ,1)\n",
    "\n",
    "for(ii in 1: length(methods) ){\n",
    "  \n",
    "  cat(\"Run the STged\", methods[ii], \"\\n\")\n",
    "  beta.type.bench = res_decon_ct[[ii]]\n",
    "  start_time <- Sys.time()\n",
    "  stged.est = MUR.STged(srt_exp = datax$spot_exp, ref_exp = ref_exp, \n",
    "                        beta.type = beta.type.bench,   W = L.mat$weight_adj, \n",
    "                        lambda1 = NULL, lambda2 = NULL, cutoff = 0.05, \n",
    "                        epsilon = 1e-5)\n",
    "                    \n",
    "  end_time <- Sys.time()\n",
    "  bench_celltype_STged[[ii]] = stged.est$V.hat\n",
    "  cat(\"Run time of STged\", end_time - start_time,\"\\n\") \n",
    "  \n",
    "}\n",
    "\n",
    "\n",
    "files = paste0(\"./results/MPOA/STged_est_spot_decon_tuning.RDS\")\n",
    "\n",
    "saveRDS(bench_celltype_STged, file =files)"
   ]
  }
 ],
 "metadata": {
  "kernelspec": {
   "display_name": "R",
   "language": "R",
   "name": "ir"
  },
  "language_info": {
   "codemirror_mode": "r",
   "file_extension": ".r",
   "mimetype": "text/x-r-source",
   "name": "R",
   "pygments_lexer": "r",
   "version": "4.4.1"
  },
  "papermill": {
   "default_parameters": {},
   "duration": 1255.591304,
   "end_time": "2024-11-25T06:28:44.241565",
   "environment_variables": {},
   "exception": null,
   "input_path": "MERFISH-count-ref-scRNA_True_prop50um.ipynb",
   "output_path": "./results/output_MERFISH-count-ref-scRNA_True_prop50um_v2.ipynb",
   "parameters": {},
   "start_time": "2024-11-25T06:07:48.650261",
   "version": "2.3.3"
  }
 },
 "nbformat": 4,
 "nbformat_minor": 5
}