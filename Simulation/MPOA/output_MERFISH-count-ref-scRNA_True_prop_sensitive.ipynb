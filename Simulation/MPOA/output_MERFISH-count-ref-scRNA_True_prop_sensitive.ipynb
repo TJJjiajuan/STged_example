{
 "cells": [
  {
   "cell_type": "markdown",
   "id": "ba70da24",
   "metadata": {
    "papermill": {
     "duration": 0.010833,
     "end_time": "2024-10-26T10:17:00.754893",
     "exception": false,
     "start_time": "2024-10-26T10:17:00.744060",
     "status": "completed"
    },
    "tags": []
   },
   "source": [
    "**NOTE**: Here we test the performance of the STged with true cell type proportion and cell type proportion predicted from cell type deconvolution methods. We then compare it with competing methods."
   ]
  },
  {
   "cell_type": "code",
   "execution_count": 1,
   "id": "1cb26ff2",
   "metadata": {
    "execution": {
     "iopub.execute_input": "2024-10-26T10:17:00.778519Z",
     "iopub.status.busy": "2024-10-26T10:17:00.774258Z",
     "iopub.status.idle": "2024-10-26T10:17:06.179074Z",
     "shell.execute_reply": "2024-10-26T10:17:06.176175Z"
    },
    "papermill": {
     "duration": 5.417617,
     "end_time": "2024-10-26T10:17:06.181704",
     "exception": false,
     "start_time": "2024-10-26T10:17:00.764087",
     "status": "completed"
    },
    "tags": [],
    "vscode": {
     "languageId": "r"
    }
   },
   "outputs": [],
   "source": [
    "\n",
    "#remove(list = ls())\n",
    "#define the conda env\n",
    "\n",
    "library(reticulate)\n",
    "use_condaenv(\"ccnet\", required = TRUE)\n",
    "\n",
    "python_env = \"python_env\""
   ]
  },
  {
   "cell_type": "code",
   "execution_count": 2,
   "id": "fb39b0b0",
   "metadata": {
    "execution": {
     "iopub.execute_input": "2024-10-26T10:17:06.234031Z",
     "iopub.status.busy": "2024-10-26T10:17:06.197129Z",
     "iopub.status.idle": "2024-10-26T10:17:06.253109Z",
     "shell.execute_reply": "2024-10-26T10:17:06.251749Z"
    },
    "papermill": {
     "duration": 0.067114,
     "end_time": "2024-10-26T10:17:06.255406",
     "exception": false,
     "start_time": "2024-10-26T10:17:06.188292",
     "status": "completed"
    },
    "tags": [],
    "vscode": {
     "languageId": "r"
    }
   },
   "outputs": [],
   "source": [
    "# Source code\n",
    "source(\"./code/STged.R\")\n",
    "source(\"./code/benchmark.R\")"
   ]
  },
  {
   "cell_type": "markdown",
   "id": "fffe4203",
   "metadata": {
    "papermill": {
     "duration": 0.008211,
     "end_time": "2024-10-26T10:17:06.272885",
     "exception": false,
     "start_time": "2024-10-26T10:17:06.264674",
     "status": "completed"
    },
    "tags": []
   },
   "source": [
    "# Load data the generated simulated data\n",
    "## For the 50/100 um2\n",
    "i = 1 for the 50 um2\n",
    "i = 2 for the 50 um2"
   ]
  },
  {
   "cell_type": "code",
   "execution_count": 3,
   "id": "b0535903",
   "metadata": {
    "execution": {
     "iopub.execute_input": "2024-10-26T10:17:06.290721Z",
     "iopub.status.busy": "2024-10-26T10:17:06.288549Z",
     "iopub.status.idle": "2024-10-26T10:17:06.484970Z",
     "shell.execute_reply": "2024-10-26T10:17:06.483694Z"
    },
    "papermill": {
     "duration": 0.206967,
     "end_time": "2024-10-26T10:17:06.487261",
     "exception": false,
     "start_time": "2024-10-26T10:17:06.280294",
     "status": "completed"
    },
    "tags": [],
    "vscode": {
     "languageId": "r"
    }
   },
   "outputs": [
    {
     "data": {
      "text/html": [
       "50"
      ],
      "text/latex": [
       "50"
      ],
      "text/markdown": [
       "50"
      ],
      "text/plain": [
       "[1] 50"
      ]
     },
     "metadata": {},
     "output_type": "display_data"
    },
    {
     "name": "stderr",
     "output_type": "stream",
     "text": [
      "Loading required package: hash\n",
      "\n"
     ]
    },
    {
     "name": "stderr",
     "output_type": "stream",
     "text": [
      "hash-2.2.6.3 provided by Decision Patterns\n",
      "\n",
      "\n"
     ]
    }
   ],
   "source": [
    "sim_data = readRDS(\"./realdata/MAOP/FN7_hash_mpoa_sim-29_ref01.Rds\")\n",
    "\n",
    "i =2\n",
    "patch_size = c(100,50)[i]\n",
    "patch_size\n",
    "\n",
    "mpoa = sim_data$mpoa_list[[i]]$`-0.29`\n",
    "\n",
    "## use the merfish data as reference data\n",
    "usemer = FALSE\n",
    "\n",
    "if(usemer ){\n",
    "sc_exp = t(sim_data$ref_exp)\n",
    "sc_label =  sim_data$ref_label$Cell_class\n",
    "}\n",
    "\n"
   ]
  },
  {
   "cell_type": "code",
   "execution_count": 4,
   "id": "323da7eb",
   "metadata": {
    "execution": {
     "iopub.execute_input": "2024-10-26T10:17:06.508373Z",
     "iopub.status.busy": "2024-10-26T10:17:06.507110Z",
     "iopub.status.idle": "2024-10-26T10:17:06.561236Z",
     "shell.execute_reply": "2024-10-26T10:17:06.560007Z"
    },
    "papermill": {
     "duration": 0.065947,
     "end_time": "2024-10-26T10:17:06.563542",
     "exception": false,
     "start_time": "2024-10-26T10:17:06.497595",
     "status": "completed"
    },
    "tags": [],
    "vscode": {
     "languageId": "r"
    }
   },
   "outputs": [],
   "source": [
    "# load the referene from scRNA\n",
    "sim_data = readRDS(\"./realdata/MAOP/refscRNA/scRNA_MPOA.RDS\")\n"
   ]
  },
  {
   "cell_type": "code",
   "execution_count": 5,
   "id": "623e72f7",
   "metadata": {
    "execution": {
     "iopub.execute_input": "2024-10-26T10:17:06.585287Z",
     "iopub.status.busy": "2024-10-26T10:17:06.583676Z",
     "iopub.status.idle": "2024-10-26T10:17:06.606519Z",
     "shell.execute_reply": "2024-10-26T10:17:06.605165Z"
    },
    "papermill": {
     "duration": 0.035821,
     "end_time": "2024-10-26T10:17:06.609110",
     "exception": false,
     "start_time": "2024-10-26T10:17:06.573289",
     "status": "completed"
    },
    "tags": [],
    "vscode": {
     "languageId": "r"
    }
   },
   "outputs": [
    {
     "data": {
      "text/html": [
       "<style>\n",
       ".list-inline {list-style: none; margin:0; padding: 0}\n",
       ".list-inline>li {display: inline-block}\n",
       ".list-inline>li:not(:last-child)::after {content: \"\\00b7\"; padding: 0 .5ex}\n",
       "</style>\n",
       "<ol class=list-inline><li>134</li><li>10500</li></ol>\n"
      ],
      "text/latex": [
       "\\begin{enumerate*}\n",
       "\\item 134\n",
       "\\item 10500\n",
       "\\end{enumerate*}\n"
      ],
      "text/markdown": [
       "1. 134\n",
       "2. 10500\n",
       "\n",
       "\n"
      ],
      "text/plain": [
       "[1]   134 10500"
      ]
     },
     "metadata": {},
     "output_type": "display_data"
    },
    {
     "data": {
      "text/html": [
       "10500"
      ],
      "text/latex": [
       "10500"
      ],
      "text/markdown": [
       "10500"
      ],
      "text/plain": [
       "[1] 10500"
      ]
     },
     "metadata": {},
     "output_type": "display_data"
    }
   ],
   "source": [
    "sc_exp = sim_data$scexp\n",
    "sc_label = sim_data$sclabel\n",
    "\n",
    "dim(sc_exp)\n",
    "length(sc_label)"
   ]
  },
  {
   "cell_type": "code",
   "execution_count": 6,
   "id": "227fdd9b",
   "metadata": {
    "execution": {
     "iopub.execute_input": "2024-10-26T10:17:06.629505Z",
     "iopub.status.busy": "2024-10-26T10:17:06.628342Z",
     "iopub.status.idle": "2024-10-26T10:17:06.649530Z",
     "shell.execute_reply": "2024-10-26T10:17:06.648062Z"
    },
    "papermill": {
     "duration": 0.032811,
     "end_time": "2024-10-26T10:17:06.651873",
     "exception": false,
     "start_time": "2024-10-26T10:17:06.619062",
     "status": "completed"
    },
    "tags": [],
    "vscode": {
     "languageId": "r"
    }
   },
   "outputs": [
    {
     "data": {
      "text/plain": [
       "sc_label\n",
       "  Astrocyte Endothelial   Ependymal  Excitatory  Inhibitory   Microglia \n",
       "        857         541          69        2000        2000         828 \n",
       "      Mural OD Immature   OD Mature \n",
       "        513        1692        2000 "
      ]
     },
     "metadata": {},
     "output_type": "display_data"
    },
    {
     "data": {
      "text/plain": [
       "sc_label\n",
       "  Astrocyte Endothelial   Ependymal  Excitatory  Inhibitory   Microglia \n",
       "        857         541          69        2000        2000         828 \n",
       "OD Immature   OD Mature   Pericytes \n",
       "       1692        2000         513 "
      ]
     },
     "metadata": {},
     "output_type": "display_data"
    }
   ],
   "source": [
    "table(sc_label)\n",
    "sc_label[sc_label==\"Mural\"]=\"Pericytes\"\n",
    "table(sc_label)"
   ]
  },
  {
   "cell_type": "markdown",
   "id": "4707c233",
   "metadata": {
    "papermill": {
     "duration": 0.008195,
     "end_time": "2024-10-26T10:17:06.670814",
     "exception": false,
     "start_time": "2024-10-26T10:17:06.662619",
     "status": "completed"
    },
    "tags": []
   },
   "source": [
    "## The spots location information"
   ]
  },
  {
   "cell_type": "code",
   "execution_count": 7,
   "id": "8135e586",
   "metadata": {
    "execution": {
     "iopub.execute_input": "2024-10-26T10:17:06.688739Z",
     "iopub.status.busy": "2024-10-26T10:17:06.686776Z",
     "iopub.status.idle": "2024-10-26T10:17:06.788538Z",
     "shell.execute_reply": "2024-10-26T10:17:06.787375Z"
    },
    "papermill": {
     "duration": 0.11275,
     "end_time": "2024-10-26T10:17:06.790901",
     "exception": false,
     "start_time": "2024-10-26T10:17:06.678151",
     "status": "completed"
    },
    "tags": [],
    "vscode": {
     "languageId": "r"
    }
   },
   "outputs": [
    {
     "data": {
      "text/html": [
       "<style>\n",
       ".list-inline {list-style: none; margin:0; padding: 0}\n",
       ".list-inline>li {display: inline-block}\n",
       ".list-inline>li:not(:last-child)::after {content: \"\\00b7\"; padding: 0 .5ex}\n",
       "</style>\n",
       "<ol class=list-inline><li>135</li><li>1141</li></ol>\n"
      ],
      "text/latex": [
       "\\begin{enumerate*}\n",
       "\\item 135\n",
       "\\item 1141\n",
       "\\end{enumerate*}\n"
      ],
      "text/markdown": [
       "1. 135\n",
       "2. 1141\n",
       "\n",
       "\n"
      ],
      "text/plain": [
       "[1]  135 1141"
      ]
     },
     "metadata": {},
     "output_type": "display_data"
    },
    {
     "data": {
      "text/html": [
       "<style>\n",
       ".list-inline {list-style: none; margin:0; padding: 0}\n",
       ".list-inline>li {display: inline-block}\n",
       ".list-inline>li:not(:last-child)::after {content: \"\\00b7\"; padding: 0 .5ex}\n",
       "</style>\n",
       "<ol class=list-inline><li>'Astrocyte'</li><li>'Endothelial'</li><li>'Ependymal'</li><li>'Excitatory'</li><li>'Inhibitory'</li><li>'Microglia'</li><li>'OD Immature'</li><li>'OD Mature'</li><li>'Pericytes'</li></ol>\n"
      ],
      "text/latex": [
       "\\begin{enumerate*}\n",
       "\\item 'Astrocyte'\n",
       "\\item 'Endothelial'\n",
       "\\item 'Ependymal'\n",
       "\\item 'Excitatory'\n",
       "\\item 'Inhibitory'\n",
       "\\item 'Microglia'\n",
       "\\item 'OD Immature'\n",
       "\\item 'OD Mature'\n",
       "\\item 'Pericytes'\n",
       "\\end{enumerate*}\n"
      ],
      "text/markdown": [
       "1. 'Astrocyte'\n",
       "2. 'Endothelial'\n",
       "3. 'Ependymal'\n",
       "4. 'Excitatory'\n",
       "5. 'Inhibitory'\n",
       "6. 'Microglia'\n",
       "7. 'OD Immature'\n",
       "8. 'OD Mature'\n",
       "9. 'Pericytes'\n",
       "\n",
       "\n"
      ],
      "text/plain": [
       "[1] \"Astrocyte\"   \"Endothelial\" \"Ependymal\"   \"Excitatory\"  \"Inhibitory\" \n",
       "[6] \"Microglia\"   \"OD Immature\" \"OD Mature\"   \"Pericytes\"  "
      ]
     },
     "metadata": {},
     "output_type": "display_data"
    }
   ],
   "source": [
    "spot_raw = rownames(mpoa$patchGexp)\n",
    "spots = paste0(\"spot\",1:length(spot_raw))\n",
    "\n",
    "\n",
    "split_strings <- strsplit(spot_raw, \"_\")\n",
    "spot_loc <- do.call(rbind, lapply(split_strings, function(x) as.numeric(x)))\n",
    "spot_exp <- t(mpoa$patchGexp)[,spot_raw ]\n",
    "dim(spot_exp)\n",
    "\n",
    "cell_type_freq =as.matrix(mpoa$cellTypeTable[spot_raw,]) \n",
    "cell_type_freq <- apply(cell_type_freq, 2, as.numeric)  \n",
    "cell_type_prop = sweep(cell_type_freq, 1, rowSums(cell_type_freq), FUN = \"/\")\n",
    "\n",
    "cell_type = colnames(cell_type_prop)\n",
    "cell_type\n",
    "\n",
    "\n",
    "rownames(cell_type_prop) = rownames(spot_loc)  = spots\n",
    "colnames(spot_exp) = spots\n"
   ]
  },
  {
   "cell_type": "markdown",
   "id": "eb29e4a8",
   "metadata": {
    "papermill": {
     "duration": 0.008971,
     "end_time": "2024-10-26T10:17:06.811626",
     "exception": false,
     "start_time": "2024-10-26T10:17:06.802655",
     "status": "completed"
    },
    "tags": []
   },
   "source": [
    "## TRUE cell type-specific gene expression for each cell type"
   ]
  },
  {
   "cell_type": "code",
   "execution_count": 8,
   "id": "b7dc571f",
   "metadata": {
    "execution": {
     "iopub.execute_input": "2024-10-26T10:17:06.829721Z",
     "iopub.status.busy": "2024-10-26T10:17:06.827865Z",
     "iopub.status.idle": "2024-10-26T10:17:07.112590Z",
     "shell.execute_reply": "2024-10-26T10:17:07.111301Z"
    },
    "papermill": {
     "duration": 0.295989,
     "end_time": "2024-10-26T10:17:07.115115",
     "exception": false,
     "start_time": "2024-10-26T10:17:06.819126",
     "status": "completed"
    },
    "tags": [],
    "vscode": {
     "languageId": "r"
    }
   },
   "outputs": [],
   "source": [
    "genes = rownames(spot_exp)  \n",
    "TRUE_F = vector(\"list\", length(cell_type))  \n",
    "names(TRUE_F) = cell_type  \n",
    "\n",
    "spot_cell_type_exp = mpoa$avgPatchGexp\n",
    "\n",
    "for(i in 1:length(cell_type)){\n",
    "  \n",
    "  temp_mat = matrix(0, nrow = length(spots), ncol = length(genes))\n",
    "  colnames(temp_mat) = genes\n",
    "  rownames(temp_mat) = spots\n",
    "  \n",
    "  for(j in 1:length(spots)){\n",
    "    temp = spot_cell_type_exp[[j]]\n",
    "    \n",
    "    \n",
    "    if (cell_type[i] %in% colnames(temp)) {\n",
    "      temp_mat[j,] = temp[,cell_type[i]]\n",
    "    } else {\n",
    "      \n",
    "      temp_mat[j,] = 0\n",
    "    }\n",
    "  }\n",
    "  \n",
    "  \n",
    "  TRUE_F[[i]] = t(temp_mat)\n",
    "}\n",
    "\n"
   ]
  },
  {
   "cell_type": "markdown",
   "id": "da3b231f",
   "metadata": {
    "papermill": {
     "duration": 0.008779,
     "end_time": "2024-10-26T10:17:07.136211",
     "exception": false,
     "start_time": "2024-10-26T10:17:07.127432",
     "status": "completed"
    },
    "tags": []
   },
   "source": [
    "# Run the STged step by step"
   ]
  },
  {
   "cell_type": "markdown",
   "id": "31ae1c9d",
   "metadata": {
    "papermill": {
     "duration": 0.006588,
     "end_time": "2024-10-26T10:17:07.150368",
     "exception": false,
     "start_time": "2024-10-26T10:17:07.143780",
     "status": "completed"
    },
    "tags": []
   },
   "source": [
    "## Step 1: clear data"
   ]
  },
  {
   "cell_type": "code",
   "execution_count": 9,
   "id": "9c291621",
   "metadata": {
    "execution": {
     "iopub.execute_input": "2024-10-26T10:17:07.166854Z",
     "iopub.status.busy": "2024-10-26T10:17:07.164408Z",
     "iopub.status.idle": "2024-10-26T10:17:07.464330Z",
     "shell.execute_reply": "2024-10-26T10:17:07.462803Z"
    },
    "papermill": {
     "duration": 0.310003,
     "end_time": "2024-10-26T10:17:07.466786",
     "exception": false,
     "start_time": "2024-10-26T10:17:07.156783",
     "status": "completed"
    },
    "tags": [],
    "vscode": {
     "languageId": "r"
    }
   },
   "outputs": [],
   "source": [
    "clean.only = FALSE\n",
    "depthscale = 1e6\n",
    "datax = data_process(sc_exp = sc_exp,   sc_label = sc_label, \n",
    "                     spot_exp = spot_exp,  spot_loc = spot_loc,\n",
    "                     depthscale = depthscale,  gene_det_in_min_cells_per = 0, \n",
    "                     expression_threshold = 0,\n",
    "                     nUMI =  10, verbose = FALSE, clean.only = clean.only)\n"
   ]
  },
  {
   "cell_type": "markdown",
   "id": "ee631a30",
   "metadata": {
    "papermill": {
     "duration": 0.009329,
     "end_time": "2024-10-26T10:17:07.488387",
     "exception": false,
     "start_time": "2024-10-26T10:17:07.479058",
     "status": "completed"
    },
    "tags": []
   },
   "source": [
    "## Step 2: construct spatial correlation structures"
   ]
  },
  {
   "cell_type": "code",
   "execution_count": 10,
   "id": "65a07b2e",
   "metadata": {
    "execution": {
     "iopub.execute_input": "2024-10-26T10:17:07.506131Z",
     "iopub.status.busy": "2024-10-26T10:17:07.504234Z",
     "iopub.status.idle": "2024-10-26T10:17:24.127802Z",
     "shell.execute_reply": "2024-10-26T10:17:24.126352Z"
    },
    "papermill": {
     "duration": 16.634496,
     "end_time": "2024-10-26T10:17:24.130413",
     "exception": false,
     "start_time": "2024-10-26T10:17:07.495917",
     "status": "completed"
    },
    "tags": [],
    "vscode": {
     "languageId": "r"
    }
   },
   "outputs": [
    {
     "name": "stdout",
     "output_type": "stream",
     "text": [
      "Construct spatial correlation \n"
     ]
    }
   ],
   "source": [
    "cat(\"Construct spatial correlation\", \"\\n\")\n",
    "L.mat = dis_weight(spot_loc = datax$spot_loc, spot_exp = datax$spot_exp, k = 6, \n",
    "                   quantile_prob_bandwidth = 1/3, method = \"Hex\", \n",
    "                   coord_type = \"grid\")"
   ]
  },
  {
   "cell_type": "markdown",
   "id": "c6462f05",
   "metadata": {
    "papermill": {
     "duration": 0.009034,
     "end_time": "2024-10-26T10:17:24.151322",
     "exception": false,
     "start_time": "2024-10-26T10:17:24.142288",
     "status": "completed"
    },
    "tags": []
   },
   "source": [
    "## Step 3: construct reference gene matrix"
   ]
  },
  {
   "cell_type": "code",
   "execution_count": 11,
   "id": "ea92f11e",
   "metadata": {
    "execution": {
     "iopub.execute_input": "2024-10-26T10:17:24.169264Z",
     "iopub.status.busy": "2024-10-26T10:17:24.167303Z",
     "iopub.status.idle": "2024-10-26T10:17:24.220260Z",
     "shell.execute_reply": "2024-10-26T10:17:24.219174Z"
    },
    "papermill": {
     "duration": 0.064049,
     "end_time": "2024-10-26T10:17:24.223357",
     "exception": false,
     "start_time": "2024-10-26T10:17:24.159308",
     "status": "completed"
    },
    "tags": [],
    "vscode": {
     "languageId": "r"
    }
   },
   "outputs": [
    {
     "name": "stdout",
     "output_type": "stream",
     "text": [
      "Construct reference gene matrix \n"
     ]
    },
    {
     "data": {
      "text/html": [
       "<style>\n",
       ".list-inline {list-style: none; margin:0; padding: 0}\n",
       ".list-inline>li {display: inline-block}\n",
       ".list-inline>li:not(:last-child)::after {content: \"\\00b7\"; padding: 0 .5ex}\n",
       "</style>\n",
       "<ol class=list-inline><li>'Astrocyte'</li><li>'Endothelial'</li><li>'Ependymal'</li><li>'Excitatory'</li><li>'Inhibitory'</li><li>'Microglia'</li><li>'OD Immature'</li><li>'OD Mature'</li><li>'Pericytes'</li></ol>\n"
      ],
      "text/latex": [
       "\\begin{enumerate*}\n",
       "\\item 'Astrocyte'\n",
       "\\item 'Endothelial'\n",
       "\\item 'Ependymal'\n",
       "\\item 'Excitatory'\n",
       "\\item 'Inhibitory'\n",
       "\\item 'Microglia'\n",
       "\\item 'OD Immature'\n",
       "\\item 'OD Mature'\n",
       "\\item 'Pericytes'\n",
       "\\end{enumerate*}\n"
      ],
      "text/markdown": [
       "1. 'Astrocyte'\n",
       "2. 'Endothelial'\n",
       "3. 'Ependymal'\n",
       "4. 'Excitatory'\n",
       "5. 'Inhibitory'\n",
       "6. 'Microglia'\n",
       "7. 'OD Immature'\n",
       "8. 'OD Mature'\n",
       "9. 'Pericytes'\n",
       "\n",
       "\n"
      ],
      "text/plain": [
       "[1] \"Astrocyte\"   \"Endothelial\" \"Ependymal\"   \"Excitatory\"  \"Inhibitory\" \n",
       "[6] \"Microglia\"   \"OD Immature\" \"OD Mature\"   \"Pericytes\"  "
      ]
     },
     "metadata": {},
     "output_type": "display_data"
    }
   ],
   "source": [
    "cat(\"Construct reference gene matrix\", \"\\n\")\n",
    "\n",
    "ref_exp = create_group_exp(sc_exp = datax$sc_exp, sc_label = datax$sc_label)\n",
    "colnames(ref_exp)\n"
   ]
  },
  {
   "cell_type": "code",
   "execution_count": 12,
   "id": "c4dc22b3",
   "metadata": {
    "execution": {
     "iopub.execute_input": "2024-10-26T10:17:24.245891Z",
     "iopub.status.busy": "2024-10-26T10:17:24.244516Z",
     "iopub.status.idle": "2024-10-26T10:17:24.266597Z",
     "shell.execute_reply": "2024-10-26T10:17:24.265152Z"
    },
    "papermill": {
     "duration": 0.034474,
     "end_time": "2024-10-26T10:17:24.268903",
     "exception": false,
     "start_time": "2024-10-26T10:17:24.234429",
     "status": "completed"
    },
    "tags": [],
    "vscode": {
     "languageId": "r"
    }
   },
   "outputs": [
    {
     "data": {
      "text/html": [
       "<style>\n",
       ".list-inline {list-style: none; margin:0; padding: 0}\n",
       ".list-inline>li {display: inline-block}\n",
       ".list-inline>li:not(:last-child)::after {content: \"\\00b7\"; padding: 0 .5ex}\n",
       "</style>\n",
       "<ol class=list-inline><li>'Astrocyte'</li><li>'Endothelial'</li><li>'Ependymal'</li><li>'Excitatory'</li><li>'Inhibitory'</li><li>'Microglia'</li><li>'OD Immature'</li><li>'OD Mature'</li><li>'Pericytes'</li></ol>\n"
      ],
      "text/latex": [
       "\\begin{enumerate*}\n",
       "\\item 'Astrocyte'\n",
       "\\item 'Endothelial'\n",
       "\\item 'Ependymal'\n",
       "\\item 'Excitatory'\n",
       "\\item 'Inhibitory'\n",
       "\\item 'Microglia'\n",
       "\\item 'OD Immature'\n",
       "\\item 'OD Mature'\n",
       "\\item 'Pericytes'\n",
       "\\end{enumerate*}\n"
      ],
      "text/markdown": [
       "1. 'Astrocyte'\n",
       "2. 'Endothelial'\n",
       "3. 'Ependymal'\n",
       "4. 'Excitatory'\n",
       "5. 'Inhibitory'\n",
       "6. 'Microglia'\n",
       "7. 'OD Immature'\n",
       "8. 'OD Mature'\n",
       "9. 'Pericytes'\n",
       "\n",
       "\n"
      ],
      "text/plain": [
       "[1] \"Astrocyte\"   \"Endothelial\" \"Ependymal\"   \"Excitatory\"  \"Inhibitory\" \n",
       "[6] \"Microglia\"   \"OD Immature\" \"OD Mature\"   \"Pericytes\"  "
      ]
     },
     "metadata": {},
     "output_type": "display_data"
    },
    {
     "data": {
      "text/html": [
       "<style>\n",
       ".list-inline {list-style: none; margin:0; padding: 0}\n",
       ".list-inline>li {display: inline-block}\n",
       ".list-inline>li:not(:last-child)::after {content: \"\\00b7\"; padding: 0 .5ex}\n",
       "</style>\n",
       "<ol class=list-inline><li>'Astrocyte'</li><li>'Endothelial'</li><li>'Ependymal'</li><li>'Excitatory'</li><li>'Inhibitory'</li><li>'Microglia'</li><li>'OD Immature'</li><li>'OD Mature'</li><li>'Pericytes'</li></ol>\n"
      ],
      "text/latex": [
       "\\begin{enumerate*}\n",
       "\\item 'Astrocyte'\n",
       "\\item 'Endothelial'\n",
       "\\item 'Ependymal'\n",
       "\\item 'Excitatory'\n",
       "\\item 'Inhibitory'\n",
       "\\item 'Microglia'\n",
       "\\item 'OD Immature'\n",
       "\\item 'OD Mature'\n",
       "\\item 'Pericytes'\n",
       "\\end{enumerate*}\n"
      ],
      "text/markdown": [
       "1. 'Astrocyte'\n",
       "2. 'Endothelial'\n",
       "3. 'Ependymal'\n",
       "4. 'Excitatory'\n",
       "5. 'Inhibitory'\n",
       "6. 'Microglia'\n",
       "7. 'OD Immature'\n",
       "8. 'OD Mature'\n",
       "9. 'Pericytes'\n",
       "\n",
       "\n"
      ],
      "text/plain": [
       "[1] \"Astrocyte\"   \"Endothelial\" \"Ependymal\"   \"Excitatory\"  \"Inhibitory\" \n",
       "[6] \"Microglia\"   \"OD Immature\" \"OD Mature\"   \"Pericytes\"  "
      ]
     },
     "metadata": {},
     "output_type": "display_data"
    }
   ],
   "source": [
    "ref_exp = ref_exp[rownames(datax$spot_exp),]\n",
    "colnames(ref_exp )\n",
    "cell_type"
   ]
  },
  {
   "cell_type": "code",
   "execution_count": 13,
   "id": "eef8b2cf",
   "metadata": {
    "execution": {
     "iopub.execute_input": "2024-10-26T10:17:24.294123Z",
     "iopub.status.busy": "2024-10-26T10:17:24.292597Z",
     "iopub.status.idle": "2024-10-26T10:17:24.305599Z",
     "shell.execute_reply": "2024-10-26T10:17:24.303822Z"
    },
    "papermill": {
     "duration": 0.025809,
     "end_time": "2024-10-26T10:17:24.307836",
     "exception": false,
     "start_time": "2024-10-26T10:17:24.282027",
     "status": "completed"
    },
    "tags": [],
    "vscode": {
     "languageId": "r"
    }
   },
   "outputs": [],
   "source": [
    "beta.type = cell_type_prop[colnames(datax$spot_exp),]"
   ]
  },
  {
   "cell_type": "code",
   "execution_count": 14,
   "id": "30ef2374",
   "metadata": {
    "execution": {
     "iopub.execute_input": "2024-10-26T10:17:24.333246Z",
     "iopub.status.busy": "2024-10-26T10:17:24.331142Z",
     "iopub.status.idle": "2024-10-26T10:22:00.320079Z",
     "shell.execute_reply": "2024-10-26T10:22:00.318769Z"
    },
    "papermill": {
     "duration": 276.003085,
     "end_time": "2024-10-26T10:22:00.322589",
     "exception": false,
     "start_time": "2024-10-26T10:17:24.319504",
     "status": "completed"
    },
    "tags": [],
    "vscode": {
     "languageId": "r"
    }
   },
   "outputs": [
    {
     "name": "stdout",
     "output_type": "stream",
     "text": [
      "Run the STged \n",
      "Select value of lambda1 0.001 \n",
      "Select value of lambda2 0.001 \n",
      "Run the main algorithm... \n",
      "Run time of STged 8.135943 \n",
      "Run the STged \n",
      "Select value of lambda1 0.01 \n",
      "Select value of lambda2 0.001 \n",
      "Run the main algorithm... \n",
      "Run time of STged 24.45781 \n",
      "Run the STged \n",
      "Select value of lambda1 0.2204442 \n",
      "Select value of lambda2 0.001 \n",
      "Run the main algorithm... \n",
      "Run time of STged 25.81207 \n",
      "Run the STged \n",
      "Select value of lambda1 1 \n",
      "Select value of lambda2 0.001 \n",
      "Run the main algorithm... \n",
      "Run time of STged 9.676772 \n",
      "Run the STged \n",
      "Select value of lambda1 5 \n",
      "Select value of lambda2 0.001 \n",
      "Run the main algorithm... \n",
      "Run time of STged 23.85715 \n",
      "Run the STged \n",
      "Select value of lambda1 0.001 \n",
      "Select value of lambda2 0.01 \n",
      "Run the main algorithm... \n",
      "Run time of STged 1.864399 \n",
      "Run the STged \n",
      "Select value of lambda1 0.01 \n",
      "Select value of lambda2 0.01 \n",
      "Run the main algorithm... \n",
      "Run time of STged 6.435936 \n",
      "Run the STged \n",
      "Select value of lambda1 0.2204442 \n",
      "Select value of lambda2 0.01 \n",
      "Run the main algorithm... \n",
      "Run time of STged 25.68468 \n",
      "Run the STged \n",
      "Select value of lambda1 1 \n",
      "Select value of lambda2 0.01 \n",
      "Run the main algorithm... \n",
      "Run time of STged 25.07133 \n",
      "Run the STged \n",
      "Select value of lambda1 5 \n",
      "Select value of lambda2 0.01 \n",
      "Run the main algorithm... \n",
      "Run time of STged 22.39218 \n",
      "Run the STged \n",
      "Select value of lambda1 0.001 \n",
      "Select value of lambda2 0.1962507 \n",
      "Run the main algorithm... \n",
      "Run time of STged 2.911381 \n",
      "Run the STged \n",
      "Select value of lambda1 0.01 \n",
      "Select value of lambda2 0.1962507 \n",
      "Run the main algorithm... \n",
      "Run time of STged 2.504654 \n",
      "Run the STged \n",
      "Select value of lambda1 0.2204442 \n",
      "Select value of lambda2 0.1962507 \n",
      "Run the main algorithm... \n",
      "Run time of STged 7.574786 \n",
      "Run the STged \n",
      "Select value of lambda1 1 \n",
      "Select value of lambda2 0.1962507 \n",
      "Run the main algorithm... \n",
      "Run time of STged 15.54226 \n",
      "Run the STged \n",
      "Select value of lambda1 5 \n",
      "Select value of lambda2 0.1962507 \n",
      "Run the main algorithm... \n",
      "Run time of STged 23.34068 \n",
      "Run the STged \n",
      "Select value of lambda1 0.001 \n",
      "Select value of lambda2 1 \n",
      "Run the main algorithm... \n",
      "Run time of STged 3.08649 \n",
      "Run the STged \n",
      "Select value of lambda1 0.01 \n",
      "Select value of lambda2 1 \n",
      "Run the main algorithm... \n",
      "Run time of STged 2.96132 \n",
      "Run the STged \n",
      "Select value of lambda1 0.2204442 \n",
      "Select value of lambda2 1 \n",
      "Run the main algorithm... \n",
      "Run time of STged 3.85117 \n",
      "Run the STged \n",
      "Select value of lambda1 1 \n",
      "Select value of lambda2 1 \n",
      "Run the main algorithm... \n",
      "Run time of STged 6.123605 \n",
      "Run the STged \n",
      "Select value of lambda1 5 \n",
      "Select value of lambda2 1 \n",
      "Run the main algorithm... \n",
      "Run time of STged 18.46202 \n",
      "Run the STged \n",
      "Select value of lambda1 0.001 \n",
      "Select value of lambda2 5 \n",
      "Run the main algorithm... \n",
      "Run time of STged 1.45486 \n",
      "Run the STged \n",
      "Select value of lambda1 0.01 \n",
      "Select value of lambda2 5 \n",
      "Run the main algorithm... \n",
      "Run time of STged 2.302037 \n",
      "Run the STged \n",
      "Select value of lambda1 0.2204442 \n",
      "Select value of lambda2 5 \n",
      "Run the main algorithm... \n",
      "Run time of STged 2.045183 \n",
      "Run the STged \n",
      "Select value of lambda1 1 \n",
      "Select value of lambda2 5 \n",
      "Run the main algorithm... \n",
      "Run time of STged 2.237127 \n",
      "Run the STged \n",
      "Select value of lambda1 5 \n",
      "Select value of lambda2 5 \n",
      "Run the main algorithm... \n",
      "Run time of STged 4.836529 \n"
     ]
    }
   ],
   "source": [
    "\n",
    "lambda_values1 <- c(0.001, 0.01, 0.2204442,1, 5)\n",
    "lambda_values2 <- c( 0.001,0.01,0.1962507 ,1,5)\n",
    "\n",
    "# Generate all combinations of lambda1 and lambda2 using expand.grid\n",
    "parameter_grid <- expand.grid(lambda1 = lambda_values1, lambda2 = lambda_values2)\n",
    "\n",
    "sens_STged = matrix(list(), length(methods) ,1)\n",
    "for(ii in 1:nrow(parameter_grid)){\n",
    "  \n",
    "  cat(\"Run the STged\", \"\\n\")\n",
    "  \n",
    "  start_time <- Sys.time()\n",
    "  stged.est = MUR.STged(srt_exp = datax$spot_exp, ref_exp = ref_exp, \n",
    "                        beta.type = beta.type,   W = L.mat$dis_weight, \n",
    "                        lambda1 = parameter_grid[ii,1], lambda2 = parameter_grid[ii,2],\n",
    "                        cutoff = 0.05, \n",
    "                        epsilon = 1e-5)\n",
    "\n",
    "  end_time <- Sys.time()\n",
    "  sens_STged[[ii]] = stged.est$V.hat\n",
    "  cat(\"Run time of STged\", end_time - start_time,\"\\n\")\n",
    "\n",
    "}\n",
    "\n",
    "files = paste0(\"./results/MPOA/True_spot_decon_\",patch_size,\"um2_sens.RDS\")\n",
    "saveRDS(sens_STged, file =files)\n",
    "\n",
    "\n",
    "saveRDS(parameter_grid, file = paste0(\"./results/MPOA/True_cell_exp_tuning_values\", patch_size, \"um2.RDS\"))"
   ]
  }
 ],
 "metadata": {
  "kernelspec": {
   "display_name": "R",
   "language": "R",
   "name": "ir"
  },
  "language_info": {
   "codemirror_mode": "r",
   "file_extension": ".r",
   "mimetype": "text/x-r-source",
   "name": "R",
   "pygments_lexer": "r",
   "version": "4.4.1"
  },
  "papermill": {
   "default_parameters": {},
   "duration": 302.018013,
   "end_time": "2024-10-26T10:22:00.755899",
   "environment_variables": {},
   "exception": null,
   "input_path": "MERFISH-count-ref-scRNA_True_prop50um_sens.ipynb",
   "output_path": "./results/output_MERFISH-count-ref-scRNA_True_prop50um_sens.ipynb",
   "parameters": {},
   "start_time": "2024-10-26T10:16:58.737886",
   "version": "2.3.3"
  }
 },
 "nbformat": 4,
 "nbformat_minor": 5
}