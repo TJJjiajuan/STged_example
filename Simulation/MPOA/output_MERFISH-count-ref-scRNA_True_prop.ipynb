{
 "cells": [
  {
   "cell_type": "markdown",
   "id": "d67e6f1c",
   "metadata": {
    "papermill": {
     "duration": 0.018184,
     "end_time": "2024-10-26T11:17:43.283377",
     "exception": false,
     "start_time": "2024-10-26T11:17:43.265193",
     "status": "completed"
    },
    "tags": []
   },
   "source": [
    "**NOTE**: Here we test the performance of the STged with true cell type proportion and cell type proportion predicted from cell type deconvolution methods. We then compare it with competing methods."
   ]
  },
  {
   "cell_type": "code",
   "execution_count": 1,
   "id": "759b16a2",
   "metadata": {
    "execution": {
     "iopub.execute_input": "2024-10-26T11:17:43.344249Z",
     "iopub.status.busy": "2024-10-26T11:17:43.342406Z",
     "iopub.status.idle": "2024-10-26T11:17:48.659993Z",
     "shell.execute_reply": "2024-10-26T11:17:48.655499Z"
    },
    "papermill": {
     "duration": 5.369007,
     "end_time": "2024-10-26T11:17:48.663727",
     "exception": false,
     "start_time": "2024-10-26T11:17:43.294720",
     "status": "completed"
    },
    "tags": [],
    "vscode": {
     "languageId": "r"
    }
   },
   "outputs": [],
   "source": [
    "\n",
    "#remove(list = ls())\n",
    "#define the conda env\n",
    "\n",
    "library(reticulate)\n",
    "use_condaenv(\"ccnet\", required = TRUE)\n",
    "\n",
    "python_env = \"python_env\""
   ]
  },
  {
   "cell_type": "code",
   "execution_count": 2,
   "id": "f153822c",
   "metadata": {
    "execution": {
     "iopub.execute_input": "2024-10-26T11:17:48.735720Z",
     "iopub.status.busy": "2024-10-26T11:17:48.694101Z",
     "iopub.status.idle": "2024-10-26T11:17:56.015249Z",
     "shell.execute_reply": "2024-10-26T11:17:56.014201Z"
    },
    "papermill": {
     "duration": 7.337442,
     "end_time": "2024-10-26T11:17:56.017577",
     "exception": false,
     "start_time": "2024-10-26T11:17:48.680135",
     "status": "completed"
    },
    "tags": [],
    "vscode": {
     "languageId": "r"
    }
   },
   "outputs": [
    {
     "name": "stderr",
     "output_type": "stream",
     "text": [
      "Package 'ENIGMA' version 0.1.6\n",
      "ENIGMA is built for fully deconvolution.\n",
      "\n"
     ]
    }
   ],
   "source": [
    "library(ggplot2)\n",
    "library(scatterpie)\n",
    "library(RColorBrewer)\n",
    "library(MIND)\n",
    "library(ENIGMA)"
   ]
  },
  {
   "cell_type": "code",
   "execution_count": 3,
   "id": "21fc87e7",
   "metadata": {
    "execution": {
     "iopub.execute_input": "2024-10-26T11:17:56.049859Z",
     "iopub.status.busy": "2024-10-26T11:17:56.047804Z",
     "iopub.status.idle": "2024-10-26T11:17:56.072426Z",
     "shell.execute_reply": "2024-10-26T11:17:56.071162Z"
    },
    "papermill": {
     "duration": 0.040183,
     "end_time": "2024-10-26T11:17:56.074471",
     "exception": false,
     "start_time": "2024-10-26T11:17:56.034288",
     "status": "completed"
    },
    "tags": [],
    "vscode": {
     "languageId": "r"
    }
   },
   "outputs": [],
   "source": [
    "# Source code\n",
    "source(\"./code/STged.R\")\n",
    "source(\"./code/benchmark.R\")"
   ]
  },
  {
   "cell_type": "code",
   "execution_count": 4,
   "id": "d7553bbe",
   "metadata": {
    "execution": {
     "iopub.execute_input": "2024-10-26T11:17:56.105258Z",
     "iopub.status.busy": "2024-10-26T11:17:56.103155Z",
     "iopub.status.idle": "2024-10-26T11:17:56.128304Z",
     "shell.execute_reply": "2024-10-26T11:17:56.126549Z"
    },
    "papermill": {
     "duration": 0.040808,
     "end_time": "2024-10-26T11:17:56.130782",
     "exception": false,
     "start_time": "2024-10-26T11:17:56.089974",
     "status": "completed"
    },
    "tags": [],
    "vscode": {
     "languageId": "r"
    }
   },
   "outputs": [],
   "source": [
    "colors <- colorRampPalette(brewer.pal(9, \"Set3\"))(12)\n"
   ]
  },
  {
   "cell_type": "markdown",
   "id": "334db802",
   "metadata": {
    "papermill": {
     "duration": 0.011301,
     "end_time": "2024-10-26T11:17:56.159202",
     "exception": false,
     "start_time": "2024-10-26T11:17:56.147901",
     "status": "completed"
    },
    "tags": []
   },
   "source": [
    "# Load data the generated simulated data\n",
    "\n"
   ]
  },
  {
   "cell_type": "code",
   "execution_count": 5,
   "id": "b1bdeda9",
   "metadata": {
    "execution": {
     "iopub.execute_input": "2024-10-26T11:17:56.180268Z",
     "iopub.status.busy": "2024-10-26T11:17:56.177816Z",
     "iopub.status.idle": "2024-10-26T11:17:56.542208Z",
     "shell.execute_reply": "2024-10-26T11:17:56.540407Z"
    },
    "papermill": {
     "duration": 0.376525,
     "end_time": "2024-10-26T11:17:56.544866",
     "exception": false,
     "start_time": "2024-10-26T11:17:56.168341",
     "status": "completed"
    },
    "tags": [],
    "vscode": {
     "languageId": "r"
    }
   },
   "outputs": [
    {
     "data": {
      "text/html": [
       "50"
      ],
      "text/latex": [
       "50"
      ],
      "text/markdown": [
       "50"
      ],
      "text/plain": [
       "[1] 50"
      ]
     },
     "metadata": {},
     "output_type": "display_data"
    },
    {
     "name": "stderr",
     "output_type": "stream",
     "text": [
      "Loading required package: hash\n",
      "\n"
     ]
    },
    {
     "name": "stderr",
     "output_type": "stream",
     "text": [
      "hash-2.2.6.3 provided by Decision Patterns\n",
      "\n",
      "\n"
     ]
    }
   ],
   "source": [
    "sim_data = readRDS(\"./realdata/MAOP/FN7_hash_mpoa_sim-29_ref01.Rds\")\n",
    "\n",
    "i = 2\n",
    "patch_size = c(100,50)[i]\n",
    "patch_size\n",
    "\n",
    "mpoa = sim_data$mpoa_list[[i]]$`-0.29`\n",
    "\n",
    "## use the merfish data as reference data\n",
    "usemer = FALSE\n",
    "\n",
    "if(usemer ){\n",
    "sc_exp = t(sim_data$ref_exp)\n",
    "sc_label =  sim_data$ref_label$Cell_class\n",
    "}\n",
    "\n"
   ]
  },
  {
   "cell_type": "code",
   "execution_count": 6,
   "id": "7d5e0459",
   "metadata": {
    "execution": {
     "iopub.execute_input": "2024-10-26T11:17:56.581090Z",
     "iopub.status.busy": "2024-10-26T11:17:56.578670Z",
     "iopub.status.idle": "2024-10-26T11:17:57.216393Z",
     "shell.execute_reply": "2024-10-26T11:17:57.215147Z"
    },
    "papermill": {
     "duration": 0.6544,
     "end_time": "2024-10-26T11:17:57.218668",
     "exception": false,
     "start_time": "2024-10-26T11:17:56.564268",
     "status": "completed"
    },
    "tags": [],
    "vscode": {
     "languageId": "r"
    }
   },
   "outputs": [],
   "source": [
    "# load the referene from scRNA\n",
    "sim_data = readRDS(\"./realdata/MAOP/refscRNA/scRNA_MPOA50k.RDS\")\n"
   ]
  },
  {
   "cell_type": "code",
   "execution_count": 7,
   "id": "40c135d0",
   "metadata": {
    "execution": {
     "iopub.execute_input": "2024-10-26T11:17:57.248638Z",
     "iopub.status.busy": "2024-10-26T11:17:57.247255Z",
     "iopub.status.idle": "2024-10-26T11:17:57.272071Z",
     "shell.execute_reply": "2024-10-26T11:17:57.270983Z"
    },
    "papermill": {
     "duration": 0.039184,
     "end_time": "2024-10-26T11:17:57.274068",
     "exception": false,
     "start_time": "2024-10-26T11:17:57.234884",
     "status": "completed"
    },
    "tags": [],
    "vscode": {
     "languageId": "r"
    }
   },
   "outputs": [
    {
     "data": {
      "text/html": [
       "<style>\n",
       ".list-inline {list-style: none; margin:0; padding: 0}\n",
       ".list-inline>li {display: inline-block}\n",
       ".list-inline>li:not(:last-child)::after {content: \"\\00b7\"; padding: 0 .5ex}\n",
       "</style>\n",
       "<ol class=list-inline><li>134</li><li>29760</li></ol>\n"
      ],
      "text/latex": [
       "\\begin{enumerate*}\n",
       "\\item 134\n",
       "\\item 29760\n",
       "\\end{enumerate*}\n"
      ],
      "text/markdown": [
       "1. 134\n",
       "2. 29760\n",
       "\n",
       "\n"
      ],
      "text/plain": [
       "[1]   134 29760"
      ]
     },
     "metadata": {},
     "output_type": "display_data"
    },
    {
     "data": {
      "text/html": [
       "29760"
      ],
      "text/latex": [
       "29760"
      ],
      "text/markdown": [
       "29760"
      ],
      "text/plain": [
       "[1] 29760"
      ]
     },
     "metadata": {},
     "output_type": "display_data"
    }
   ],
   "source": [
    "sc_exp = sim_data$scexp\n",
    "sc_label = sim_data$sclabel\n",
    "\n",
    "dim(sc_exp)\n",
    "length(sc_label)"
   ]
  },
  {
   "cell_type": "code",
   "execution_count": 8,
   "id": "a4bdc125",
   "metadata": {
    "execution": {
     "iopub.execute_input": "2024-10-26T11:17:57.301596Z",
     "iopub.status.busy": "2024-10-26T11:17:57.299874Z",
     "iopub.status.idle": "2024-10-26T11:17:57.322683Z",
     "shell.execute_reply": "2024-10-26T11:17:57.321441Z"
    },
    "papermill": {
     "duration": 0.036207,
     "end_time": "2024-10-26T11:17:57.324587",
     "exception": false,
     "start_time": "2024-10-26T11:17:57.288380",
     "status": "completed"
    },
    "tags": [],
    "vscode": {
     "languageId": "r"
    }
   },
   "outputs": [
    {
     "data": {
      "text/plain": [
       "sc_label\n",
       "  Astrocyte Endothelial   Ependymal  Excitatory  Inhibitory   Microglia \n",
       "        857         541          69        3511       15042         828 \n",
       "OD Immature   OD Mature   Pericytes \n",
       "       1692        6707         513 "
      ]
     },
     "metadata": {},
     "output_type": "display_data"
    }
   ],
   "source": [
    "\n",
    "table(sc_label)\n",
    "\n"
   ]
  },
  {
   "cell_type": "markdown",
   "id": "b42486ff",
   "metadata": {
    "papermill": {
     "duration": 0.011626,
     "end_time": "2024-10-26T11:17:57.352362",
     "exception": false,
     "start_time": "2024-10-26T11:17:57.340736",
     "status": "completed"
    },
    "tags": []
   },
   "source": [
    "## The spots location information"
   ]
  },
  {
   "cell_type": "code",
   "execution_count": 9,
   "id": "1d878b99",
   "metadata": {
    "execution": {
     "iopub.execute_input": "2024-10-26T11:17:57.373579Z",
     "iopub.status.busy": "2024-10-26T11:17:57.371150Z",
     "iopub.status.idle": "2024-10-26T11:17:57.419309Z",
     "shell.execute_reply": "2024-10-26T11:17:57.418261Z"
    },
    "papermill": {
     "duration": 0.06027,
     "end_time": "2024-10-26T11:17:57.421640",
     "exception": false,
     "start_time": "2024-10-26T11:17:57.361370",
     "status": "completed"
    },
    "tags": [],
    "vscode": {
     "languageId": "r"
    }
   },
   "outputs": [
    {
     "data": {
      "text/html": [
       "<style>\n",
       ".list-inline {list-style: none; margin:0; padding: 0}\n",
       ".list-inline>li {display: inline-block}\n",
       ".list-inline>li:not(:last-child)::after {content: \"\\00b7\"; padding: 0 .5ex}\n",
       "</style>\n",
       "<ol class=list-inline><li>135</li><li>1141</li></ol>\n"
      ],
      "text/latex": [
       "\\begin{enumerate*}\n",
       "\\item 135\n",
       "\\item 1141\n",
       "\\end{enumerate*}\n"
      ],
      "text/markdown": [
       "1. 135\n",
       "2. 1141\n",
       "\n",
       "\n"
      ],
      "text/plain": [
       "[1]  135 1141"
      ]
     },
     "metadata": {},
     "output_type": "display_data"
    },
    {
     "data": {
      "text/html": [
       "<style>\n",
       ".list-inline {list-style: none; margin:0; padding: 0}\n",
       ".list-inline>li {display: inline-block}\n",
       ".list-inline>li:not(:last-child)::after {content: \"\\00b7\"; padding: 0 .5ex}\n",
       "</style>\n",
       "<ol class=list-inline><li>'Astrocyte'</li><li>'Endothelial'</li><li>'Ependymal'</li><li>'Excitatory'</li><li>'Inhibitory'</li><li>'Microglia'</li><li>'OD Immature'</li><li>'OD Mature'</li><li>'Pericytes'</li></ol>\n"
      ],
      "text/latex": [
       "\\begin{enumerate*}\n",
       "\\item 'Astrocyte'\n",
       "\\item 'Endothelial'\n",
       "\\item 'Ependymal'\n",
       "\\item 'Excitatory'\n",
       "\\item 'Inhibitory'\n",
       "\\item 'Microglia'\n",
       "\\item 'OD Immature'\n",
       "\\item 'OD Mature'\n",
       "\\item 'Pericytes'\n",
       "\\end{enumerate*}\n"
      ],
      "text/markdown": [
       "1. 'Astrocyte'\n",
       "2. 'Endothelial'\n",
       "3. 'Ependymal'\n",
       "4. 'Excitatory'\n",
       "5. 'Inhibitory'\n",
       "6. 'Microglia'\n",
       "7. 'OD Immature'\n",
       "8. 'OD Mature'\n",
       "9. 'Pericytes'\n",
       "\n",
       "\n"
      ],
      "text/plain": [
       "[1] \"Astrocyte\"   \"Endothelial\" \"Ependymal\"   \"Excitatory\"  \"Inhibitory\" \n",
       "[6] \"Microglia\"   \"OD Immature\" \"OD Mature\"   \"Pericytes\"  "
      ]
     },
     "metadata": {},
     "output_type": "display_data"
    }
   ],
   "source": [
    "spot_raw = rownames(mpoa$patchGexp)\n",
    "spots = paste0(\"spot\",1:length(spot_raw))\n",
    "\n",
    "\n",
    "split_strings <- strsplit(spot_raw, \"_\")\n",
    "spot_loc <- do.call(rbind, lapply(split_strings, function(x) as.numeric(x)))\n",
    "spot_exp <- t(mpoa$patchGexp)[,spot_raw ]\n",
    "dim(spot_exp)\n",
    "\n",
    "cell_type_freq = as.matrix(mpoa$cellTypeTable[spot_raw,]) \n",
    "cell_type_freq <- apply(cell_type_freq, 2, as.numeric)  \n",
    "cell_type_prop = sweep(cell_type_freq, 1, rowSums(cell_type_freq), FUN = \"/\")\n",
    "\n",
    "cell_type = colnames(cell_type_prop)\n",
    "cell_type\n",
    "\n",
    "\n",
    "rownames(cell_type_prop) = rownames(spot_loc)  = spots\n",
    "colnames(spot_exp) = spots\n"
   ]
  },
  {
   "cell_type": "markdown",
   "id": "e8689047",
   "metadata": {
    "papermill": {
     "duration": 0.011125,
     "end_time": "2024-10-26T11:17:57.449252",
     "exception": false,
     "start_time": "2024-10-26T11:17:57.438127",
     "status": "completed"
    },
    "tags": []
   },
   "source": [
    "## TRUE cell type-specific gene expression for each cell type"
   ]
  },
  {
   "cell_type": "code",
   "execution_count": 10,
   "id": "7a2ad658",
   "metadata": {
    "execution": {
     "iopub.execute_input": "2024-10-26T11:17:57.469778Z",
     "iopub.status.busy": "2024-10-26T11:17:57.467328Z",
     "iopub.status.idle": "2024-10-26T11:17:58.076340Z",
     "shell.execute_reply": "2024-10-26T11:17:58.075129Z"
    },
    "papermill": {
     "duration": 0.620661,
     "end_time": "2024-10-26T11:17:58.078587",
     "exception": false,
     "start_time": "2024-10-26T11:17:57.457926",
     "status": "completed"
    },
    "tags": [],
    "vscode": {
     "languageId": "r"
    }
   },
   "outputs": [],
   "source": [
    "genes = rownames(spot_exp)  \n",
    "TRUE_F = vector(\"list\", length(cell_type))  \n",
    "names(TRUE_F) = cell_type  \n",
    "\n",
    "spot_cell_type_exp = mpoa$avgPatchGexp\n",
    "\n",
    "for(i in 1:length(cell_type)){\n",
    "  \n",
    "  temp_mat = matrix(0, nrow = length(spots), ncol = length(genes))\n",
    "  colnames(temp_mat) = genes\n",
    "  rownames(temp_mat) = spots\n",
    "  \n",
    "  for(j in 1:length(spots)){\n",
    "    temp = spot_cell_type_exp[[j]]\n",
    "    \n",
    "    \n",
    "    if (cell_type[i] %in% colnames(temp)) {\n",
    "      temp_mat[j,] = temp[,cell_type[i]]\n",
    "    } else {\n",
    "      \n",
    "      temp_mat[j,] = 0\n",
    "    }\n",
    "  }\n",
    "  \n",
    "  \n",
    "  TRUE_F[[i]] = t(temp_mat)\n",
    "}\n",
    "\n"
   ]
  },
  {
   "cell_type": "markdown",
   "id": "950d582d",
   "metadata": {
    "papermill": {
     "duration": 0.012148,
     "end_time": "2024-10-26T11:17:58.109576",
     "exception": false,
     "start_time": "2024-10-26T11:17:58.097428",
     "status": "completed"
    },
    "tags": []
   },
   "source": [
    "# Run the STged step by step"
   ]
  },
  {
   "cell_type": "markdown",
   "id": "aeb511e9",
   "metadata": {
    "papermill": {
     "duration": 0.008138,
     "end_time": "2024-10-26T11:17:58.127453",
     "exception": false,
     "start_time": "2024-10-26T11:17:58.119315",
     "status": "completed"
    },
    "tags": []
   },
   "source": [
    "## Step 1: clear data"
   ]
  },
  {
   "cell_type": "code",
   "execution_count": 11,
   "id": "7d8f4562",
   "metadata": {
    "execution": {
     "iopub.execute_input": "2024-10-26T11:17:58.168974Z",
     "iopub.status.busy": "2024-10-26T11:17:58.166555Z",
     "iopub.status.idle": "2024-10-26T11:17:59.485985Z",
     "shell.execute_reply": "2024-10-26T11:17:59.484709Z"
    },
    "papermill": {
     "duration": 1.330807,
     "end_time": "2024-10-26T11:17:59.488266",
     "exception": false,
     "start_time": "2024-10-26T11:17:58.157459",
     "status": "completed"
    },
    "tags": [],
    "vscode": {
     "languageId": "r"
    }
   },
   "outputs": [],
   "source": [
    "clean.only = FALSE\n",
    "depthscale = 1e6\n",
    "datax = data_process(sc_exp = sc_exp,   sc_label = sc_label, \n",
    "                     spot_exp = spot_exp,  spot_loc = spot_loc,\n",
    "                     depthscale = depthscale,  gene_det_in_min_cells_per = 0, \n",
    "                     expression_threshold = 0,\n",
    "                     nUMI = 10, verbose = FALSE, clean.only = clean.only)\n"
   ]
  },
  {
   "cell_type": "code",
   "execution_count": 12,
   "id": "f4055855",
   "metadata": {
    "execution": {
     "iopub.execute_input": "2024-10-26T11:17:59.529337Z",
     "iopub.status.busy": "2024-10-26T11:17:59.526692Z",
     "iopub.status.idle": "2024-10-26T11:17:59.565246Z",
     "shell.execute_reply": "2024-10-26T11:17:59.564072Z"
    },
    "papermill": {
     "duration": 0.059476,
     "end_time": "2024-10-26T11:17:59.567943",
     "exception": false,
     "start_time": "2024-10-26T11:17:59.508467",
     "status": "completed"
    },
    "tags": [],
    "vscode": {
     "languageId": "r"
    }
   },
   "outputs": [
    {
     "data": {
      "text/html": [
       "13.3083630694767"
      ],
      "text/latex": [
       "13.3083630694767"
      ],
      "text/markdown": [
       "13.3083630694767"
      ],
      "text/plain": [
       "[1] 13.30836"
      ]
     },
     "metadata": {},
     "output_type": "display_data"
    },
    {
     "data": {
      "text/html": [
       "13.7572427098397"
      ],
      "text/latex": [
       "13.7572427098397"
      ],
      "text/markdown": [
       "13.7572427098397"
      ],
      "text/plain": [
       "[1] 13.75724"
      ]
     },
     "metadata": {},
     "output_type": "display_data"
    }
   ],
   "source": [
    "max(datax$spot_exp)\n",
    "max(datax$sc_exp)"
   ]
  },
  {
   "cell_type": "code",
   "execution_count": 13,
   "id": "a4ab1c97",
   "metadata": {
    "execution": {
     "iopub.execute_input": "2024-10-26T11:17:59.603327Z",
     "iopub.status.busy": "2024-10-26T11:17:59.601400Z",
     "iopub.status.idle": "2024-10-26T11:17:59.626081Z",
     "shell.execute_reply": "2024-10-26T11:17:59.624591Z"
    },
    "papermill": {
     "duration": 0.041471,
     "end_time": "2024-10-26T11:17:59.628274",
     "exception": false,
     "start_time": "2024-10-26T11:17:59.586803",
     "status": "completed"
    },
    "tags": [],
    "vscode": {
     "languageId": "r"
    }
   },
   "outputs": [
    {
     "data": {
      "text/html": [
       "<style>\n",
       ".list-inline {list-style: none; margin:0; padding: 0}\n",
       ".list-inline>li {display: inline-block}\n",
       ".list-inline>li:not(:last-child)::after {content: \"\\00b7\"; padding: 0 .5ex}\n",
       "</style>\n",
       "<ol class=list-inline><li>134</li><li>28357</li></ol>\n"
      ],
      "text/latex": [
       "\\begin{enumerate*}\n",
       "\\item 134\n",
       "\\item 28357\n",
       "\\end{enumerate*}\n"
      ],
      "text/markdown": [
       "1. 134\n",
       "2. 28357\n",
       "\n",
       "\n"
      ],
      "text/plain": [
       "[1]   134 28357"
      ]
     },
     "metadata": {},
     "output_type": "display_data"
    },
    {
     "data": {
      "text/plain": [
       "\n",
       "  Astrocyte Endothelial   Ependymal  Excitatory  Inhibitory   Microglia \n",
       "        574         514          54        3418       14304         730 \n",
       "OD Immature   OD Mature   Pericytes \n",
       "       1647        6608         508 "
      ]
     },
     "metadata": {},
     "output_type": "display_data"
    }
   ],
   "source": [
    "dim(datax$sc_exp)\n",
    "table(datax$sc_label)"
   ]
  },
  {
   "cell_type": "code",
   "execution_count": 14,
   "id": "a5c3897d",
   "metadata": {
    "execution": {
     "iopub.execute_input": "2024-10-26T11:17:59.662364Z",
     "iopub.status.busy": "2024-10-26T11:17:59.660330Z",
     "iopub.status.idle": "2024-10-26T11:17:59.774606Z",
     "shell.execute_reply": "2024-10-26T11:17:59.773250Z"
    },
    "papermill": {
     "duration": 0.1307,
     "end_time": "2024-10-26T11:17:59.777116",
     "exception": false,
     "start_time": "2024-10-26T11:17:59.646416",
     "status": "completed"
    },
    "tags": [],
    "vscode": {
     "languageId": "r"
    }
   },
   "outputs": [],
   "source": [
    "# use for the other completed methods\n",
    "datax_count = data_process(sc_exp = sc_exp,   sc_label = sc_label, \n",
    "                     spot_exp = spot_exp,  spot_loc = spot_loc,\n",
    "                     depthscale = depthscale,  gene_det_in_min_cells_per = 0, \n",
    "                     expression_threshold = 0,\n",
    "                     nUMI =  10, verbose = FALSE, clean.only = TRUE)"
   ]
  },
  {
   "cell_type": "code",
   "execution_count": 15,
   "id": "7377994c",
   "metadata": {
    "execution": {
     "iopub.execute_input": "2024-10-26T11:17:59.812563Z",
     "iopub.status.busy": "2024-10-26T11:17:59.810646Z",
     "iopub.status.idle": "2024-10-26T11:17:59.830757Z",
     "shell.execute_reply": "2024-10-26T11:17:59.829301Z"
    },
    "papermill": {
     "duration": 0.036409,
     "end_time": "2024-10-26T11:17:59.832785",
     "exception": false,
     "start_time": "2024-10-26T11:17:59.796376",
     "status": "completed"
    },
    "tags": [],
    "vscode": {
     "languageId": "r"
    }
   },
   "outputs": [
    {
     "data": {
      "text/html": [
       "134"
      ],
      "text/latex": [
       "134"
      ],
      "text/markdown": [
       "134"
      ],
      "text/plain": [
       "[1] 134"
      ]
     },
     "metadata": {},
     "output_type": "display_data"
    }
   ],
   "source": [
    "genes_sec = rownames(datax$spot_exp)\n",
    "length(genes_sec)"
   ]
  },
  {
   "cell_type": "code",
   "execution_count": 16,
   "id": "643dad04",
   "metadata": {
    "execution": {
     "iopub.execute_input": "2024-10-26T11:17:59.864112Z",
     "iopub.status.busy": "2024-10-26T11:17:59.861841Z",
     "iopub.status.idle": "2024-10-26T11:18:00.082797Z",
     "shell.execute_reply": "2024-10-26T11:18:00.081607Z"
    },
    "papermill": {
     "duration": 0.237097,
     "end_time": "2024-10-26T11:18:00.085174",
     "exception": false,
     "start_time": "2024-10-26T11:17:59.848077",
     "status": "completed"
    },
    "tags": [],
    "vscode": {
     "languageId": "r"
    }
   },
   "outputs": [],
   "source": [
    "genes_sec = rownames(datax$spot_exp)\n",
    "\n",
    "for(i in 1:length(cell_type)){\n",
    "  \n",
    "  TRUE_F[[i]] = TRUE_F[[i]][genes_sec, colnames(datax$spot_exp )]\n",
    "  \n",
    "}\n",
    "\n",
    "depthscale = 1e6\n",
    "trueF = res_library_size_normaization(estres = TRUE_F, depthscale = depthscale)\n",
    "\n",
    "\n",
    "saveRDS(TRUE_F, file = paste0(\"./results/MPOA/True_cell_exp_\", patch_size, \"um2.RDS\"))\n"
   ]
  },
  {
   "cell_type": "markdown",
   "id": "97ea8993",
   "metadata": {
    "papermill": {
     "duration": 0.011878,
     "end_time": "2024-10-26T11:18:00.115234",
     "exception": false,
     "start_time": "2024-10-26T11:18:00.103356",
     "status": "completed"
    },
    "tags": []
   },
   "source": [
    "## Step 2: construct spatial correlation structures"
   ]
  },
  {
   "cell_type": "code",
   "execution_count": null,
   "id": "d7089564",
   "metadata": {
    "execution": {
     "iopub.execute_input": "2024-10-21T06:03:25.273029Z",
     "iopub.status.busy": "2024-10-21T06:03:25.270636Z",
     "iopub.status.idle": "2024-10-21T06:10:45.670010Z",
     "shell.execute_reply": "2024-10-21T06:10:45.668773Z"
    },
    "papermill": {
     "duration": null,
     "end_time": null,
     "exception": false,
     "start_time": "2024-10-26T11:18:00.124015",
     "status": "running"
    },
    "tags": [],
    "vscode": {
     "languageId": "r"
    }
   },
   "outputs": [],
   "source": [
    "cat(\"Construct spatial correlation\", \"\\n\")\n",
    "L.mat = dis_weight(spot_loc = datax$spot_loc, spot_exp = datax$spot_exp, k = 6, \n",
    "                   quantile_prob_bandwidth = 1/3, method = \"Hex\", \n",
    "                   coord_type = \"grid\")"
   ]
  },
  {
   "cell_type": "markdown",
   "id": "69c6a727",
   "metadata": {
    "papermill": {
     "duration": null,
     "end_time": null,
     "exception": null,
     "start_time": null,
     "status": "pending"
    },
    "tags": []
   },
   "source": [
    "## Step 3: construct reference gene matrix"
   ]
  },
  {
   "cell_type": "code",
   "execution_count": null,
   "id": "67431d43",
   "metadata": {
    "execution": {
     "iopub.execute_input": "2024-10-21T06:10:45.744880Z",
     "iopub.status.busy": "2024-10-21T06:10:45.742456Z",
     "iopub.status.idle": "2024-10-21T06:10:45.816425Z",
     "shell.execute_reply": "2024-10-21T06:10:45.815434Z"
    },
    "papermill": {
     "duration": null,
     "end_time": null,
     "exception": null,
     "start_time": null,
     "status": "pending"
    },
    "tags": [],
    "vscode": {
     "languageId": "r"
    }
   },
   "outputs": [],
   "source": [
    "cat(\"Construct reference gene matrix\", \"\\n\")\n",
    "\n",
    "ref_exp = create_group_exp(sc_exp = datax$sc_exp, sc_label = datax$sc_label)\n",
    "colnames(ref_exp)\n"
   ]
  },
  {
   "cell_type": "code",
   "execution_count": null,
   "id": "9a68960d",
   "metadata": {
    "execution": {
     "iopub.execute_input": "2024-10-21T06:10:45.853025Z",
     "iopub.status.busy": "2024-10-21T06:10:45.851211Z",
     "iopub.status.idle": "2024-10-21T06:10:45.874209Z",
     "shell.execute_reply": "2024-10-21T06:10:45.872933Z"
    },
    "papermill": {
     "duration": null,
     "end_time": null,
     "exception": null,
     "start_time": null,
     "status": "pending"
    },
    "tags": [],
    "vscode": {
     "languageId": "r"
    }
   },
   "outputs": [],
   "source": [
    "ref_exp = ref_exp[rownames(datax$spot_exp),]\n",
    "colnames(ref_exp )\n",
    "cell_type"
   ]
  },
  {
   "cell_type": "code",
   "execution_count": null,
   "id": "37ba7c42",
   "metadata": {
    "execution": {
     "iopub.execute_input": "2024-10-21T06:10:45.909187Z",
     "iopub.status.busy": "2024-10-21T06:10:45.907362Z",
     "iopub.status.idle": "2024-10-21T06:10:45.925153Z",
     "shell.execute_reply": "2024-10-21T06:10:45.923171Z"
    },
    "papermill": {
     "duration": null,
     "end_time": null,
     "exception": null,
     "start_time": null,
     "status": "pending"
    },
    "tags": [],
    "vscode": {
     "languageId": "r"
    }
   },
   "outputs": [],
   "source": [
    "beta.type = cell_type_prop[colnames(datax$spot_exp),]"
   ]
  },
  {
   "cell_type": "code",
   "execution_count": null,
   "id": "f5c25f1b",
   "metadata": {
    "execution": {
     "iopub.execute_input": "2024-10-21T06:10:46.025995Z",
     "iopub.status.busy": "2024-10-21T06:10:46.024204Z",
     "iopub.status.idle": "2024-10-21T06:10:46.106163Z",
     "shell.execute_reply": "2024-10-21T06:10:46.105218Z"
    },
    "papermill": {
     "duration": null,
     "end_time": null,
     "exception": null,
     "start_time": null,
     "status": "pending"
    },
    "tags": [],
    "vscode": {
     "languageId": "r"
    }
   },
   "outputs": [],
   "source": [
    "p = nrow(datax$spot_exp)\n",
    "p\n",
    "K = ncol(beta.type)\n",
    "beta.ind.temp = beta.type>0.05\n",
    "\n",
    "beta.ind =  matrix(list(), K ,1)\n",
    "for (i in 1:K){\n",
    "  \n",
    "  beta.ind[[i]] =  matrix( rep(beta.ind.temp[,i],p), nrow = p, byrow = TRUE)\n",
    "}\n",
    "\n",
    "saveRDS(beta.ind, file =paste0(\"./results/MPOA/cell_prop_indx_\",patch_size,\"um2.RDS\"))\n"
   ]
  },
  {
   "cell_type": "markdown",
   "id": "b22933cf",
   "metadata": {
    "papermill": {
     "duration": null,
     "end_time": null,
     "exception": null,
     "start_time": null,
     "status": "pending"
    },
    "tags": []
   },
   "source": [
    "## Step 4: run the main model\n",
    "### Step 4-1: run the main model with true cell type proportion"
   ]
  },
  {
   "cell_type": "code",
   "execution_count": null,
   "id": "3801a629",
   "metadata": {
    "execution": {
     "iopub.execute_input": "2024-10-21T06:10:46.162688Z",
     "iopub.status.busy": "2024-10-21T06:10:46.160270Z",
     "iopub.status.idle": "2024-10-21T06:10:47.086038Z",
     "shell.execute_reply": "2024-10-21T06:10:47.084902Z"
    },
    "papermill": {
     "duration": null,
     "end_time": null,
     "exception": null,
     "start_time": null,
     "status": "pending"
    },
    "tags": [],
    "vscode": {
     "languageId": "r"
    }
   },
   "outputs": [],
   "source": [
    " \n",
    "start_time <- Sys.time()\n",
    "\n",
    "if (!file.exists(paste0(\"./results/MPOA/True_stged_\",patch_size,\"um2.RDS\"))) {\n",
    "  stged.est.true <- MUR.STged(\n",
    "    srt_exp = datax$spot_exp, \n",
    "    ref_exp = ref_exp, \n",
    "    beta.type = beta.type, \n",
    "    W = L.mat$dis_weight, \n",
    "    lambda1 = NULL, \n",
    "    lambda2 = NULL, \n",
    "    cutoff = 0.05, \n",
    "    epsilon = 1e-5\n",
    "  )\n",
    "  \n",
    "  saveRDS(stged.est.true, file = paste0( \"./results/MPOA/True_stged_\",patch_size,\"um2.RDS\"))\n",
    "} else {\n",
    "  \n",
    "  stged.est.true <- readRDS(paste0(\"./results/MPOA/True_stged_\",patch_size,\"um2.RDS\"))\n",
    "}\n",
    "\n",
    "end_time <- Sys.time()\n",
    "\n",
    "\n",
    "reg1 <- TRUE\n",
    "\n",
    "if (reg1 && !file.exists(paste0(\"./results/MPOA/True_stged_reg1_\",patch_size,\"um2.RDS\"))) {\n",
    "  stged.est.reg1 <- MUR.STged(\n",
    "    srt_exp = datax$spot_exp, \n",
    "    ref_exp = ref_exp, \n",
    "    beta.type = beta.type, \n",
    "    W = L.mat$dis_weight, \n",
    "    lambda1 = NULL, \n",
    "    lambda2 = 0, \n",
    "    cutoff = 0.05, \n",
    "    epsilon = 1e-5\n",
    "  )\n",
    "  \n",
    "  saveRDS(stged.est.reg1, file = paste0(\"./results/MPOA/True_stged_reg1_\",patch_size,\"um2.RDS\"))\n",
    "} else {\n",
    "  \n",
    "  stged.est.reg1 <- readRDS(paste0(\"./results/MPOA/True_stged_reg1_\",patch_size,\"um2.RDS\"))\n",
    "}\n",
    "\n",
    "\n",
    "reg2 <- TRUE\n",
    "if (reg2 && !file.exists(paste0(\"./results/MPOA/True_stged_reg2_\",patch_size,\"um2.RDS\"))) {\n",
    "  stged.est.reg2 <- MUR.STged(\n",
    "    srt_exp = datax$spot_exp, \n",
    "    ref_exp = ref_exp, \n",
    "    beta.type = beta.type, \n",
    "    W = L.mat$dis_weight, \n",
    "    lambda1 = 0, \n",
    "    lambda2 = NULL, \n",
    "    cutoff = 0.05, \n",
    "    epsilon = 1e-5\n",
    "  )\n",
    "  \n",
    "  saveRDS(stged.est.reg2, file = paste0(\"./results/MPOA/True_stged_reg2_\",patch_size,\"um2.RDS\"))\n",
    "} else {\n",
    "  \n",
    "  stged.est.reg2 <- readRDS(paste0(\"./results/MPOA/True_stged_reg2_\",patch_size,\"um2.RDS\"))\n",
    "}\n",
    "\n",
    "\n",
    "\n",
    "reg3 <- TRUE\n",
    "if (reg3 && !file.exists(paste0(\"./results/MPOA/True_stged_reg3_\",patch_size,\"um2.RDS\"))) {\n",
    "  stged.est.reg3 <- MUR.STged(\n",
    "    srt_exp = datax$spot_exp, \n",
    "    ref_exp = ref_exp, \n",
    "    beta.type = beta.type, \n",
    "    W = L.mat$dis_weight, \n",
    "    lambda1 = 0, \n",
    "    lambda2 = 0, \n",
    "    cutoff = 0.05, \n",
    "    epsilon = 1e-5\n",
    "  )\n",
    "  \n",
    "  saveRDS(stged.est.reg3, file = paste0(\"./results/MPOA/True_stged_reg3_\",patch_size,\"um2.RDS\"))\n",
    "} else {\n",
    "  \n",
    "  stged.est.reg3 <- readRDS(paste0(\"./results/MPOA/True_stged_reg3_\",patch_size,\"um2.RDS\"))\n",
    "}"
   ]
  },
  {
   "cell_type": "markdown",
   "id": "786beda2",
   "metadata": {
    "papermill": {
     "duration": null,
     "end_time": null,
     "exception": null,
     "start_time": null,
     "status": "pending"
    },
    "tags": []
   },
   "source": [
    "# Run the benchmarking methods"
   ]
  },
  {
   "cell_type": "code",
   "execution_count": null,
   "id": "b9b45132",
   "metadata": {
    "execution": {
     "iopub.execute_input": "2024-10-21T06:10:47.142138Z",
     "iopub.status.busy": "2024-10-21T06:10:47.139744Z",
     "iopub.status.idle": "2024-10-21T06:10:47.832021Z",
     "shell.execute_reply": "2024-10-21T06:10:47.830781Z"
    },
    "papermill": {
     "duration": null,
     "end_time": null,
     "exception": null,
     "start_time": null,
     "status": "pending"
    },
    "tags": [],
    "vscode": {
     "languageId": "r"
    }
   },
   "outputs": [],
   "source": [
    "exp_lsr = st_mu_est(srt_exp = datax$spot_exp,  beta= beta.type)\n",
    "exp_sc = sc_mu_est( sc_mu = ref_exp, beta = beta.type)\n",
    "\n",
    "exp_rctd =  RCTDexp(beta = beta.type,  srt_exp = datax$spot_exp, ref_mu = ref_exp )\n",
    "\n",
    "exp_spotdecon = spotdecon_est(srt_exp = datax$spot_exp,  beta= beta.type)\n"
   ]
  },
  {
   "cell_type": "code",
   "execution_count": null,
   "id": "cd4eb222",
   "metadata": {
    "execution": {
     "iopub.execute_input": "2024-10-21T06:10:47.870091Z",
     "iopub.status.busy": "2024-10-21T06:10:47.869092Z",
     "iopub.status.idle": "2024-10-21T06:11:37.948010Z",
     "shell.execute_reply": "2024-10-21T06:11:37.944928Z"
    },
    "papermill": {
     "duration": null,
     "end_time": null,
     "exception": null,
     "start_time": null,
     "status": "pending"
    },
    "tags": [],
    "vscode": {
     "languageId": "r"
    }
   },
   "outputs": [],
   "source": [
    "# Check and save exp_ENIGMA result\n",
    "if (!file.exists(paste0(\"./results/MPOA/True_exp_ENIGMA_\",patch_size,\"um2.RDS\")) ){\n",
    "  exp_ENIGMA <- ENIGMA_est(\n",
    "    spot_exp = datax_count$spot_exp, \n",
    "    sc_exp = datax_count$sc_exp, \n",
    "    sc_label = datax_count$sc_label, \n",
    "    beta = beta.type )\n",
    "  \n",
    "  # Save the result if computation is performed\n",
    "  saveRDS(exp_ENIGMA, file = paste0(\"./results/MPOA/True_exp_ENIGMA_\",patch_size,\"um2.RDS\"))\n",
    "} else {\n",
    "  # Load the result if it already exists\n",
    "  exp_ENIGMA <- readRDS(paste0(\"./results/MPOA/True_exp_ENIGMA_\",patch_size,\"um2.RDS\"))\n",
    "}\n"
   ]
  },
  {
   "cell_type": "code",
   "execution_count": null,
   "id": "e4eaa6f8",
   "metadata": {
    "execution": {
     "iopub.execute_input": "2024-10-21T06:11:37.993764Z",
     "iopub.status.busy": "2024-10-21T06:11:37.991251Z",
     "iopub.status.idle": "2024-10-21T06:12:27.444022Z",
     "shell.execute_reply": "2024-10-21T06:12:27.442545Z"
    },
    "papermill": {
     "duration": null,
     "end_time": null,
     "exception": null,
     "start_time": null,
     "status": "pending"
    },
    "tags": [],
    "vscode": {
     "languageId": "r"
    }
   },
   "outputs": [],
   "source": [
    "\n",
    "# Check and save exp_TCA result\n",
    "if (!file.exists(\"./results/MPOA/True_exp_TCA.RDS\")) {\n",
    "  \n",
    " exp_TCA <- TCA_est(spot_exp  = datax_count$spot_exp, beta= beta.type)\n",
    "  \n",
    "  # Save the result if computation is performed\n",
    "  saveRDS(exp_TCA, file = \"./results/MPOA/True_exp_TCA.RDS\")\n",
    "} else {\n",
    "  # Load the result if it already exists\n",
    "  exp_TCA <- readRDS(\"./results/MPOA/True_exp_TCA.RDS\")\n",
    "}"
   ]
  },
  {
   "cell_type": "code",
   "execution_count": null,
   "id": "1ce96e2e",
   "metadata": {
    "execution": {
     "iopub.execute_input": "2024-10-21T06:12:27.552275Z",
     "iopub.status.busy": "2024-10-21T06:12:27.549983Z",
     "iopub.status.idle": "2024-10-21T06:12:30.091732Z",
     "shell.execute_reply": "2024-10-21T06:12:30.090319Z"
    },
    "papermill": {
     "duration": null,
     "end_time": null,
     "exception": null,
     "start_time": null,
     "status": "pending"
    },
    "tags": [],
    "vscode": {
     "languageId": "r"
    }
   },
   "outputs": [],
   "source": [
    "est_est= list(STged = stged.est.true$V.hat,\n",
    "              STged.reg1 = stged.est.reg1$V.hat,\n",
    "              STged.reg2 =stged.est.reg2$V.hat,\n",
    "              STged.reg3 =stged.est.reg3$V.hat,\n",
    "              RCTD = exp_rctd,\n",
    "              TCA = exp_TCA,\n",
    "              ENIGMA = exp_ENIGMA,\n",
    "              ref_mu = exp_sc,\n",
    "              LSR = exp_lsr,\n",
    "              Spotdecon = exp_spotdecon)\n",
    "\n",
    "files = paste0(\"./results/MPOA/True_spot_decon_\",patch_size,\"um2.RDS\")\n",
    "\n",
    "saveRDS(est_est, file =files)"
   ]
  },
  {
   "cell_type": "code",
   "execution_count": null,
   "id": "eb8668bb",
   "metadata": {
    "execution": {
     "iopub.execute_input": "2024-10-21T06:12:30.132890Z",
     "iopub.status.busy": "2024-10-21T06:12:30.130837Z",
     "iopub.status.idle": "2024-10-21T06:12:30.344785Z",
     "shell.execute_reply": "2024-10-21T06:12:30.343216Z"
    },
    "papermill": {
     "duration": null,
     "end_time": null,
     "exception": null,
     "start_time": null,
     "status": "pending"
    },
    "tags": [],
    "vscode": {
     "languageId": "r"
    }
   },
   "outputs": [],
   "source": [
    "## cell type proportion predected from the proposed cell type deconvolution methods\n",
    "res_decon_ct = readRDS(paste0(\"./realdata/MAOP/Endeprop/merfish_Results.Deconv_\",patch_size,\"um.RDS\"))\n",
    "names(res_decon_ct)\n"
   ]
  },
  {
   "cell_type": "code",
   "execution_count": null,
   "id": "f1d3967b",
   "metadata": {
    "execution": {
     "iopub.execute_input": "2024-10-21T06:12:30.386760Z",
     "iopub.status.busy": "2024-10-21T06:12:30.384270Z",
     "iopub.status.idle": "2024-10-21T06:12:30.406835Z",
     "shell.execute_reply": "2024-10-21T06:12:30.405031Z"
    },
    "papermill": {
     "duration": null,
     "end_time": null,
     "exception": null,
     "start_time": null,
     "status": "pending"
    },
    "tags": [],
    "vscode": {
     "languageId": "r"
    }
   },
   "outputs": [],
   "source": [
    "beta.est = res_decon_ct$EnDecon\n",
    "beta.type.RCTD = res_decon_ct$RCTD\n",
    "## use the esimated cell type proprotion"
   ]
  },
  {
   "cell_type": "code",
   "execution_count": null,
   "id": "90519b5e",
   "metadata": {
    "execution": {
     "iopub.execute_input": "2024-10-21T06:12:30.464980Z",
     "iopub.status.busy": "2024-10-21T06:12:30.462509Z",
     "iopub.status.idle": "2024-10-21T06:12:30.481437Z",
     "shell.execute_reply": "2024-10-21T06:12:30.479391Z"
    },
    "papermill": {
     "duration": null,
     "end_time": null,
     "exception": null,
     "start_time": null,
     "status": "pending"
    },
    "tags": [],
    "vscode": {
     "languageId": "r"
    }
   },
   "outputs": [],
   "source": [
    "## use the esimated cell type proprotion\n",
    "beta.type = beta.est"
   ]
  },
  {
   "cell_type": "code",
   "execution_count": null,
   "id": "79a8b483",
   "metadata": {
    "execution": {
     "iopub.execute_input": "2024-10-21T06:12:30.521043Z",
     "iopub.status.busy": "2024-10-21T06:12:30.518588Z",
     "iopub.status.idle": "2024-10-21T06:12:31.426448Z",
     "shell.execute_reply": "2024-10-21T06:12:31.425064Z"
    },
    "papermill": {
     "duration": null,
     "end_time": null,
     "exception": null,
     "start_time": null,
     "status": "pending"
    },
    "tags": [],
    "vscode": {
     "languageId": "r"
    }
   },
   "outputs": [],
   "source": [
    "\n",
    "start_time <- Sys.time()\n",
    "\n",
    "if (!file.exists(paste0(\"./results/MPOA/EST_stged_\",patch_size,\"um2.RDS\"))) {\n",
    "  stged.est.true <- MUR.STged(\n",
    "    srt_exp = datax$spot_exp, \n",
    "    ref_exp = ref_exp, \n",
    "    beta.type = beta.type, \n",
    "    W = L.mat$dis_weight, \n",
    "    lambda1 = NULL, \n",
    "    lambda2 = NULL, \n",
    "    cutoff = 0.05, \n",
    "    epsilon = 1e-5\n",
    "  )\n",
    "  \n",
    "  saveRDS(stged.est.true, file = paste0(\"./results/MPOA/EST_stged_\",patch_size,\"um2.RDS\"))\n",
    "} else {\n",
    "  \n",
    "  stged.est.true <- readRDS(paste0(\"./results/MPOA/EST_stged_\",patch_size,\"um2.RDS\"))\n",
    "}\n",
    "\n",
    "end_time <- Sys.time()\n",
    "\n",
    "\n",
    "reg1 <- TRUE\n",
    "\n",
    "if (reg1 && !file.exists(paste0(\"./results/MPOA/EST_stged_reg1_\",patch_size,\"um2.RDS\")) ){\n",
    "  stged.est.reg1 <- MUR.STged(\n",
    "    srt_exp = datax$spot_exp, \n",
    "    ref_exp = ref_exp, \n",
    "    beta.type = beta.type, \n",
    "    W = L.mat$dis_weight, \n",
    "    lambda1 = NULL, \n",
    "    lambda2 = 0, \n",
    "    cutoff = 0.05, \n",
    "    epsilon = 1e-5\n",
    "  )\n",
    "  \n",
    "  saveRDS(stged.est.reg1, file = paste0(\"./results/MPOA/EST_stged_reg1_\",patch_size,\"um2.RDS\"))\n",
    "} else {\n",
    "  \n",
    "  stged.est.reg1 <- readRDS(paste0(\"./results/MPOA/EST_stged_reg1_\",patch_size,\"um2.RDS\"))\n",
    "}\n",
    "\n",
    "\n",
    "reg2 <- TRUE\n",
    "if (reg2 && !file.exists(paste0(\"./results/MPOA/EST_stged_reg2_\",patch_size,\"um2.RDS\"))) {\n",
    "  stged.est.reg2 <- MUR.STged(\n",
    "    srt_exp = datax$spot_exp, \n",
    "    ref_exp = ref_exp, \n",
    "    beta.type = beta.type, \n",
    "    W = L.mat$dis_weight, \n",
    "    lambda1 = 0, \n",
    "    lambda2 = NULL, \n",
    "    cutoff = 0.05, \n",
    "    epsilon = 1e-5\n",
    "  )\n",
    "  \n",
    "  saveRDS(stged.est.reg2, file = paste0(\"./results/MPOA/EST_stged_reg2_\",patch_size,\"um2.RDS\"))\n",
    "} else {\n",
    "  \n",
    "  stged.est.reg2 <- readRDS(paste0(\"./results/MPOA/EST_stged_reg2_\",patch_size,\"um2.RDS\"))\n",
    "}\n",
    "\n",
    "reg3 <- TRUE\n",
    "if (reg3 && !file.exists(paste0(\"./results/MPOA/EST_stged_reg3_\",patch_size,\"um2.RDS\"))) {\n",
    "  stged.est.reg3 <- MUR.STged(\n",
    "    srt_exp = datax$spot_exp, \n",
    "    ref_exp = ref_exp, \n",
    "    beta.type = beta.type, \n",
    "    W = L.mat$dis_weight, \n",
    "    lambda1 = 0, \n",
    "    lambda2 =0, \n",
    "    cutoff = 0.05, \n",
    "    epsilon = 1e-5\n",
    "  )\n",
    "  \n",
    "  saveRDS(stged.est.reg3, file = paste0(\"./results/MPOA/EST_stged_reg3_\",patch_size,\"um2.RDS\"))\n",
    "} else {\n",
    "  \n",
    "  stged.est.reg3 <- readRDS(paste0(\"./results/MPOA/EST_stged_reg3_\",patch_size,\"um2.RDS\"))\n",
    "}"
   ]
  },
  {
   "cell_type": "code",
   "execution_count": null,
   "id": "da386acf",
   "metadata": {
    "execution": {
     "iopub.execute_input": "2024-10-21T06:12:31.466912Z",
     "iopub.status.busy": "2024-10-21T06:12:31.465023Z",
     "iopub.status.idle": "2024-10-21T06:12:31.617780Z",
     "shell.execute_reply": "2024-10-21T06:12:31.616528Z"
    },
    "papermill": {
     "duration": null,
     "end_time": null,
     "exception": null,
     "start_time": null,
     "status": "pending"
    },
    "tags": [],
    "vscode": {
     "languageId": "r"
    }
   },
   "outputs": [],
   "source": [
    "exp_lsr = st_mu_est(srt_exp = datax$spot_exp,  beta= beta.type)\n",
    "\n",
    "exp_sc = sc_mu_est( sc_mu = ref_exp, beta = beta.type)\n",
    "\n",
    "exp_rctd =  RCTDexp(beta = beta.type.RCTD,  srt_exp = datax$spot_exp, ref_mu = ref_exp )\n",
    "\n",
    "exp_spotdecon = spotdecon_est(srt_exp = datax_count$spot_exp,  beta= beta.type)"
   ]
  },
  {
   "cell_type": "code",
   "execution_count": null,
   "id": "92364f93",
   "metadata": {
    "execution": {
     "iopub.execute_input": "2024-10-21T06:12:31.659674Z",
     "iopub.status.busy": "2024-10-21T06:12:31.657700Z",
     "iopub.status.idle": "2024-10-21T06:14:16.280851Z",
     "shell.execute_reply": "2024-10-21T06:14:16.279624Z"
    },
    "papermill": {
     "duration": null,
     "end_time": null,
     "exception": null,
     "start_time": null,
     "status": "pending"
    },
    "tags": [],
    "vscode": {
     "languageId": "r"
    }
   },
   "outputs": [],
   "source": [
    "# Check and save exp_ENIGMA result\n",
    "if (!file.exists(paste0(\"./results/MPOA/EST_exp_ENIGMA_\",patch_size,\"um2.RDS\")) ){\n",
    "  exp_ENIGMA = ENIGMA_est(spot_exp  = datax_count$spot_exp, \n",
    "                          sc_exp = datax_count$sc_exp, sc_label=datax_count$sc_label, \n",
    "                          beta= NULL)\n",
    "  \n",
    "  # Save the result if computation is performed\n",
    "  saveRDS(exp_ENIGMA, file = paste0(\"./results/MPOA/EST_exp_ENIGMA_\",patch_size,\"um2.RDS\"))\n",
    "} else {\n",
    "  # Load the result if it already exists\n",
    "  exp_ENIGMA <- readRDS(paste0(\"./results/MPOA/EST_exp_ENIGMA_\",patch_size,\"um2.RDS\")) # <-- Fixed here\n",
    "}\n"
   ]
  },
  {
   "cell_type": "code",
   "execution_count": null,
   "id": "24cde321",
   "metadata": {
    "execution": {
     "iopub.execute_input": "2024-10-21T06:14:16.347139Z",
     "iopub.status.busy": "2024-10-21T06:14:16.344398Z",
     "iopub.status.idle": "2024-10-21T06:16:27.509407Z",
     "shell.execute_reply": "2024-10-21T06:16:27.508161Z"
    },
    "papermill": {
     "duration": null,
     "end_time": null,
     "exception": null,
     "start_time": null,
     "status": "pending"
    },
    "tags": [],
    "vscode": {
     "languageId": "r"
    }
   },
   "outputs": [],
   "source": [
    "# Check and save exp_TCA result\n",
    "if (!file.exists(\"./results/MPOA/EST_exp_TCA.RDS\")) {\n",
    "\n",
    "  exp_TCA <- TCA_est(spot_exp  = datax_count$spot_exp, beta= beta.type)\n",
    "  # Save the result if computation is performed\n",
    "  saveRDS(exp_TCA, file =\"./results/MPOA/EST_exp_TCA.RDS\")\n",
    "} else {\n",
    "  # Load the result if it already exists\n",
    "  exp_TCA <- readRDS(\"./results/MPOA/EST_exp_TCA.RDS\")\n",
    "}\n"
   ]
  },
  {
   "cell_type": "code",
   "execution_count": null,
   "id": "61b374ec",
   "metadata": {
    "execution": {
     "iopub.execute_input": "2024-10-21T06:16:27.574842Z",
     "iopub.status.busy": "2024-10-21T06:16:27.572123Z",
     "iopub.status.idle": "2024-10-21T06:16:29.275387Z",
     "shell.execute_reply": "2024-10-21T06:16:29.274224Z"
    },
    "papermill": {
     "duration": null,
     "end_time": null,
     "exception": null,
     "start_time": null,
     "status": "pending"
    },
    "tags": [],
    "vscode": {
     "languageId": "r"
    }
   },
   "outputs": [],
   "source": [
    "est_est= list(STged = stged.est.true$V.hat,\n",
    "              STged.reg1 = stged.est.reg1$V.hat,\n",
    "              STged.reg2 =stged.est.reg2$V.hat,\n",
    "              STged.reg3 =stged.est.reg3$V.hat,\n",
    "              RCTD = exp_rctd,\n",
    "              TCA = exp_TCA,\n",
    "              ENIGMA = exp_ENIGMA,\n",
    "              ref_mu = exp_sc,\n",
    "              LSR = exp_lsr,\n",
    "              Spotdecon = exp_spotdecon)\n",
    "\n",
    "files = paste0(\"./results/MPOA/EST_spot_decon_\",patch_size,\"um2.RDS\")\n",
    "\n",
    "saveRDS(est_est, file =files)"
   ]
  }
 ],
 "metadata": {
  "kernelspec": {
   "display_name": "R",
   "language": "R",
   "name": "ir"
  },
  "language_info": {
   "codemirror_mode": "r",
   "file_extension": ".r",
   "mimetype": "text/x-r-source",
   "name": "R",
   "pygments_lexer": "r",
   "version": "4.4.1"
  },
  "papermill": {
   "default_parameters": {},
   "duration": null,
   "end_time": null,
   "environment_variables": {},
   "exception": null,
   "input_path": "MERFISH-count-ref-scRNA_True_prop50um.ipynb",
   "output_path": "./results/output_MERFISH-count-ref-scRNA_True_prop50um_V5.ipynb",
   "parameters": {},
   "start_time": "2024-10-26T11:17:41.740565",
   "version": "2.3.3"
  }
 },
 "nbformat": 4,
 "nbformat_minor": 5
}