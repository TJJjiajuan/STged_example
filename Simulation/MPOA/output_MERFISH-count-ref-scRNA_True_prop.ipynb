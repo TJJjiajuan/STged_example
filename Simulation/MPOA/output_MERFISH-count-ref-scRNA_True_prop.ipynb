{
 "cells": [
  {
   "cell_type": "markdown",
   "id": "d67e6f1c",
   "metadata": {
    "papermill": {
     "duration": 0.018296,
     "end_time": "2024-10-26T12:03:51.754809",
     "exception": false,
     "start_time": "2024-10-26T12:03:51.736513",
     "status": "completed"
    },
    "tags": []
   },
   "source": [
    "**NOTE**: Here we test the performance of the STged with true cell type proportion and cell type proportion predicted from cell type deconvolution methods. We then compare it with competing methods."
   ]
  },
  {
   "cell_type": "code",
   "execution_count": 1,
   "id": "759b16a2",
   "metadata": {
    "execution": {
     "iopub.execute_input": "2024-10-26T12:03:51.815790Z",
     "iopub.status.busy": "2024-10-26T12:03:51.814067Z",
     "iopub.status.idle": "2024-10-26T12:03:57.304679Z",
     "shell.execute_reply": "2024-10-26T12:03:57.300423Z"
    },
    "papermill": {
     "duration": 5.541864,
     "end_time": "2024-10-26T12:03:57.308532",
     "exception": false,
     "start_time": "2024-10-26T12:03:51.766668",
     "status": "completed"
    },
    "tags": [],
    "vscode": {
     "languageId": "r"
    }
   },
   "outputs": [],
   "source": [
    "\n",
    "#remove(list = ls())\n",
    "#define the conda env\n",
    "\n",
    "library(reticulate)\n",
    "use_condaenv(\"ccnet\", required = TRUE)\n",
    "\n",
    "python_env = \"python_env\""
   ]
  },
  {
   "cell_type": "code",
   "execution_count": 2,
   "id": "f153822c",
   "metadata": {
    "execution": {
     "iopub.execute_input": "2024-10-26T12:03:57.382209Z",
     "iopub.status.busy": "2024-10-26T12:03:57.339219Z",
     "iopub.status.idle": "2024-10-26T12:04:05.225049Z",
     "shell.execute_reply": "2024-10-26T12:04:05.223511Z"
    },
    "papermill": {
     "duration": 7.9023,
     "end_time": "2024-10-26T12:04:05.227545",
     "exception": false,
     "start_time": "2024-10-26T12:03:57.325245",
     "status": "completed"
    },
    "tags": [],
    "vscode": {
     "languageId": "r"
    }
   },
   "outputs": [
    {
     "name": "stderr",
     "output_type": "stream",
     "text": [
      "Package 'ENIGMA' version 0.1.6\n",
      "ENIGMA is built for fully deconvolution.\n",
      "\n"
     ]
    }
   ],
   "source": [
    "library(ggplot2)\n",
    "library(scatterpie)\n",
    "library(RColorBrewer)\n",
    "library(TCA)\n",
    "library(ENIGMA)"
   ]
  },
  {
   "cell_type": "code",
   "execution_count": 3,
   "id": "21fc87e7",
   "metadata": {
    "execution": {
     "iopub.execute_input": "2024-10-26T12:04:05.260080Z",
     "iopub.status.busy": "2024-10-26T12:04:05.257020Z",
     "iopub.status.idle": "2024-10-26T12:04:05.284796Z",
     "shell.execute_reply": "2024-10-26T12:04:05.283443Z"
    },
    "papermill": {
     "duration": 0.043535,
     "end_time": "2024-10-26T12:04:05.287058",
     "exception": false,
     "start_time": "2024-10-26T12:04:05.243523",
     "status": "completed"
    },
    "tags": [],
    "vscode": {
     "languageId": "r"
    }
   },
   "outputs": [],
   "source": [
    "# Source code\n",
    "source(\"./code/STged.R\")\n",
    "source(\"./code/benchmark.R\")"
   ]
  },
  {
   "cell_type": "code",
   "execution_count": 4,
   "id": "d7553bbe",
   "metadata": {
    "execution": {
     "iopub.execute_input": "2024-10-26T12:04:05.316750Z",
     "iopub.status.busy": "2024-10-26T12:04:05.314983Z",
     "iopub.status.idle": "2024-10-26T12:04:05.340169Z",
     "shell.execute_reply": "2024-10-26T12:04:05.338723Z"
    },
    "papermill": {
     "duration": 0.040136,
     "end_time": "2024-10-26T12:04:05.342689",
     "exception": false,
     "start_time": "2024-10-26T12:04:05.302553",
     "status": "completed"
    },
    "tags": [],
    "vscode": {
     "languageId": "r"
    }
   },
   "outputs": [],
   "source": [
    "colors <- colorRampPalette(brewer.pal(9, \"Set3\"))(12)\n"
   ]
  },
  {
   "cell_type": "markdown",
   "id": "334db802",
   "metadata": {
    "papermill": {
     "duration": 0.011409,
     "end_time": "2024-10-26T12:04:05.369991",
     "exception": false,
     "start_time": "2024-10-26T12:04:05.358582",
     "status": "completed"
    },
    "tags": []
   },
   "source": [
    "# Load data the generated simulated data\n",
    "\n"
   ]
  },
  {
   "cell_type": "code",
   "execution_count": 5,
   "id": "b1bdeda9",
   "metadata": {
    "execution": {
     "iopub.execute_input": "2024-10-26T12:04:05.390679Z",
     "iopub.status.busy": "2024-10-26T12:04:05.387597Z",
     "iopub.status.idle": "2024-10-26T12:04:06.272427Z",
     "shell.execute_reply": "2024-10-26T12:04:06.271408Z"
    },
    "papermill": {
     "duration": 0.897449,
     "end_time": "2024-10-26T12:04:06.275542",
     "exception": false,
     "start_time": "2024-10-26T12:04:05.378093",
     "status": "completed"
    },
    "tags": [],
    "vscode": {
     "languageId": "r"
    }
   },
   "outputs": [
    {
     "data": {
      "text/html": [
       "50"
      ],
      "text/latex": [
       "50"
      ],
      "text/markdown": [
       "50"
      ],
      "text/plain": [
       "[1] 50"
      ]
     },
     "metadata": {},
     "output_type": "display_data"
    },
    {
     "name": "stderr",
     "output_type": "stream",
     "text": [
      "Loading required package: hash\n",
      "\n"
     ]
    },
    {
     "name": "stderr",
     "output_type": "stream",
     "text": [
      "hash-2.2.6.3 provided by Decision Patterns\n",
      "\n",
      "\n"
     ]
    },
    {
     "data": {
      "text/html": [
       "<style>\n",
       ".list-inline {list-style: none; margin:0; padding: 0}\n",
       ".list-inline>li {display: inline-block}\n",
       ".list-inline>li:not(:last-child)::after {content: \"\\00b7\"; padding: 0 .5ex}\n",
       "</style>\n",
       "<ol class=list-inline><li>134</li><li>29760</li></ol>\n"
      ],
      "text/latex": [
       "\\begin{enumerate*}\n",
       "\\item 134\n",
       "\\item 29760\n",
       "\\end{enumerate*}\n"
      ],
      "text/markdown": [
       "1. 134\n",
       "2. 29760\n",
       "\n",
       "\n"
      ],
      "text/plain": [
       "[1]   134 29760"
      ]
     },
     "metadata": {},
     "output_type": "display_data"
    },
    {
     "data": {
      "text/html": [
       "29760"
      ],
      "text/latex": [
       "29760"
      ],
      "text/markdown": [
       "29760"
      ],
      "text/plain": [
       "[1] 29760"
      ]
     },
     "metadata": {},
     "output_type": "display_data"
    }
   ],
   "source": [
    "sim_data = readRDS(\"./realdata/MAOP/FN7_hash_mpoa_sim-29_ref01.Rds\")\n",
    "\n",
    "i = 2\n",
    "patch_size = c(100,50)[i]\n",
    "patch_size\n",
    "\n",
    "mpoa = sim_data$mpoa_list[[i]]$`-0.29`\n",
    "\n",
    "# load the referene from scRNA\n",
    "sim_data = readRDS(\"./realdata/MAOP/refscRNA/scRNA_MPOA50k.RDS\")\n",
    "sc_exp = sim_data$scexp\n",
    "sc_label = sim_data$sclabel\n",
    "\n",
    "dim(sc_exp)\n",
    "length(sc_label)\n"
   ]
  },
  {
   "cell_type": "code",
   "execution_count": 6,
   "id": "a4bdc125",
   "metadata": {
    "execution": {
     "iopub.execute_input": "2024-10-26T12:04:06.304513Z",
     "iopub.status.busy": "2024-10-26T12:04:06.303140Z",
     "iopub.status.idle": "2024-10-26T12:04:06.324638Z",
     "shell.execute_reply": "2024-10-26T12:04:06.323118Z"
    },
    "papermill": {
     "duration": 0.035151,
     "end_time": "2024-10-26T12:04:06.326730",
     "exception": false,
     "start_time": "2024-10-26T12:04:06.291579",
     "status": "completed"
    },
    "tags": [],
    "vscode": {
     "languageId": "r"
    }
   },
   "outputs": [
    {
     "data": {
      "text/plain": [
       "sc_label\n",
       "  Astrocyte Endothelial   Ependymal  Excitatory  Inhibitory   Microglia \n",
       "        857         541          69        3511       15042         828 \n",
       "OD Immature   OD Mature   Pericytes \n",
       "       1692        6707         513 "
      ]
     },
     "metadata": {},
     "output_type": "display_data"
    }
   ],
   "source": [
    "\n",
    "table(sc_label)\n",
    "\n"
   ]
  },
  {
   "cell_type": "markdown",
   "id": "b42486ff",
   "metadata": {
    "papermill": {
     "duration": 0.010464,
     "end_time": "2024-10-26T12:04:06.352394",
     "exception": false,
     "start_time": "2024-10-26T12:04:06.341930",
     "status": "completed"
    },
    "tags": []
   },
   "source": [
    "## The spots location information"
   ]
  },
  {
   "cell_type": "code",
   "execution_count": 7,
   "id": "1d878b99",
   "metadata": {
    "execution": {
     "iopub.execute_input": "2024-10-26T12:04:06.372611Z",
     "iopub.status.busy": "2024-10-26T12:04:06.370177Z",
     "iopub.status.idle": "2024-10-26T12:04:06.418038Z",
     "shell.execute_reply": "2024-10-26T12:04:06.417068Z"
    },
    "papermill": {
     "duration": 0.059433,
     "end_time": "2024-10-26T12:04:06.420377",
     "exception": false,
     "start_time": "2024-10-26T12:04:06.360944",
     "status": "completed"
    },
    "tags": [],
    "vscode": {
     "languageId": "r"
    }
   },
   "outputs": [
    {
     "data": {
      "text/html": [
       "<style>\n",
       ".list-inline {list-style: none; margin:0; padding: 0}\n",
       ".list-inline>li {display: inline-block}\n",
       ".list-inline>li:not(:last-child)::after {content: \"\\00b7\"; padding: 0 .5ex}\n",
       "</style>\n",
       "<ol class=list-inline><li>135</li><li>1141</li></ol>\n"
      ],
      "text/latex": [
       "\\begin{enumerate*}\n",
       "\\item 135\n",
       "\\item 1141\n",
       "\\end{enumerate*}\n"
      ],
      "text/markdown": [
       "1. 135\n",
       "2. 1141\n",
       "\n",
       "\n"
      ],
      "text/plain": [
       "[1]  135 1141"
      ]
     },
     "metadata": {},
     "output_type": "display_data"
    },
    {
     "data": {
      "text/html": [
       "<style>\n",
       ".list-inline {list-style: none; margin:0; padding: 0}\n",
       ".list-inline>li {display: inline-block}\n",
       ".list-inline>li:not(:last-child)::after {content: \"\\00b7\"; padding: 0 .5ex}\n",
       "</style>\n",
       "<ol class=list-inline><li>'Astrocyte'</li><li>'Endothelial'</li><li>'Ependymal'</li><li>'Excitatory'</li><li>'Inhibitory'</li><li>'Microglia'</li><li>'OD Immature'</li><li>'OD Mature'</li><li>'Pericytes'</li></ol>\n"
      ],
      "text/latex": [
       "\\begin{enumerate*}\n",
       "\\item 'Astrocyte'\n",
       "\\item 'Endothelial'\n",
       "\\item 'Ependymal'\n",
       "\\item 'Excitatory'\n",
       "\\item 'Inhibitory'\n",
       "\\item 'Microglia'\n",
       "\\item 'OD Immature'\n",
       "\\item 'OD Mature'\n",
       "\\item 'Pericytes'\n",
       "\\end{enumerate*}\n"
      ],
      "text/markdown": [
       "1. 'Astrocyte'\n",
       "2. 'Endothelial'\n",
       "3. 'Ependymal'\n",
       "4. 'Excitatory'\n",
       "5. 'Inhibitory'\n",
       "6. 'Microglia'\n",
       "7. 'OD Immature'\n",
       "8. 'OD Mature'\n",
       "9. 'Pericytes'\n",
       "\n",
       "\n"
      ],
      "text/plain": [
       "[1] \"Astrocyte\"   \"Endothelial\" \"Ependymal\"   \"Excitatory\"  \"Inhibitory\" \n",
       "[6] \"Microglia\"   \"OD Immature\" \"OD Mature\"   \"Pericytes\"  "
      ]
     },
     "metadata": {},
     "output_type": "display_data"
    }
   ],
   "source": [
    "spot_raw = rownames(mpoa$patchGexp)\n",
    "spots = paste0(\"spot\",1:length(spot_raw))\n",
    "\n",
    "\n",
    "split_strings <- strsplit(spot_raw, \"_\")\n",
    "spot_loc <- do.call(rbind, lapply(split_strings, function(x) as.numeric(x)))\n",
    "spot_exp <- t(mpoa$patchGexp)[,spot_raw ]\n",
    "dim(spot_exp)\n",
    "\n",
    "cell_type_freq = as.matrix(mpoa$cellTypeTable[spot_raw,]) \n",
    "cell_type_freq <- apply(cell_type_freq, 2, as.numeric)  \n",
    "cell_type_prop = sweep(cell_type_freq, 1, rowSums(cell_type_freq), FUN = \"/\")\n",
    "\n",
    "cell_type = colnames(cell_type_prop)\n",
    "cell_type\n",
    "\n",
    "\n",
    "rownames(cell_type_prop) = rownames(spot_loc)  = spots\n",
    "colnames(spot_exp) = spots\n"
   ]
  },
  {
   "cell_type": "markdown",
   "id": "e8689047",
   "metadata": {
    "papermill": {
     "duration": 0.010875,
     "end_time": "2024-10-26T12:04:06.447187",
     "exception": false,
     "start_time": "2024-10-26T12:04:06.436312",
     "status": "completed"
    },
    "tags": []
   },
   "source": [
    "## TRUE cell type-specific gene expression for each cell type"
   ]
  },
  {
   "cell_type": "code",
   "execution_count": 8,
   "id": "7a2ad658",
   "metadata": {
    "execution": {
     "iopub.execute_input": "2024-10-26T12:04:06.467022Z",
     "iopub.status.busy": "2024-10-26T12:04:06.464617Z",
     "iopub.status.idle": "2024-10-26T12:04:06.575637Z",
     "shell.execute_reply": "2024-10-26T12:04:06.574548Z"
    },
    "papermill": {
     "duration": 0.122662,
     "end_time": "2024-10-26T12:04:06.578126",
     "exception": false,
     "start_time": "2024-10-26T12:04:06.455464",
     "status": "completed"
    },
    "tags": [],
    "vscode": {
     "languageId": "r"
    }
   },
   "outputs": [],
   "source": [
    "genes = rownames(spot_exp)  \n",
    "TRUE_F = vector(\"list\", length(cell_type))  \n",
    "names(TRUE_F) = cell_type  \n",
    "\n",
    "spot_cell_type_exp = mpoa$avgPatchGexp\n",
    "\n",
    "for(i in 1:length(cell_type)){\n",
    "  \n",
    "  temp_mat = matrix(0, nrow = length(spots), ncol = length(genes))\n",
    "  colnames(temp_mat) = genes\n",
    "  rownames(temp_mat) = spots\n",
    "  \n",
    "  for(j in 1:length(spots)){\n",
    "    temp = spot_cell_type_exp[[j]]\n",
    "    \n",
    "    \n",
    "    if (cell_type[i] %in% colnames(temp)) {\n",
    "      temp_mat[j,] = temp[,cell_type[i]]\n",
    "    } else {\n",
    "      \n",
    "      temp_mat[j,] = 0\n",
    "    }\n",
    "  }\n",
    "  \n",
    "  \n",
    "  TRUE_F[[i]] = t(temp_mat)\n",
    "}\n",
    "\n"
   ]
  },
  {
   "cell_type": "markdown",
   "id": "950d582d",
   "metadata": {
    "papermill": {
     "duration": 0.011112,
     "end_time": "2024-10-26T12:04:06.606583",
     "exception": false,
     "start_time": "2024-10-26T12:04:06.595471",
     "status": "completed"
    },
    "tags": []
   },
   "source": [
    "# Run the STged step by step"
   ]
  },
  {
   "cell_type": "markdown",
   "id": "aeb511e9",
   "metadata": {
    "papermill": {
     "duration": 0.007416,
     "end_time": "2024-10-26T12:04:06.623063",
     "exception": false,
     "start_time": "2024-10-26T12:04:06.615647",
     "status": "completed"
    },
    "tags": []
   },
   "source": [
    "## Step 1: clear data"
   ]
  },
  {
   "cell_type": "code",
   "execution_count": 9,
   "id": "7d8f4562",
   "metadata": {
    "execution": {
     "iopub.execute_input": "2024-10-26T12:04:06.640517Z",
     "iopub.status.busy": "2024-10-26T12:04:06.638102Z",
     "iopub.status.idle": "2024-10-26T12:04:07.852221Z",
     "shell.execute_reply": "2024-10-26T12:04:07.850979Z"
    },
    "papermill": {
     "duration": 1.225382,
     "end_time": "2024-10-26T12:04:07.854995",
     "exception": false,
     "start_time": "2024-10-26T12:04:06.629613",
     "status": "completed"
    },
    "tags": [],
    "vscode": {
     "languageId": "r"
    }
   },
   "outputs": [],
   "source": [
    "clean.only = FALSE\n",
    "depthscale = 1e6\n",
    "datax = data_process(sc_exp = sc_exp,   sc_label = sc_label, \n",
    "                     spot_exp = spot_exp,  spot_loc = spot_loc,\n",
    "                     depthscale = depthscale,  gene_det_in_min_cells_per = 0, \n",
    "                     expression_threshold = 0,\n",
    "                     nUMI = 10, verbose = FALSE, clean.only = clean.only)\n"
   ]
  },
  {
   "cell_type": "code",
   "execution_count": 10,
   "id": "f4055855",
   "metadata": {
    "execution": {
     "iopub.execute_input": "2024-10-26T12:04:07.887799Z",
     "iopub.status.busy": "2024-10-26T12:04:07.885946Z",
     "iopub.status.idle": "2024-10-26T12:04:07.922724Z",
     "shell.execute_reply": "2024-10-26T12:04:07.921725Z"
    },
    "papermill": {
     "duration": 0.052722,
     "end_time": "2024-10-26T12:04:07.925687",
     "exception": false,
     "start_time": "2024-10-26T12:04:07.872965",
     "status": "completed"
    },
    "tags": [],
    "vscode": {
     "languageId": "r"
    }
   },
   "outputs": [
    {
     "data": {
      "text/html": [
       "13.3083630694767"
      ],
      "text/latex": [
       "13.3083630694767"
      ],
      "text/markdown": [
       "13.3083630694767"
      ],
      "text/plain": [
       "[1] 13.30836"
      ]
     },
     "metadata": {},
     "output_type": "display_data"
    },
    {
     "data": {
      "text/html": [
       "13.7572427098397"
      ],
      "text/latex": [
       "13.7572427098397"
      ],
      "text/markdown": [
       "13.7572427098397"
      ],
      "text/plain": [
       "[1] 13.75724"
      ]
     },
     "metadata": {},
     "output_type": "display_data"
    }
   ],
   "source": [
    "max(datax$spot_exp)\n",
    "max(datax$sc_exp)"
   ]
  },
  {
   "cell_type": "code",
   "execution_count": 11,
   "id": "a4ab1c97",
   "metadata": {
    "execution": {
     "iopub.execute_input": "2024-10-26T12:04:07.955621Z",
     "iopub.status.busy": "2024-10-26T12:04:07.953776Z",
     "iopub.status.idle": "2024-10-26T12:04:07.976415Z",
     "shell.execute_reply": "2024-10-26T12:04:07.975149Z"
    },
    "papermill": {
     "duration": 0.036911,
     "end_time": "2024-10-26T12:04:07.978303",
     "exception": false,
     "start_time": "2024-10-26T12:04:07.941392",
     "status": "completed"
    },
    "tags": [],
    "vscode": {
     "languageId": "r"
    }
   },
   "outputs": [
    {
     "data": {
      "text/html": [
       "<style>\n",
       ".list-inline {list-style: none; margin:0; padding: 0}\n",
       ".list-inline>li {display: inline-block}\n",
       ".list-inline>li:not(:last-child)::after {content: \"\\00b7\"; padding: 0 .5ex}\n",
       "</style>\n",
       "<ol class=list-inline><li>134</li><li>28357</li></ol>\n"
      ],
      "text/latex": [
       "\\begin{enumerate*}\n",
       "\\item 134\n",
       "\\item 28357\n",
       "\\end{enumerate*}\n"
      ],
      "text/markdown": [
       "1. 134\n",
       "2. 28357\n",
       "\n",
       "\n"
      ],
      "text/plain": [
       "[1]   134 28357"
      ]
     },
     "metadata": {},
     "output_type": "display_data"
    },
    {
     "data": {
      "text/plain": [
       "\n",
       "  Astrocyte Endothelial   Ependymal  Excitatory  Inhibitory   Microglia \n",
       "        574         514          54        3418       14304         730 \n",
       "OD Immature   OD Mature   Pericytes \n",
       "       1647        6608         508 "
      ]
     },
     "metadata": {},
     "output_type": "display_data"
    }
   ],
   "source": [
    "dim(datax$sc_exp)\n",
    "table(datax$sc_label)"
   ]
  },
  {
   "cell_type": "code",
   "execution_count": 12,
   "id": "a5c3897d",
   "metadata": {
    "execution": {
     "iopub.execute_input": "2024-10-26T12:04:08.039920Z",
     "iopub.status.busy": "2024-10-26T12:04:08.037478Z",
     "iopub.status.idle": "2024-10-26T12:04:08.147215Z",
     "shell.execute_reply": "2024-10-26T12:04:08.146017Z"
    },
    "papermill": {
     "duration": 0.121768,
     "end_time": "2024-10-26T12:04:08.149822",
     "exception": false,
     "start_time": "2024-10-26T12:04:08.028054",
     "status": "completed"
    },
    "tags": [],
    "vscode": {
     "languageId": "r"
    }
   },
   "outputs": [],
   "source": [
    "# use for the other completed methods\n",
    "datax_count = data_process(sc_exp = sc_exp,   sc_label = sc_label, \n",
    "                     spot_exp = spot_exp,  spot_loc = spot_loc,\n",
    "                     depthscale = depthscale,  gene_det_in_min_cells_per = 0, \n",
    "                     expression_threshold = 0,\n",
    "                     nUMI =  10, verbose = FALSE, clean.only = TRUE)"
   ]
  },
  {
   "cell_type": "code",
   "execution_count": 13,
   "id": "7377994c",
   "metadata": {
    "execution": {
     "iopub.execute_input": "2024-10-26T12:04:08.184216Z",
     "iopub.status.busy": "2024-10-26T12:04:08.182551Z",
     "iopub.status.idle": "2024-10-26T12:04:08.204337Z",
     "shell.execute_reply": "2024-10-26T12:04:08.202524Z"
    },
    "papermill": {
     "duration": 0.037715,
     "end_time": "2024-10-26T12:04:08.206510",
     "exception": false,
     "start_time": "2024-10-26T12:04:08.168795",
     "status": "completed"
    },
    "tags": [],
    "vscode": {
     "languageId": "r"
    }
   },
   "outputs": [
    {
     "data": {
      "text/html": [
       "134"
      ],
      "text/latex": [
       "134"
      ],
      "text/markdown": [
       "134"
      ],
      "text/plain": [
       "[1] 134"
      ]
     },
     "metadata": {},
     "output_type": "display_data"
    }
   ],
   "source": [
    "genes_sec = rownames(datax$spot_exp)\n",
    "length(genes_sec)"
   ]
  },
  {
   "cell_type": "code",
   "execution_count": 14,
   "id": "643dad04",
   "metadata": {
    "execution": {
     "iopub.execute_input": "2024-10-26T12:04:08.238973Z",
     "iopub.status.busy": "2024-10-26T12:04:08.236577Z",
     "iopub.status.idle": "2024-10-26T12:04:08.453658Z",
     "shell.execute_reply": "2024-10-26T12:04:08.452557Z"
    },
    "papermill": {
     "duration": 0.23361,
     "end_time": "2024-10-26T12:04:08.456211",
     "exception": false,
     "start_time": "2024-10-26T12:04:08.222601",
     "status": "completed"
    },
    "tags": [],
    "vscode": {
     "languageId": "r"
    }
   },
   "outputs": [],
   "source": [
    "genes_sec = rownames(datax$spot_exp)\n",
    "\n",
    "for(i in 1:length(cell_type)){\n",
    "  \n",
    "  TRUE_F[[i]] = TRUE_F[[i]][genes_sec, colnames(datax$spot_exp )]\n",
    "  \n",
    "}\n",
    "\n",
    "depthscale = 1e6\n",
    "trueF = res_library_size_normaization(estres = TRUE_F, depthscale = depthscale)\n",
    "\n",
    "\n",
    "saveRDS(TRUE_F, file = paste0(\"./results/MPOA/True_cell_exp_\", patch_size, \"um2.RDS\"))\n"
   ]
  },
  {
   "cell_type": "markdown",
   "id": "97ea8993",
   "metadata": {
    "papermill": {
     "duration": 0.012161,
     "end_time": "2024-10-26T12:04:08.486459",
     "exception": false,
     "start_time": "2024-10-26T12:04:08.474298",
     "status": "completed"
    },
    "tags": []
   },
   "source": [
    "## Step 2: construct spatial correlation structures"
   ]
  },
  {
   "cell_type": "code",
   "execution_count": 15,
   "id": "d7089564",
   "metadata": {
    "execution": {
     "iopub.execute_input": "2024-10-26T12:04:08.507769Z",
     "iopub.status.busy": "2024-10-26T12:04:08.505370Z",
     "iopub.status.idle": "2024-10-26T12:04:25.755311Z",
     "shell.execute_reply": "2024-10-26T12:04:25.753855Z"
    },
    "papermill": {
     "duration": 17.262287,
     "end_time": "2024-10-26T12:04:25.757986",
     "exception": false,
     "start_time": "2024-10-26T12:04:08.495699",
     "status": "completed"
    },
    "tags": [],
    "vscode": {
     "languageId": "r"
    }
   },
   "outputs": [
    {
     "name": "stdout",
     "output_type": "stream",
     "text": [
      "Construct spatial correlation \n"
     ]
    }
   ],
   "source": [
    "cat(\"Construct spatial correlation\", \"\\n\")\n",
    "L.mat = dis_weight(spot_loc = datax$spot_loc, spot_exp = datax$spot_exp, k = 6, \n",
    "                   quantile_prob_bandwidth = 1/3, method = \"Hex\", \n",
    "                   coord_type = \"grid\")"
   ]
  },
  {
   "cell_type": "markdown",
   "id": "69c6a727",
   "metadata": {
    "papermill": {
     "duration": 0.013063,
     "end_time": "2024-10-26T12:04:25.790862",
     "exception": false,
     "start_time": "2024-10-26T12:04:25.777799",
     "status": "completed"
    },
    "tags": []
   },
   "source": [
    "## Step 3: construct reference gene matrix"
   ]
  },
  {
   "cell_type": "code",
   "execution_count": 16,
   "id": "67431d43",
   "metadata": {
    "execution": {
     "iopub.execute_input": "2024-10-26T12:04:25.813161Z",
     "iopub.status.busy": "2024-10-26T12:04:25.810656Z",
     "iopub.status.idle": "2024-10-26T12:04:25.886664Z",
     "shell.execute_reply": "2024-10-26T12:04:25.885484Z"
    },
    "papermill": {
     "duration": 0.089502,
     "end_time": "2024-10-26T12:04:25.889520",
     "exception": false,
     "start_time": "2024-10-26T12:04:25.800018",
     "status": "completed"
    },
    "tags": [],
    "vscode": {
     "languageId": "r"
    }
   },
   "outputs": [
    {
     "name": "stdout",
     "output_type": "stream",
     "text": [
      "Construct reference gene matrix \n"
     ]
    },
    {
     "data": {
      "text/html": [
       "<style>\n",
       ".list-inline {list-style: none; margin:0; padding: 0}\n",
       ".list-inline>li {display: inline-block}\n",
       ".list-inline>li:not(:last-child)::after {content: \"\\00b7\"; padding: 0 .5ex}\n",
       "</style>\n",
       "<ol class=list-inline><li>'Astrocyte'</li><li>'Endothelial'</li><li>'Ependymal'</li><li>'Excitatory'</li><li>'Inhibitory'</li><li>'Microglia'</li><li>'OD Immature'</li><li>'OD Mature'</li><li>'Pericytes'</li></ol>\n"
      ],
      "text/latex": [
       "\\begin{enumerate*}\n",
       "\\item 'Astrocyte'\n",
       "\\item 'Endothelial'\n",
       "\\item 'Ependymal'\n",
       "\\item 'Excitatory'\n",
       "\\item 'Inhibitory'\n",
       "\\item 'Microglia'\n",
       "\\item 'OD Immature'\n",
       "\\item 'OD Mature'\n",
       "\\item 'Pericytes'\n",
       "\\end{enumerate*}\n"
      ],
      "text/markdown": [
       "1. 'Astrocyte'\n",
       "2. 'Endothelial'\n",
       "3. 'Ependymal'\n",
       "4. 'Excitatory'\n",
       "5. 'Inhibitory'\n",
       "6. 'Microglia'\n",
       "7. 'OD Immature'\n",
       "8. 'OD Mature'\n",
       "9. 'Pericytes'\n",
       "\n",
       "\n"
      ],
      "text/plain": [
       "[1] \"Astrocyte\"   \"Endothelial\" \"Ependymal\"   \"Excitatory\"  \"Inhibitory\" \n",
       "[6] \"Microglia\"   \"OD Immature\" \"OD Mature\"   \"Pericytes\"  "
      ]
     },
     "metadata": {},
     "output_type": "display_data"
    }
   ],
   "source": [
    "cat(\"Construct reference gene matrix\", \"\\n\")\n",
    "\n",
    "ref_exp = create_group_exp(sc_exp = datax$sc_exp, sc_label = datax$sc_label)\n",
    "colnames(ref_exp)\n"
   ]
  },
  {
   "cell_type": "code",
   "execution_count": 17,
   "id": "9a68960d",
   "metadata": {
    "execution": {
     "iopub.execute_input": "2024-10-26T12:04:25.923629Z",
     "iopub.status.busy": "2024-10-26T12:04:25.922003Z",
     "iopub.status.idle": "2024-10-26T12:04:25.947074Z",
     "shell.execute_reply": "2024-10-26T12:04:25.945810Z"
    },
    "papermill": {
     "duration": 0.040926,
     "end_time": "2024-10-26T12:04:25.949096",
     "exception": false,
     "start_time": "2024-10-26T12:04:25.908170",
     "status": "completed"
    },
    "tags": [],
    "vscode": {
     "languageId": "r"
    }
   },
   "outputs": [
    {
     "data": {
      "text/html": [
       "<style>\n",
       ".list-inline {list-style: none; margin:0; padding: 0}\n",
       ".list-inline>li {display: inline-block}\n",
       ".list-inline>li:not(:last-child)::after {content: \"\\00b7\"; padding: 0 .5ex}\n",
       "</style>\n",
       "<ol class=list-inline><li>'Astrocyte'</li><li>'Endothelial'</li><li>'Ependymal'</li><li>'Excitatory'</li><li>'Inhibitory'</li><li>'Microglia'</li><li>'OD Immature'</li><li>'OD Mature'</li><li>'Pericytes'</li></ol>\n"
      ],
      "text/latex": [
       "\\begin{enumerate*}\n",
       "\\item 'Astrocyte'\n",
       "\\item 'Endothelial'\n",
       "\\item 'Ependymal'\n",
       "\\item 'Excitatory'\n",
       "\\item 'Inhibitory'\n",
       "\\item 'Microglia'\n",
       "\\item 'OD Immature'\n",
       "\\item 'OD Mature'\n",
       "\\item 'Pericytes'\n",
       "\\end{enumerate*}\n"
      ],
      "text/markdown": [
       "1. 'Astrocyte'\n",
       "2. 'Endothelial'\n",
       "3. 'Ependymal'\n",
       "4. 'Excitatory'\n",
       "5. 'Inhibitory'\n",
       "6. 'Microglia'\n",
       "7. 'OD Immature'\n",
       "8. 'OD Mature'\n",
       "9. 'Pericytes'\n",
       "\n",
       "\n"
      ],
      "text/plain": [
       "[1] \"Astrocyte\"   \"Endothelial\" \"Ependymal\"   \"Excitatory\"  \"Inhibitory\" \n",
       "[6] \"Microglia\"   \"OD Immature\" \"OD Mature\"   \"Pericytes\"  "
      ]
     },
     "metadata": {},
     "output_type": "display_data"
    },
    {
     "data": {
      "text/html": [
       "<style>\n",
       ".list-inline {list-style: none; margin:0; padding: 0}\n",
       ".list-inline>li {display: inline-block}\n",
       ".list-inline>li:not(:last-child)::after {content: \"\\00b7\"; padding: 0 .5ex}\n",
       "</style>\n",
       "<ol class=list-inline><li>'Astrocyte'</li><li>'Endothelial'</li><li>'Ependymal'</li><li>'Excitatory'</li><li>'Inhibitory'</li><li>'Microglia'</li><li>'OD Immature'</li><li>'OD Mature'</li><li>'Pericytes'</li></ol>\n"
      ],
      "text/latex": [
       "\\begin{enumerate*}\n",
       "\\item 'Astrocyte'\n",
       "\\item 'Endothelial'\n",
       "\\item 'Ependymal'\n",
       "\\item 'Excitatory'\n",
       "\\item 'Inhibitory'\n",
       "\\item 'Microglia'\n",
       "\\item 'OD Immature'\n",
       "\\item 'OD Mature'\n",
       "\\item 'Pericytes'\n",
       "\\end{enumerate*}\n"
      ],
      "text/markdown": [
       "1. 'Astrocyte'\n",
       "2. 'Endothelial'\n",
       "3. 'Ependymal'\n",
       "4. 'Excitatory'\n",
       "5. 'Inhibitory'\n",
       "6. 'Microglia'\n",
       "7. 'OD Immature'\n",
       "8. 'OD Mature'\n",
       "9. 'Pericytes'\n",
       "\n",
       "\n"
      ],
      "text/plain": [
       "[1] \"Astrocyte\"   \"Endothelial\" \"Ependymal\"   \"Excitatory\"  \"Inhibitory\" \n",
       "[6] \"Microglia\"   \"OD Immature\" \"OD Mature\"   \"Pericytes\"  "
      ]
     },
     "metadata": {},
     "output_type": "display_data"
    }
   ],
   "source": [
    "ref_exp = ref_exp[rownames(datax$spot_exp),]\n",
    "colnames(ref_exp )\n",
    "cell_type"
   ]
  },
  {
   "cell_type": "code",
   "execution_count": 18,
   "id": "37ba7c42",
   "metadata": {
    "execution": {
     "iopub.execute_input": "2024-10-26T12:04:25.980795Z",
     "iopub.status.busy": "2024-10-26T12:04:25.978792Z",
     "iopub.status.idle": "2024-10-26T12:04:25.997045Z",
     "shell.execute_reply": "2024-10-26T12:04:25.995146Z"
    },
    "papermill": {
     "duration": 0.033809,
     "end_time": "2024-10-26T12:04:25.999417",
     "exception": false,
     "start_time": "2024-10-26T12:04:25.965608",
     "status": "completed"
    },
    "tags": [],
    "vscode": {
     "languageId": "r"
    }
   },
   "outputs": [],
   "source": [
    "beta.type = cell_type_prop[colnames(datax$spot_exp),]"
   ]
  },
  {
   "cell_type": "code",
   "execution_count": 19,
   "id": "f5c25f1b",
   "metadata": {
    "execution": {
     "iopub.execute_input": "2024-10-26T12:04:26.033006Z",
     "iopub.status.busy": "2024-10-26T12:04:26.030518Z",
     "iopub.status.idle": "2024-10-26T12:04:26.129740Z",
     "shell.execute_reply": "2024-10-26T12:04:26.128581Z"
    },
    "papermill": {
     "duration": 0.115925,
     "end_time": "2024-10-26T12:04:26.132118",
     "exception": false,
     "start_time": "2024-10-26T12:04:26.016193",
     "status": "completed"
    },
    "tags": [],
    "vscode": {
     "languageId": "r"
    }
   },
   "outputs": [
    {
     "data": {
      "text/html": [
       "134"
      ],
      "text/latex": [
       "134"
      ],
      "text/markdown": [
       "134"
      ],
      "text/plain": [
       "[1] 134"
      ]
     },
     "metadata": {},
     "output_type": "display_data"
    }
   ],
   "source": [
    "p = nrow(datax$spot_exp)\n",
    "p\n",
    "K = ncol(beta.type)\n",
    "beta.ind.temp = beta.type>0.05\n",
    "\n",
    "beta.ind =  matrix(list(), K ,1)\n",
    "for (i in 1:K){\n",
    "  \n",
    "  beta.ind[[i]] =  matrix( rep(beta.ind.temp[,i],p), nrow = p, byrow = TRUE)\n",
    "}\n",
    "\n",
    "saveRDS(beta.ind, file =paste0(\"./results/MPOA/cell_prop_indx_\",patch_size,\"um2.RDS\"))\n"
   ]
  },
  {
   "cell_type": "markdown",
   "id": "b22933cf",
   "metadata": {
    "papermill": {
     "duration": 0.012583,
     "end_time": "2024-10-26T12:04:26.163058",
     "exception": false,
     "start_time": "2024-10-26T12:04:26.150475",
     "status": "completed"
    },
    "tags": []
   },
   "source": [
    "## Step 4: run the main model\n",
    "### Step 4-1: run the main model with true cell type proportion"
   ]
  },
  {
   "cell_type": "code",
   "execution_count": 20,
   "id": "3801a629",
   "metadata": {
    "execution": {
     "iopub.execute_input": "2024-10-26T12:04:26.190955Z",
     "iopub.status.busy": "2024-10-26T12:04:26.188502Z",
     "iopub.status.idle": "2024-10-26T12:04:26.545554Z",
     "shell.execute_reply": "2024-10-26T12:04:26.544529Z"
    },
    "papermill": {
     "duration": 0.376226,
     "end_time": "2024-10-26T12:04:26.548359",
     "exception": false,
     "start_time": "2024-10-26T12:04:26.172133",
     "status": "completed"
    },
    "tags": [],
    "vscode": {
     "languageId": "r"
    }
   },
   "outputs": [],
   "source": [
    " \n",
    "start_time <- Sys.time()\n",
    "\n",
    "if (!file.exists(paste0(\"./results/MPOA/True_stged_\",patch_size,\"um2.RDS\"))) {\n",
    "  stged.est.true <- MUR.STged(\n",
    "    srt_exp = datax$spot_exp, \n",
    "    ref_exp = ref_exp, \n",
    "    beta.type = beta.type, \n",
    "    W = L.mat$dis_weight, \n",
    "    lambda1 = NULL, \n",
    "    lambda2 = NULL, \n",
    "    cutoff = 0.05, \n",
    "    epsilon = 1e-5\n",
    "  )\n",
    "  \n",
    "  saveRDS(stged.est.true, file = paste0( \"./results/MPOA/True_stged_\",patch_size,\"um2.RDS\"))\n",
    "} else {\n",
    "  \n",
    "  stged.est.true <- readRDS(paste0(\"./results/MPOA/True_stged_\",patch_size,\"um2.RDS\"))\n",
    "}\n",
    "\n",
    "end_time <- Sys.time()\n",
    "\n",
    "\n",
    "reg1 <- TRUE\n",
    "\n",
    "if (reg1 && !file.exists(paste0(\"./results/MPOA/True_stged_reg1_\",patch_size,\"um2.RDS\"))) {\n",
    "  stged.est.reg1 <- MUR.STged(\n",
    "    srt_exp = datax$spot_exp, \n",
    "    ref_exp = ref_exp, \n",
    "    beta.type = beta.type, \n",
    "    W = L.mat$dis_weight, \n",
    "    lambda1 = NULL, \n",
    "    lambda2 = 0, \n",
    "    cutoff = 0.05, \n",
    "    epsilon = 1e-5\n",
    "  )\n",
    "  \n",
    "  saveRDS(stged.est.reg1, file = paste0(\"./results/MPOA/True_stged_reg1_\",patch_size,\"um2.RDS\"))\n",
    "} else {\n",
    "  \n",
    "  stged.est.reg1 <- readRDS(paste0(\"./results/MPOA/True_stged_reg1_\",patch_size,\"um2.RDS\"))\n",
    "}\n",
    "\n",
    "\n",
    "reg2 <- TRUE\n",
    "if (reg2 && !file.exists(paste0(\"./results/MPOA/True_stged_reg2_\",patch_size,\"um2.RDS\"))) {\n",
    "  stged.est.reg2 <- MUR.STged(\n",
    "    srt_exp = datax$spot_exp, \n",
    "    ref_exp = ref_exp, \n",
    "    beta.type = beta.type, \n",
    "    W = L.mat$dis_weight, \n",
    "    lambda1 = 0, \n",
    "    lambda2 = NULL, \n",
    "    cutoff = 0.05, \n",
    "    epsilon = 1e-5\n",
    "  )\n",
    "  \n",
    "  saveRDS(stged.est.reg2, file = paste0(\"./results/MPOA/True_stged_reg2_\",patch_size,\"um2.RDS\"))\n",
    "} else {\n",
    "  \n",
    "  stged.est.reg2 <- readRDS(paste0(\"./results/MPOA/True_stged_reg2_\",patch_size,\"um2.RDS\"))\n",
    "}\n",
    "\n",
    "\n",
    "\n",
    "reg3 <- TRUE\n",
    "if (reg3 && !file.exists(paste0(\"./results/MPOA/True_stged_reg3_\",patch_size,\"um2.RDS\"))) {\n",
    "  stged.est.reg3 <- MUR.STged(\n",
    "    srt_exp = datax$spot_exp, \n",
    "    ref_exp = ref_exp, \n",
    "    beta.type = beta.type, \n",
    "    W = L.mat$dis_weight, \n",
    "    lambda1 = 0, \n",
    "    lambda2 = 0, \n",
    "    cutoff = 0.05, \n",
    "    epsilon = 1e-5\n",
    "  )\n",
    "  \n",
    "  saveRDS(stged.est.reg3, file = paste0(\"./results/MPOA/True_stged_reg3_\",patch_size,\"um2.RDS\"))\n",
    "} else {\n",
    "  \n",
    "  stged.est.reg3 <- readRDS(paste0(\"./results/MPOA/True_stged_reg3_\",patch_size,\"um2.RDS\"))\n",
    "}"
   ]
  },
  {
   "cell_type": "markdown",
   "id": "786beda2",
   "metadata": {
    "papermill": {
     "duration": 0.011148,
     "end_time": "2024-10-26T12:04:26.578044",
     "exception": false,
     "start_time": "2024-10-26T12:04:26.566896",
     "status": "completed"
    },
    "tags": []
   },
   "source": [
    "# Run the benchmarking methods"
   ]
  },
  {
   "cell_type": "code",
   "execution_count": 21,
   "id": "b9b45132",
   "metadata": {
    "execution": {
     "iopub.execute_input": "2024-10-26T12:04:26.599250Z",
     "iopub.status.busy": "2024-10-26T12:04:26.596871Z",
     "iopub.status.idle": "2024-10-26T12:04:27.568371Z",
     "shell.execute_reply": "2024-10-26T12:04:27.566883Z"
    },
    "papermill": {
     "duration": 0.984437,
     "end_time": "2024-10-26T12:04:27.571357",
     "exception": false,
     "start_time": "2024-10-26T12:04:26.586920",
     "status": "completed"
    },
    "tags": [],
    "vscode": {
     "languageId": "r"
    }
   },
   "outputs": [],
   "source": [
    "exp_lsr = st_mu_est(srt_exp = datax$spot_exp,  beta= beta.type)\n",
    "exp_sc = sc_mu_est( sc_mu = ref_exp, beta = beta.type)\n",
    "\n",
    "exp_rctd =  RCTDexp(beta = beta.type,  srt_exp = datax$spot_exp, ref_mu = ref_exp )\n",
    "\n",
    "exp_spotdecon = spotdecon_est(srt_exp = datax$spot_exp,  beta= beta.type)\n"
   ]
  },
  {
   "cell_type": "code",
   "execution_count": 22,
   "id": "cd4eb222",
   "metadata": {
    "execution": {
     "iopub.execute_input": "2024-10-26T12:04:27.606138Z",
     "iopub.status.busy": "2024-10-26T12:04:27.604601Z",
     "iopub.status.idle": "2024-10-26T12:04:27.676887Z",
     "shell.execute_reply": "2024-10-26T12:04:27.675850Z"
    },
    "papermill": {
     "duration": 0.089119,
     "end_time": "2024-10-26T12:04:27.679200",
     "exception": false,
     "start_time": "2024-10-26T12:04:27.590081",
     "status": "completed"
    },
    "tags": [],
    "vscode": {
     "languageId": "r"
    }
   },
   "outputs": [],
   "source": [
    "# Check and save exp_ENIGMA result\n",
    "if (!file.exists(paste0(\"./results/MPOA/True_exp_ENIGMA_\",patch_size,\"um2.RDS\")) ){\n",
    "  exp_ENIGMA <- ENIGMA_est(\n",
    "    spot_exp = datax_count$spot_exp, \n",
    "    sc_exp = datax_count$sc_exp, \n",
    "    sc_label = datax_count$sc_label, \n",
    "    beta = beta.type )\n",
    "  \n",
    "  # Save the result if computation is performed\n",
    "  saveRDS(exp_ENIGMA, file = paste0(\"./results/MPOA/True_exp_ENIGMA_\",patch_size,\"um2.RDS\"))\n",
    "} else {\n",
    "  # Load the result if it already exists\n",
    "  exp_ENIGMA <- readRDS(paste0(\"./results/MPOA/True_exp_ENIGMA_\",patch_size,\"um2.RDS\"))\n",
    "}\n"
   ]
  },
  {
   "cell_type": "code",
   "execution_count": 23,
   "id": "e4eaa6f8",
   "metadata": {
    "execution": {
     "iopub.execute_input": "2024-10-26T12:04:27.714229Z",
     "iopub.status.busy": "2024-10-26T12:04:27.712329Z",
     "iopub.status.idle": "2024-10-26T12:04:58.183191Z",
     "shell.execute_reply": "2024-10-26T12:04:58.181794Z"
    },
    "papermill": {
     "duration": 30.487721,
     "end_time": "2024-10-26T12:04:58.185555",
     "exception": false,
     "start_time": "2024-10-26T12:04:27.697834",
     "status": "completed"
    },
    "tags": [],
    "vscode": {
     "languageId": "r"
    }
   },
   "outputs": [
    {
     "name": "stdout",
     "output_type": "stream",
     "text": [
      "INFO [2024-10-26 20:04:27] Starting tca...\n",
      "INFO [2024-10-26 20:04:27] Validating input...\n",
      "INFO [2024-10-26 20:04:27] Fitting the TCA model...\n",
      "INFO [2024-10-26 20:04:27] Fitting means and variances...\n",
      "INFO [2024-10-26 20:04:28] Iteration 1 out of 10 internal iterations...\n",
      "\r",
      "  |                                                        \r",
      "  |                                                  |   0%"
     ]
    },
    {
     "name": "stdout",
     "output_type": "stream",
     "text": [
      "\r",
      "  |                                                        \r",
      "  |+++++++                                           |  14%"
     ]
    },
    {
     "name": "stdout",
     "output_type": "stream",
     "text": [
      "\r",
      "  |                                                        \r",
      "  |++++++++++++++                                    |  29%"
     ]
    },
    {
     "name": "stdout",
     "output_type": "stream",
     "text": [
      "\r",
      "  |                                                        \r",
      "  |+++++++++++++++++++++                             |  43%"
     ]
    },
    {
     "name": "stdout",
     "output_type": "stream",
     "text": [
      "\r",
      "  |                                                        \r",
      "  |+++++++++++++++++++++++++++++                     |  57%"
     ]
    },
    {
     "name": "stdout",
     "output_type": "stream",
     "text": [
      "\r",
      "  |                                                        \r",
      "  |++++++++++++++++++++++++++++++++++++              |  71%"
     ]
    },
    {
     "name": "stdout",
     "output_type": "stream",
     "text": [
      "\r",
      "  |                                                        \r",
      "  |+++++++++++++++++++++++++++++++++++++++++++       |  86%"
     ]
    },
    {
     "name": "stdout",
     "output_type": "stream",
     "text": [
      "\r",
      "  |                                                        \r",
      "  |++++++++++++++++++++++++++++++++++++++++++++++++++| 100%"
     ]
    },
    {
     "name": "stdout",
     "output_type": "stream",
     "text": [
      "\n"
     ]
    },
    {
     "name": "stdout",
     "output_type": "stream",
     "text": [
      "\r",
      "  |                                                        \r",
      "  |                                                  |   0%"
     ]
    },
    {
     "name": "stdout",
     "output_type": "stream",
     "text": [
      "\r",
      "  |                                                        \r",
      "  |+++++++                                           |  14%"
     ]
    },
    {
     "name": "stdout",
     "output_type": "stream",
     "text": [
      "\r",
      "  |                                                        \r",
      "  |++++++++++++++                                    |  29%"
     ]
    },
    {
     "name": "stdout",
     "output_type": "stream",
     "text": [
      "\r",
      "  |                                                        \r",
      "  |+++++++++++++++++++++                             |  43%"
     ]
    },
    {
     "name": "stdout",
     "output_type": "stream",
     "text": [
      "\r",
      "  |                                                        \r",
      "  |+++++++++++++++++++++++++++++                     |  57%"
     ]
    },
    {
     "name": "stdout",
     "output_type": "stream",
     "text": [
      "\r",
      "  |                                                        \r",
      "  |++++++++++++++++++++++++++++++++++++              |  71%"
     ]
    },
    {
     "name": "stdout",
     "output_type": "stream",
     "text": [
      "\r",
      "  |                                                        \r",
      "  |+++++++++++++++++++++++++++++++++++++++++++       |  86%"
     ]
    },
    {
     "name": "stdout",
     "output_type": "stream",
     "text": [
      "\r",
      "  |                                                        \r",
      "  |++++++++++++++++++++++++++++++++++++++++++++++++++| 100%"
     ]
    },
    {
     "name": "stdout",
     "output_type": "stream",
     "text": [
      "\n"
     ]
    },
    {
     "name": "stdout",
     "output_type": "stream",
     "text": [
      "INFO [2024-10-26 20:04:34] Iteration 2 out of 10 internal iterations...\n",
      "\r",
      "  |                                                        \r",
      "  |                                                  |   0%"
     ]
    },
    {
     "name": "stdout",
     "output_type": "stream",
     "text": [
      "\r",
      "  |                                                        \r",
      "  |+++++++                                           |  14%"
     ]
    },
    {
     "name": "stdout",
     "output_type": "stream",
     "text": [
      "\r",
      "  |                                                        \r",
      "  |++++++++++++++                                    |  29%"
     ]
    },
    {
     "name": "stdout",
     "output_type": "stream",
     "text": [
      "\r",
      "  |                                                        \r",
      "  |+++++++++++++++++++++                             |  43%"
     ]
    },
    {
     "name": "stdout",
     "output_type": "stream",
     "text": [
      "\r",
      "  |                                                        \r",
      "  |+++++++++++++++++++++++++++++                     |  57%"
     ]
    },
    {
     "name": "stdout",
     "output_type": "stream",
     "text": [
      "\r",
      "  |                                                        \r",
      "  |++++++++++++++++++++++++++++++++++++              |  71%"
     ]
    },
    {
     "name": "stdout",
     "output_type": "stream",
     "text": [
      "\r",
      "  |                                                        \r",
      "  |+++++++++++++++++++++++++++++++++++++++++++       |  86%"
     ]
    },
    {
     "name": "stdout",
     "output_type": "stream",
     "text": [
      "\r",
      "  |                                                        \r",
      "  |++++++++++++++++++++++++++++++++++++++++++++++++++| 100%"
     ]
    },
    {
     "name": "stdout",
     "output_type": "stream",
     "text": [
      "\n"
     ]
    },
    {
     "name": "stdout",
     "output_type": "stream",
     "text": [
      "\r",
      "  |                                                        \r",
      "  |                                                  |   0%"
     ]
    },
    {
     "name": "stdout",
     "output_type": "stream",
     "text": [
      "\r",
      "  |                                                        \r",
      "  |+++++++                                           |  14%"
     ]
    },
    {
     "name": "stdout",
     "output_type": "stream",
     "text": [
      "\r",
      "  |                                                        \r",
      "  |++++++++++++++                                    |  29%"
     ]
    },
    {
     "name": "stdout",
     "output_type": "stream",
     "text": [
      "\r",
      "  |                                                        \r",
      "  |+++++++++++++++++++++                             |  43%"
     ]
    },
    {
     "name": "stdout",
     "output_type": "stream",
     "text": [
      "\r",
      "  |                                                        \r",
      "  |+++++++++++++++++++++++++++++                     |  57%"
     ]
    },
    {
     "name": "stdout",
     "output_type": "stream",
     "text": [
      "\r",
      "  |                                                        \r",
      "  |++++++++++++++++++++++++++++++++++++              |  71%"
     ]
    },
    {
     "name": "stdout",
     "output_type": "stream",
     "text": [
      "\r",
      "  |                                                        \r",
      "  |+++++++++++++++++++++++++++++++++++++++++++       |  86%"
     ]
    },
    {
     "name": "stdout",
     "output_type": "stream",
     "text": [
      "\r",
      "  |                                                        \r",
      "  |++++++++++++++++++++++++++++++++++++++++++++++++++| 100%"
     ]
    },
    {
     "name": "stdout",
     "output_type": "stream",
     "text": [
      "\n"
     ]
    },
    {
     "name": "stdout",
     "output_type": "stream",
     "text": [
      "INFO [2024-10-26 20:04:38] Iteration 3 out of 10 internal iterations...\n",
      "\r",
      "  |                                                        \r",
      "  |                                                  |   0%"
     ]
    },
    {
     "name": "stdout",
     "output_type": "stream",
     "text": [
      "\r",
      "  |                                                        \r",
      "  |+++++++                                           |  14%"
     ]
    },
    {
     "name": "stdout",
     "output_type": "stream",
     "text": [
      "\r",
      "  |                                                        \r",
      "  |++++++++++++++                                    |  29%"
     ]
    },
    {
     "name": "stdout",
     "output_type": "stream",
     "text": [
      "\r",
      "  |                                                        \r",
      "  |+++++++++++++++++++++                             |  43%"
     ]
    },
    {
     "name": "stdout",
     "output_type": "stream",
     "text": [
      "\r",
      "  |                                                        \r",
      "  |+++++++++++++++++++++++++++++                     |  57%"
     ]
    },
    {
     "name": "stdout",
     "output_type": "stream",
     "text": [
      "\r",
      "  |                                                        \r",
      "  |++++++++++++++++++++++++++++++++++++              |  71%"
     ]
    },
    {
     "name": "stdout",
     "output_type": "stream",
     "text": [
      "\r",
      "  |                                                        \r",
      "  |+++++++++++++++++++++++++++++++++++++++++++       |  86%"
     ]
    },
    {
     "name": "stdout",
     "output_type": "stream",
     "text": [
      "\r",
      "  |                                                        \r",
      "  |++++++++++++++++++++++++++++++++++++++++++++++++++| 100%"
     ]
    },
    {
     "name": "stdout",
     "output_type": "stream",
     "text": [
      "\n"
     ]
    },
    {
     "name": "stdout",
     "output_type": "stream",
     "text": [
      "\r",
      "  |                                                        \r",
      "  |                                                  |   0%"
     ]
    },
    {
     "name": "stdout",
     "output_type": "stream",
     "text": [
      "\r",
      "  |                                                        \r",
      "  |+++++++                                           |  14%"
     ]
    },
    {
     "name": "stdout",
     "output_type": "stream",
     "text": [
      "\r",
      "  |                                                        \r",
      "  |++++++++++++++                                    |  29%"
     ]
    },
    {
     "name": "stdout",
     "output_type": "stream",
     "text": [
      "\r",
      "  |                                                        \r",
      "  |+++++++++++++++++++++                             |  43%"
     ]
    },
    {
     "name": "stdout",
     "output_type": "stream",
     "text": [
      "\r",
      "  |                                                        \r",
      "  |+++++++++++++++++++++++++++++                     |  57%"
     ]
    },
    {
     "name": "stdout",
     "output_type": "stream",
     "text": [
      "\r",
      "  |                                                        \r",
      "  |++++++++++++++++++++++++++++++++++++              |  71%"
     ]
    },
    {
     "name": "stdout",
     "output_type": "stream",
     "text": [
      "\r",
      "  |                                                        \r",
      "  |+++++++++++++++++++++++++++++++++++++++++++       |  86%"
     ]
    },
    {
     "name": "stdout",
     "output_type": "stream",
     "text": [
      "\r",
      "  |                                                        \r",
      "  |++++++++++++++++++++++++++++++++++++++++++++++++++| 100%"
     ]
    },
    {
     "name": "stdout",
     "output_type": "stream",
     "text": [
      "\n"
     ]
    },
    {
     "name": "stdout",
     "output_type": "stream",
     "text": [
      "INFO [2024-10-26 20:04:45] Iteration 4 out of 10 internal iterations...\n",
      "\r",
      "  |                                                        \r",
      "  |                                                  |   0%"
     ]
    },
    {
     "name": "stdout",
     "output_type": "stream",
     "text": [
      "\r",
      "  |                                                        \r",
      "  |+++++++                                           |  14%"
     ]
    },
    {
     "name": "stdout",
     "output_type": "stream",
     "text": [
      "\r",
      "  |                                                        \r",
      "  |++++++++++++++                                    |  29%"
     ]
    },
    {
     "name": "stdout",
     "output_type": "stream",
     "text": [
      "\r",
      "  |                                                        \r",
      "  |+++++++++++++++++++++                             |  43%"
     ]
    },
    {
     "name": "stdout",
     "output_type": "stream",
     "text": [
      "\r",
      "  |                                                        \r",
      "  |+++++++++++++++++++++++++++++                     |  57%"
     ]
    },
    {
     "name": "stdout",
     "output_type": "stream",
     "text": [
      "\r",
      "  |                                                        \r",
      "  |++++++++++++++++++++++++++++++++++++              |  71%"
     ]
    },
    {
     "name": "stdout",
     "output_type": "stream",
     "text": [
      "\r",
      "  |                                                        \r",
      "  |+++++++++++++++++++++++++++++++++++++++++++       |  86%"
     ]
    },
    {
     "name": "stdout",
     "output_type": "stream",
     "text": [
      "\r",
      "  |                                                        \r",
      "  |++++++++++++++++++++++++++++++++++++++++++++++++++| 100%"
     ]
    },
    {
     "name": "stdout",
     "output_type": "stream",
     "text": [
      "\n"
     ]
    },
    {
     "name": "stdout",
     "output_type": "stream",
     "text": [
      "\r",
      "  |                                                        \r",
      "  |                                                  |   0%"
     ]
    },
    {
     "name": "stdout",
     "output_type": "stream",
     "text": [
      "\r",
      "  |                                                        \r",
      "  |+++++++                                           |  14%"
     ]
    },
    {
     "name": "stdout",
     "output_type": "stream",
     "text": [
      "\r",
      "  |                                                        \r",
      "  |++++++++++++++                                    |  29%"
     ]
    },
    {
     "name": "stdout",
     "output_type": "stream",
     "text": [
      "\r",
      "  |                                                        \r",
      "  |+++++++++++++++++++++                             |  43%"
     ]
    },
    {
     "name": "stdout",
     "output_type": "stream",
     "text": [
      "\r",
      "  |                                                        \r",
      "  |+++++++++++++++++++++++++++++                     |  57%"
     ]
    },
    {
     "name": "stdout",
     "output_type": "stream",
     "text": [
      "\r",
      "  |                                                        \r",
      "  |++++++++++++++++++++++++++++++++++++              |  71%"
     ]
    },
    {
     "name": "stdout",
     "output_type": "stream",
     "text": [
      "\r",
      "  |                                                        \r",
      "  |+++++++++++++++++++++++++++++++++++++++++++       |  86%"
     ]
    },
    {
     "name": "stdout",
     "output_type": "stream",
     "text": [
      "\r",
      "  |                                                        \r",
      "  |++++++++++++++++++++++++++++++++++++++++++++++++++| 100%"
     ]
    },
    {
     "name": "stdout",
     "output_type": "stream",
     "text": [
      "\n"
     ]
    },
    {
     "name": "stdout",
     "output_type": "stream",
     "text": [
      "INFO [2024-10-26 20:04:49] Internal loop converged.\n",
      "INFO [2024-10-26 20:04:49] Calculate p-values for deltas and gammas.\n",
      "\r",
      "  |                                                        \r",
      "  |                                                  |   0%"
     ]
    },
    {
     "name": "stdout",
     "output_type": "stream",
     "text": [
      "\r",
      "  |                                                        \r",
      "  |+++++++                                           |  14%"
     ]
    },
    {
     "name": "stdout",
     "output_type": "stream",
     "text": [
      "\r",
      "  |                                                        \r",
      "  |++++++++++++++                                    |  29%"
     ]
    },
    {
     "name": "stdout",
     "output_type": "stream",
     "text": [
      "\r",
      "  |                                                        \r",
      "  |+++++++++++++++++++++                             |  43%"
     ]
    },
    {
     "name": "stdout",
     "output_type": "stream",
     "text": [
      "\r",
      "  |                                                        \r",
      "  |+++++++++++++++++++++++++++++                     |  57%"
     ]
    },
    {
     "name": "stdout",
     "output_type": "stream",
     "text": [
      "\r",
      "  |                                                        \r",
      "  |++++++++++++++++++++++++++++++++++++              |  71%"
     ]
    },
    {
     "name": "stdout",
     "output_type": "stream",
     "text": [
      "\r",
      "  |                                                        \r",
      "  |+++++++++++++++++++++++++++++++++++++++++++       |  86%"
     ]
    },
    {
     "name": "stdout",
     "output_type": "stream",
     "text": [
      "\r",
      "  |                                                        \r",
      "  |++++++++++++++++++++++++++++++++++++++++++++++++++| 100%"
     ]
    },
    {
     "name": "stdout",
     "output_type": "stream",
     "text": [
      "\n"
     ]
    },
    {
     "name": "stdout",
     "output_type": "stream",
     "text": [
      "INFO [2024-10-26 20:04:55] Finished tca.\n",
      "INFO [2024-10-26 20:04:55] Validating input...\n",
      "INFO [2024-10-26 20:04:55] Starting tensor for estimating Z...\n",
      "INFO [2024-10-26 20:04:55] Estimate tensor...\n",
      "\r",
      "  |                                                        \r",
      "  |                                                  |   0%"
     ]
    },
    {
     "name": "stdout",
     "output_type": "stream",
     "text": [
      "\r",
      "  |                                                        \r",
      "  |+++++                                             |  10%"
     ]
    },
    {
     "name": "stdout",
     "output_type": "stream",
     "text": [
      "\r",
      "  |                                                        \r",
      "  |++++++++++                                        |  20%"
     ]
    },
    {
     "name": "stdout",
     "output_type": "stream",
     "text": [
      "\r",
      "  |                                                        \r",
      "  |+++++++++++++++                                   |  30%"
     ]
    },
    {
     "name": "stdout",
     "output_type": "stream",
     "text": [
      "\r",
      "  |                                                        \r",
      "  |++++++++++++++++++++                              |  40%"
     ]
    },
    {
     "name": "stdout",
     "output_type": "stream",
     "text": [
      "\r",
      "  |                                                        \r",
      "  |+++++++++++++++++++++++++                         |  50%"
     ]
    },
    {
     "name": "stdout",
     "output_type": "stream",
     "text": [
      "\r",
      "  |                                                        \r",
      "  |++++++++++++++++++++++++++++++                    |  60%"
     ]
    },
    {
     "name": "stdout",
     "output_type": "stream",
     "text": [
      "\r",
      "  |                                                        \r",
      "  |+++++++++++++++++++++++++++++++++++               |  70%"
     ]
    },
    {
     "name": "stdout",
     "output_type": "stream",
     "text": [
      "\r",
      "  |                                                        \r",
      "  |++++++++++++++++++++++++++++++++++++++++          |  80%"
     ]
    },
    {
     "name": "stdout",
     "output_type": "stream",
     "text": [
      "\r",
      "  |                                                        \r",
      "  |+++++++++++++++++++++++++++++++++++++++++++++     |  90%"
     ]
    },
    {
     "name": "stdout",
     "output_type": "stream",
     "text": [
      "\r",
      "  |                                                        \r",
      "  |++++++++++++++++++++++++++++++++++++++++++++++++++| 100%"
     ]
    },
    {
     "name": "stdout",
     "output_type": "stream",
     "text": [
      "\n"
     ]
    },
    {
     "name": "stdout",
     "output_type": "stream",
     "text": [
      "INFO [2024-10-26 20:04:58] Finished estimating tensor.\n"
     ]
    }
   ],
   "source": [
    "\n",
    "# Check and save exp_TCA result\n",
    "if (!file.exists(\"./results/MPOA/True_exp_TCA.RDS\")) {\n",
    "  \n",
    " exp_TCA <- TCA_est(spot_exp  = datax_count$spot_exp, beta= beta.type)\n",
    "  \n",
    "  # Save the result if computation is performed\n",
    "  saveRDS(exp_TCA, file = \"./results/MPOA/True_exp_TCA.RDS\")\n",
    "} else {\n",
    "  # Load the result if it already exists\n",
    "  exp_TCA <- readRDS(\"./results/MPOA/True_exp_TCA.RDS\")\n",
    "}"
   ]
  },
  {
   "cell_type": "code",
   "execution_count": 24,
   "id": "1ce96e2e",
   "metadata": {
    "execution": {
     "iopub.execute_input": "2024-10-26T12:04:58.230125Z",
     "iopub.status.busy": "2024-10-26T12:04:58.227179Z",
     "iopub.status.idle": "2024-10-26T12:04:59.771844Z",
     "shell.execute_reply": "2024-10-26T12:04:59.769460Z"
    },
    "papermill": {
     "duration": 1.564462,
     "end_time": "2024-10-26T12:04:59.774394",
     "exception": false,
     "start_time": "2024-10-26T12:04:58.209932",
     "status": "completed"
    },
    "tags": [],
    "vscode": {
     "languageId": "r"
    }
   },
   "outputs": [],
   "source": [
    "est_est= list(STged = stged.est.true$V.hat,\n",
    "              STged.reg1 = stged.est.reg1$V.hat,\n",
    "              STged.reg2 =stged.est.reg2$V.hat,\n",
    "              STged.reg3 =stged.est.reg3$V.hat,\n",
    "              RCTD = exp_rctd,\n",
    "              TCA = exp_TCA,\n",
    "              ENIGMA = exp_ENIGMA,\n",
    "              ref_mu = exp_sc,\n",
    "              LSR = exp_lsr,\n",
    "              Spotdecon = exp_spotdecon)\n",
    "\n",
    "files = paste0(\"./results/MPOA/True_spot_decon_\",patch_size,\"um2.RDS\")\n",
    "\n",
    "saveRDS(est_est, file =files)"
   ]
  },
  {
   "cell_type": "code",
   "execution_count": 25,
   "id": "eb8668bb",
   "metadata": {
    "execution": {
     "iopub.execute_input": "2024-10-26T12:04:59.823168Z",
     "iopub.status.busy": "2024-10-26T12:04:59.819817Z",
     "iopub.status.idle": "2024-10-26T12:04:59.861060Z",
     "shell.execute_reply": "2024-10-26T12:04:59.859804Z"
    },
    "papermill": {
     "duration": 0.063514,
     "end_time": "2024-10-26T12:04:59.863818",
     "exception": false,
     "start_time": "2024-10-26T12:04:59.800304",
     "status": "completed"
    },
    "tags": [],
    "vscode": {
     "languageId": "r"
    }
   },
   "outputs": [
    {
     "data": {
      "text/html": [
       "<style>\n",
       ".list-inline {list-style: none; margin:0; padding: 0}\n",
       ".list-inline>li {display: inline-block}\n",
       ".list-inline>li:not(:last-child)::after {content: \"\\00b7\"; padding: 0 .5ex}\n",
       "</style>\n",
       "<ol class=list-inline><li>'CARD'</li><li>'RCTD'</li><li>'SpatialDWLS'</li><li>'SPOTlight'</li><li>'Stereoscope'</li><li>'cell2location'</li><li>'EnDecon'</li><li>'DWLS'</li><li>'SONAR'</li></ol>\n"
      ],
      "text/latex": [
       "\\begin{enumerate*}\n",
       "\\item 'CARD'\n",
       "\\item 'RCTD'\n",
       "\\item 'SpatialDWLS'\n",
       "\\item 'SPOTlight'\n",
       "\\item 'Stereoscope'\n",
       "\\item 'cell2location'\n",
       "\\item 'EnDecon'\n",
       "\\item 'DWLS'\n",
       "\\item 'SONAR'\n",
       "\\end{enumerate*}\n"
      ],
      "text/markdown": [
       "1. 'CARD'\n",
       "2. 'RCTD'\n",
       "3. 'SpatialDWLS'\n",
       "4. 'SPOTlight'\n",
       "5. 'Stereoscope'\n",
       "6. 'cell2location'\n",
       "7. 'EnDecon'\n",
       "8. 'DWLS'\n",
       "9. 'SONAR'\n",
       "\n",
       "\n"
      ],
      "text/plain": [
       "[1] \"CARD\"          \"RCTD\"          \"SpatialDWLS\"   \"SPOTlight\"    \n",
       "[5] \"Stereoscope\"   \"cell2location\" \"EnDecon\"       \"DWLS\"         \n",
       "[9] \"SONAR\"        "
      ]
     },
     "metadata": {},
     "output_type": "display_data"
    }
   ],
   "source": [
    "## cell type proportion predected from the proposed cell type deconvolution methods\n",
    "res_decon_ct = readRDS(paste0(\"./realdata/MAOP/Endeprop/merfish_Results.Deconv_\",patch_size,\"um.RDS\"))\n",
    "names(res_decon_ct)\n"
   ]
  },
  {
   "cell_type": "code",
   "execution_count": 26,
   "id": "f1d3967b",
   "metadata": {
    "execution": {
     "iopub.execute_input": "2024-10-26T12:04:59.905436Z",
     "iopub.status.busy": "2024-10-26T12:04:59.902475Z",
     "iopub.status.idle": "2024-10-26T12:04:59.925199Z",
     "shell.execute_reply": "2024-10-26T12:04:59.923526Z"
    },
    "papermill": {
     "duration": 0.041306,
     "end_time": "2024-10-26T12:04:59.927953",
     "exception": false,
     "start_time": "2024-10-26T12:04:59.886647",
     "status": "completed"
    },
    "tags": [],
    "vscode": {
     "languageId": "r"
    }
   },
   "outputs": [],
   "source": [
    "beta.est = res_decon_ct$EnDecon\n",
    "beta.type.RCTD = res_decon_ct$RCTD\n",
    "## use the esimated cell type proprotion"
   ]
  },
  {
   "cell_type": "code",
   "execution_count": 27,
   "id": "90519b5e",
   "metadata": {
    "execution": {
     "iopub.execute_input": "2024-10-26T12:04:59.974000Z",
     "iopub.status.busy": "2024-10-26T12:04:59.971038Z",
     "iopub.status.idle": "2024-10-26T12:04:59.992169Z",
     "shell.execute_reply": "2024-10-26T12:04:59.989774Z"
    },
    "papermill": {
     "duration": 0.039759,
     "end_time": "2024-10-26T12:04:59.994441",
     "exception": false,
     "start_time": "2024-10-26T12:04:59.954682",
     "status": "completed"
    },
    "tags": [],
    "vscode": {
     "languageId": "r"
    }
   },
   "outputs": [],
   "source": [
    "## use the esimated cell type proprotion\n",
    "beta.type = beta.est"
   ]
  },
  {
   "cell_type": "code",
   "execution_count": 28,
   "id": "79a8b483",
   "metadata": {
    "execution": {
     "iopub.execute_input": "2024-10-26T12:05:00.031651Z",
     "iopub.status.busy": "2024-10-26T12:05:00.028769Z",
     "iopub.status.idle": "2024-10-26T12:05:00.695216Z",
     "shell.execute_reply": "2024-10-26T12:05:00.693850Z"
    },
    "papermill": {
     "duration": 0.684025,
     "end_time": "2024-10-26T12:05:00.697753",
     "exception": false,
     "start_time": "2024-10-26T12:05:00.013728",
     "status": "completed"
    },
    "tags": [],
    "vscode": {
     "languageId": "r"
    }
   },
   "outputs": [],
   "source": [
    "\n",
    "start_time <- Sys.time()\n",
    "\n",
    "if (!file.exists(paste0(\"./results/MPOA/EST_stged_\",patch_size,\"um2.RDS\"))) {\n",
    "  stged.est.true <- MUR.STged(\n",
    "    srt_exp = datax$spot_exp, \n",
    "    ref_exp = ref_exp, \n",
    "    beta.type = beta.type, \n",
    "    W = L.mat$dis_weight, \n",
    "    lambda1 = NULL, \n",
    "    lambda2 = NULL, \n",
    "    cutoff = 0.05, \n",
    "    epsilon = 1e-5\n",
    "  )\n",
    "  \n",
    "  saveRDS(stged.est.true, file = paste0(\"./results/MPOA/EST_stged_\",patch_size,\"um2.RDS\"))\n",
    "} else {\n",
    "  \n",
    "  stged.est.true <- readRDS(paste0(\"./results/MPOA/EST_stged_\",patch_size,\"um2.RDS\"))\n",
    "}\n",
    "\n",
    "end_time <- Sys.time()\n",
    "\n",
    "\n",
    "reg1 <- TRUE\n",
    "\n",
    "if (reg1 && !file.exists(paste0(\"./results/MPOA/EST_stged_reg1_\",patch_size,\"um2.RDS\")) ){\n",
    "  stged.est.reg1 <- MUR.STged(\n",
    "    srt_exp = datax$spot_exp, \n",
    "    ref_exp = ref_exp, \n",
    "    beta.type = beta.type, \n",
    "    W = L.mat$dis_weight, \n",
    "    lambda1 = NULL, \n",
    "    lambda2 = 0, \n",
    "    cutoff = 0.05, \n",
    "    epsilon = 1e-5\n",
    "  )\n",
    "  \n",
    "  saveRDS(stged.est.reg1, file = paste0(\"./results/MPOA/EST_stged_reg1_\",patch_size,\"um2.RDS\"))\n",
    "} else {\n",
    "  \n",
    "  stged.est.reg1 <- readRDS(paste0(\"./results/MPOA/EST_stged_reg1_\",patch_size,\"um2.RDS\"))\n",
    "}\n",
    "\n",
    "\n",
    "reg2 <- TRUE\n",
    "if (reg2 && !file.exists(paste0(\"./results/MPOA/EST_stged_reg2_\",patch_size,\"um2.RDS\"))) {\n",
    "  stged.est.reg2 <- MUR.STged(\n",
    "    srt_exp = datax$spot_exp, \n",
    "    ref_exp = ref_exp, \n",
    "    beta.type = beta.type, \n",
    "    W = L.mat$dis_weight, \n",
    "    lambda1 = 0, \n",
    "    lambda2 = NULL, \n",
    "    cutoff = 0.05, \n",
    "    epsilon = 1e-5\n",
    "  )\n",
    "  \n",
    "  saveRDS(stged.est.reg2, file = paste0(\"./results/MPOA/EST_stged_reg2_\",patch_size,\"um2.RDS\"))\n",
    "} else {\n",
    "  \n",
    "  stged.est.reg2 <- readRDS(paste0(\"./results/MPOA/EST_stged_reg2_\",patch_size,\"um2.RDS\"))\n",
    "}\n",
    "\n",
    "reg3 <- TRUE\n",
    "if (reg3 && !file.exists(paste0(\"./results/MPOA/EST_stged_reg3_\",patch_size,\"um2.RDS\"))) {\n",
    "  stged.est.reg3 <- MUR.STged(\n",
    "    srt_exp = datax$spot_exp, \n",
    "    ref_exp = ref_exp, \n",
    "    beta.type = beta.type, \n",
    "    W = L.mat$dis_weight, \n",
    "    lambda1 = 0, \n",
    "    lambda2 =0, \n",
    "    cutoff = 0.05, \n",
    "    epsilon = 1e-5\n",
    "  )\n",
    "  \n",
    "  saveRDS(stged.est.reg3, file = paste0(\"./results/MPOA/EST_stged_reg3_\",patch_size,\"um2.RDS\"))\n",
    "} else {\n",
    "  \n",
    "  stged.est.reg3 <- readRDS(paste0(\"./results/MPOA/EST_stged_reg3_\",patch_size,\"um2.RDS\"))\n",
    "}"
   ]
  },
  {
   "cell_type": "code",
   "execution_count": 29,
   "id": "da386acf",
   "metadata": {
    "execution": {
     "iopub.execute_input": "2024-10-26T12:05:00.740504Z",
     "iopub.status.busy": "2024-10-26T12:05:00.738030Z",
     "iopub.status.idle": "2024-10-26T12:05:01.899853Z",
     "shell.execute_reply": "2024-10-26T12:05:01.898566Z"
    },
    "papermill": {
     "duration": 1.179681,
     "end_time": "2024-10-26T12:05:01.902294",
     "exception": false,
     "start_time": "2024-10-26T12:05:00.722613",
     "status": "completed"
    },
    "tags": [],
    "vscode": {
     "languageId": "r"
    }
   },
   "outputs": [],
   "source": [
    "exp_lsr = st_mu_est(srt_exp = datax$spot_exp,  beta= beta.type)\n",
    "\n",
    "exp_sc = sc_mu_est( sc_mu = ref_exp, beta = beta.type)\n",
    "\n",
    "exp_rctd =  RCTDexp(beta = beta.type.RCTD,  srt_exp = datax$spot_exp, ref_mu = ref_exp )\n",
    "\n",
    "exp_spotdecon = spotdecon_est(srt_exp = datax_count$spot_exp,  beta= beta.type)"
   ]
  },
  {
   "cell_type": "code",
   "execution_count": 30,
   "id": "92364f93",
   "metadata": {
    "execution": {
     "iopub.execute_input": "2024-10-26T12:05:01.946033Z",
     "iopub.status.busy": "2024-10-26T12:05:01.943567Z",
     "iopub.status.idle": "2024-10-26T12:05:02.074933Z",
     "shell.execute_reply": "2024-10-26T12:05:02.073917Z"
    },
    "papermill": {
     "duration": 0.150594,
     "end_time": "2024-10-26T12:05:02.077457",
     "exception": false,
     "start_time": "2024-10-26T12:05:01.926863",
     "status": "completed"
    },
    "tags": [],
    "vscode": {
     "languageId": "r"
    }
   },
   "outputs": [],
   "source": [
    "# Check and save exp_ENIGMA result\n",
    "if (!file.exists(paste0(\"./results/MPOA/EST_exp_ENIGMA_\",patch_size,\"um2.RDS\")) ){\n",
    "  exp_ENIGMA = ENIGMA_est(spot_exp  = datax_count$spot_exp, \n",
    "                          sc_exp = datax_count$sc_exp, sc_label=datax_count$sc_label, \n",
    "                          beta= NULL)\n",
    "  \n",
    "  # Save the result if computation is performed\n",
    "  saveRDS(exp_ENIGMA, file = paste0(\"./results/MPOA/EST_exp_ENIGMA_\",patch_size,\"um2.RDS\"))\n",
    "} else {\n",
    "  # Load the result if it already exists\n",
    "  exp_ENIGMA <- readRDS(paste0(\"./results/MPOA/EST_exp_ENIGMA_\",patch_size,\"um2.RDS\")) # <-- Fixed here\n",
    "}\n"
   ]
  },
  {
   "cell_type": "code",
   "execution_count": 31,
   "id": "24cde321",
   "metadata": {
    "execution": {
     "iopub.execute_input": "2024-10-26T12:05:02.121649Z",
     "iopub.status.busy": "2024-10-26T12:05:02.119366Z",
     "iopub.status.idle": "2024-10-26T12:05:26.666951Z",
     "shell.execute_reply": "2024-10-26T12:05:26.665695Z"
    },
    "papermill": {
     "duration": 24.565379,
     "end_time": "2024-10-26T12:05:26.669251",
     "exception": false,
     "start_time": "2024-10-26T12:05:02.103872",
     "status": "completed"
    },
    "tags": [],
    "vscode": {
     "languageId": "r"
    }
   },
   "outputs": [
    {
     "name": "stdout",
     "output_type": "stream",
     "text": [
      "INFO [2024-10-26 20:05:02] Starting tca...\n",
      "INFO [2024-10-26 20:05:02] Validating input...\n",
      "INFO [2024-10-26 20:05:02] Fitting the TCA model...\n",
      "INFO [2024-10-26 20:05:02] Fitting means and variances...\n",
      "INFO [2024-10-26 20:05:02] Iteration 1 out of 10 internal iterations...\n",
      "\r",
      "  |                                                        \r",
      "  |                                                  |   0%"
     ]
    },
    {
     "name": "stdout",
     "output_type": "stream",
     "text": [
      "\r",
      "  |                                                        \r",
      "  |+++++++                                           |  14%"
     ]
    },
    {
     "name": "stdout",
     "output_type": "stream",
     "text": [
      "\r",
      "  |                                                        \r",
      "  |++++++++++++++                                    |  29%"
     ]
    },
    {
     "name": "stdout",
     "output_type": "stream",
     "text": [
      "\r",
      "  |                                                        \r",
      "  |+++++++++++++++++++++                             |  43%"
     ]
    },
    {
     "name": "stdout",
     "output_type": "stream",
     "text": [
      "\r",
      "  |                                                        \r",
      "  |+++++++++++++++++++++++++++++                     |  57%"
     ]
    },
    {
     "name": "stdout",
     "output_type": "stream",
     "text": [
      "\r",
      "  |                                                        \r",
      "  |++++++++++++++++++++++++++++++++++++              |  71%"
     ]
    },
    {
     "name": "stdout",
     "output_type": "stream",
     "text": [
      "\r",
      "  |                                                        \r",
      "  |+++++++++++++++++++++++++++++++++++++++++++       |  86%"
     ]
    },
    {
     "name": "stdout",
     "output_type": "stream",
     "text": [
      "\r",
      "  |                                                        \r",
      "  |++++++++++++++++++++++++++++++++++++++++++++++++++| 100%"
     ]
    },
    {
     "name": "stdout",
     "output_type": "stream",
     "text": [
      "\n"
     ]
    },
    {
     "name": "stdout",
     "output_type": "stream",
     "text": [
      "\r",
      "  |                                                        \r",
      "  |                                                  |   0%"
     ]
    },
    {
     "name": "stdout",
     "output_type": "stream",
     "text": [
      "\r",
      "  |                                                        \r",
      "  |+++++++                                           |  14%"
     ]
    },
    {
     "name": "stdout",
     "output_type": "stream",
     "text": [
      "\r",
      "  |                                                        \r",
      "  |++++++++++++++                                    |  29%"
     ]
    },
    {
     "name": "stdout",
     "output_type": "stream",
     "text": [
      "\r",
      "  |                                                        \r",
      "  |+++++++++++++++++++++                             |  43%"
     ]
    },
    {
     "name": "stdout",
     "output_type": "stream",
     "text": [
      "\r",
      "  |                                                        \r",
      "  |+++++++++++++++++++++++++++++                     |  57%"
     ]
    },
    {
     "name": "stdout",
     "output_type": "stream",
     "text": [
      "\r",
      "  |                                                        \r",
      "  |++++++++++++++++++++++++++++++++++++              |  71%"
     ]
    },
    {
     "name": "stdout",
     "output_type": "stream",
     "text": [
      "\r",
      "  |                                                        \r",
      "  |+++++++++++++++++++++++++++++++++++++++++++       |  86%"
     ]
    },
    {
     "name": "stdout",
     "output_type": "stream",
     "text": [
      "\r",
      "  |                                                        \r",
      "  |++++++++++++++++++++++++++++++++++++++++++++++++++| 100%"
     ]
    },
    {
     "name": "stdout",
     "output_type": "stream",
     "text": [
      "\n"
     ]
    },
    {
     "name": "stdout",
     "output_type": "stream",
     "text": [
      "INFO [2024-10-26 20:05:08] Iteration 2 out of 10 internal iterations...\n",
      "\r",
      "  |                                                        \r",
      "  |                                                  |   0%"
     ]
    },
    {
     "name": "stdout",
     "output_type": "stream",
     "text": [
      "\r",
      "  |                                                        \r",
      "  |+++++++                                           |  14%"
     ]
    },
    {
     "name": "stdout",
     "output_type": "stream",
     "text": [
      "\r",
      "  |                                                        \r",
      "  |++++++++++++++                                    |  29%"
     ]
    },
    {
     "name": "stdout",
     "output_type": "stream",
     "text": [
      "\r",
      "  |                                                        \r",
      "  |+++++++++++++++++++++                             |  43%"
     ]
    },
    {
     "name": "stdout",
     "output_type": "stream",
     "text": [
      "\r",
      "  |                                                        \r",
      "  |+++++++++++++++++++++++++++++                     |  57%"
     ]
    },
    {
     "name": "stdout",
     "output_type": "stream",
     "text": [
      "\r",
      "  |                                                        \r",
      "  |++++++++++++++++++++++++++++++++++++              |  71%"
     ]
    },
    {
     "name": "stdout",
     "output_type": "stream",
     "text": [
      "\r",
      "  |                                                        \r",
      "  |+++++++++++++++++++++++++++++++++++++++++++       |  86%"
     ]
    },
    {
     "name": "stdout",
     "output_type": "stream",
     "text": [
      "\r",
      "  |                                                        \r",
      "  |++++++++++++++++++++++++++++++++++++++++++++++++++| 100%"
     ]
    },
    {
     "name": "stdout",
     "output_type": "stream",
     "text": [
      "\n"
     ]
    },
    {
     "name": "stdout",
     "output_type": "stream",
     "text": [
      "\r",
      "  |                                                        \r",
      "  |                                                  |   0%"
     ]
    },
    {
     "name": "stdout",
     "output_type": "stream",
     "text": [
      "\r",
      "  |                                                        \r",
      "  |+++++++                                           |  14%"
     ]
    },
    {
     "name": "stdout",
     "output_type": "stream",
     "text": [
      "\r",
      "  |                                                        \r",
      "  |++++++++++++++                                    |  29%"
     ]
    },
    {
     "name": "stdout",
     "output_type": "stream",
     "text": [
      "\r",
      "  |                                                        \r",
      "  |+++++++++++++++++++++                             |  43%"
     ]
    },
    {
     "name": "stdout",
     "output_type": "stream",
     "text": [
      "\r",
      "  |                                                        \r",
      "  |+++++++++++++++++++++++++++++                     |  57%"
     ]
    },
    {
     "name": "stdout",
     "output_type": "stream",
     "text": [
      "\r",
      "  |                                                        \r",
      "  |++++++++++++++++++++++++++++++++++++              |  71%"
     ]
    },
    {
     "name": "stdout",
     "output_type": "stream",
     "text": [
      "\r",
      "  |                                                        \r",
      "  |+++++++++++++++++++++++++++++++++++++++++++       |  86%"
     ]
    },
    {
     "name": "stdout",
     "output_type": "stream",
     "text": [
      "\r",
      "  |                                                        \r",
      "  |++++++++++++++++++++++++++++++++++++++++++++++++++| 100%"
     ]
    },
    {
     "name": "stdout",
     "output_type": "stream",
     "text": [
      "\n"
     ]
    },
    {
     "name": "stdout",
     "output_type": "stream",
     "text": [
      "INFO [2024-10-26 20:05:12] Iteration 3 out of 10 internal iterations...\n",
      "\r",
      "  |                                                        \r",
      "  |                                                  |   0%"
     ]
    },
    {
     "name": "stdout",
     "output_type": "stream",
     "text": [
      "\r",
      "  |                                                        \r",
      "  |+++++++                                           |  14%"
     ]
    },
    {
     "name": "stdout",
     "output_type": "stream",
     "text": [
      "\r",
      "  |                                                        \r",
      "  |++++++++++++++                                    |  29%"
     ]
    },
    {
     "name": "stdout",
     "output_type": "stream",
     "text": [
      "\r",
      "  |                                                        \r",
      "  |+++++++++++++++++++++                             |  43%"
     ]
    },
    {
     "name": "stdout",
     "output_type": "stream",
     "text": [
      "\r",
      "  |                                                        \r",
      "  |+++++++++++++++++++++++++++++                     |  57%"
     ]
    },
    {
     "name": "stdout",
     "output_type": "stream",
     "text": [
      "\r",
      "  |                                                        \r",
      "  |++++++++++++++++++++++++++++++++++++              |  71%"
     ]
    },
    {
     "name": "stdout",
     "output_type": "stream",
     "text": [
      "\r",
      "  |                                                        \r",
      "  |+++++++++++++++++++++++++++++++++++++++++++       |  86%"
     ]
    },
    {
     "name": "stdout",
     "output_type": "stream",
     "text": [
      "\r",
      "  |                                                        \r",
      "  |++++++++++++++++++++++++++++++++++++++++++++++++++| 100%"
     ]
    },
    {
     "name": "stdout",
     "output_type": "stream",
     "text": [
      "\n"
     ]
    },
    {
     "name": "stdout",
     "output_type": "stream",
     "text": [
      "\r",
      "  |                                                        \r",
      "  |                                                  |   0%"
     ]
    },
    {
     "name": "stdout",
     "output_type": "stream",
     "text": [
      "\r",
      "  |                                                        \r",
      "  |+++++++                                           |  14%"
     ]
    },
    {
     "name": "stdout",
     "output_type": "stream",
     "text": [
      "\r",
      "  |                                                        \r",
      "  |++++++++++++++                                    |  29%"
     ]
    },
    {
     "name": "stdout",
     "output_type": "stream",
     "text": [
      "\r",
      "  |                                                        \r",
      "  |+++++++++++++++++++++                             |  43%"
     ]
    },
    {
     "name": "stdout",
     "output_type": "stream",
     "text": [
      "\r",
      "  |                                                        \r",
      "  |+++++++++++++++++++++++++++++                     |  57%"
     ]
    },
    {
     "name": "stdout",
     "output_type": "stream",
     "text": [
      "\r",
      "  |                                                        \r",
      "  |++++++++++++++++++++++++++++++++++++              |  71%"
     ]
    },
    {
     "name": "stdout",
     "output_type": "stream",
     "text": [
      "\r",
      "  |                                                        \r",
      "  |+++++++++++++++++++++++++++++++++++++++++++       |  86%"
     ]
    },
    {
     "name": "stdout",
     "output_type": "stream",
     "text": [
      "\r",
      "  |                                                        \r",
      "  |++++++++++++++++++++++++++++++++++++++++++++++++++| 100%"
     ]
    },
    {
     "name": "stdout",
     "output_type": "stream",
     "text": [
      "\n"
     ]
    },
    {
     "name": "stdout",
     "output_type": "stream",
     "text": [
      "INFO [2024-10-26 20:05:18] Internal loop converged.\n",
      "INFO [2024-10-26 20:05:18] Calculate p-values for deltas and gammas.\n",
      "\r",
      "  |                                                        \r",
      "  |                                                  |   0%"
     ]
    },
    {
     "name": "stdout",
     "output_type": "stream",
     "text": [
      "\r",
      "  |                                                        \r",
      "  |+++++++                                           |  14%"
     ]
    },
    {
     "name": "stdout",
     "output_type": "stream",
     "text": [
      "\r",
      "  |                                                        \r",
      "  |++++++++++++++                                    |  29%"
     ]
    },
    {
     "name": "stdout",
     "output_type": "stream",
     "text": [
      "\r",
      "  |                                                        \r",
      "  |+++++++++++++++++++++                             |  43%"
     ]
    },
    {
     "name": "stdout",
     "output_type": "stream",
     "text": [
      "\r",
      "  |                                                        \r",
      "  |+++++++++++++++++++++++++++++                     |  57%"
     ]
    },
    {
     "name": "stdout",
     "output_type": "stream",
     "text": [
      "\r",
      "  |                                                        \r",
      "  |++++++++++++++++++++++++++++++++++++              |  71%"
     ]
    },
    {
     "name": "stdout",
     "output_type": "stream",
     "text": [
      "\r",
      "  |                                                        \r",
      "  |+++++++++++++++++++++++++++++++++++++++++++       |  86%"
     ]
    },
    {
     "name": "stdout",
     "output_type": "stream",
     "text": [
      "\r",
      "  |                                                        \r",
      "  |++++++++++++++++++++++++++++++++++++++++++++++++++| 100%"
     ]
    },
    {
     "name": "stdout",
     "output_type": "stream",
     "text": [
      "\n"
     ]
    },
    {
     "name": "stdout",
     "output_type": "stream",
     "text": [
      "INFO [2024-10-26 20:05:24] Finished tca.\n",
      "INFO [2024-10-26 20:05:24] Validating input...\n",
      "INFO [2024-10-26 20:05:24] Starting tensor for estimating Z...\n",
      "INFO [2024-10-26 20:05:24] Estimate tensor...\n",
      "\r",
      "  |                                                        \r",
      "  |                                                  |   0%"
     ]
    },
    {
     "name": "stdout",
     "output_type": "stream",
     "text": [
      "\r",
      "  |                                                        \r",
      "  |+++++                                             |  10%"
     ]
    },
    {
     "name": "stdout",
     "output_type": "stream",
     "text": [
      "\r",
      "  |                                                        \r",
      "  |++++++++++                                        |  20%"
     ]
    },
    {
     "name": "stdout",
     "output_type": "stream",
     "text": [
      "\r",
      "  |                                                        \r",
      "  |+++++++++++++++                                   |  30%"
     ]
    },
    {
     "name": "stdout",
     "output_type": "stream",
     "text": [
      "\r",
      "  |                                                        \r",
      "  |++++++++++++++++++++                              |  40%"
     ]
    },
    {
     "name": "stdout",
     "output_type": "stream",
     "text": [
      "\r",
      "  |                                                        \r",
      "  |+++++++++++++++++++++++++                         |  50%"
     ]
    },
    {
     "name": "stdout",
     "output_type": "stream",
     "text": [
      "\r",
      "  |                                                        \r",
      "  |++++++++++++++++++++++++++++++                    |  60%"
     ]
    },
    {
     "name": "stdout",
     "output_type": "stream",
     "text": [
      "\r",
      "  |                                                        \r",
      "  |+++++++++++++++++++++++++++++++++++               |  70%"
     ]
    },
    {
     "name": "stdout",
     "output_type": "stream",
     "text": [
      "\r",
      "  |                                                        \r",
      "  |++++++++++++++++++++++++++++++++++++++++          |  80%"
     ]
    },
    {
     "name": "stdout",
     "output_type": "stream",
     "text": [
      "\r",
      "  |                                                        \r",
      "  |+++++++++++++++++++++++++++++++++++++++++++++     |  90%"
     ]
    },
    {
     "name": "stdout",
     "output_type": "stream",
     "text": [
      "\r",
      "  |                                                        \r",
      "  |++++++++++++++++++++++++++++++++++++++++++++++++++| 100%"
     ]
    },
    {
     "name": "stdout",
     "output_type": "stream",
     "text": [
      "\n"
     ]
    },
    {
     "name": "stdout",
     "output_type": "stream",
     "text": [
      "INFO [2024-10-26 20:05:26] Finished estimating tensor.\n"
     ]
    }
   ],
   "source": [
    "# Check and save exp_TCA result\n",
    "if (!file.exists(\"./results/MPOA/EST_exp_TCA.RDS\")) {\n",
    "\n",
    "  exp_TCA <- TCA_est(spot_exp  = datax_count$spot_exp, beta= beta.type)\n",
    "  # Save the result if computation is performed\n",
    "  saveRDS(exp_TCA, file =\"./results/MPOA/EST_exp_TCA.RDS\")\n",
    "} else {\n",
    "  # Load the result if it already exists\n",
    "  exp_TCA <- readRDS(\"./results/MPOA/EST_exp_TCA.RDS\")\n",
    "}\n"
   ]
  },
  {
   "cell_type": "code",
   "execution_count": 32,
   "id": "61b374ec",
   "metadata": {
    "execution": {
     "iopub.execute_input": "2024-10-26T12:05:26.717492Z",
     "iopub.status.busy": "2024-10-26T12:05:26.714917Z",
     "iopub.status.idle": "2024-10-26T12:05:28.680436Z",
     "shell.execute_reply": "2024-10-26T12:05:28.678842Z"
    },
    "papermill": {
     "duration": 1.985463,
     "end_time": "2024-10-26T12:05:28.682977",
     "exception": false,
     "start_time": "2024-10-26T12:05:26.697514",
     "status": "completed"
    },
    "tags": [],
    "vscode": {
     "languageId": "r"
    }
   },
   "outputs": [],
   "source": [
    "est_est= list(STged = stged.est.true$V.hat,\n",
    "              STged.reg1 = stged.est.reg1$V.hat,\n",
    "              STged.reg2 =stged.est.reg2$V.hat,\n",
    "              STged.reg3 =stged.est.reg3$V.hat,\n",
    "              RCTD = exp_rctd,\n",
    "              TCA = exp_TCA,\n",
    "              ENIGMA = exp_ENIGMA,\n",
    "              ref_mu = exp_sc,\n",
    "              LSR = exp_lsr,\n",
    "              Spotdecon = exp_spotdecon)\n",
    "\n",
    "files = paste0(\"./results/MPOA/EST_spot_decon_\",patch_size,\"um2.RDS\")\n",
    "\n",
    "saveRDS(est_est, file =files)"
   ]
  }
 ],
 "metadata": {
  "kernelspec": {
   "display_name": "R",
   "language": "R",
   "name": "ir"
  },
  "language_info": {
   "codemirror_mode": "r",
   "file_extension": ".r",
   "mimetype": "text/x-r-source",
   "name": "R",
   "pygments_lexer": "r",
   "version": "4.4.1"
  },
  "papermill": {
   "default_parameters": {},
   "duration": 99.333087,
   "end_time": "2024-10-26T12:05:29.237980",
   "environment_variables": {},
   "exception": null,
   "input_path": "MERFISH-count-ref-scRNA_True_prop50um.ipynb",
   "output_path": "./results/output_MERFISH-count-ref-scRNA_True_prop50um_V5.ipynb",
   "parameters": {},
   "start_time": "2024-10-26T12:03:49.904893",
   "version": "2.3.3"
  }
 },
 "nbformat": 4,
 "nbformat_minor": 5
}